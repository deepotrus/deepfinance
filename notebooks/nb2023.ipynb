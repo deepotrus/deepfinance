{
 "cells": [
  {
   "cell_type": "code",
   "execution_count": 1,
   "id": "e4a1fa2e-b49a-4431-8280-3fb124c7dbbc",
   "metadata": {},
   "outputs": [],
   "source": [
    "import pandas as pd\n",
    "pd.options.display.float_format = \"{:,.2f}\".format\n",
    "\n",
    "import sys\n",
    "sys.path.append('../lib/')\n",
    "from financelib import FinLoad\n",
    "from financelib import FinCalc\n",
    "from financelib import FinFetch\n",
    "from financelib import FinPlot\n",
    "from financelib import FinInvestmentsGet\n",
    "\n",
    "from pathlib import Path\n",
    "\n",
    "import requests # for investments yahoo finance data\n",
    "\n",
    "import time # sleep fetch"
   ]
  },
  {
   "cell_type": "code",
   "execution_count": 2,
   "id": "aa6a8091",
   "metadata": {},
   "outputs": [],
   "source": [
    "YEAR = 2023\n",
    "data_path_o = Path(\"../../tmp/data\")"
   ]
  },
  {
   "cell_type": "code",
   "execution_count": 3,
   "id": "9c84a5a4",
   "metadata": {},
   "outputs": [
    {
     "name": "stdout",
     "output_type": "stream",
     "text": [
      "[Errno 2] No such file or directory: '../../tmp/data/2023/cashflow/2023-01_cashflow.csv'\n",
      "[Errno 2] No such file or directory: '../../tmp/data/2023/cashflow/2023-02_cashflow.csv'\n",
      "[Errno 2] No such file or directory: '../../tmp/data/2023/cashflow/2023-03_cashflow.csv'\n",
      "[Errno 2] No such file or directory: '../../tmp/data/2023/cashflow/2023-04_cashflow.csv'\n",
      "[Errno 2] No such file or directory: '../../tmp/data/2023/cashflow/2023-05_cashflow.csv'\n",
      "[Errno 2] No such file or directory: '../../tmp/data/2023/cashflow/2023-06_cashflow.csv'\n",
      "[Errno 2] No such file or directory: '../../tmp/data/2023/cashflow/2023-07_cashflow.csv'\n",
      "[Errno 2] No such file or directory: '../../tmp/data/2023/cashflow/2023-08_cashflow.csv'\n",
      "[Errno 2] No such file or directory: '../../tmp/data/2023/cashflow/2023-09_cashflow.csv'\n",
      "[Errno 2] No such file or directory: '../../tmp/data/2023/cashflow/2023-10_cashflow.csv'\n",
      "[Errno 2] No such file or directory: '../../tmp/data/2023/cashflow/2023-11_cashflow.csv'\n",
      "[Errno 2] No such file or directory: '../../tmp/data/2023/investments/2023-01_investments.csv'\n",
      "[Errno 2] No such file or directory: '../../tmp/data/2023/investments/2023-02_investments.csv'\n",
      "[Errno 2] No such file or directory: '../../tmp/data/2023/investments/2023-03_investments.csv'\n",
      "[Errno 2] No such file or directory: '../../tmp/data/2023/investments/2023-04_investments.csv'\n",
      "[Errno 2] No such file or directory: '../../tmp/data/2023/investments/2023-05_investments.csv'\n",
      "[Errno 2] No such file or directory: '../../tmp/data/2023/investments/2023-06_investments.csv'\n",
      "[Errno 2] No such file or directory: '../../tmp/data/2023/investments/2023-07_investments.csv'\n",
      "[Errno 2] No such file or directory: '../../tmp/data/2023/investments/2023-08_investments.csv'\n",
      "[Errno 2] No such file or directory: '../../tmp/data/2023/investments/2023-09_investments.csv'\n",
      "[Errno 2] No such file or directory: '../../tmp/data/2023/investments/2023-10_investments.csv'\n",
      "[Errno 2] No such file or directory: '../../tmp/data/2023/investments/2023-11_investments.csv'\n"
     ]
    }
   ],
   "source": [
    "init_holdings = FinLoad.load_init_holdings(data_path_o, YEAR)\n",
    "df_year_cashflow = FinLoad.load_cashflow(data_path_o, YEAR)\n",
    "df_year_investments = FinLoad.load_investments(data_path_o, YEAR)"
   ]
  },
  {
   "cell_type": "code",
   "execution_count": null,
   "id": "94756d6a",
   "metadata": {},
   "outputs": [],
   "source": [
    "current_balance = FinCalc.calc_current_balance(df_year_cashflow, init_holdings)\n",
    "print(current_balance)"
   ]
  },
  {
   "cell_type": "code",
   "execution_count": 7,
   "id": "e599f1ea",
   "metadata": {},
   "outputs": [],
   "source": [
    "df_m_cashflow = FinCalc.calc_monthly_cashflow(df_year_cashflow, init_holdings)"
   ]
  },
  {
   "cell_type": "code",
   "execution_count": 8,
   "id": "16bc25c8",
   "metadata": {},
   "outputs": [
    {
     "data": {
      "text/html": [
       "<div>\n",
       "<style scoped>\n",
       "    .dataframe tbody tr th:only-of-type {\n",
       "        vertical-align: middle;\n",
       "    }\n",
       "\n",
       "    .dataframe tbody tr th {\n",
       "        vertical-align: top;\n",
       "    }\n",
       "\n",
       "    .dataframe thead th {\n",
       "        text-align: right;\n",
       "    }\n",
       "</style>\n",
       "<table border=\"1\" class=\"dataframe\">\n",
       "  <thead>\n",
       "    <tr style=\"text-align: right;\">\n",
       "      <th></th>\n",
       "      <th>incomes</th>\n",
       "      <th>liabilities</th>\n",
       "      <th>savings</th>\n",
       "      <th>saving_rate</th>\n",
       "      <th>liquidity</th>\n",
       "    </tr>\n",
       "    <tr>\n",
       "      <th>Date</th>\n",
       "      <th></th>\n",
       "      <th></th>\n",
       "      <th></th>\n",
       "      <th></th>\n",
       "      <th></th>\n",
       "    </tr>\n",
       "  </thead>\n",
       "  <tbody>\n",
       "    <tr>\n",
       "      <th>2023-12-31</th>\n",
       "      <td>351.43</td>\n",
       "      <td>-328.23</td>\n",
       "      <td>23.20</td>\n",
       "      <td>0.07</td>\n",
       "      <td>24.73</td>\n",
       "    </tr>\n",
       "  </tbody>\n",
       "</table>\n",
       "</div>"
      ],
      "text/plain": [
       "            incomes  liabilities  savings  saving_rate  liquidity\n",
       "Date                                                             \n",
       "2023-12-31   351.43      -328.23    23.20         0.07      24.73"
      ]
     },
     "execution_count": 8,
     "metadata": {},
     "output_type": "execute_result"
    }
   ],
   "source": [
    "df_m_cashflow"
   ]
  },
  {
   "cell_type": "code",
   "execution_count": 9,
   "id": "7057638b",
   "metadata": {},
   "outputs": [
    {
     "data": {
      "application/vnd.plotly.v1+json": {
       "config": {
        "plotlyServerURL": "https://plot.ly"
       },
       "data": [
        {
         "branchvalues": "total",
         "customdata": [
          [
           "Other"
          ],
          [
           "Shop"
          ],
          [
           "Subs"
          ],
          [
           "Leisure"
          ],
          [
           "Subs"
          ],
          [
           "Groceries"
          ],
          [
           "Leisure"
          ],
          [
           "Leisure"
          ],
          [
           "Transport"
          ],
          [
           "Subs"
          ],
          [
           "Leisure"
          ],
          [
           "Groceries"
          ],
          [
           "Subs"
          ],
          [
           "Other"
          ],
          [
           "Shop"
          ],
          [
           "Subs"
          ],
          [
           "Transport"
          ]
         ],
         "domain": {
          "x": [
           0,
           1
          ],
          "y": [
           0,
           1
          ]
         },
         "hovertemplate": "labels=%{label}<br>Qty=%{value}<br>parent=%{parent}<br>id=%{id}<br>Category=%{customdata[0]}<extra></extra>",
         "ids": [
          "Other",
          "Shop/Books",
          "Subs/Domain",
          "Leisure/Restaurant",
          "Subs/VPS",
          "Groceries",
          "Leisure",
          "Leisure/Drink",
          "Transport/Train",
          "Subs/Bank",
          "Leisure/Events",
          "Groceries/Feast",
          "Subs/SIM",
          "Other/Courses",
          "Shop",
          "Subs",
          "Transport"
         ],
         "labels": [
          "Other",
          "Books",
          "Domain",
          "Restaurant",
          "VPS",
          "Groceries",
          "Leisure",
          "Drink",
          "Train",
          "Bank",
          "Events",
          "Feast",
          "SIM",
          "Courses",
          "Shop",
          "Subs",
          "Transport"
         ],
         "marker": {
          "colors": [
           "#95D2B3",
           "#CDC1FF",
           "#C9E9D2",
           "#FCDC94",
           "#C9E9D2",
           "#C96868",
           "#FCDC94",
           "#FCDC94",
           "#B9B28A",
           "#C9E9D2",
           "#FCDC94",
           "#C96868",
           "#C9E9D2",
           "#95D2B3",
           "#CDC1FF",
           "#C9E9D2",
           "#B9B28A"
          ]
         },
         "name": "",
         "parents": [
          "",
          "Shop",
          "Subs",
          "Leisure",
          "Subs",
          "",
          "",
          "Leisure",
          "Transport",
          "Subs",
          "Leisure",
          "Groceries",
          "Subs",
          "Other",
          "",
          "",
          ""
         ],
         "type": "sunburst",
         "values": [
          121.66,
          46.94,
          9.76,
          35.15,
          9.33,
          22.19,
          104.15,
          19.5,
          8.2,
          1,
          49.5,
          22.19,
          5,
          121.66,
          46.94,
          25.09,
          8.2
         ]
        }
       ],
       "layout": {
        "height": 500,
        "legend": {
         "tracegroupgap": 0
        },
        "margin": {
         "b": 10,
         "l": 10,
         "r": 10,
         "t": 60
        },
        "template": {
         "data": {
          "bar": [
           {
            "error_x": {
             "color": "#2a3f5f"
            },
            "error_y": {
             "color": "#2a3f5f"
            },
            "marker": {
             "line": {
              "color": "#E5ECF6",
              "width": 0.5
             },
             "pattern": {
              "fillmode": "overlay",
              "size": 10,
              "solidity": 0.2
             }
            },
            "type": "bar"
           }
          ],
          "barpolar": [
           {
            "marker": {
             "line": {
              "color": "#E5ECF6",
              "width": 0.5
             },
             "pattern": {
              "fillmode": "overlay",
              "size": 10,
              "solidity": 0.2
             }
            },
            "type": "barpolar"
           }
          ],
          "carpet": [
           {
            "aaxis": {
             "endlinecolor": "#2a3f5f",
             "gridcolor": "white",
             "linecolor": "white",
             "minorgridcolor": "white",
             "startlinecolor": "#2a3f5f"
            },
            "baxis": {
             "endlinecolor": "#2a3f5f",
             "gridcolor": "white",
             "linecolor": "white",
             "minorgridcolor": "white",
             "startlinecolor": "#2a3f5f"
            },
            "type": "carpet"
           }
          ],
          "choropleth": [
           {
            "colorbar": {
             "outlinewidth": 0,
             "ticks": ""
            },
            "type": "choropleth"
           }
          ],
          "contour": [
           {
            "colorbar": {
             "outlinewidth": 0,
             "ticks": ""
            },
            "colorscale": [
             [
              0,
              "#0d0887"
             ],
             [
              0.1111111111111111,
              "#46039f"
             ],
             [
              0.2222222222222222,
              "#7201a8"
             ],
             [
              0.3333333333333333,
              "#9c179e"
             ],
             [
              0.4444444444444444,
              "#bd3786"
             ],
             [
              0.5555555555555556,
              "#d8576b"
             ],
             [
              0.6666666666666666,
              "#ed7953"
             ],
             [
              0.7777777777777778,
              "#fb9f3a"
             ],
             [
              0.8888888888888888,
              "#fdca26"
             ],
             [
              1,
              "#f0f921"
             ]
            ],
            "type": "contour"
           }
          ],
          "contourcarpet": [
           {
            "colorbar": {
             "outlinewidth": 0,
             "ticks": ""
            },
            "type": "contourcarpet"
           }
          ],
          "heatmap": [
           {
            "colorbar": {
             "outlinewidth": 0,
             "ticks": ""
            },
            "colorscale": [
             [
              0,
              "#0d0887"
             ],
             [
              0.1111111111111111,
              "#46039f"
             ],
             [
              0.2222222222222222,
              "#7201a8"
             ],
             [
              0.3333333333333333,
              "#9c179e"
             ],
             [
              0.4444444444444444,
              "#bd3786"
             ],
             [
              0.5555555555555556,
              "#d8576b"
             ],
             [
              0.6666666666666666,
              "#ed7953"
             ],
             [
              0.7777777777777778,
              "#fb9f3a"
             ],
             [
              0.8888888888888888,
              "#fdca26"
             ],
             [
              1,
              "#f0f921"
             ]
            ],
            "type": "heatmap"
           }
          ],
          "heatmapgl": [
           {
            "colorbar": {
             "outlinewidth": 0,
             "ticks": ""
            },
            "colorscale": [
             [
              0,
              "#0d0887"
             ],
             [
              0.1111111111111111,
              "#46039f"
             ],
             [
              0.2222222222222222,
              "#7201a8"
             ],
             [
              0.3333333333333333,
              "#9c179e"
             ],
             [
              0.4444444444444444,
              "#bd3786"
             ],
             [
              0.5555555555555556,
              "#d8576b"
             ],
             [
              0.6666666666666666,
              "#ed7953"
             ],
             [
              0.7777777777777778,
              "#fb9f3a"
             ],
             [
              0.8888888888888888,
              "#fdca26"
             ],
             [
              1,
              "#f0f921"
             ]
            ],
            "type": "heatmapgl"
           }
          ],
          "histogram": [
           {
            "marker": {
             "pattern": {
              "fillmode": "overlay",
              "size": 10,
              "solidity": 0.2
             }
            },
            "type": "histogram"
           }
          ],
          "histogram2d": [
           {
            "colorbar": {
             "outlinewidth": 0,
             "ticks": ""
            },
            "colorscale": [
             [
              0,
              "#0d0887"
             ],
             [
              0.1111111111111111,
              "#46039f"
             ],
             [
              0.2222222222222222,
              "#7201a8"
             ],
             [
              0.3333333333333333,
              "#9c179e"
             ],
             [
              0.4444444444444444,
              "#bd3786"
             ],
             [
              0.5555555555555556,
              "#d8576b"
             ],
             [
              0.6666666666666666,
              "#ed7953"
             ],
             [
              0.7777777777777778,
              "#fb9f3a"
             ],
             [
              0.8888888888888888,
              "#fdca26"
             ],
             [
              1,
              "#f0f921"
             ]
            ],
            "type": "histogram2d"
           }
          ],
          "histogram2dcontour": [
           {
            "colorbar": {
             "outlinewidth": 0,
             "ticks": ""
            },
            "colorscale": [
             [
              0,
              "#0d0887"
             ],
             [
              0.1111111111111111,
              "#46039f"
             ],
             [
              0.2222222222222222,
              "#7201a8"
             ],
             [
              0.3333333333333333,
              "#9c179e"
             ],
             [
              0.4444444444444444,
              "#bd3786"
             ],
             [
              0.5555555555555556,
              "#d8576b"
             ],
             [
              0.6666666666666666,
              "#ed7953"
             ],
             [
              0.7777777777777778,
              "#fb9f3a"
             ],
             [
              0.8888888888888888,
              "#fdca26"
             ],
             [
              1,
              "#f0f921"
             ]
            ],
            "type": "histogram2dcontour"
           }
          ],
          "mesh3d": [
           {
            "colorbar": {
             "outlinewidth": 0,
             "ticks": ""
            },
            "type": "mesh3d"
           }
          ],
          "parcoords": [
           {
            "line": {
             "colorbar": {
              "outlinewidth": 0,
              "ticks": ""
             }
            },
            "type": "parcoords"
           }
          ],
          "pie": [
           {
            "automargin": true,
            "type": "pie"
           }
          ],
          "scatter": [
           {
            "fillpattern": {
             "fillmode": "overlay",
             "size": 10,
             "solidity": 0.2
            },
            "type": "scatter"
           }
          ],
          "scatter3d": [
           {
            "line": {
             "colorbar": {
              "outlinewidth": 0,
              "ticks": ""
             }
            },
            "marker": {
             "colorbar": {
              "outlinewidth": 0,
              "ticks": ""
             }
            },
            "type": "scatter3d"
           }
          ],
          "scattercarpet": [
           {
            "marker": {
             "colorbar": {
              "outlinewidth": 0,
              "ticks": ""
             }
            },
            "type": "scattercarpet"
           }
          ],
          "scattergeo": [
           {
            "marker": {
             "colorbar": {
              "outlinewidth": 0,
              "ticks": ""
             }
            },
            "type": "scattergeo"
           }
          ],
          "scattergl": [
           {
            "marker": {
             "colorbar": {
              "outlinewidth": 0,
              "ticks": ""
             }
            },
            "type": "scattergl"
           }
          ],
          "scattermapbox": [
           {
            "marker": {
             "colorbar": {
              "outlinewidth": 0,
              "ticks": ""
             }
            },
            "type": "scattermapbox"
           }
          ],
          "scatterpolar": [
           {
            "marker": {
             "colorbar": {
              "outlinewidth": 0,
              "ticks": ""
             }
            },
            "type": "scatterpolar"
           }
          ],
          "scatterpolargl": [
           {
            "marker": {
             "colorbar": {
              "outlinewidth": 0,
              "ticks": ""
             }
            },
            "type": "scatterpolargl"
           }
          ],
          "scatterternary": [
           {
            "marker": {
             "colorbar": {
              "outlinewidth": 0,
              "ticks": ""
             }
            },
            "type": "scatterternary"
           }
          ],
          "surface": [
           {
            "colorbar": {
             "outlinewidth": 0,
             "ticks": ""
            },
            "colorscale": [
             [
              0,
              "#0d0887"
             ],
             [
              0.1111111111111111,
              "#46039f"
             ],
             [
              0.2222222222222222,
              "#7201a8"
             ],
             [
              0.3333333333333333,
              "#9c179e"
             ],
             [
              0.4444444444444444,
              "#bd3786"
             ],
             [
              0.5555555555555556,
              "#d8576b"
             ],
             [
              0.6666666666666666,
              "#ed7953"
             ],
             [
              0.7777777777777778,
              "#fb9f3a"
             ],
             [
              0.8888888888888888,
              "#fdca26"
             ],
             [
              1,
              "#f0f921"
             ]
            ],
            "type": "surface"
           }
          ],
          "table": [
           {
            "cells": {
             "fill": {
              "color": "#EBF0F8"
             },
             "line": {
              "color": "white"
             }
            },
            "header": {
             "fill": {
              "color": "#C8D4E3"
             },
             "line": {
              "color": "white"
             }
            },
            "type": "table"
           }
          ]
         },
         "layout": {
          "annotationdefaults": {
           "arrowcolor": "#2a3f5f",
           "arrowhead": 0,
           "arrowwidth": 1
          },
          "autotypenumbers": "strict",
          "coloraxis": {
           "colorbar": {
            "outlinewidth": 0,
            "ticks": ""
           }
          },
          "colorscale": {
           "diverging": [
            [
             0,
             "#8e0152"
            ],
            [
             0.1,
             "#c51b7d"
            ],
            [
             0.2,
             "#de77ae"
            ],
            [
             0.3,
             "#f1b6da"
            ],
            [
             0.4,
             "#fde0ef"
            ],
            [
             0.5,
             "#f7f7f7"
            ],
            [
             0.6,
             "#e6f5d0"
            ],
            [
             0.7,
             "#b8e186"
            ],
            [
             0.8,
             "#7fbc41"
            ],
            [
             0.9,
             "#4d9221"
            ],
            [
             1,
             "#276419"
            ]
           ],
           "sequential": [
            [
             0,
             "#0d0887"
            ],
            [
             0.1111111111111111,
             "#46039f"
            ],
            [
             0.2222222222222222,
             "#7201a8"
            ],
            [
             0.3333333333333333,
             "#9c179e"
            ],
            [
             0.4444444444444444,
             "#bd3786"
            ],
            [
             0.5555555555555556,
             "#d8576b"
            ],
            [
             0.6666666666666666,
             "#ed7953"
            ],
            [
             0.7777777777777778,
             "#fb9f3a"
            ],
            [
             0.8888888888888888,
             "#fdca26"
            ],
            [
             1,
             "#f0f921"
            ]
           ],
           "sequentialminus": [
            [
             0,
             "#0d0887"
            ],
            [
             0.1111111111111111,
             "#46039f"
            ],
            [
             0.2222222222222222,
             "#7201a8"
            ],
            [
             0.3333333333333333,
             "#9c179e"
            ],
            [
             0.4444444444444444,
             "#bd3786"
            ],
            [
             0.5555555555555556,
             "#d8576b"
            ],
            [
             0.6666666666666666,
             "#ed7953"
            ],
            [
             0.7777777777777778,
             "#fb9f3a"
            ],
            [
             0.8888888888888888,
             "#fdca26"
            ],
            [
             1,
             "#f0f921"
            ]
           ]
          },
          "colorway": [
           "#636efa",
           "#EF553B",
           "#00cc96",
           "#ab63fa",
           "#FFA15A",
           "#19d3f3",
           "#FF6692",
           "#B6E880",
           "#FF97FF",
           "#FECB52"
          ],
          "font": {
           "color": "#2a3f5f"
          },
          "geo": {
           "bgcolor": "white",
           "lakecolor": "white",
           "landcolor": "#E5ECF6",
           "showlakes": true,
           "showland": true,
           "subunitcolor": "white"
          },
          "hoverlabel": {
           "align": "left"
          },
          "hovermode": "closest",
          "mapbox": {
           "style": "light"
          },
          "paper_bgcolor": "white",
          "plot_bgcolor": "#E5ECF6",
          "polar": {
           "angularaxis": {
            "gridcolor": "white",
            "linecolor": "white",
            "ticks": ""
           },
           "bgcolor": "#E5ECF6",
           "radialaxis": {
            "gridcolor": "white",
            "linecolor": "white",
            "ticks": ""
           }
          },
          "scene": {
           "xaxis": {
            "backgroundcolor": "#E5ECF6",
            "gridcolor": "white",
            "gridwidth": 2,
            "linecolor": "white",
            "showbackground": true,
            "ticks": "",
            "zerolinecolor": "white"
           },
           "yaxis": {
            "backgroundcolor": "#E5ECF6",
            "gridcolor": "white",
            "gridwidth": 2,
            "linecolor": "white",
            "showbackground": true,
            "ticks": "",
            "zerolinecolor": "white"
           },
           "zaxis": {
            "backgroundcolor": "#E5ECF6",
            "gridcolor": "white",
            "gridwidth": 2,
            "linecolor": "white",
            "showbackground": true,
            "ticks": "",
            "zerolinecolor": "white"
           }
          },
          "shapedefaults": {
           "line": {
            "color": "#2a3f5f"
           }
          },
          "ternary": {
           "aaxis": {
            "gridcolor": "white",
            "linecolor": "white",
            "ticks": ""
           },
           "baxis": {
            "gridcolor": "white",
            "linecolor": "white",
            "ticks": ""
           },
           "bgcolor": "#E5ECF6",
           "caxis": {
            "gridcolor": "white",
            "linecolor": "white",
            "ticks": ""
           }
          },
          "title": {
           "x": 0.05
          },
          "xaxis": {
           "automargin": true,
           "gridcolor": "white",
           "linecolor": "white",
           "ticks": "",
           "title": {
            "standoff": 15
           },
           "zerolinecolor": "white",
           "zerolinewidth": 2
          },
          "yaxis": {
           "automargin": true,
           "gridcolor": "white",
           "linecolor": "white",
           "ticks": "",
           "title": {
            "standoff": 15
           },
           "zerolinecolor": "white",
           "zerolinewidth": 2
          }
         }
        },
        "title": {
         "text": "Expenses",
         "x": 0.5,
         "y": 0.95
        },
        "width": 500
       }
      }
     },
     "metadata": {},
     "output_type": "display_data"
    }
   ],
   "source": [
    "df_expenses = FinCalc.calc_expenses(df_year_cashflow[ df_year_cashflow.index.month == 12 ])\n",
    "df_expenses[\"Qty\"] = df_expenses.Qty.abs() # sunburst does not understand negative values\n",
    "fig = FinPlot.plot_expenses_donut(df_expenses)\n",
    "fig.show()"
   ]
  },
  {
   "cell_type": "code",
   "execution_count": 10,
   "id": "75e133e1",
   "metadata": {},
   "outputs": [
    {
     "name": "stdout",
     "output_type": "stream",
     "text": [
      "[Errno 2] No such file or directory: '../../tmp/data/2023/investments/2023-01_investments.csv'\n",
      "[Errno 2] No such file or directory: '../../tmp/data/2023/investments/2023-02_investments.csv'\n",
      "[Errno 2] No such file or directory: '../../tmp/data/2023/investments/2023-03_investments.csv'\n",
      "[Errno 2] No such file or directory: '../../tmp/data/2023/investments/2023-04_investments.csv'\n",
      "[Errno 2] No such file or directory: '../../tmp/data/2023/investments/2023-05_investments.csv'\n",
      "[Errno 2] No such file or directory: '../../tmp/data/2023/investments/2023-06_investments.csv'\n",
      "[Errno 2] No such file or directory: '../../tmp/data/2023/investments/2023-07_investments.csv'\n",
      "[Errno 2] No such file or directory: '../../tmp/data/2023/investments/2023-08_investments.csv'\n",
      "[Errno 2] No such file or directory: '../../tmp/data/2023/investments/2023-09_investments.csv'\n",
      "[Errno 2] No such file or directory: '../../tmp/data/2023/investments/2023-10_investments.csv'\n",
      "[Errno 2] No such file or directory: '../../tmp/data/2023/investments/2023-11_investments.csv'\n"
     ]
    }
   ],
   "source": [
    "init_holdings = FinLoad.load_init_holdings(data_path_o, YEAR)\n",
    "df_year_investments = FinLoad.load_investments(data_path_o, YEAR)"
   ]
  },
  {
   "cell_type": "code",
   "execution_count": 11,
   "id": "1a9928fe",
   "metadata": {},
   "outputs": [],
   "source": [
    "df_init_investments = FinInvestmentsGet.get_init_holdings_to_df(init_holdings, YEAR)\n",
    "df_year_investments = pd.concat([df_init_investments, df_year_investments])"
   ]
  },
  {
   "cell_type": "code",
   "execution_count": 12,
   "id": "11e1c763",
   "metadata": {},
   "outputs": [
    {
     "data": {
      "text/html": [
       "<div>\n",
       "<style scoped>\n",
       "    .dataframe tbody tr th:only-of-type {\n",
       "        vertical-align: middle;\n",
       "    }\n",
       "\n",
       "    .dataframe tbody tr th {\n",
       "        vertical-align: top;\n",
       "    }\n",
       "\n",
       "    .dataframe thead th {\n",
       "        text-align: right;\n",
       "    }\n",
       "</style>\n",
       "<table border=\"1\" class=\"dataframe\">\n",
       "  <thead>\n",
       "    <tr style=\"text-align: right;\">\n",
       "      <th></th>\n",
       "      <th>Type</th>\n",
       "      <th>Symbol</th>\n",
       "      <th>Qty</th>\n",
       "      <th>Category</th>\n",
       "      <th>Subcategory</th>\n",
       "      <th>Description</th>\n",
       "    </tr>\n",
       "    <tr>\n",
       "      <th>Date</th>\n",
       "      <th></th>\n",
       "      <th></th>\n",
       "      <th></th>\n",
       "      <th></th>\n",
       "      <th></th>\n",
       "      <th></th>\n",
       "    </tr>\n",
       "  </thead>\n",
       "  <tbody>\n",
       "    <tr>\n",
       "      <th>2023-01-01</th>\n",
       "      <td>Cryptocurrencies</td>\n",
       "      <td>SOL</td>\n",
       "      <td>4.86</td>\n",
       "      <td>Init</td>\n",
       "      <td>Holdings</td>\n",
       "      <td>From previous year</td>\n",
       "    </tr>\n",
       "    <tr>\n",
       "      <th>2023-01-01</th>\n",
       "      <td>Cryptocurrencies</td>\n",
       "      <td>ETH</td>\n",
       "      <td>0.01</td>\n",
       "      <td>Init</td>\n",
       "      <td>Holdings</td>\n",
       "      <td>From previous year</td>\n",
       "    </tr>\n",
       "    <tr>\n",
       "      <th>2023-12-01</th>\n",
       "      <td>Cryptocurrencies</td>\n",
       "      <td>SOL</td>\n",
       "      <td>0.00</td>\n",
       "      <td>State</td>\n",
       "      <td>Holdings</td>\n",
       "      <td>Prevents error</td>\n",
       "    </tr>\n",
       "    <tr>\n",
       "      <th>2023-12-01</th>\n",
       "      <td>Cryptocurrencies</td>\n",
       "      <td>ETH</td>\n",
       "      <td>0.00</td>\n",
       "      <td>State</td>\n",
       "      <td>Holdings</td>\n",
       "      <td>Prevents error</td>\n",
       "    </tr>\n",
       "  </tbody>\n",
       "</table>\n",
       "</div>"
      ],
      "text/plain": [
       "                        Type Symbol  Qty Category Subcategory  \\\n",
       "Date                                                            \n",
       "2023-01-01  Cryptocurrencies    SOL 4.86     Init    Holdings   \n",
       "2023-01-01  Cryptocurrencies    ETH 0.01     Init    Holdings   \n",
       "2023-12-01  Cryptocurrencies    SOL 0.00    State    Holdings   \n",
       "2023-12-01  Cryptocurrencies    ETH 0.00    State    Holdings   \n",
       "\n",
       "                   Description  \n",
       "Date                            \n",
       "2023-01-01  From previous year  \n",
       "2023-01-01  From previous year  \n",
       "2023-12-01      Prevents error  \n",
       "2023-12-01      Prevents error  "
      ]
     },
     "execution_count": 12,
     "metadata": {},
     "output_type": "execute_result"
    }
   ],
   "source": [
    "df_year_investments"
   ]
  },
  {
   "cell_type": "code",
   "execution_count": 13,
   "id": "a6ab40c7",
   "metadata": {},
   "outputs": [
    {
     "name": "stdout",
     "output_type": "stream",
     "text": [
      "SOL\n",
      "../../tmp/data/2023/investments/exchange/SOL-EUR.csv already exists. Data Loaded from local.\n",
      "ETH\n",
      "../../tmp/data/2023/investments/exchange/ETH-EUR.csv already exists. Data Loaded from local.\n"
     ]
    }
   ],
   "source": [
    "holdings_monthlyized = FinInvestmentsGet.get_holdings_monthlyized(df_year_investments, YEAR)\n",
    "assets_monthlyized = FinInvestmentsGet.get_assets_monthlyized(holdings_monthlyized, data_path_o, YEAR)\n",
    "assets = FinInvestmentsGet.get_assets_global(assets_monthlyized, holdings_monthlyized)"
   ]
  },
  {
   "cell_type": "code",
   "execution_count": 14,
   "id": "9d088632",
   "metadata": {},
   "outputs": [],
   "source": [
    "df_year_holdings = FinInvestmentsGet.get_total_holdings(assets)"
   ]
  },
  {
   "cell_type": "code",
   "execution_count": null,
   "id": "4f522b27",
   "metadata": {},
   "outputs": [],
   "source": []
  },
  {
   "cell_type": "code",
   "execution_count": 17,
   "id": "e810755b",
   "metadata": {},
   "outputs": [
    {
     "data": {
      "text/html": [
       "<div>\n",
       "<style scoped>\n",
       "    .dataframe tbody tr th:only-of-type {\n",
       "        vertical-align: middle;\n",
       "    }\n",
       "\n",
       "    .dataframe tbody tr th {\n",
       "        vertical-align: top;\n",
       "    }\n",
       "\n",
       "    .dataframe thead th {\n",
       "        text-align: right;\n",
       "    }\n",
       "</style>\n",
       "<table border=\"1\" class=\"dataframe\">\n",
       "  <thead>\n",
       "    <tr style=\"text-align: right;\">\n",
       "      <th></th>\n",
       "      <th>incomes</th>\n",
       "      <th>liabilities</th>\n",
       "      <th>savings</th>\n",
       "      <th>saving_rate</th>\n",
       "      <th>liquidity</th>\n",
       "    </tr>\n",
       "    <tr>\n",
       "      <th>Date</th>\n",
       "      <th></th>\n",
       "      <th></th>\n",
       "      <th></th>\n",
       "      <th></th>\n",
       "      <th></th>\n",
       "    </tr>\n",
       "  </thead>\n",
       "  <tbody>\n",
       "    <tr>\n",
       "      <th>2023-12-31</th>\n",
       "      <td>351.43</td>\n",
       "      <td>-328.23</td>\n",
       "      <td>23.20</td>\n",
       "      <td>0.07</td>\n",
       "      <td>24.73</td>\n",
       "    </tr>\n",
       "  </tbody>\n",
       "</table>\n",
       "</div>"
      ],
      "text/plain": [
       "            incomes  liabilities  savings  saving_rate  liquidity\n",
       "Date                                                             \n",
       "2023-12-31   351.43      -328.23    23.20         0.07      24.73"
      ]
     },
     "execution_count": 17,
     "metadata": {},
     "output_type": "execute_result"
    }
   ],
   "source": [
    "df_m_cashflow"
   ]
  },
  {
   "cell_type": "code",
   "execution_count": 18,
   "id": "4bb9e800",
   "metadata": {},
   "outputs": [],
   "source": [
    "nw = pd.concat([df_year_holdings['Total'], df_m_cashflow['liquidity']], axis=1, keys=['investments', 'liquidity']).dropna()"
   ]
  },
  {
   "cell_type": "code",
   "execution_count": 19,
   "id": "9180923a",
   "metadata": {},
   "outputs": [
    {
     "data": {
      "text/html": [
       "<div>\n",
       "<style scoped>\n",
       "    .dataframe tbody tr th:only-of-type {\n",
       "        vertical-align: middle;\n",
       "    }\n",
       "\n",
       "    .dataframe tbody tr th {\n",
       "        vertical-align: top;\n",
       "    }\n",
       "\n",
       "    .dataframe thead th {\n",
       "        text-align: right;\n",
       "    }\n",
       "</style>\n",
       "<table border=\"1\" class=\"dataframe\">\n",
       "  <thead>\n",
       "    <tr style=\"text-align: right;\">\n",
       "      <th></th>\n",
       "      <th>2023-12-31</th>\n",
       "    </tr>\n",
       "  </thead>\n",
       "  <tbody>\n",
       "    <tr>\n",
       "      <th>investments</th>\n",
       "      <td>473.03</td>\n",
       "    </tr>\n",
       "    <tr>\n",
       "      <th>liquidity</th>\n",
       "      <td>24.73</td>\n",
       "    </tr>\n",
       "  </tbody>\n",
       "</table>\n",
       "</div>"
      ],
      "text/plain": [
       "             2023-12-31\n",
       "investments      473.03\n",
       "liquidity         24.73"
      ]
     },
     "execution_count": 19,
     "metadata": {},
     "output_type": "execute_result"
    }
   ],
   "source": [
    "nw.T"
   ]
  },
  {
   "cell_type": "code",
   "execution_count": null,
   "id": "be01c29f",
   "metadata": {},
   "outputs": [],
   "source": []
  }
 ],
 "metadata": {
  "kernelspec": {
   "display_name": "base",
   "language": "python",
   "name": "python3"
  },
  "language_info": {
   "codemirror_mode": {
    "name": "ipython",
    "version": 3
   },
   "file_extension": ".py",
   "mimetype": "text/x-python",
   "name": "python",
   "nbconvert_exporter": "python",
   "pygments_lexer": "ipython3",
   "version": "3.12.9"
  }
 },
 "nbformat": 4,
 "nbformat_minor": 5
}
