{
 "cells": [
  {
   "cell_type": "code",
   "execution_count": 1,
   "id": "e1f9dfee",
   "metadata": {},
   "outputs": [],
   "source": [
    "import pandas as pd\n",
    "pd.options.display.float_format = \"{:,.2f}\".format\n",
    "\n",
    "import sys\n",
    "sys.path.append('../lib/')\n",
    "from financelib import FinLoad\n",
    "from financelib import FinCalc\n",
    "from financelib import FinFetch\n",
    "from financelib import FinPlot\n",
    "from financelib import FinInvestmentsGet\n",
    "\n",
    "from pathlib import Path\n",
    "\n",
    "import requests # for investments yahoo finance data\n",
    "\n",
    "import time # sleep fetch"
   ]
  },
  {
   "cell_type": "code",
   "execution_count": 2,
   "id": "330888b2",
   "metadata": {},
   "outputs": [],
   "source": [
    "YEAR = 2025\n",
    "data_path_o = Path(\"../../tmp/data\")"
   ]
  },
  {
   "cell_type": "code",
   "execution_count": 3,
   "id": "ed2fbf21",
   "metadata": {},
   "outputs": [
    {
     "name": "stdout",
     "output_type": "stream",
     "text": [
      "[Errno 2] No such file or directory: '../../tmp/data/2025/cashflow/2025-04_cashflow.csv'\n",
      "[Errno 2] No such file or directory: '../../tmp/data/2025/cashflow/2025-05_cashflow.csv'\n",
      "[Errno 2] No such file or directory: '../../tmp/data/2025/cashflow/2025-06_cashflow.csv'\n",
      "[Errno 2] No such file or directory: '../../tmp/data/2025/cashflow/2025-07_cashflow.csv'\n",
      "[Errno 2] No such file or directory: '../../tmp/data/2025/cashflow/2025-08_cashflow.csv'\n",
      "[Errno 2] No such file or directory: '../../tmp/data/2025/cashflow/2025-09_cashflow.csv'\n",
      "[Errno 2] No such file or directory: '../../tmp/data/2025/cashflow/2025-10_cashflow.csv'\n",
      "[Errno 2] No such file or directory: '../../tmp/data/2025/cashflow/2025-11_cashflow.csv'\n",
      "[Errno 2] No such file or directory: '../../tmp/data/2025/cashflow/2025-12_cashflow.csv'\n",
      "[Errno 2] No such file or directory: '../../tmp/data/2025/investments/2025-02_investments.csv'\n",
      "[Errno 2] No such file or directory: '../../tmp/data/2025/investments/2025-03_investments.csv'\n",
      "[Errno 2] No such file or directory: '../../tmp/data/2025/investments/2025-04_investments.csv'\n",
      "[Errno 2] No such file or directory: '../../tmp/data/2025/investments/2025-05_investments.csv'\n",
      "[Errno 2] No such file or directory: '../../tmp/data/2025/investments/2025-06_investments.csv'\n",
      "[Errno 2] No such file or directory: '../../tmp/data/2025/investments/2025-07_investments.csv'\n",
      "[Errno 2] No such file or directory: '../../tmp/data/2025/investments/2025-08_investments.csv'\n",
      "[Errno 2] No such file or directory: '../../tmp/data/2025/investments/2025-09_investments.csv'\n",
      "[Errno 2] No such file or directory: '../../tmp/data/2025/investments/2025-10_investments.csv'\n",
      "[Errno 2] No such file or directory: '../../tmp/data/2025/investments/2025-11_investments.csv'\n",
      "[Errno 2] No such file or directory: '../../tmp/data/2025/investments/2025-12_investments.csv'\n"
     ]
    }
   ],
   "source": [
    "init_holdings = FinLoad.load_init_holdings(data_path_o, YEAR)\n",
    "df_year_cashflow = FinLoad.load_cashflow(data_path_o, YEAR)\n",
    "df_year_investments = FinLoad.load_investments(data_path_o, YEAR)"
   ]
  },
  {
   "cell_type": "code",
   "execution_count": 4,
   "id": "d8d339b7",
   "metadata": {},
   "outputs": [],
   "source": [
    "df_m_cashflow = FinCalc.calc_monthly_cashflow(df_year_cashflow, init_holdings)"
   ]
  },
  {
   "cell_type": "code",
   "execution_count": 5,
   "id": "6838efa3",
   "metadata": {},
   "outputs": [
    {
     "data": {
      "application/vnd.plotly.v1+json": {
       "config": {
        "plotlyServerURL": "https://plot.ly"
       },
       "data": [
        {
         "marker": {
          "color": "indianred"
         },
         "name": "incomes",
         "type": "bar",
         "x": [
          "2025-01-31T00:00:00",
          "2025-02-28T00:00:00",
          "2025-03-31T00:00:00"
         ],
         "xaxis": "x",
         "y": [
          2231,
          1682.25,
          1608.12
         ],
         "yaxis": "y"
        },
        {
         "marker": {
          "color": "lightsalmon"
         },
         "name": "liabilities",
         "type": "bar",
         "x": [
          "2025-01-31T00:00:00",
          "2025-02-28T00:00:00",
          "2025-03-31T00:00:00"
         ],
         "xaxis": "x",
         "y": [
          626.02,
          616.1,
          162.74
         ],
         "yaxis": "y"
        },
        {
         "line": {
          "color": "red"
         },
         "name": "% Saving Rate",
         "type": "scatter",
         "x": [
          "2025-01-31T00:00:00",
          "2025-02-28T00:00:00",
          "2025-03-31T00:00:00"
         ],
         "xaxis": "x",
         "y": [
          62.97534737785746,
          63.37643037598455,
          89.8801084496182
         ],
         "yaxis": "y2"
        }
       ],
       "layout": {
        "barmode": "group",
        "height": 400,
        "template": {
         "data": {
          "bar": [
           {
            "error_x": {
             "color": "#2a3f5f"
            },
            "error_y": {
             "color": "#2a3f5f"
            },
            "marker": {
             "line": {
              "color": "#E5ECF6",
              "width": 0.5
             },
             "pattern": {
              "fillmode": "overlay",
              "size": 10,
              "solidity": 0.2
             }
            },
            "type": "bar"
           }
          ],
          "barpolar": [
           {
            "marker": {
             "line": {
              "color": "#E5ECF6",
              "width": 0.5
             },
             "pattern": {
              "fillmode": "overlay",
              "size": 10,
              "solidity": 0.2
             }
            },
            "type": "barpolar"
           }
          ],
          "carpet": [
           {
            "aaxis": {
             "endlinecolor": "#2a3f5f",
             "gridcolor": "white",
             "linecolor": "white",
             "minorgridcolor": "white",
             "startlinecolor": "#2a3f5f"
            },
            "baxis": {
             "endlinecolor": "#2a3f5f",
             "gridcolor": "white",
             "linecolor": "white",
             "minorgridcolor": "white",
             "startlinecolor": "#2a3f5f"
            },
            "type": "carpet"
           }
          ],
          "choropleth": [
           {
            "colorbar": {
             "outlinewidth": 0,
             "ticks": ""
            },
            "type": "choropleth"
           }
          ],
          "contour": [
           {
            "colorbar": {
             "outlinewidth": 0,
             "ticks": ""
            },
            "colorscale": [
             [
              0,
              "#0d0887"
             ],
             [
              0.1111111111111111,
              "#46039f"
             ],
             [
              0.2222222222222222,
              "#7201a8"
             ],
             [
              0.3333333333333333,
              "#9c179e"
             ],
             [
              0.4444444444444444,
              "#bd3786"
             ],
             [
              0.5555555555555556,
              "#d8576b"
             ],
             [
              0.6666666666666666,
              "#ed7953"
             ],
             [
              0.7777777777777778,
              "#fb9f3a"
             ],
             [
              0.8888888888888888,
              "#fdca26"
             ],
             [
              1,
              "#f0f921"
             ]
            ],
            "type": "contour"
           }
          ],
          "contourcarpet": [
           {
            "colorbar": {
             "outlinewidth": 0,
             "ticks": ""
            },
            "type": "contourcarpet"
           }
          ],
          "heatmap": [
           {
            "colorbar": {
             "outlinewidth": 0,
             "ticks": ""
            },
            "colorscale": [
             [
              0,
              "#0d0887"
             ],
             [
              0.1111111111111111,
              "#46039f"
             ],
             [
              0.2222222222222222,
              "#7201a8"
             ],
             [
              0.3333333333333333,
              "#9c179e"
             ],
             [
              0.4444444444444444,
              "#bd3786"
             ],
             [
              0.5555555555555556,
              "#d8576b"
             ],
             [
              0.6666666666666666,
              "#ed7953"
             ],
             [
              0.7777777777777778,
              "#fb9f3a"
             ],
             [
              0.8888888888888888,
              "#fdca26"
             ],
             [
              1,
              "#f0f921"
             ]
            ],
            "type": "heatmap"
           }
          ],
          "heatmapgl": [
           {
            "colorbar": {
             "outlinewidth": 0,
             "ticks": ""
            },
            "colorscale": [
             [
              0,
              "#0d0887"
             ],
             [
              0.1111111111111111,
              "#46039f"
             ],
             [
              0.2222222222222222,
              "#7201a8"
             ],
             [
              0.3333333333333333,
              "#9c179e"
             ],
             [
              0.4444444444444444,
              "#bd3786"
             ],
             [
              0.5555555555555556,
              "#d8576b"
             ],
             [
              0.6666666666666666,
              "#ed7953"
             ],
             [
              0.7777777777777778,
              "#fb9f3a"
             ],
             [
              0.8888888888888888,
              "#fdca26"
             ],
             [
              1,
              "#f0f921"
             ]
            ],
            "type": "heatmapgl"
           }
          ],
          "histogram": [
           {
            "marker": {
             "pattern": {
              "fillmode": "overlay",
              "size": 10,
              "solidity": 0.2
             }
            },
            "type": "histogram"
           }
          ],
          "histogram2d": [
           {
            "colorbar": {
             "outlinewidth": 0,
             "ticks": ""
            },
            "colorscale": [
             [
              0,
              "#0d0887"
             ],
             [
              0.1111111111111111,
              "#46039f"
             ],
             [
              0.2222222222222222,
              "#7201a8"
             ],
             [
              0.3333333333333333,
              "#9c179e"
             ],
             [
              0.4444444444444444,
              "#bd3786"
             ],
             [
              0.5555555555555556,
              "#d8576b"
             ],
             [
              0.6666666666666666,
              "#ed7953"
             ],
             [
              0.7777777777777778,
              "#fb9f3a"
             ],
             [
              0.8888888888888888,
              "#fdca26"
             ],
             [
              1,
              "#f0f921"
             ]
            ],
            "type": "histogram2d"
           }
          ],
          "histogram2dcontour": [
           {
            "colorbar": {
             "outlinewidth": 0,
             "ticks": ""
            },
            "colorscale": [
             [
              0,
              "#0d0887"
             ],
             [
              0.1111111111111111,
              "#46039f"
             ],
             [
              0.2222222222222222,
              "#7201a8"
             ],
             [
              0.3333333333333333,
              "#9c179e"
             ],
             [
              0.4444444444444444,
              "#bd3786"
             ],
             [
              0.5555555555555556,
              "#d8576b"
             ],
             [
              0.6666666666666666,
              "#ed7953"
             ],
             [
              0.7777777777777778,
              "#fb9f3a"
             ],
             [
              0.8888888888888888,
              "#fdca26"
             ],
             [
              1,
              "#f0f921"
             ]
            ],
            "type": "histogram2dcontour"
           }
          ],
          "mesh3d": [
           {
            "colorbar": {
             "outlinewidth": 0,
             "ticks": ""
            },
            "type": "mesh3d"
           }
          ],
          "parcoords": [
           {
            "line": {
             "colorbar": {
              "outlinewidth": 0,
              "ticks": ""
             }
            },
            "type": "parcoords"
           }
          ],
          "pie": [
           {
            "automargin": true,
            "type": "pie"
           }
          ],
          "scatter": [
           {
            "fillpattern": {
             "fillmode": "overlay",
             "size": 10,
             "solidity": 0.2
            },
            "type": "scatter"
           }
          ],
          "scatter3d": [
           {
            "line": {
             "colorbar": {
              "outlinewidth": 0,
              "ticks": ""
             }
            },
            "marker": {
             "colorbar": {
              "outlinewidth": 0,
              "ticks": ""
             }
            },
            "type": "scatter3d"
           }
          ],
          "scattercarpet": [
           {
            "marker": {
             "colorbar": {
              "outlinewidth": 0,
              "ticks": ""
             }
            },
            "type": "scattercarpet"
           }
          ],
          "scattergeo": [
           {
            "marker": {
             "colorbar": {
              "outlinewidth": 0,
              "ticks": ""
             }
            },
            "type": "scattergeo"
           }
          ],
          "scattergl": [
           {
            "marker": {
             "colorbar": {
              "outlinewidth": 0,
              "ticks": ""
             }
            },
            "type": "scattergl"
           }
          ],
          "scattermapbox": [
           {
            "marker": {
             "colorbar": {
              "outlinewidth": 0,
              "ticks": ""
             }
            },
            "type": "scattermapbox"
           }
          ],
          "scatterpolar": [
           {
            "marker": {
             "colorbar": {
              "outlinewidth": 0,
              "ticks": ""
             }
            },
            "type": "scatterpolar"
           }
          ],
          "scatterpolargl": [
           {
            "marker": {
             "colorbar": {
              "outlinewidth": 0,
              "ticks": ""
             }
            },
            "type": "scatterpolargl"
           }
          ],
          "scatterternary": [
           {
            "marker": {
             "colorbar": {
              "outlinewidth": 0,
              "ticks": ""
             }
            },
            "type": "scatterternary"
           }
          ],
          "surface": [
           {
            "colorbar": {
             "outlinewidth": 0,
             "ticks": ""
            },
            "colorscale": [
             [
              0,
              "#0d0887"
             ],
             [
              0.1111111111111111,
              "#46039f"
             ],
             [
              0.2222222222222222,
              "#7201a8"
             ],
             [
              0.3333333333333333,
              "#9c179e"
             ],
             [
              0.4444444444444444,
              "#bd3786"
             ],
             [
              0.5555555555555556,
              "#d8576b"
             ],
             [
              0.6666666666666666,
              "#ed7953"
             ],
             [
              0.7777777777777778,
              "#fb9f3a"
             ],
             [
              0.8888888888888888,
              "#fdca26"
             ],
             [
              1,
              "#f0f921"
             ]
            ],
            "type": "surface"
           }
          ],
          "table": [
           {
            "cells": {
             "fill": {
              "color": "#EBF0F8"
             },
             "line": {
              "color": "white"
             }
            },
            "header": {
             "fill": {
              "color": "#C8D4E3"
             },
             "line": {
              "color": "white"
             }
            },
            "type": "table"
           }
          ]
         },
         "layout": {
          "annotationdefaults": {
           "arrowcolor": "#2a3f5f",
           "arrowhead": 0,
           "arrowwidth": 1
          },
          "autotypenumbers": "strict",
          "coloraxis": {
           "colorbar": {
            "outlinewidth": 0,
            "ticks": ""
           }
          },
          "colorscale": {
           "diverging": [
            [
             0,
             "#8e0152"
            ],
            [
             0.1,
             "#c51b7d"
            ],
            [
             0.2,
             "#de77ae"
            ],
            [
             0.3,
             "#f1b6da"
            ],
            [
             0.4,
             "#fde0ef"
            ],
            [
             0.5,
             "#f7f7f7"
            ],
            [
             0.6,
             "#e6f5d0"
            ],
            [
             0.7,
             "#b8e186"
            ],
            [
             0.8,
             "#7fbc41"
            ],
            [
             0.9,
             "#4d9221"
            ],
            [
             1,
             "#276419"
            ]
           ],
           "sequential": [
            [
             0,
             "#0d0887"
            ],
            [
             0.1111111111111111,
             "#46039f"
            ],
            [
             0.2222222222222222,
             "#7201a8"
            ],
            [
             0.3333333333333333,
             "#9c179e"
            ],
            [
             0.4444444444444444,
             "#bd3786"
            ],
            [
             0.5555555555555556,
             "#d8576b"
            ],
            [
             0.6666666666666666,
             "#ed7953"
            ],
            [
             0.7777777777777778,
             "#fb9f3a"
            ],
            [
             0.8888888888888888,
             "#fdca26"
            ],
            [
             1,
             "#f0f921"
            ]
           ],
           "sequentialminus": [
            [
             0,
             "#0d0887"
            ],
            [
             0.1111111111111111,
             "#46039f"
            ],
            [
             0.2222222222222222,
             "#7201a8"
            ],
            [
             0.3333333333333333,
             "#9c179e"
            ],
            [
             0.4444444444444444,
             "#bd3786"
            ],
            [
             0.5555555555555556,
             "#d8576b"
            ],
            [
             0.6666666666666666,
             "#ed7953"
            ],
            [
             0.7777777777777778,
             "#fb9f3a"
            ],
            [
             0.8888888888888888,
             "#fdca26"
            ],
            [
             1,
             "#f0f921"
            ]
           ]
          },
          "colorway": [
           "#636efa",
           "#EF553B",
           "#00cc96",
           "#ab63fa",
           "#FFA15A",
           "#19d3f3",
           "#FF6692",
           "#B6E880",
           "#FF97FF",
           "#FECB52"
          ],
          "font": {
           "color": "#2a3f5f"
          },
          "geo": {
           "bgcolor": "white",
           "lakecolor": "white",
           "landcolor": "#E5ECF6",
           "showlakes": true,
           "showland": true,
           "subunitcolor": "white"
          },
          "hoverlabel": {
           "align": "left"
          },
          "hovermode": "closest",
          "mapbox": {
           "style": "light"
          },
          "paper_bgcolor": "white",
          "plot_bgcolor": "#E5ECF6",
          "polar": {
           "angularaxis": {
            "gridcolor": "white",
            "linecolor": "white",
            "ticks": ""
           },
           "bgcolor": "#E5ECF6",
           "radialaxis": {
            "gridcolor": "white",
            "linecolor": "white",
            "ticks": ""
           }
          },
          "scene": {
           "xaxis": {
            "backgroundcolor": "#E5ECF6",
            "gridcolor": "white",
            "gridwidth": 2,
            "linecolor": "white",
            "showbackground": true,
            "ticks": "",
            "zerolinecolor": "white"
           },
           "yaxis": {
            "backgroundcolor": "#E5ECF6",
            "gridcolor": "white",
            "gridwidth": 2,
            "linecolor": "white",
            "showbackground": true,
            "ticks": "",
            "zerolinecolor": "white"
           },
           "zaxis": {
            "backgroundcolor": "#E5ECF6",
            "gridcolor": "white",
            "gridwidth": 2,
            "linecolor": "white",
            "showbackground": true,
            "ticks": "",
            "zerolinecolor": "white"
           }
          },
          "shapedefaults": {
           "line": {
            "color": "#2a3f5f"
           }
          },
          "ternary": {
           "aaxis": {
            "gridcolor": "white",
            "linecolor": "white",
            "ticks": ""
           },
           "baxis": {
            "gridcolor": "white",
            "linecolor": "white",
            "ticks": ""
           },
           "bgcolor": "#E5ECF6",
           "caxis": {
            "gridcolor": "white",
            "linecolor": "white",
            "ticks": ""
           }
          },
          "title": {
           "x": 0.05
          },
          "xaxis": {
           "automargin": true,
           "gridcolor": "white",
           "linecolor": "white",
           "ticks": "",
           "title": {
            "standoff": 15
           },
           "zerolinecolor": "white",
           "zerolinewidth": 2
          },
          "yaxis": {
           "automargin": true,
           "gridcolor": "white",
           "linecolor": "white",
           "ticks": "",
           "title": {
            "standoff": 15
           },
           "zerolinecolor": "white",
           "zerolinewidth": 2
          }
         }
        },
        "title": {
         "text": "Cashflow  Graph",
         "x": 0.4,
         "y": 0.85
        },
        "width": 1000,
        "xaxis": {
         "anchor": "y",
         "domain": [
          0,
          0.94
         ],
         "tickangle": 0
        },
        "yaxis": {
         "anchor": "x",
         "domain": [
          0,
          1
         ],
         "showgrid": false,
         "side": "left",
         "tickmode": "array",
         "ticktext": [
          "0€",
          "500€",
          "1000€",
          "1500€",
          "2000€",
          "2500€"
         ],
         "tickvals": [
          0,
          500,
          1000,
          1500,
          2000,
          2500
         ],
         "title": {
          "text": "<b>Social Credits</b>"
         }
        },
        "yaxis2": {
         "anchor": "x",
         "overlaying": "y",
         "range": [
          0,
          100
         ],
         "side": "right",
         "tickmode": "array",
         "ticktext": [
          "40%",
          "60%",
          "80%"
         ],
         "tickvals": [
          40,
          60,
          80
         ],
         "title": {
          "text": "<b>Saving Rate</b>"
         }
        }
       }
      }
     },
     "metadata": {},
     "output_type": "display_data"
    }
   ],
   "source": [
    "fig_cashflow = FinPlot.plot_cashflow(df_m_cashflow)\n",
    "fig_cashflow.show()"
   ]
  },
  {
   "cell_type": "markdown",
   "id": "4eec52e6-1ad7-4c65-b717-fb30d105a371",
   "metadata": {},
   "source": [
    "### Detail Expenses January 2025"
   ]
  },
  {
   "cell_type": "code",
   "execution_count": 6,
   "id": "6907ab86",
   "metadata": {},
   "outputs": [
    {
     "data": {
      "application/vnd.plotly.v1+json": {
       "config": {
        "plotlyServerURL": "https://plot.ly"
       },
       "data": [
        {
         "branchvalues": "total",
         "customdata": [
          [
           "Transport"
          ],
          [
           "Transport"
          ],
          [
           "Bills"
          ],
          [
           "Bills"
          ],
          [
           "Health"
          ],
          [
           "Subs"
          ],
          [
           "Groceries"
          ],
          [
           "Health"
          ],
          [
           "Groceries"
          ],
          [
           "Subs"
          ],
          [
           "Leisure"
          ],
          [
           "Shop"
          ],
          [
           "Leisure"
          ],
          [
           "Subs"
          ],
          [
           "Leisure"
          ],
          [
           "Groceries"
          ],
          [
           "Groceries"
          ],
          [
           "Shop"
          ],
          [
           "Leisure"
          ],
          [
           "Groceries"
          ],
          [
           "Subs"
          ]
         ],
         "domain": {
          "x": [
           0,
           1
          ],
          "y": [
           0,
           1
          ]
         },
         "hovertemplate": "labels=%{label}<br>Qty=%{value}<br>parent=%{parent}<br>id=%{id}<br>Category=%{customdata[0]}<extra></extra>",
         "ids": [
          "Transport/Gasoline",
          "Transport",
          "Bills",
          "Bills/Wood",
          "Health/Visit",
          "Subs",
          "Groceries",
          "Health",
          "Groceries/Food",
          "Subs/Bank",
          "Leisure",
          "Shop",
          "Leisure/Events",
          "Subs/VPS",
          "Leisure/Drink",
          "Groceries/Diet",
          "Groceries/Food Lidl",
          "Shop/Accessories",
          "Leisure/Food",
          "Groceries/Food Aldi",
          "Subs/SIM"
         ],
         "labels": [
          "Gasoline",
          "Transport",
          "Bills",
          "Wood",
          "Visit",
          "Subs",
          "Groceries",
          "Health",
          "Food",
          "Bank",
          "Leisure",
          "Shop",
          "Events",
          "VPS",
          "Drink",
          "Diet",
          "Food Lidl",
          "Accessories",
          "Food",
          "Food Aldi",
          "SIM"
         ],
         "marker": {
          "colors": [
           "#B9B28A",
           "#B9B28A",
           "#E7D4B5",
           "#E7D4B5",
           "#D4F6FF",
           "#C9E9D2",
           "#C96868",
           "#D4F6FF",
           "#C96868",
           "#C9E9D2",
           "#FCDC94",
           "#CDC1FF",
           "#FCDC94",
           "#C9E9D2",
           "#FCDC94",
           "#C96868",
           "#C96868",
           "#CDC1FF",
           "#FCDC94",
           "#C96868",
           "#C9E9D2"
          ]
         },
         "name": "",
         "parents": [
          "Transport",
          "",
          "",
          "Bills",
          "Health",
          "",
          "",
          "",
          "Groceries",
          "Subs",
          "",
          "",
          "Leisure",
          "Subs",
          "Leisure",
          "Groceries",
          "Groceries",
          "Shop",
          "Leisure",
          "Groceries",
          "Subs"
         ],
         "type": "sunburst",
         "values": [
          10,
          10,
          160,
          160,
          50,
          11.94,
          226.5,
          50,
          133,
          1,
          121.18,
          36.48,
          91.18,
          5.9399999999999995,
          27.5,
          76.7,
          5.73,
          36.48,
          2.5,
          11.07,
          5
         ]
        }
       ],
       "layout": {
        "height": 500,
        "legend": {
         "tracegroupgap": 0
        },
        "margin": {
         "b": 10,
         "l": 10,
         "r": 10,
         "t": 60
        },
        "template": {
         "data": {
          "bar": [
           {
            "error_x": {
             "color": "#2a3f5f"
            },
            "error_y": {
             "color": "#2a3f5f"
            },
            "marker": {
             "line": {
              "color": "#E5ECF6",
              "width": 0.5
             },
             "pattern": {
              "fillmode": "overlay",
              "size": 10,
              "solidity": 0.2
             }
            },
            "type": "bar"
           }
          ],
          "barpolar": [
           {
            "marker": {
             "line": {
              "color": "#E5ECF6",
              "width": 0.5
             },
             "pattern": {
              "fillmode": "overlay",
              "size": 10,
              "solidity": 0.2
             }
            },
            "type": "barpolar"
           }
          ],
          "carpet": [
           {
            "aaxis": {
             "endlinecolor": "#2a3f5f",
             "gridcolor": "white",
             "linecolor": "white",
             "minorgridcolor": "white",
             "startlinecolor": "#2a3f5f"
            },
            "baxis": {
             "endlinecolor": "#2a3f5f",
             "gridcolor": "white",
             "linecolor": "white",
             "minorgridcolor": "white",
             "startlinecolor": "#2a3f5f"
            },
            "type": "carpet"
           }
          ],
          "choropleth": [
           {
            "colorbar": {
             "outlinewidth": 0,
             "ticks": ""
            },
            "type": "choropleth"
           }
          ],
          "contour": [
           {
            "colorbar": {
             "outlinewidth": 0,
             "ticks": ""
            },
            "colorscale": [
             [
              0,
              "#0d0887"
             ],
             [
              0.1111111111111111,
              "#46039f"
             ],
             [
              0.2222222222222222,
              "#7201a8"
             ],
             [
              0.3333333333333333,
              "#9c179e"
             ],
             [
              0.4444444444444444,
              "#bd3786"
             ],
             [
              0.5555555555555556,
              "#d8576b"
             ],
             [
              0.6666666666666666,
              "#ed7953"
             ],
             [
              0.7777777777777778,
              "#fb9f3a"
             ],
             [
              0.8888888888888888,
              "#fdca26"
             ],
             [
              1,
              "#f0f921"
             ]
            ],
            "type": "contour"
           }
          ],
          "contourcarpet": [
           {
            "colorbar": {
             "outlinewidth": 0,
             "ticks": ""
            },
            "type": "contourcarpet"
           }
          ],
          "heatmap": [
           {
            "colorbar": {
             "outlinewidth": 0,
             "ticks": ""
            },
            "colorscale": [
             [
              0,
              "#0d0887"
             ],
             [
              0.1111111111111111,
              "#46039f"
             ],
             [
              0.2222222222222222,
              "#7201a8"
             ],
             [
              0.3333333333333333,
              "#9c179e"
             ],
             [
              0.4444444444444444,
              "#bd3786"
             ],
             [
              0.5555555555555556,
              "#d8576b"
             ],
             [
              0.6666666666666666,
              "#ed7953"
             ],
             [
              0.7777777777777778,
              "#fb9f3a"
             ],
             [
              0.8888888888888888,
              "#fdca26"
             ],
             [
              1,
              "#f0f921"
             ]
            ],
            "type": "heatmap"
           }
          ],
          "heatmapgl": [
           {
            "colorbar": {
             "outlinewidth": 0,
             "ticks": ""
            },
            "colorscale": [
             [
              0,
              "#0d0887"
             ],
             [
              0.1111111111111111,
              "#46039f"
             ],
             [
              0.2222222222222222,
              "#7201a8"
             ],
             [
              0.3333333333333333,
              "#9c179e"
             ],
             [
              0.4444444444444444,
              "#bd3786"
             ],
             [
              0.5555555555555556,
              "#d8576b"
             ],
             [
              0.6666666666666666,
              "#ed7953"
             ],
             [
              0.7777777777777778,
              "#fb9f3a"
             ],
             [
              0.8888888888888888,
              "#fdca26"
             ],
             [
              1,
              "#f0f921"
             ]
            ],
            "type": "heatmapgl"
           }
          ],
          "histogram": [
           {
            "marker": {
             "pattern": {
              "fillmode": "overlay",
              "size": 10,
              "solidity": 0.2
             }
            },
            "type": "histogram"
           }
          ],
          "histogram2d": [
           {
            "colorbar": {
             "outlinewidth": 0,
             "ticks": ""
            },
            "colorscale": [
             [
              0,
              "#0d0887"
             ],
             [
              0.1111111111111111,
              "#46039f"
             ],
             [
              0.2222222222222222,
              "#7201a8"
             ],
             [
              0.3333333333333333,
              "#9c179e"
             ],
             [
              0.4444444444444444,
              "#bd3786"
             ],
             [
              0.5555555555555556,
              "#d8576b"
             ],
             [
              0.6666666666666666,
              "#ed7953"
             ],
             [
              0.7777777777777778,
              "#fb9f3a"
             ],
             [
              0.8888888888888888,
              "#fdca26"
             ],
             [
              1,
              "#f0f921"
             ]
            ],
            "type": "histogram2d"
           }
          ],
          "histogram2dcontour": [
           {
            "colorbar": {
             "outlinewidth": 0,
             "ticks": ""
            },
            "colorscale": [
             [
              0,
              "#0d0887"
             ],
             [
              0.1111111111111111,
              "#46039f"
             ],
             [
              0.2222222222222222,
              "#7201a8"
             ],
             [
              0.3333333333333333,
              "#9c179e"
             ],
             [
              0.4444444444444444,
              "#bd3786"
             ],
             [
              0.5555555555555556,
              "#d8576b"
             ],
             [
              0.6666666666666666,
              "#ed7953"
             ],
             [
              0.7777777777777778,
              "#fb9f3a"
             ],
             [
              0.8888888888888888,
              "#fdca26"
             ],
             [
              1,
              "#f0f921"
             ]
            ],
            "type": "histogram2dcontour"
           }
          ],
          "mesh3d": [
           {
            "colorbar": {
             "outlinewidth": 0,
             "ticks": ""
            },
            "type": "mesh3d"
           }
          ],
          "parcoords": [
           {
            "line": {
             "colorbar": {
              "outlinewidth": 0,
              "ticks": ""
             }
            },
            "type": "parcoords"
           }
          ],
          "pie": [
           {
            "automargin": true,
            "type": "pie"
           }
          ],
          "scatter": [
           {
            "fillpattern": {
             "fillmode": "overlay",
             "size": 10,
             "solidity": 0.2
            },
            "type": "scatter"
           }
          ],
          "scatter3d": [
           {
            "line": {
             "colorbar": {
              "outlinewidth": 0,
              "ticks": ""
             }
            },
            "marker": {
             "colorbar": {
              "outlinewidth": 0,
              "ticks": ""
             }
            },
            "type": "scatter3d"
           }
          ],
          "scattercarpet": [
           {
            "marker": {
             "colorbar": {
              "outlinewidth": 0,
              "ticks": ""
             }
            },
            "type": "scattercarpet"
           }
          ],
          "scattergeo": [
           {
            "marker": {
             "colorbar": {
              "outlinewidth": 0,
              "ticks": ""
             }
            },
            "type": "scattergeo"
           }
          ],
          "scattergl": [
           {
            "marker": {
             "colorbar": {
              "outlinewidth": 0,
              "ticks": ""
             }
            },
            "type": "scattergl"
           }
          ],
          "scattermapbox": [
           {
            "marker": {
             "colorbar": {
              "outlinewidth": 0,
              "ticks": ""
             }
            },
            "type": "scattermapbox"
           }
          ],
          "scatterpolar": [
           {
            "marker": {
             "colorbar": {
              "outlinewidth": 0,
              "ticks": ""
             }
            },
            "type": "scatterpolar"
           }
          ],
          "scatterpolargl": [
           {
            "marker": {
             "colorbar": {
              "outlinewidth": 0,
              "ticks": ""
             }
            },
            "type": "scatterpolargl"
           }
          ],
          "scatterternary": [
           {
            "marker": {
             "colorbar": {
              "outlinewidth": 0,
              "ticks": ""
             }
            },
            "type": "scatterternary"
           }
          ],
          "surface": [
           {
            "colorbar": {
             "outlinewidth": 0,
             "ticks": ""
            },
            "colorscale": [
             [
              0,
              "#0d0887"
             ],
             [
              0.1111111111111111,
              "#46039f"
             ],
             [
              0.2222222222222222,
              "#7201a8"
             ],
             [
              0.3333333333333333,
              "#9c179e"
             ],
             [
              0.4444444444444444,
              "#bd3786"
             ],
             [
              0.5555555555555556,
              "#d8576b"
             ],
             [
              0.6666666666666666,
              "#ed7953"
             ],
             [
              0.7777777777777778,
              "#fb9f3a"
             ],
             [
              0.8888888888888888,
              "#fdca26"
             ],
             [
              1,
              "#f0f921"
             ]
            ],
            "type": "surface"
           }
          ],
          "table": [
           {
            "cells": {
             "fill": {
              "color": "#EBF0F8"
             },
             "line": {
              "color": "white"
             }
            },
            "header": {
             "fill": {
              "color": "#C8D4E3"
             },
             "line": {
              "color": "white"
             }
            },
            "type": "table"
           }
          ]
         },
         "layout": {
          "annotationdefaults": {
           "arrowcolor": "#2a3f5f",
           "arrowhead": 0,
           "arrowwidth": 1
          },
          "autotypenumbers": "strict",
          "coloraxis": {
           "colorbar": {
            "outlinewidth": 0,
            "ticks": ""
           }
          },
          "colorscale": {
           "diverging": [
            [
             0,
             "#8e0152"
            ],
            [
             0.1,
             "#c51b7d"
            ],
            [
             0.2,
             "#de77ae"
            ],
            [
             0.3,
             "#f1b6da"
            ],
            [
             0.4,
             "#fde0ef"
            ],
            [
             0.5,
             "#f7f7f7"
            ],
            [
             0.6,
             "#e6f5d0"
            ],
            [
             0.7,
             "#b8e186"
            ],
            [
             0.8,
             "#7fbc41"
            ],
            [
             0.9,
             "#4d9221"
            ],
            [
             1,
             "#276419"
            ]
           ],
           "sequential": [
            [
             0,
             "#0d0887"
            ],
            [
             0.1111111111111111,
             "#46039f"
            ],
            [
             0.2222222222222222,
             "#7201a8"
            ],
            [
             0.3333333333333333,
             "#9c179e"
            ],
            [
             0.4444444444444444,
             "#bd3786"
            ],
            [
             0.5555555555555556,
             "#d8576b"
            ],
            [
             0.6666666666666666,
             "#ed7953"
            ],
            [
             0.7777777777777778,
             "#fb9f3a"
            ],
            [
             0.8888888888888888,
             "#fdca26"
            ],
            [
             1,
             "#f0f921"
            ]
           ],
           "sequentialminus": [
            [
             0,
             "#0d0887"
            ],
            [
             0.1111111111111111,
             "#46039f"
            ],
            [
             0.2222222222222222,
             "#7201a8"
            ],
            [
             0.3333333333333333,
             "#9c179e"
            ],
            [
             0.4444444444444444,
             "#bd3786"
            ],
            [
             0.5555555555555556,
             "#d8576b"
            ],
            [
             0.6666666666666666,
             "#ed7953"
            ],
            [
             0.7777777777777778,
             "#fb9f3a"
            ],
            [
             0.8888888888888888,
             "#fdca26"
            ],
            [
             1,
             "#f0f921"
            ]
           ]
          },
          "colorway": [
           "#636efa",
           "#EF553B",
           "#00cc96",
           "#ab63fa",
           "#FFA15A",
           "#19d3f3",
           "#FF6692",
           "#B6E880",
           "#FF97FF",
           "#FECB52"
          ],
          "font": {
           "color": "#2a3f5f"
          },
          "geo": {
           "bgcolor": "white",
           "lakecolor": "white",
           "landcolor": "#E5ECF6",
           "showlakes": true,
           "showland": true,
           "subunitcolor": "white"
          },
          "hoverlabel": {
           "align": "left"
          },
          "hovermode": "closest",
          "mapbox": {
           "style": "light"
          },
          "paper_bgcolor": "white",
          "plot_bgcolor": "#E5ECF6",
          "polar": {
           "angularaxis": {
            "gridcolor": "white",
            "linecolor": "white",
            "ticks": ""
           },
           "bgcolor": "#E5ECF6",
           "radialaxis": {
            "gridcolor": "white",
            "linecolor": "white",
            "ticks": ""
           }
          },
          "scene": {
           "xaxis": {
            "backgroundcolor": "#E5ECF6",
            "gridcolor": "white",
            "gridwidth": 2,
            "linecolor": "white",
            "showbackground": true,
            "ticks": "",
            "zerolinecolor": "white"
           },
           "yaxis": {
            "backgroundcolor": "#E5ECF6",
            "gridcolor": "white",
            "gridwidth": 2,
            "linecolor": "white",
            "showbackground": true,
            "ticks": "",
            "zerolinecolor": "white"
           },
           "zaxis": {
            "backgroundcolor": "#E5ECF6",
            "gridcolor": "white",
            "gridwidth": 2,
            "linecolor": "white",
            "showbackground": true,
            "ticks": "",
            "zerolinecolor": "white"
           }
          },
          "shapedefaults": {
           "line": {
            "color": "#2a3f5f"
           }
          },
          "ternary": {
           "aaxis": {
            "gridcolor": "white",
            "linecolor": "white",
            "ticks": ""
           },
           "baxis": {
            "gridcolor": "white",
            "linecolor": "white",
            "ticks": ""
           },
           "bgcolor": "#E5ECF6",
           "caxis": {
            "gridcolor": "white",
            "linecolor": "white",
            "ticks": ""
           }
          },
          "title": {
           "x": 0.05
          },
          "xaxis": {
           "automargin": true,
           "gridcolor": "white",
           "linecolor": "white",
           "ticks": "",
           "title": {
            "standoff": 15
           },
           "zerolinecolor": "white",
           "zerolinewidth": 2
          },
          "yaxis": {
           "automargin": true,
           "gridcolor": "white",
           "linecolor": "white",
           "ticks": "",
           "title": {
            "standoff": 15
           },
           "zerolinecolor": "white",
           "zerolinewidth": 2
          }
         }
        },
        "title": {
         "text": "Expenses",
         "x": 0.5,
         "y": 0.95
        },
        "width": 500
       }
      }
     },
     "metadata": {},
     "output_type": "display_data"
    }
   ],
   "source": [
    "df_expenses = FinCalc.calc_expenses(df_year_cashflow[ df_year_cashflow.index.month == 2 ])\n",
    "df_expenses[\"Qty\"] = df_expenses.Qty.abs() # sunburst does not understand negative values\n",
    "fig = FinPlot.plot_expenses_donut(df_expenses)\n",
    "fig.show()"
   ]
  },
  {
   "cell_type": "markdown",
   "id": "90fde5e2-1389-4205-8c32-f5a433ee5cdc",
   "metadata": {},
   "source": [
    "### Investments 2025"
   ]
  },
  {
   "cell_type": "code",
   "execution_count": 7,
   "id": "77d56a4a",
   "metadata": {},
   "outputs": [
    {
     "name": "stdout",
     "output_type": "stream",
     "text": [
      "[Errno 2] No such file or directory: '../../tmp/data/2025/investments/2025-02_investments.csv'\n",
      "[Errno 2] No such file or directory: '../../tmp/data/2025/investments/2025-03_investments.csv'\n",
      "[Errno 2] No such file or directory: '../../tmp/data/2025/investments/2025-04_investments.csv'\n",
      "[Errno 2] No such file or directory: '../../tmp/data/2025/investments/2025-05_investments.csv'\n",
      "[Errno 2] No such file or directory: '../../tmp/data/2025/investments/2025-06_investments.csv'\n",
      "[Errno 2] No such file or directory: '../../tmp/data/2025/investments/2025-07_investments.csv'\n",
      "[Errno 2] No such file or directory: '../../tmp/data/2025/investments/2025-08_investments.csv'\n",
      "[Errno 2] No such file or directory: '../../tmp/data/2025/investments/2025-09_investments.csv'\n",
      "[Errno 2] No such file or directory: '../../tmp/data/2025/investments/2025-10_investments.csv'\n",
      "[Errno 2] No such file or directory: '../../tmp/data/2025/investments/2025-11_investments.csv'\n",
      "[Errno 2] No such file or directory: '../../tmp/data/2025/investments/2025-12_investments.csv'\n"
     ]
    }
   ],
   "source": [
    "init_holdings = FinLoad.load_init_holdings(data_path_o, YEAR)\n",
    "df_year_investments = FinLoad.load_investments(data_path_o, YEAR)"
   ]
  },
  {
   "cell_type": "code",
   "execution_count": 8,
   "id": "0318009e",
   "metadata": {},
   "outputs": [],
   "source": [
    "df_init_investments = FinInvestmentsGet.get_init_holdings_to_df(init_holdings, YEAR)\n",
    "df_year_investments = pd.concat([df_init_investments, df_year_investments])\n"
   ]
  },
  {
   "cell_type": "code",
   "execution_count": 9,
   "id": "a13bb018",
   "metadata": {},
   "outputs": [
    {
     "data": {
      "text/html": [
       "<div>\n",
       "<style scoped>\n",
       "    .dataframe tbody tr th:only-of-type {\n",
       "        vertical-align: middle;\n",
       "    }\n",
       "\n",
       "    .dataframe tbody tr th {\n",
       "        vertical-align: top;\n",
       "    }\n",
       "\n",
       "    .dataframe thead th {\n",
       "        text-align: right;\n",
       "    }\n",
       "</style>\n",
       "<table border=\"1\" class=\"dataframe\">\n",
       "  <thead>\n",
       "    <tr style=\"text-align: right;\">\n",
       "      <th></th>\n",
       "      <th>Type</th>\n",
       "      <th>Symbol</th>\n",
       "      <th>Qty</th>\n",
       "      <th>Category</th>\n",
       "      <th>Subcategory</th>\n",
       "      <th>Description</th>\n",
       "    </tr>\n",
       "    <tr>\n",
       "      <th>Date</th>\n",
       "      <th></th>\n",
       "      <th></th>\n",
       "      <th></th>\n",
       "      <th></th>\n",
       "      <th></th>\n",
       "      <th></th>\n",
       "    </tr>\n",
       "  </thead>\n",
       "  <tbody>\n",
       "    <tr>\n",
       "      <th>2025-01-01</th>\n",
       "      <td>Cryptocurrencies</td>\n",
       "      <td>SOL</td>\n",
       "      <td>4.86</td>\n",
       "      <td>Init</td>\n",
       "      <td>Holdings</td>\n",
       "      <td>From previous year</td>\n",
       "    </tr>\n",
       "    <tr>\n",
       "      <th>2025-01-01</th>\n",
       "      <td>Cryptocurrencies</td>\n",
       "      <td>ETH</td>\n",
       "      <td>0.01</td>\n",
       "      <td>Init</td>\n",
       "      <td>Holdings</td>\n",
       "      <td>From previous year</td>\n",
       "    </tr>\n",
       "    <tr>\n",
       "      <th>2025-01-01</th>\n",
       "      <td>Cryptocurrencies</td>\n",
       "      <td>USDT</td>\n",
       "      <td>108.00</td>\n",
       "      <td>Init</td>\n",
       "      <td>Holdings</td>\n",
       "      <td>From previous year</td>\n",
       "    </tr>\n",
       "    <tr>\n",
       "      <th>2025-01-01</th>\n",
       "      <td>ETFs</td>\n",
       "      <td>IE00BK5BQT80</td>\n",
       "      <td>1.00</td>\n",
       "      <td>Init</td>\n",
       "      <td>Holdings</td>\n",
       "      <td>From previous year</td>\n",
       "    </tr>\n",
       "    <tr>\n",
       "      <th>2025-01-01</th>\n",
       "      <td>ETFs</td>\n",
       "      <td>JE00B1VS3770</td>\n",
       "      <td>1.00</td>\n",
       "      <td>Init</td>\n",
       "      <td>Holdings</td>\n",
       "      <td>From previous year</td>\n",
       "    </tr>\n",
       "    <tr>\n",
       "      <th>2025-01-02</th>\n",
       "      <td>ETFs</td>\n",
       "      <td>IE00BK5BQT80</td>\n",
       "      <td>0.00</td>\n",
       "      <td>State</td>\n",
       "      <td>Holdings</td>\n",
       "      <td>Vanguard FTSE All-World</td>\n",
       "    </tr>\n",
       "    <tr>\n",
       "      <th>2025-01-02</th>\n",
       "      <td>ETFs</td>\n",
       "      <td>JE00B1VS3770</td>\n",
       "      <td>0.00</td>\n",
       "      <td>State</td>\n",
       "      <td>Holdings</td>\n",
       "      <td>WisdomTree Gold</td>\n",
       "    </tr>\n",
       "  </tbody>\n",
       "</table>\n",
       "</div>"
      ],
      "text/plain": [
       "                        Type        Symbol    Qty Category Subcategory  \\\n",
       "Date                                                                     \n",
       "2025-01-01  Cryptocurrencies           SOL   4.86     Init    Holdings   \n",
       "2025-01-01  Cryptocurrencies           ETH   0.01     Init    Holdings   \n",
       "2025-01-01  Cryptocurrencies          USDT 108.00     Init    Holdings   \n",
       "2025-01-01              ETFs  IE00BK5BQT80   1.00     Init    Holdings   \n",
       "2025-01-01              ETFs  JE00B1VS3770   1.00     Init    Holdings   \n",
       "2025-01-02              ETFs  IE00BK5BQT80   0.00    State    Holdings   \n",
       "2025-01-02              ETFs  JE00B1VS3770   0.00    State    Holdings   \n",
       "\n",
       "                        Description  \n",
       "Date                                 \n",
       "2025-01-01       From previous year  \n",
       "2025-01-01       From previous year  \n",
       "2025-01-01       From previous year  \n",
       "2025-01-01       From previous year  \n",
       "2025-01-01       From previous year  \n",
       "2025-01-02  Vanguard FTSE All-World  \n",
       "2025-01-02          WisdomTree Gold  "
      ]
     },
     "execution_count": 9,
     "metadata": {},
     "output_type": "execute_result"
    }
   ],
   "source": [
    "df_year_investments"
   ]
  },
  {
   "cell_type": "code",
   "execution_count": 16,
   "id": "7683dd24",
   "metadata": {},
   "outputs": [
    {
     "name": "stdout",
     "output_type": "stream",
     "text": [
      "SOL\n",
      "../../tmp/data/2025/investments/exchange/SOL-EUR.csv already exists. Data Loaded from local.\n",
      "ETH\n",
      "../../tmp/data/2025/investments/exchange/ETH-EUR.csv already exists. Data Loaded from local.\n",
      "USDT\n",
      "../../tmp/data/2025/investments/exchange/USDT-EUR.csv already exists. Data Loaded from local.\n",
      "IE00BK5BQT80\n",
      "../../tmp/data/2025/investments/exchange/IE00BK5BQT80-EUR.csv already exists. Data Loaded from local.\n",
      "JE00B1VS3770\n",
      "../../tmp/data/2025/investments/exchange/JE00B1VS3770-EUR.csv already exists. Data Loaded from local.\n"
     ]
    }
   ],
   "source": [
    "holdings_monthlyized = FinInvestmentsGet.get_holdings_monthlyized(df_year_investments, YEAR)\n",
    "assets_monthlyized = FinInvestmentsGet.get_assets_monthlyized(holdings_monthlyized, data_path_o, YEAR)\n",
    "assets = FinInvestmentsGet.get_assets_global(assets_monthlyized, holdings_monthlyized)"
   ]
  },
  {
   "cell_type": "code",
   "execution_count": null,
   "id": "b4df2fd6",
   "metadata": {},
   "outputs": [
    {
     "data": {
      "text/html": [
       "<div>\n",
       "<style scoped>\n",
       "    .dataframe tbody tr th:only-of-type {\n",
       "        vertical-align: middle;\n",
       "    }\n",
       "\n",
       "    .dataframe tbody tr th {\n",
       "        vertical-align: top;\n",
       "    }\n",
       "\n",
       "    .dataframe thead th {\n",
       "        text-align: right;\n",
       "    }\n",
       "</style>\n",
       "<table border=\"1\" class=\"dataframe\">\n",
       "  <thead>\n",
       "    <tr style=\"text-align: right;\">\n",
       "      <th></th>\n",
       "      <th>Qty</th>\n",
       "      <th>CumQty</th>\n",
       "    </tr>\n",
       "  </thead>\n",
       "  <tbody>\n",
       "    <tr>\n",
       "      <th>2025-01-31</th>\n",
       "      <td>4.86</td>\n",
       "      <td>4.86</td>\n",
       "    </tr>\n",
       "    <tr>\n",
       "      <th>2025-02-28</th>\n",
       "      <td>0.00</td>\n",
       "      <td>4.86</td>\n",
       "    </tr>\n",
       "  </tbody>\n",
       "</table>\n",
       "</div>"
      ],
      "text/plain": [
       "            Qty  CumQty\n",
       "2025-01-31 4.86    4.86\n",
       "2025-02-28 0.00    4.86"
      ]
     },
     "execution_count": 26,
     "metadata": {},
     "output_type": "execute_result"
    }
   ],
   "source": [
    "holdings_monthlyized['Cryptocurrencies']['SOL']"
   ]
  },
  {
   "cell_type": "code",
   "execution_count": 28,
   "id": "c5c3d970",
   "metadata": {},
   "outputs": [
    {
     "data": {
      "text/html": [
       "<div>\n",
       "<style scoped>\n",
       "    .dataframe tbody tr th:only-of-type {\n",
       "        vertical-align: middle;\n",
       "    }\n",
       "\n",
       "    .dataframe tbody tr th {\n",
       "        vertical-align: top;\n",
       "    }\n",
       "\n",
       "    .dataframe thead th {\n",
       "        text-align: right;\n",
       "    }\n",
       "</style>\n",
       "<table border=\"1\" class=\"dataframe\">\n",
       "  <thead>\n",
       "    <tr style=\"text-align: right;\">\n",
       "      <th></th>\n",
       "      <th>Open</th>\n",
       "      <th>Close</th>\n",
       "      <th>Returns</th>\n",
       "      <th>Qty</th>\n",
       "      <th>CumQty</th>\n",
       "      <th>Holdings</th>\n",
       "    </tr>\n",
       "  </thead>\n",
       "  <tbody>\n",
       "    <tr>\n",
       "      <th>2025-01-31</th>\n",
       "      <td>183.60</td>\n",
       "      <td>229.90</td>\n",
       "      <td>NaN</td>\n",
       "      <td>4.86</td>\n",
       "      <td>4.86</td>\n",
       "      <td>1,117.39</td>\n",
       "    </tr>\n",
       "    <tr>\n",
       "      <th>2025-02-28</th>\n",
       "      <td>229.89</td>\n",
       "      <td>132.40</td>\n",
       "      <td>-0.74</td>\n",
       "      <td>0.00</td>\n",
       "      <td>4.86</td>\n",
       "      <td>643.51</td>\n",
       "    </tr>\n",
       "    <tr>\n",
       "      <th>2025-03-31</th>\n",
       "      <td>132.40</td>\n",
       "      <td>119.00</td>\n",
       "      <td>-0.11</td>\n",
       "      <td>NaN</td>\n",
       "      <td>NaN</td>\n",
       "      <td>NaN</td>\n",
       "    </tr>\n",
       "    <tr>\n",
       "      <th>2025-03-31</th>\n",
       "      <td>114.56</td>\n",
       "      <td>116.34</td>\n",
       "      <td>-0.02</td>\n",
       "      <td>NaN</td>\n",
       "      <td>NaN</td>\n",
       "      <td>NaN</td>\n",
       "    </tr>\n",
       "  </tbody>\n",
       "</table>\n",
       "</div>"
      ],
      "text/plain": [
       "             Open  Close  Returns  Qty  CumQty  Holdings\n",
       "2025-01-31 183.60 229.90      NaN 4.86    4.86  1,117.39\n",
       "2025-02-28 229.89 132.40    -0.74 0.00    4.86    643.51\n",
       "2025-03-31 132.40 119.00    -0.11  NaN     NaN       NaN\n",
       "2025-03-31 114.56 116.34    -0.02  NaN     NaN       NaN"
      ]
     },
     "execution_count": 28,
     "metadata": {},
     "output_type": "execute_result"
    }
   ],
   "source": [
    "assets['Cryptocurrencies']['SOL']"
   ]
  },
  {
   "cell_type": "code",
   "execution_count": null,
   "id": "30e448f6",
   "metadata": {},
   "outputs": [],
   "source": [
    "df_year_holdings = FinInvestmentsGet.get_total_holdings(assets)"
   ]
  },
  {
   "cell_type": "code",
   "execution_count": 18,
   "id": "34d5ec35",
   "metadata": {},
   "outputs": [
    {
     "data": {
      "text/html": [
       "<div>\n",
       "<style scoped>\n",
       "    .dataframe tbody tr th:only-of-type {\n",
       "        vertical-align: middle;\n",
       "    }\n",
       "\n",
       "    .dataframe tbody tr th {\n",
       "        vertical-align: top;\n",
       "    }\n",
       "\n",
       "    .dataframe thead th {\n",
       "        text-align: right;\n",
       "    }\n",
       "</style>\n",
       "<table border=\"1\" class=\"dataframe\">\n",
       "  <thead>\n",
       "    <tr style=\"text-align: right;\">\n",
       "      <th></th>\n",
       "      <th>SOL</th>\n",
       "      <th>ETH</th>\n",
       "      <th>USDT</th>\n",
       "      <th>IE00BK5BQT80</th>\n",
       "      <th>JE00B1VS3770</th>\n",
       "      <th>Total</th>\n",
       "    </tr>\n",
       "  </thead>\n",
       "  <tbody>\n",
       "    <tr>\n",
       "      <th>2025-01-31</th>\n",
       "      <td>1,117.39</td>\n",
       "      <td>37.22</td>\n",
       "      <td>103.68</td>\n",
       "      <td>137.64</td>\n",
       "      <td>252.42</td>\n",
       "      <td>1,648.35</td>\n",
       "    </tr>\n",
       "    <tr>\n",
       "      <th>2025-02-28</th>\n",
       "      <td>643.51</td>\n",
       "      <td>26.43</td>\n",
       "      <td>103.68</td>\n",
       "      <td>136.61</td>\n",
       "      <td>253.92</td>\n",
       "      <td>1,164.15</td>\n",
       "    </tr>\n",
       "    <tr>\n",
       "      <th>2025-03-31</th>\n",
       "      <td>NaN</td>\n",
       "      <td>NaN</td>\n",
       "      <td>NaN</td>\n",
       "      <td>NaN</td>\n",
       "      <td>NaN</td>\n",
       "      <td>0.00</td>\n",
       "    </tr>\n",
       "    <tr>\n",
       "      <th>2025-03-31</th>\n",
       "      <td>NaN</td>\n",
       "      <td>NaN</td>\n",
       "      <td>NaN</td>\n",
       "      <td>NaN</td>\n",
       "      <td>NaN</td>\n",
       "      <td>0.00</td>\n",
       "    </tr>\n",
       "  </tbody>\n",
       "</table>\n",
       "</div>"
      ],
      "text/plain": [
       "                SOL   ETH   USDT  IE00BK5BQT80  JE00B1VS3770    Total\n",
       "2025-01-31 1,117.39 37.22 103.68        137.64        252.42 1,648.35\n",
       "2025-02-28   643.51 26.43 103.68        136.61        253.92 1,164.15\n",
       "2025-03-31      NaN   NaN    NaN           NaN           NaN     0.00\n",
       "2025-03-31      NaN   NaN    NaN           NaN           NaN     0.00"
      ]
     },
     "execution_count": 18,
     "metadata": {},
     "output_type": "execute_result"
    }
   ],
   "source": [
    "df_year_holdings"
   ]
  },
  {
   "cell_type": "markdown",
   "id": "69e2a3a2-b990-4889-874c-caa1c54e74cf",
   "metadata": {},
   "source": [
    "### NW 2024"
   ]
  },
  {
   "cell_type": "code",
   "execution_count": 19,
   "id": "b5fea0b3",
   "metadata": {},
   "outputs": [
    {
     "data": {
      "text/html": [
       "<div>\n",
       "<style scoped>\n",
       "    .dataframe tbody tr th:only-of-type {\n",
       "        vertical-align: middle;\n",
       "    }\n",
       "\n",
       "    .dataframe tbody tr th {\n",
       "        vertical-align: top;\n",
       "    }\n",
       "\n",
       "    .dataframe thead th {\n",
       "        text-align: right;\n",
       "    }\n",
       "</style>\n",
       "<table border=\"1\" class=\"dataframe\">\n",
       "  <thead>\n",
       "    <tr style=\"text-align: right;\">\n",
       "      <th>Date</th>\n",
       "      <th>2025-01-31</th>\n",
       "      <th>2025-02-28</th>\n",
       "      <th>2025-03-31</th>\n",
       "    </tr>\n",
       "  </thead>\n",
       "  <tbody>\n",
       "    <tr>\n",
       "      <th>incomes</th>\n",
       "      <td>2,231.00</td>\n",
       "      <td>1,682.25</td>\n",
       "      <td>1,608.12</td>\n",
       "    </tr>\n",
       "    <tr>\n",
       "      <th>liabilities</th>\n",
       "      <td>-626.02</td>\n",
       "      <td>-616.10</td>\n",
       "      <td>-162.74</td>\n",
       "    </tr>\n",
       "    <tr>\n",
       "      <th>savings</th>\n",
       "      <td>1,604.98</td>\n",
       "      <td>1,066.15</td>\n",
       "      <td>1,445.38</td>\n",
       "    </tr>\n",
       "    <tr>\n",
       "      <th>saving_rate</th>\n",
       "      <td>0.63</td>\n",
       "      <td>0.63</td>\n",
       "      <td>0.90</td>\n",
       "    </tr>\n",
       "    <tr>\n",
       "      <th>liquidity</th>\n",
       "      <td>16,316.17</td>\n",
       "      <td>17,382.32</td>\n",
       "      <td>18,827.70</td>\n",
       "    </tr>\n",
       "  </tbody>\n",
       "</table>\n",
       "</div>"
      ],
      "text/plain": [
       "Date         2025-01-31  2025-02-28  2025-03-31\n",
       "incomes        2,231.00    1,682.25    1,608.12\n",
       "liabilities     -626.02     -616.10     -162.74\n",
       "savings        1,604.98    1,066.15    1,445.38\n",
       "saving_rate        0.63        0.63        0.90\n",
       "liquidity     16,316.17   17,382.32   18,827.70"
      ]
     },
     "execution_count": 19,
     "metadata": {},
     "output_type": "execute_result"
    }
   ],
   "source": [
    "df_m_cashflow.T"
   ]
  },
  {
   "cell_type": "code",
   "execution_count": 20,
   "id": "b54d2a09",
   "metadata": {},
   "outputs": [],
   "source": [
    "nw = pd.concat([df_m_cashflow['liquidity'], df_year_holdings['Total']], axis=1, keys=['liquidity', 'investments'])\n",
    "nw['networth'] = nw.liquidity + nw.investments\n",
    "nw[\"nwch\"] = (nw.networth - nw.networth.shift(1) )\n",
    "nw[\"ch%\"] = (nw.networth - nw.networth.shift(1) )/ nw.networth"
   ]
  },
  {
   "cell_type": "code",
   "execution_count": 21,
   "id": "c4338515",
   "metadata": {},
   "outputs": [
    {
     "data": {
      "text/html": [
       "<div>\n",
       "<style scoped>\n",
       "    .dataframe tbody tr th:only-of-type {\n",
       "        vertical-align: middle;\n",
       "    }\n",
       "\n",
       "    .dataframe tbody tr th {\n",
       "        vertical-align: top;\n",
       "    }\n",
       "\n",
       "    .dataframe thead th {\n",
       "        text-align: right;\n",
       "    }\n",
       "</style>\n",
       "<table border=\"1\" class=\"dataframe\">\n",
       "  <thead>\n",
       "    <tr style=\"text-align: right;\">\n",
       "      <th></th>\n",
       "      <th>2025-01-31</th>\n",
       "      <th>2025-02-28</th>\n",
       "      <th>2025-03-31</th>\n",
       "      <th>2025-03-31</th>\n",
       "    </tr>\n",
       "  </thead>\n",
       "  <tbody>\n",
       "    <tr>\n",
       "      <th>liquidity</th>\n",
       "      <td>16,316.17</td>\n",
       "      <td>17,382.32</td>\n",
       "      <td>18,827.70</td>\n",
       "      <td>18,827.70</td>\n",
       "    </tr>\n",
       "    <tr>\n",
       "      <th>investments</th>\n",
       "      <td>1,648.35</td>\n",
       "      <td>1,164.15</td>\n",
       "      <td>0.00</td>\n",
       "      <td>0.00</td>\n",
       "    </tr>\n",
       "    <tr>\n",
       "      <th>networth</th>\n",
       "      <td>17,964.52</td>\n",
       "      <td>18,546.47</td>\n",
       "      <td>18,827.70</td>\n",
       "      <td>18,827.70</td>\n",
       "    </tr>\n",
       "    <tr>\n",
       "      <th>nwch</th>\n",
       "      <td>NaN</td>\n",
       "      <td>581.95</td>\n",
       "      <td>281.23</td>\n",
       "      <td>0.00</td>\n",
       "    </tr>\n",
       "    <tr>\n",
       "      <th>ch%</th>\n",
       "      <td>NaN</td>\n",
       "      <td>0.03</td>\n",
       "      <td>0.01</td>\n",
       "      <td>0.00</td>\n",
       "    </tr>\n",
       "  </tbody>\n",
       "</table>\n",
       "</div>"
      ],
      "text/plain": [
       "             2025-01-31  2025-02-28  2025-03-31  2025-03-31\n",
       "liquidity     16,316.17   17,382.32   18,827.70   18,827.70\n",
       "investments    1,648.35    1,164.15        0.00        0.00\n",
       "networth      17,964.52   18,546.47   18,827.70   18,827.70\n",
       "nwch                NaN      581.95      281.23        0.00\n",
       "ch%                 NaN        0.03        0.01        0.00"
      ]
     },
     "execution_count": 21,
     "metadata": {},
     "output_type": "execute_result"
    }
   ],
   "source": [
    "nw.T"
   ]
  },
  {
   "cell_type": "markdown",
   "id": "a4ee0a3d-613a-4c07-aca9-69339e9bd4ee",
   "metadata": {},
   "source": [
    "### FIRE Metrics on end 2024"
   ]
  },
  {
   "cell_type": "code",
   "execution_count": 18,
   "id": "678caa5f-a84f-4b38-886d-ca40e4d746ee",
   "metadata": {},
   "outputs": [
    {
     "ename": "AttributeError",
     "evalue": "'DataFrame' object has no attribute 'nw'",
     "output_type": "error",
     "traceback": [
      "\u001b[31m---------------------------------------------------------------------------\u001b[39m",
      "\u001b[31mAttributeError\u001b[39m                            Traceback (most recent call last)",
      "\u001b[32m/tmp/ipykernel_10153/2509255870.py\u001b[39m in \u001b[36m?\u001b[39m\u001b[34m()\u001b[39m\n\u001b[32m      1\u001b[39m current_yearly_expediture = df_m_cashflow.liabilities.sum()\n\u001b[32m----> \u001b[39m\u001b[32m2\u001b[39m current_nw = nw.nw.iloc[-\u001b[32m1\u001b[39m]\n",
      "\u001b[32m~/miniconda3/lib/python3.12/site-packages/pandas/core/generic.py\u001b[39m in \u001b[36m?\u001b[39m\u001b[34m(self, name)\u001b[39m\n\u001b[32m   6295\u001b[39m             \u001b[38;5;28;01mand\u001b[39;00m name \u001b[38;5;28;01mnot\u001b[39;00m \u001b[38;5;28;01min\u001b[39;00m self._accessors\n\u001b[32m   6296\u001b[39m             \u001b[38;5;28;01mand\u001b[39;00m self._info_axis._can_hold_identifiers_and_holds_name(name)\n\u001b[32m   6297\u001b[39m         ):\n\u001b[32m   6298\u001b[39m             \u001b[38;5;28;01mreturn\u001b[39;00m self[name]\n\u001b[32m-> \u001b[39m\u001b[32m6299\u001b[39m         \u001b[38;5;28;01mreturn\u001b[39;00m object.__getattribute__(self, name)\n",
      "\u001b[31mAttributeError\u001b[39m: 'DataFrame' object has no attribute 'nw'"
     ]
    }
   ],
   "source": [
    "current_yearly_expediture = df_m_cashflow.liabilities.sum()\n",
    "current_nw = nw.nw.iloc[-1]"
   ]
  },
  {
   "cell_type": "code",
   "execution_count": 48,
   "id": "4262b37d-e158-45ca-a20b-49ff70a49358",
   "metadata": {},
   "outputs": [
    {
     "name": "stdout",
     "output_type": "stream",
     "text": [
      "256367.3\n"
     ]
    }
   ],
   "source": [
    "desired_wd = 0.030\n",
    "fu_number = abs(current_yearly_expediture) / desired_wd\n",
    "print(fu_number)"
   ]
  },
  {
   "cell_type": "code",
   "execution_count": 49,
   "id": "7b0237df-64a5-40ac-b5b3-b4abb0d8d164",
   "metadata": {},
   "outputs": [
    {
     "name": "stdout",
     "output_type": "stream",
     "text": [
      "0.06179126753841071\n"
     ]
    }
   ],
   "source": [
    "progress_fi = current_nw / fu_number\n",
    "print(progress_fi)"
   ]
  },
  {
   "cell_type": "code",
   "execution_count": 50,
   "id": "e09a9058-efd6-43d4-b047-8a37d5f32aff",
   "metadata": {},
   "outputs": [],
   "source": [
    "current_yearly_saved = nw.nwch.sum()"
   ]
  },
  {
   "cell_type": "code",
   "execution_count": 51,
   "id": "f6696aa5-127a-4dc5-b1c0-19e26e40a934",
   "metadata": {},
   "outputs": [],
   "source": [
    "current_yearly_monthly_savings = current_yearly_saved/12"
   ]
  },
  {
   "cell_type": "code",
   "execution_count": 52,
   "id": "6a2554c2-9025-416a-8c61-8442dde1f24e",
   "metadata": {},
   "outputs": [
    {
     "name": "stdout",
     "output_type": "stream",
     "text": [
      "Months left to FIRE: 188\n"
     ]
    }
   ],
   "source": [
    "months_left_to_fire = (fu_number - current_nw)/current_yearly_monthly_savings\n",
    "print(f\"Months left to FIRE: {int(months_left_to_fire)}\")"
   ]
  },
  {
   "cell_type": "code",
   "execution_count": null,
   "id": "85593424-66d4-44f5-be1b-e1b1fecf1cb4",
   "metadata": {},
   "outputs": [],
   "source": []
  },
  {
   "cell_type": "code",
   "execution_count": null,
   "id": "e4a1fa2e-b49a-4431-8280-3fb124c7dbbc",
   "metadata": {},
   "outputs": [],
   "source": []
  }
 ],
 "metadata": {
  "kernelspec": {
   "display_name": "base",
   "language": "python",
   "name": "python3"
  },
  "language_info": {
   "codemirror_mode": {
    "name": "ipython",
    "version": 3
   },
   "file_extension": ".py",
   "mimetype": "text/x-python",
   "name": "python",
   "nbconvert_exporter": "python",
   "pygments_lexer": "ipython3",
   "version": "3.12.9"
  }
 },
 "nbformat": 4,
 "nbformat_minor": 5
}
