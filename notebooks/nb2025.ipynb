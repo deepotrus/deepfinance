{
 "cells": [
  {
   "cell_type": "code",
   "execution_count": 1,
   "id": "e1f9dfee",
   "metadata": {},
   "outputs": [],
   "source": [
    "import pandas as pd\n",
    "pd.options.display.float_format = \"{:,.2f}\".format\n",
    "\n",
    "import sys\n",
    "sys.path.append('../lib/')\n",
    "from financelib import FinLoad\n",
    "from financelib import FinCalc\n",
    "from financelib import FinFetch\n",
    "from plotlib import FinPlot\n",
    "from financelib import FinInvestmentsGet\n",
    "\n",
    "from pathlib import Path"
   ]
  },
  {
   "cell_type": "code",
   "execution_count": 2,
   "id": "330888b2",
   "metadata": {},
   "outputs": [],
   "source": [
    "YEAR = 2025\n",
    "data_path_o = Path(\"../../data\")"
   ]
  },
  {
   "cell_type": "code",
   "execution_count": 3,
   "id": "ed2fbf21",
   "metadata": {},
   "outputs": [],
   "source": [
    "init_holdings = FinLoad.load_init_holdings(data_path_o, YEAR)\n",
    "df_year_cashflow = FinLoad.load_cashflow(data_path_o, YEAR)\n",
    "df_year_investments = FinLoad.load_investments(data_path_o, YEAR)"
   ]
  },
  {
   "cell_type": "code",
   "execution_count": 4,
   "id": "4db06e69",
   "metadata": {},
   "outputs": [],
   "source": [
    "df_m_cashflow = FinCalc.calc_monthly_cashflow(df_year_cashflow, init_holdings, YEAR)"
   ]
  },
  {
   "cell_type": "code",
   "execution_count": 5,
   "id": "fd8ea3f8",
   "metadata": {},
   "outputs": [
    {
     "data": {
      "text/html": [
       "<div>\n",
       "<style scoped>\n",
       "    .dataframe tbody tr th:only-of-type {\n",
       "        vertical-align: middle;\n",
       "    }\n",
       "\n",
       "    .dataframe tbody tr th {\n",
       "        vertical-align: top;\n",
       "    }\n",
       "\n",
       "    .dataframe thead th {\n",
       "        text-align: right;\n",
       "    }\n",
       "</style>\n",
       "<table border=\"1\" class=\"dataframe\">\n",
       "  <thead>\n",
       "    <tr style=\"text-align: right;\">\n",
       "      <th></th>\n",
       "      <th>incomes</th>\n",
       "      <th>liabilities</th>\n",
       "      <th>savings</th>\n",
       "      <th>saving_rate</th>\n",
       "      <th>investments</th>\n",
       "      <th>liquidity</th>\n",
       "    </tr>\n",
       "  </thead>\n",
       "  <tbody>\n",
       "    <tr>\n",
       "      <th>2024-12-31</th>\n",
       "      <td>-</td>\n",
       "      <td>-</td>\n",
       "      <td>14,711.19</td>\n",
       "      <td>-</td>\n",
       "      <td>0.00</td>\n",
       "      <td>14,711.19</td>\n",
       "    </tr>\n",
       "    <tr>\n",
       "      <th>2025-01-31</th>\n",
       "      <td>2,231.00</td>\n",
       "      <td>-626.02</td>\n",
       "      <td>1,604.98</td>\n",
       "      <td>0.72</td>\n",
       "      <td>0.00</td>\n",
       "      <td>16,316.17</td>\n",
       "    </tr>\n",
       "    <tr>\n",
       "      <th>2025-02-28</th>\n",
       "      <td>1,811.00</td>\n",
       "      <td>-632.58</td>\n",
       "      <td>1,178.42</td>\n",
       "      <td>0.65</td>\n",
       "      <td>-139.42</td>\n",
       "      <td>17,355.17</td>\n",
       "    </tr>\n",
       "    <tr>\n",
       "      <th>2025-03-31</th>\n",
       "      <td>1,746.87</td>\n",
       "      <td>-633.45</td>\n",
       "      <td>1,113.42</td>\n",
       "      <td>0.64</td>\n",
       "      <td>-263.75</td>\n",
       "      <td>18,204.84</td>\n",
       "    </tr>\n",
       "    <tr>\n",
       "      <th>2025-04-30</th>\n",
       "      <td>1,652.49</td>\n",
       "      <td>-310.46</td>\n",
       "      <td>1,342.03</td>\n",
       "      <td>0.81</td>\n",
       "      <td>-245.92</td>\n",
       "      <td>19,300.95</td>\n",
       "    </tr>\n",
       "    <tr>\n",
       "      <th>2025-05-31</th>\n",
       "      <td>1,645.03</td>\n",
       "      <td>-561.96</td>\n",
       "      <td>1,083.07</td>\n",
       "      <td>0.66</td>\n",
       "      <td>-253.95</td>\n",
       "      <td>20,130.07</td>\n",
       "    </tr>\n",
       "  </tbody>\n",
       "</table>\n",
       "</div>"
      ],
      "text/plain": [
       "            incomes liabilities   savings saving_rate  investments  liquidity\n",
       "2024-12-31        -           - 14,711.19           -         0.00  14,711.19\n",
       "2025-01-31 2,231.00     -626.02  1,604.98        0.72         0.00  16,316.17\n",
       "2025-02-28 1,811.00     -632.58  1,178.42        0.65      -139.42  17,355.17\n",
       "2025-03-31 1,746.87     -633.45  1,113.42        0.64      -263.75  18,204.84\n",
       "2025-04-30 1,652.49     -310.46  1,342.03        0.81      -245.92  19,300.95\n",
       "2025-05-31 1,645.03     -561.96  1,083.07        0.66      -253.95  20,130.07"
      ]
     },
     "execution_count": 5,
     "metadata": {},
     "output_type": "execute_result"
    }
   ],
   "source": [
    "df_m_cashflow"
   ]
  },
  {
   "cell_type": "code",
   "execution_count": 6,
   "id": "6838efa3",
   "metadata": {},
   "outputs": [
    {
     "data": {
      "application/vnd.plotly.v1+json": {
       "config": {
        "plotlyServerURL": "https://plot.ly"
       },
       "data": [
        {
         "marker": {
          "color": "indianred"
         },
         "name": "incomes",
         "type": "bar",
         "x": [
          "2025-01-31T00:00:00.000000000",
          "2025-02-28T00:00:00.000000000",
          "2025-03-31T00:00:00.000000000",
          "2025-04-30T00:00:00.000000000",
          "2025-05-31T00:00:00.000000000"
         ],
         "xaxis": "x",
         "y": [
          2231,
          1811,
          1746.87,
          1652.49,
          1645.03
         ],
         "yaxis": "y"
        },
        {
         "marker": {
          "color": "lightsalmon"
         },
         "name": "liabilities",
         "type": "bar",
         "x": [
          "2025-01-31T00:00:00.000000000",
          "2025-02-28T00:00:00.000000000",
          "2025-03-31T00:00:00.000000000",
          "2025-04-30T00:00:00.000000000",
          "2025-05-31T00:00:00.000000000"
         ],
         "xaxis": "x",
         "y": [
          626.02,
          632.58,
          633.45,
          310.46,
          561.96
         ],
         "yaxis": "y"
        },
        {
         "line": {
          "color": "red"
         },
         "name": "% Saving Rate",
         "type": "scatter",
         "x": [
          "2025-01-31T00:00:00.000000000",
          "2025-02-28T00:00:00.000000000",
          "2025-03-31T00:00:00.000000000",
          "2025-04-30T00:00:00.000000000",
          "2025-05-31T00:00:00.000000000"
         ],
         "xaxis": "x",
         "y": [
          71.93993724787092,
          65.07012700165656,
          63.73799996565285,
          81.21259432734843,
          65.838920870744
         ],
         "yaxis": "y2"
        }
       ],
       "layout": {
        "barmode": "group",
        "height": 400,
        "template": {
         "data": {
          "bar": [
           {
            "error_x": {
             "color": "#2a3f5f"
            },
            "error_y": {
             "color": "#2a3f5f"
            },
            "marker": {
             "line": {
              "color": "#E5ECF6",
              "width": 0.5
             },
             "pattern": {
              "fillmode": "overlay",
              "size": 10,
              "solidity": 0.2
             }
            },
            "type": "bar"
           }
          ],
          "barpolar": [
           {
            "marker": {
             "line": {
              "color": "#E5ECF6",
              "width": 0.5
             },
             "pattern": {
              "fillmode": "overlay",
              "size": 10,
              "solidity": 0.2
             }
            },
            "type": "barpolar"
           }
          ],
          "carpet": [
           {
            "aaxis": {
             "endlinecolor": "#2a3f5f",
             "gridcolor": "white",
             "linecolor": "white",
             "minorgridcolor": "white",
             "startlinecolor": "#2a3f5f"
            },
            "baxis": {
             "endlinecolor": "#2a3f5f",
             "gridcolor": "white",
             "linecolor": "white",
             "minorgridcolor": "white",
             "startlinecolor": "#2a3f5f"
            },
            "type": "carpet"
           }
          ],
          "choropleth": [
           {
            "colorbar": {
             "outlinewidth": 0,
             "ticks": ""
            },
            "type": "choropleth"
           }
          ],
          "contour": [
           {
            "colorbar": {
             "outlinewidth": 0,
             "ticks": ""
            },
            "colorscale": [
             [
              0,
              "#0d0887"
             ],
             [
              0.1111111111111111,
              "#46039f"
             ],
             [
              0.2222222222222222,
              "#7201a8"
             ],
             [
              0.3333333333333333,
              "#9c179e"
             ],
             [
              0.4444444444444444,
              "#bd3786"
             ],
             [
              0.5555555555555556,
              "#d8576b"
             ],
             [
              0.6666666666666666,
              "#ed7953"
             ],
             [
              0.7777777777777778,
              "#fb9f3a"
             ],
             [
              0.8888888888888888,
              "#fdca26"
             ],
             [
              1,
              "#f0f921"
             ]
            ],
            "type": "contour"
           }
          ],
          "contourcarpet": [
           {
            "colorbar": {
             "outlinewidth": 0,
             "ticks": ""
            },
            "type": "contourcarpet"
           }
          ],
          "heatmap": [
           {
            "colorbar": {
             "outlinewidth": 0,
             "ticks": ""
            },
            "colorscale": [
             [
              0,
              "#0d0887"
             ],
             [
              0.1111111111111111,
              "#46039f"
             ],
             [
              0.2222222222222222,
              "#7201a8"
             ],
             [
              0.3333333333333333,
              "#9c179e"
             ],
             [
              0.4444444444444444,
              "#bd3786"
             ],
             [
              0.5555555555555556,
              "#d8576b"
             ],
             [
              0.6666666666666666,
              "#ed7953"
             ],
             [
              0.7777777777777778,
              "#fb9f3a"
             ],
             [
              0.8888888888888888,
              "#fdca26"
             ],
             [
              1,
              "#f0f921"
             ]
            ],
            "type": "heatmap"
           }
          ],
          "histogram": [
           {
            "marker": {
             "pattern": {
              "fillmode": "overlay",
              "size": 10,
              "solidity": 0.2
             }
            },
            "type": "histogram"
           }
          ],
          "histogram2d": [
           {
            "colorbar": {
             "outlinewidth": 0,
             "ticks": ""
            },
            "colorscale": [
             [
              0,
              "#0d0887"
             ],
             [
              0.1111111111111111,
              "#46039f"
             ],
             [
              0.2222222222222222,
              "#7201a8"
             ],
             [
              0.3333333333333333,
              "#9c179e"
             ],
             [
              0.4444444444444444,
              "#bd3786"
             ],
             [
              0.5555555555555556,
              "#d8576b"
             ],
             [
              0.6666666666666666,
              "#ed7953"
             ],
             [
              0.7777777777777778,
              "#fb9f3a"
             ],
             [
              0.8888888888888888,
              "#fdca26"
             ],
             [
              1,
              "#f0f921"
             ]
            ],
            "type": "histogram2d"
           }
          ],
          "histogram2dcontour": [
           {
            "colorbar": {
             "outlinewidth": 0,
             "ticks": ""
            },
            "colorscale": [
             [
              0,
              "#0d0887"
             ],
             [
              0.1111111111111111,
              "#46039f"
             ],
             [
              0.2222222222222222,
              "#7201a8"
             ],
             [
              0.3333333333333333,
              "#9c179e"
             ],
             [
              0.4444444444444444,
              "#bd3786"
             ],
             [
              0.5555555555555556,
              "#d8576b"
             ],
             [
              0.6666666666666666,
              "#ed7953"
             ],
             [
              0.7777777777777778,
              "#fb9f3a"
             ],
             [
              0.8888888888888888,
              "#fdca26"
             ],
             [
              1,
              "#f0f921"
             ]
            ],
            "type": "histogram2dcontour"
           }
          ],
          "mesh3d": [
           {
            "colorbar": {
             "outlinewidth": 0,
             "ticks": ""
            },
            "type": "mesh3d"
           }
          ],
          "parcoords": [
           {
            "line": {
             "colorbar": {
              "outlinewidth": 0,
              "ticks": ""
             }
            },
            "type": "parcoords"
           }
          ],
          "pie": [
           {
            "automargin": true,
            "type": "pie"
           }
          ],
          "scatter": [
           {
            "fillpattern": {
             "fillmode": "overlay",
             "size": 10,
             "solidity": 0.2
            },
            "type": "scatter"
           }
          ],
          "scatter3d": [
           {
            "line": {
             "colorbar": {
              "outlinewidth": 0,
              "ticks": ""
             }
            },
            "marker": {
             "colorbar": {
              "outlinewidth": 0,
              "ticks": ""
             }
            },
            "type": "scatter3d"
           }
          ],
          "scattercarpet": [
           {
            "marker": {
             "colorbar": {
              "outlinewidth": 0,
              "ticks": ""
             }
            },
            "type": "scattercarpet"
           }
          ],
          "scattergeo": [
           {
            "marker": {
             "colorbar": {
              "outlinewidth": 0,
              "ticks": ""
             }
            },
            "type": "scattergeo"
           }
          ],
          "scattergl": [
           {
            "marker": {
             "colorbar": {
              "outlinewidth": 0,
              "ticks": ""
             }
            },
            "type": "scattergl"
           }
          ],
          "scattermap": [
           {
            "marker": {
             "colorbar": {
              "outlinewidth": 0,
              "ticks": ""
             }
            },
            "type": "scattermap"
           }
          ],
          "scattermapbox": [
           {
            "marker": {
             "colorbar": {
              "outlinewidth": 0,
              "ticks": ""
             }
            },
            "type": "scattermapbox"
           }
          ],
          "scatterpolar": [
           {
            "marker": {
             "colorbar": {
              "outlinewidth": 0,
              "ticks": ""
             }
            },
            "type": "scatterpolar"
           }
          ],
          "scatterpolargl": [
           {
            "marker": {
             "colorbar": {
              "outlinewidth": 0,
              "ticks": ""
             }
            },
            "type": "scatterpolargl"
           }
          ],
          "scatterternary": [
           {
            "marker": {
             "colorbar": {
              "outlinewidth": 0,
              "ticks": ""
             }
            },
            "type": "scatterternary"
           }
          ],
          "surface": [
           {
            "colorbar": {
             "outlinewidth": 0,
             "ticks": ""
            },
            "colorscale": [
             [
              0,
              "#0d0887"
             ],
             [
              0.1111111111111111,
              "#46039f"
             ],
             [
              0.2222222222222222,
              "#7201a8"
             ],
             [
              0.3333333333333333,
              "#9c179e"
             ],
             [
              0.4444444444444444,
              "#bd3786"
             ],
             [
              0.5555555555555556,
              "#d8576b"
             ],
             [
              0.6666666666666666,
              "#ed7953"
             ],
             [
              0.7777777777777778,
              "#fb9f3a"
             ],
             [
              0.8888888888888888,
              "#fdca26"
             ],
             [
              1,
              "#f0f921"
             ]
            ],
            "type": "surface"
           }
          ],
          "table": [
           {
            "cells": {
             "fill": {
              "color": "#EBF0F8"
             },
             "line": {
              "color": "white"
             }
            },
            "header": {
             "fill": {
              "color": "#C8D4E3"
             },
             "line": {
              "color": "white"
             }
            },
            "type": "table"
           }
          ]
         },
         "layout": {
          "annotationdefaults": {
           "arrowcolor": "#2a3f5f",
           "arrowhead": 0,
           "arrowwidth": 1
          },
          "autotypenumbers": "strict",
          "coloraxis": {
           "colorbar": {
            "outlinewidth": 0,
            "ticks": ""
           }
          },
          "colorscale": {
           "diverging": [
            [
             0,
             "#8e0152"
            ],
            [
             0.1,
             "#c51b7d"
            ],
            [
             0.2,
             "#de77ae"
            ],
            [
             0.3,
             "#f1b6da"
            ],
            [
             0.4,
             "#fde0ef"
            ],
            [
             0.5,
             "#f7f7f7"
            ],
            [
             0.6,
             "#e6f5d0"
            ],
            [
             0.7,
             "#b8e186"
            ],
            [
             0.8,
             "#7fbc41"
            ],
            [
             0.9,
             "#4d9221"
            ],
            [
             1,
             "#276419"
            ]
           ],
           "sequential": [
            [
             0,
             "#0d0887"
            ],
            [
             0.1111111111111111,
             "#46039f"
            ],
            [
             0.2222222222222222,
             "#7201a8"
            ],
            [
             0.3333333333333333,
             "#9c179e"
            ],
            [
             0.4444444444444444,
             "#bd3786"
            ],
            [
             0.5555555555555556,
             "#d8576b"
            ],
            [
             0.6666666666666666,
             "#ed7953"
            ],
            [
             0.7777777777777778,
             "#fb9f3a"
            ],
            [
             0.8888888888888888,
             "#fdca26"
            ],
            [
             1,
             "#f0f921"
            ]
           ],
           "sequentialminus": [
            [
             0,
             "#0d0887"
            ],
            [
             0.1111111111111111,
             "#46039f"
            ],
            [
             0.2222222222222222,
             "#7201a8"
            ],
            [
             0.3333333333333333,
             "#9c179e"
            ],
            [
             0.4444444444444444,
             "#bd3786"
            ],
            [
             0.5555555555555556,
             "#d8576b"
            ],
            [
             0.6666666666666666,
             "#ed7953"
            ],
            [
             0.7777777777777778,
             "#fb9f3a"
            ],
            [
             0.8888888888888888,
             "#fdca26"
            ],
            [
             1,
             "#f0f921"
            ]
           ]
          },
          "colorway": [
           "#636efa",
           "#EF553B",
           "#00cc96",
           "#ab63fa",
           "#FFA15A",
           "#19d3f3",
           "#FF6692",
           "#B6E880",
           "#FF97FF",
           "#FECB52"
          ],
          "font": {
           "color": "#2a3f5f"
          },
          "geo": {
           "bgcolor": "white",
           "lakecolor": "white",
           "landcolor": "#E5ECF6",
           "showlakes": true,
           "showland": true,
           "subunitcolor": "white"
          },
          "hoverlabel": {
           "align": "left"
          },
          "hovermode": "closest",
          "mapbox": {
           "style": "light"
          },
          "paper_bgcolor": "white",
          "plot_bgcolor": "#E5ECF6",
          "polar": {
           "angularaxis": {
            "gridcolor": "white",
            "linecolor": "white",
            "ticks": ""
           },
           "bgcolor": "#E5ECF6",
           "radialaxis": {
            "gridcolor": "white",
            "linecolor": "white",
            "ticks": ""
           }
          },
          "scene": {
           "xaxis": {
            "backgroundcolor": "#E5ECF6",
            "gridcolor": "white",
            "gridwidth": 2,
            "linecolor": "white",
            "showbackground": true,
            "ticks": "",
            "zerolinecolor": "white"
           },
           "yaxis": {
            "backgroundcolor": "#E5ECF6",
            "gridcolor": "white",
            "gridwidth": 2,
            "linecolor": "white",
            "showbackground": true,
            "ticks": "",
            "zerolinecolor": "white"
           },
           "zaxis": {
            "backgroundcolor": "#E5ECF6",
            "gridcolor": "white",
            "gridwidth": 2,
            "linecolor": "white",
            "showbackground": true,
            "ticks": "",
            "zerolinecolor": "white"
           }
          },
          "shapedefaults": {
           "line": {
            "color": "#2a3f5f"
           }
          },
          "ternary": {
           "aaxis": {
            "gridcolor": "white",
            "linecolor": "white",
            "ticks": ""
           },
           "baxis": {
            "gridcolor": "white",
            "linecolor": "white",
            "ticks": ""
           },
           "bgcolor": "#E5ECF6",
           "caxis": {
            "gridcolor": "white",
            "linecolor": "white",
            "ticks": ""
           }
          },
          "title": {
           "x": 0.05
          },
          "xaxis": {
           "automargin": true,
           "gridcolor": "white",
           "linecolor": "white",
           "ticks": "",
           "title": {
            "standoff": 15
           },
           "zerolinecolor": "white",
           "zerolinewidth": 2
          },
          "yaxis": {
           "automargin": true,
           "gridcolor": "white",
           "linecolor": "white",
           "ticks": "",
           "title": {
            "standoff": 15
           },
           "zerolinecolor": "white",
           "zerolinewidth": 2
          }
         }
        },
        "title": {
         "text": "Cashflow  Graph",
         "x": 0.4,
         "y": 0.85
        },
        "width": 1000,
        "xaxis": {
         "anchor": "y",
         "domain": [
          0,
          0.94
         ],
         "tickangle": 0
        },
        "yaxis": {
         "anchor": "x",
         "domain": [
          0,
          1
         ],
         "showgrid": false,
         "side": "left",
         "tickmode": "array",
         "ticktext": [
          "0€",
          "500€",
          "1000€",
          "1500€",
          "2000€",
          "2500€"
         ],
         "tickvals": [
          0,
          500,
          1000,
          1500,
          2000,
          2500
         ],
         "title": {
          "text": "<b>Social Credits</b>"
         }
        },
        "yaxis2": {
         "anchor": "x",
         "overlaying": "y",
         "range": [
          0,
          100
         ],
         "side": "right",
         "tickmode": "array",
         "ticktext": [
          "40%",
          "60%",
          "80%"
         ],
         "tickvals": [
          40,
          60,
          80
         ],
         "title": {
          "text": "<b>Saving Rate</b>"
         }
        }
       }
      }
     },
     "metadata": {},
     "output_type": "display_data"
    }
   ],
   "source": [
    "fig_cashflow = FinPlot.plot_cashflow(df_m_cashflow)\n",
    "fig_cashflow.show()"
   ]
  },
  {
   "cell_type": "markdown",
   "id": "8b27f5ca",
   "metadata": {},
   "source": [
    "### Current balance"
   ]
  },
  {
   "cell_type": "code",
   "execution_count": 7,
   "id": "b0b238cb",
   "metadata": {},
   "outputs": [
    {
     "name": "stdout",
     "output_type": "stream",
     "text": [
      "21813.3\n"
     ]
    }
   ],
   "source": [
    "current_holdings = FinCalc.calc_current_balance(df_year_cashflow, init_holdings)\n",
    "tot = 0\n",
    "for key in current_holdings.keys():\n",
    "    tot += current_holdings[key]\n",
    "print(tot)"
   ]
  },
  {
   "cell_type": "code",
   "execution_count": 8,
   "id": "a5a7465b",
   "metadata": {},
   "outputs": [
    {
     "name": "stdout",
     "output_type": "stream",
     "text": [
      "20330.07\n"
     ]
    }
   ],
   "source": [
    "holdings_last_month = FinCalc.calc_balance_last_day_previous_month(df_year_cashflow, init_holdings, YEAR)\n",
    "tot = 0\n",
    "for key in holdings_last_month.keys():\n",
    "    tot += holdings_last_month[key]\n",
    "print(tot)"
   ]
  },
  {
   "cell_type": "code",
   "execution_count": 9,
   "id": "6907ab86",
   "metadata": {},
   "outputs": [
    {
     "data": {
      "application/vnd.plotly.v1+json": {
       "config": {
        "plotlyServerURL": "https://plot.ly"
       },
       "data": [
        {
         "branchvalues": "total",
         "customdata": [
          [
           "Family"
          ],
          [
           "Family"
          ],
          [
           "Family"
          ],
          [
           "Family"
          ],
          [
           "Groceries"
          ],
          [
           "Groceries"
          ],
          [
           "Health"
          ],
          [
           "Health"
          ],
          [
           "Leisure"
          ],
          [
           "Leisure"
          ],
          [
           "Leisure"
          ],
          [
           "Leisure"
          ],
          [
           "Leisure"
          ],
          [
           "Leisure"
          ],
          [
           "Other"
          ],
          [
           "Other"
          ],
          [
           "Shop"
          ],
          [
           "Shop"
          ],
          [
           "Subs"
          ],
          [
           "Subs"
          ],
          [
           "Subs"
          ],
          [
           "Subs"
          ],
          [
           "Subs"
          ],
          [
           "Transport"
          ],
          [
           "Transport"
          ]
         ],
         "domain": {
          "x": [
           0,
           1
          ],
          "y": [
           0,
           1
          ]
         },
         "hovertemplate": "labels=%{label}<br>Qty=%{value}<br>parent=%{parent}<br>id=%{id}<br>Category=%{customdata[0]}<extra></extra>",
         "ids": [
          "Family/Groceries",
          "Family/Favors",
          "Family",
          "Family/Accessories",
          "Groceries/Food",
          "Groceries",
          "Health",
          "Health/Eyes",
          "Leisure/Drink",
          "Leisure/Family",
          "Leisure/Restaurant",
          "Leisure/Party",
          "Leisure/Events",
          "Leisure",
          "Other/Fines",
          "Other",
          "Shop",
          "Shop/Accessories",
          "Subs/VPS",
          "Subs",
          "Subs/SIM",
          "Subs/Amazon",
          "Subs/Bank",
          "Transport",
          "Transport/Gasoline"
         ],
         "labels": [
          "Groceries",
          "Favors",
          "Family",
          "Accessories",
          "Food",
          "Groceries",
          "Health",
          "Eyes",
          "Drink",
          "Family",
          "Restaurant",
          "Party",
          "Events",
          "Leisure",
          "Fines",
          "Other",
          "Shop",
          "Accessories",
          "VPS",
          "Subs",
          "SIM",
          "Amazon",
          "Bank",
          "Transport",
          "Gasoline"
         ],
         "marker": {
          "colors": [
           "#FFCF9D",
           "#FFCF9D",
           "#FFCF9D",
           "#FFCF9D",
           "#C96868",
           "#C96868",
           "#D4F6FF",
           "#D4F6FF",
           "#FCDC94",
           "#FCDC94",
           "#FCDC94",
           "#FCDC94",
           "#FCDC94",
           "#FCDC94",
           "#95D2B3",
           "#95D2B3",
           "#CDC1FF",
           "#CDC1FF",
           "#C9E9D2",
           "#C9E9D2",
           "#C9E9D2",
           "#C9E9D2",
           "#C9E9D2",
           "#B9B28A",
           "#B9B28A"
          ]
         },
         "name": "",
         "parents": [
          "Family",
          "Family",
          "",
          "Family",
          "Groceries",
          "",
          "",
          "Health",
          "Leisure",
          "Leisure",
          "Leisure",
          "Leisure",
          "Leisure",
          "",
          "Other",
          "",
          "",
          "Shop",
          "Subs",
          "",
          "Subs",
          "Subs",
          "Subs",
          "",
          "Transport"
         ],
         "type": "sunburst",
         "values": {
          "bdata": "XI/C9SjcRUAUrkfhetQ6QJqZmZmZUWBAAAAAAAAATkApXI/C9dhfQClcj8L12F9AFK5H4XqUKkAUrkfhepQqQJqZmZmZGUFAZmZmZmbmJEDNzMzMzIxKQBSuR+F6lCJAUrgehetRQkD2KFyPwvVhQI/C9ShcL0lAj8L1KFwvSUC4HoXrUXg4QLgehetReDhAAAAAAAAADEB7FK5H4fonQAAAAAAAABRA7FG4HoXrA0AAAAAAAADwP1yPwvUoHE5AXI/C9SgcTkA=",
          "dtype": "f8"
         }
        }
       ],
       "layout": {
        "height": 500,
        "legend": {
         "tracegroupgap": 0
        },
        "margin": {
         "b": 10,
         "l": 10,
         "r": 10,
         "t": 60
        },
        "template": {
         "data": {
          "bar": [
           {
            "error_x": {
             "color": "#2a3f5f"
            },
            "error_y": {
             "color": "#2a3f5f"
            },
            "marker": {
             "line": {
              "color": "#E5ECF6",
              "width": 0.5
             },
             "pattern": {
              "fillmode": "overlay",
              "size": 10,
              "solidity": 0.2
             }
            },
            "type": "bar"
           }
          ],
          "barpolar": [
           {
            "marker": {
             "line": {
              "color": "#E5ECF6",
              "width": 0.5
             },
             "pattern": {
              "fillmode": "overlay",
              "size": 10,
              "solidity": 0.2
             }
            },
            "type": "barpolar"
           }
          ],
          "carpet": [
           {
            "aaxis": {
             "endlinecolor": "#2a3f5f",
             "gridcolor": "white",
             "linecolor": "white",
             "minorgridcolor": "white",
             "startlinecolor": "#2a3f5f"
            },
            "baxis": {
             "endlinecolor": "#2a3f5f",
             "gridcolor": "white",
             "linecolor": "white",
             "minorgridcolor": "white",
             "startlinecolor": "#2a3f5f"
            },
            "type": "carpet"
           }
          ],
          "choropleth": [
           {
            "colorbar": {
             "outlinewidth": 0,
             "ticks": ""
            },
            "type": "choropleth"
           }
          ],
          "contour": [
           {
            "colorbar": {
             "outlinewidth": 0,
             "ticks": ""
            },
            "colorscale": [
             [
              0,
              "#0d0887"
             ],
             [
              0.1111111111111111,
              "#46039f"
             ],
             [
              0.2222222222222222,
              "#7201a8"
             ],
             [
              0.3333333333333333,
              "#9c179e"
             ],
             [
              0.4444444444444444,
              "#bd3786"
             ],
             [
              0.5555555555555556,
              "#d8576b"
             ],
             [
              0.6666666666666666,
              "#ed7953"
             ],
             [
              0.7777777777777778,
              "#fb9f3a"
             ],
             [
              0.8888888888888888,
              "#fdca26"
             ],
             [
              1,
              "#f0f921"
             ]
            ],
            "type": "contour"
           }
          ],
          "contourcarpet": [
           {
            "colorbar": {
             "outlinewidth": 0,
             "ticks": ""
            },
            "type": "contourcarpet"
           }
          ],
          "heatmap": [
           {
            "colorbar": {
             "outlinewidth": 0,
             "ticks": ""
            },
            "colorscale": [
             [
              0,
              "#0d0887"
             ],
             [
              0.1111111111111111,
              "#46039f"
             ],
             [
              0.2222222222222222,
              "#7201a8"
             ],
             [
              0.3333333333333333,
              "#9c179e"
             ],
             [
              0.4444444444444444,
              "#bd3786"
             ],
             [
              0.5555555555555556,
              "#d8576b"
             ],
             [
              0.6666666666666666,
              "#ed7953"
             ],
             [
              0.7777777777777778,
              "#fb9f3a"
             ],
             [
              0.8888888888888888,
              "#fdca26"
             ],
             [
              1,
              "#f0f921"
             ]
            ],
            "type": "heatmap"
           }
          ],
          "histogram": [
           {
            "marker": {
             "pattern": {
              "fillmode": "overlay",
              "size": 10,
              "solidity": 0.2
             }
            },
            "type": "histogram"
           }
          ],
          "histogram2d": [
           {
            "colorbar": {
             "outlinewidth": 0,
             "ticks": ""
            },
            "colorscale": [
             [
              0,
              "#0d0887"
             ],
             [
              0.1111111111111111,
              "#46039f"
             ],
             [
              0.2222222222222222,
              "#7201a8"
             ],
             [
              0.3333333333333333,
              "#9c179e"
             ],
             [
              0.4444444444444444,
              "#bd3786"
             ],
             [
              0.5555555555555556,
              "#d8576b"
             ],
             [
              0.6666666666666666,
              "#ed7953"
             ],
             [
              0.7777777777777778,
              "#fb9f3a"
             ],
             [
              0.8888888888888888,
              "#fdca26"
             ],
             [
              1,
              "#f0f921"
             ]
            ],
            "type": "histogram2d"
           }
          ],
          "histogram2dcontour": [
           {
            "colorbar": {
             "outlinewidth": 0,
             "ticks": ""
            },
            "colorscale": [
             [
              0,
              "#0d0887"
             ],
             [
              0.1111111111111111,
              "#46039f"
             ],
             [
              0.2222222222222222,
              "#7201a8"
             ],
             [
              0.3333333333333333,
              "#9c179e"
             ],
             [
              0.4444444444444444,
              "#bd3786"
             ],
             [
              0.5555555555555556,
              "#d8576b"
             ],
             [
              0.6666666666666666,
              "#ed7953"
             ],
             [
              0.7777777777777778,
              "#fb9f3a"
             ],
             [
              0.8888888888888888,
              "#fdca26"
             ],
             [
              1,
              "#f0f921"
             ]
            ],
            "type": "histogram2dcontour"
           }
          ],
          "mesh3d": [
           {
            "colorbar": {
             "outlinewidth": 0,
             "ticks": ""
            },
            "type": "mesh3d"
           }
          ],
          "parcoords": [
           {
            "line": {
             "colorbar": {
              "outlinewidth": 0,
              "ticks": ""
             }
            },
            "type": "parcoords"
           }
          ],
          "pie": [
           {
            "automargin": true,
            "type": "pie"
           }
          ],
          "scatter": [
           {
            "fillpattern": {
             "fillmode": "overlay",
             "size": 10,
             "solidity": 0.2
            },
            "type": "scatter"
           }
          ],
          "scatter3d": [
           {
            "line": {
             "colorbar": {
              "outlinewidth": 0,
              "ticks": ""
             }
            },
            "marker": {
             "colorbar": {
              "outlinewidth": 0,
              "ticks": ""
             }
            },
            "type": "scatter3d"
           }
          ],
          "scattercarpet": [
           {
            "marker": {
             "colorbar": {
              "outlinewidth": 0,
              "ticks": ""
             }
            },
            "type": "scattercarpet"
           }
          ],
          "scattergeo": [
           {
            "marker": {
             "colorbar": {
              "outlinewidth": 0,
              "ticks": ""
             }
            },
            "type": "scattergeo"
           }
          ],
          "scattergl": [
           {
            "marker": {
             "colorbar": {
              "outlinewidth": 0,
              "ticks": ""
             }
            },
            "type": "scattergl"
           }
          ],
          "scattermap": [
           {
            "marker": {
             "colorbar": {
              "outlinewidth": 0,
              "ticks": ""
             }
            },
            "type": "scattermap"
           }
          ],
          "scattermapbox": [
           {
            "marker": {
             "colorbar": {
              "outlinewidth": 0,
              "ticks": ""
             }
            },
            "type": "scattermapbox"
           }
          ],
          "scatterpolar": [
           {
            "marker": {
             "colorbar": {
              "outlinewidth": 0,
              "ticks": ""
             }
            },
            "type": "scatterpolar"
           }
          ],
          "scatterpolargl": [
           {
            "marker": {
             "colorbar": {
              "outlinewidth": 0,
              "ticks": ""
             }
            },
            "type": "scatterpolargl"
           }
          ],
          "scatterternary": [
           {
            "marker": {
             "colorbar": {
              "outlinewidth": 0,
              "ticks": ""
             }
            },
            "type": "scatterternary"
           }
          ],
          "surface": [
           {
            "colorbar": {
             "outlinewidth": 0,
             "ticks": ""
            },
            "colorscale": [
             [
              0,
              "#0d0887"
             ],
             [
              0.1111111111111111,
              "#46039f"
             ],
             [
              0.2222222222222222,
              "#7201a8"
             ],
             [
              0.3333333333333333,
              "#9c179e"
             ],
             [
              0.4444444444444444,
              "#bd3786"
             ],
             [
              0.5555555555555556,
              "#d8576b"
             ],
             [
              0.6666666666666666,
              "#ed7953"
             ],
             [
              0.7777777777777778,
              "#fb9f3a"
             ],
             [
              0.8888888888888888,
              "#fdca26"
             ],
             [
              1,
              "#f0f921"
             ]
            ],
            "type": "surface"
           }
          ],
          "table": [
           {
            "cells": {
             "fill": {
              "color": "#EBF0F8"
             },
             "line": {
              "color": "white"
             }
            },
            "header": {
             "fill": {
              "color": "#C8D4E3"
             },
             "line": {
              "color": "white"
             }
            },
            "type": "table"
           }
          ]
         },
         "layout": {
          "annotationdefaults": {
           "arrowcolor": "#2a3f5f",
           "arrowhead": 0,
           "arrowwidth": 1
          },
          "autotypenumbers": "strict",
          "coloraxis": {
           "colorbar": {
            "outlinewidth": 0,
            "ticks": ""
           }
          },
          "colorscale": {
           "diverging": [
            [
             0,
             "#8e0152"
            ],
            [
             0.1,
             "#c51b7d"
            ],
            [
             0.2,
             "#de77ae"
            ],
            [
             0.3,
             "#f1b6da"
            ],
            [
             0.4,
             "#fde0ef"
            ],
            [
             0.5,
             "#f7f7f7"
            ],
            [
             0.6,
             "#e6f5d0"
            ],
            [
             0.7,
             "#b8e186"
            ],
            [
             0.8,
             "#7fbc41"
            ],
            [
             0.9,
             "#4d9221"
            ],
            [
             1,
             "#276419"
            ]
           ],
           "sequential": [
            [
             0,
             "#0d0887"
            ],
            [
             0.1111111111111111,
             "#46039f"
            ],
            [
             0.2222222222222222,
             "#7201a8"
            ],
            [
             0.3333333333333333,
             "#9c179e"
            ],
            [
             0.4444444444444444,
             "#bd3786"
            ],
            [
             0.5555555555555556,
             "#d8576b"
            ],
            [
             0.6666666666666666,
             "#ed7953"
            ],
            [
             0.7777777777777778,
             "#fb9f3a"
            ],
            [
             0.8888888888888888,
             "#fdca26"
            ],
            [
             1,
             "#f0f921"
            ]
           ],
           "sequentialminus": [
            [
             0,
             "#0d0887"
            ],
            [
             0.1111111111111111,
             "#46039f"
            ],
            [
             0.2222222222222222,
             "#7201a8"
            ],
            [
             0.3333333333333333,
             "#9c179e"
            ],
            [
             0.4444444444444444,
             "#bd3786"
            ],
            [
             0.5555555555555556,
             "#d8576b"
            ],
            [
             0.6666666666666666,
             "#ed7953"
            ],
            [
             0.7777777777777778,
             "#fb9f3a"
            ],
            [
             0.8888888888888888,
             "#fdca26"
            ],
            [
             1,
             "#f0f921"
            ]
           ]
          },
          "colorway": [
           "#636efa",
           "#EF553B",
           "#00cc96",
           "#ab63fa",
           "#FFA15A",
           "#19d3f3",
           "#FF6692",
           "#B6E880",
           "#FF97FF",
           "#FECB52"
          ],
          "font": {
           "color": "#2a3f5f"
          },
          "geo": {
           "bgcolor": "white",
           "lakecolor": "white",
           "landcolor": "#E5ECF6",
           "showlakes": true,
           "showland": true,
           "subunitcolor": "white"
          },
          "hoverlabel": {
           "align": "left"
          },
          "hovermode": "closest",
          "mapbox": {
           "style": "light"
          },
          "paper_bgcolor": "white",
          "plot_bgcolor": "#E5ECF6",
          "polar": {
           "angularaxis": {
            "gridcolor": "white",
            "linecolor": "white",
            "ticks": ""
           },
           "bgcolor": "#E5ECF6",
           "radialaxis": {
            "gridcolor": "white",
            "linecolor": "white",
            "ticks": ""
           }
          },
          "scene": {
           "xaxis": {
            "backgroundcolor": "#E5ECF6",
            "gridcolor": "white",
            "gridwidth": 2,
            "linecolor": "white",
            "showbackground": true,
            "ticks": "",
            "zerolinecolor": "white"
           },
           "yaxis": {
            "backgroundcolor": "#E5ECF6",
            "gridcolor": "white",
            "gridwidth": 2,
            "linecolor": "white",
            "showbackground": true,
            "ticks": "",
            "zerolinecolor": "white"
           },
           "zaxis": {
            "backgroundcolor": "#E5ECF6",
            "gridcolor": "white",
            "gridwidth": 2,
            "linecolor": "white",
            "showbackground": true,
            "ticks": "",
            "zerolinecolor": "white"
           }
          },
          "shapedefaults": {
           "line": {
            "color": "#2a3f5f"
           }
          },
          "ternary": {
           "aaxis": {
            "gridcolor": "white",
            "linecolor": "white",
            "ticks": ""
           },
           "baxis": {
            "gridcolor": "white",
            "linecolor": "white",
            "ticks": ""
           },
           "bgcolor": "#E5ECF6",
           "caxis": {
            "gridcolor": "white",
            "linecolor": "white",
            "ticks": ""
           }
          },
          "title": {
           "x": 0.05
          },
          "xaxis": {
           "automargin": true,
           "gridcolor": "white",
           "linecolor": "white",
           "ticks": "",
           "title": {
            "standoff": 15
           },
           "zerolinecolor": "white",
           "zerolinewidth": 2
          },
          "yaxis": {
           "automargin": true,
           "gridcolor": "white",
           "linecolor": "white",
           "ticks": "",
           "title": {
            "standoff": 15
           },
           "zerolinecolor": "white",
           "zerolinewidth": 2
          }
         }
        },
        "title": {
         "text": "Expenses",
         "x": 0.5,
         "y": 0.95
        },
        "width": 500
       }
      }
     },
     "metadata": {},
     "output_type": "display_data"
    }
   ],
   "source": [
    "df_expenses = FinCalc.calc_expenses(df_year_cashflow[ df_year_cashflow.index.month == 5 ])\n",
    "df_expenses[\"Qty\"] = df_expenses.Qty.abs() # sunburst does not understand negative values\n",
    "fig = FinPlot.plot_expenses_donut(df_expenses)\n",
    "fig.show()"
   ]
  },
  {
   "cell_type": "markdown",
   "id": "90fde5e2-1389-4205-8c32-f5a433ee5cdc",
   "metadata": {},
   "source": [
    "### Investments 2025"
   ]
  },
  {
   "cell_type": "code",
   "execution_count": 10,
   "id": "77d56a4a",
   "metadata": {},
   "outputs": [],
   "source": [
    "init_holdings = FinLoad.load_init_holdings(data_path_o, YEAR)\n",
    "df_year_investments = FinLoad.load_investments(data_path_o, YEAR)"
   ]
  },
  {
   "cell_type": "code",
   "execution_count": 11,
   "id": "0318009e",
   "metadata": {},
   "outputs": [],
   "source": [
    "df_init_investments = FinInvestmentsGet.get_init_holdings_to_df(init_holdings, YEAR)\n",
    "df_year_investments = pd.concat([df_init_investments, df_year_investments])\n"
   ]
  },
  {
   "cell_type": "code",
   "execution_count": 12,
   "id": "7683dd24",
   "metadata": {},
   "outputs": [],
   "source": [
    "holdings_monthlyized = FinInvestmentsGet.get_holdings_monthlyized(df_year_investments, YEAR)\n"
   ]
  },
  {
   "cell_type": "code",
   "execution_count": 13,
   "id": "e2b06b1e",
   "metadata": {},
   "outputs": [
    {
     "name": "stdout",
     "output_type": "stream",
     "text": [
      "SOL\n",
      "New data must be downloaded\n",
      "Updated asset data saved in local to ../../data/2025/investments/exchange/SOL-EUR.csv\n",
      "ETH\n",
      "New data must be downloaded\n",
      "Updated asset data saved in local to ../../data/2025/investments/exchange/ETH-EUR.csv\n",
      "USDT\n",
      "New data must be downloaded\n",
      "Updated asset data saved in local to ../../data/2025/investments/exchange/USDT-EUR.csv\n",
      "IE00BK5BQT80\n",
      "New data must be downloaded\n",
      "Updated asset data saved in local to ../../data/2025/investments/exchange/IE00BK5BQT80-EUR.csv\n",
      "JE00B1VS3770\n",
      "New data must be downloaded\n",
      "Updated asset data saved in local to ../../data/2025/investments/exchange/JE00B1VS3770-EUR.csv\n"
     ]
    }
   ],
   "source": [
    "assets_monthlyized = FinInvestmentsGet.get_assets_monthlyized(holdings_monthlyized, data_path_o, YEAR)\n",
    "assets = FinInvestmentsGet.get_assets_global(assets_monthlyized, holdings_monthlyized)"
   ]
  },
  {
   "cell_type": "code",
   "execution_count": 14,
   "id": "30e448f6",
   "metadata": {},
   "outputs": [],
   "source": [
    "df_year_holdings = FinInvestmentsGet.get_total_holdings(assets)"
   ]
  },
  {
   "cell_type": "code",
   "execution_count": 15,
   "id": "34d5ec35",
   "metadata": {},
   "outputs": [
    {
     "data": {
      "text/html": [
       "<div>\n",
       "<style scoped>\n",
       "    .dataframe tbody tr th:only-of-type {\n",
       "        vertical-align: middle;\n",
       "    }\n",
       "\n",
       "    .dataframe tbody tr th {\n",
       "        vertical-align: top;\n",
       "    }\n",
       "\n",
       "    .dataframe thead th {\n",
       "        text-align: right;\n",
       "    }\n",
       "</style>\n",
       "<table border=\"1\" class=\"dataframe\">\n",
       "  <thead>\n",
       "    <tr style=\"text-align: right;\">\n",
       "      <th></th>\n",
       "      <th>2024-12-31</th>\n",
       "      <th>2025-01-31</th>\n",
       "      <th>2025-02-28</th>\n",
       "      <th>2025-03-31</th>\n",
       "      <th>2025-04-30</th>\n",
       "      <th>2025-05-31</th>\n",
       "    </tr>\n",
       "  </thead>\n",
       "  <tbody>\n",
       "    <tr>\n",
       "      <th>SOL</th>\n",
       "      <td>892.26</td>\n",
       "      <td>1,117.39</td>\n",
       "      <td>665.78</td>\n",
       "      <td>579.09</td>\n",
       "      <td>646.47</td>\n",
       "      <td>692.34</td>\n",
       "    </tr>\n",
       "    <tr>\n",
       "      <th>ETH</th>\n",
       "      <td>38.43</td>\n",
       "      <td>37.22</td>\n",
       "      <td>0.00</td>\n",
       "      <td>0.00</td>\n",
       "      <td>0.00</td>\n",
       "      <td>0.00</td>\n",
       "    </tr>\n",
       "    <tr>\n",
       "      <th>USDT</th>\n",
       "      <td>103.68</td>\n",
       "      <td>103.68</td>\n",
       "      <td>103.68</td>\n",
       "      <td>99.36</td>\n",
       "      <td>95.04</td>\n",
       "      <td>95.04</td>\n",
       "    </tr>\n",
       "    <tr>\n",
       "      <th>IE00BK5BQT80</th>\n",
       "      <td>0.00</td>\n",
       "      <td>0.00</td>\n",
       "      <td>136.61</td>\n",
       "      <td>379.74</td>\n",
       "      <td>607.90</td>\n",
       "      <td>902.23</td>\n",
       "    </tr>\n",
       "    <tr>\n",
       "      <th>JE00B1VS3770</th>\n",
       "      <td>0.00</td>\n",
       "      <td>0.00</td>\n",
       "      <td>0.00</td>\n",
       "      <td>0.00</td>\n",
       "      <td>0.00</td>\n",
       "      <td>0.00</td>\n",
       "    </tr>\n",
       "    <tr>\n",
       "      <th>Total</th>\n",
       "      <td>1,034.37</td>\n",
       "      <td>1,258.29</td>\n",
       "      <td>906.08</td>\n",
       "      <td>1,058.19</td>\n",
       "      <td>1,349.42</td>\n",
       "      <td>1,689.61</td>\n",
       "    </tr>\n",
       "  </tbody>\n",
       "</table>\n",
       "</div>"
      ],
      "text/plain": [
       "              2024-12-31  2025-01-31  2025-02-28  2025-03-31  2025-04-30  \\\n",
       "SOL               892.26    1,117.39      665.78      579.09      646.47   \n",
       "ETH                38.43       37.22        0.00        0.00        0.00   \n",
       "USDT              103.68      103.68      103.68       99.36       95.04   \n",
       "IE00BK5BQT80        0.00        0.00      136.61      379.74      607.90   \n",
       "JE00B1VS3770        0.00        0.00        0.00        0.00        0.00   \n",
       "Total           1,034.37    1,258.29      906.08    1,058.19    1,349.42   \n",
       "\n",
       "              2025-05-31  \n",
       "SOL               692.34  \n",
       "ETH                 0.00  \n",
       "USDT               95.04  \n",
       "IE00BK5BQT80      902.23  \n",
       "JE00B1VS3770        0.00  \n",
       "Total           1,689.61  "
      ]
     },
     "execution_count": 15,
     "metadata": {},
     "output_type": "execute_result"
    }
   ],
   "source": [
    "df_year_holdings.T"
   ]
  },
  {
   "cell_type": "markdown",
   "id": "32d8035b",
   "metadata": {},
   "source": [
    "### Calculate current month\n",
    "Which is adding a column with current day and all my assets evaluated at the present moment in real time."
   ]
  },
  {
   "cell_type": "markdown",
   "id": "944b6109",
   "metadata": {},
   "source": [
    "#### Current month cashflow\n",
    "It's different from monthly view because this does not have the last day of december."
   ]
  },
  {
   "cell_type": "code",
   "execution_count": 16,
   "id": "0865c970",
   "metadata": {},
   "outputs": [],
   "source": [
    "row_today_cashflow = FinCalc.calc_curr_month_cashflow(df_year_cashflow, df_m_cashflow)"
   ]
  },
  {
   "cell_type": "markdown",
   "id": "504efac3",
   "metadata": {},
   "source": [
    "#### Current month investments\n",
    "It's different from monthly view because this does not have the last day of december."
   ]
  },
  {
   "cell_type": "code",
   "execution_count": null,
   "id": "58bc5d6d",
   "metadata": {},
   "outputs": [],
   "source": []
  },
  {
   "cell_type": "code",
   "execution_count": 17,
   "id": "a5d2b4ca",
   "metadata": {},
   "outputs": [
    {
     "name": "stdout",
     "output_type": "stream",
     "text": [
      "SOL\n",
      "ETH\n",
      "USDT\n",
      "IE00BK5BQT80\n",
      "JE00B1VS3770\n",
      "Getting SOL today EUR price...\n",
      "Getting ETH today EUR price...\n",
      "Getting USDT today EUR price...\n",
      "Getting IE00BK5BQT80 today EUR price...\n",
      "Getting JE00B1VS3770 today EUR price...\n"
     ]
    }
   ],
   "source": [
    "current_holdings = FinInvestmentsGet.get_current_holdings(df_year_investments, holdings_monthlyized)\n",
    "assets_current_day = FinInvestmentsGet.get_current_assets_price(current_holdings, assets_monthlyized)\n",
    "assets_global_current_day = FinInvestmentsGet.get_current_assets_holdings(assets_current_day, current_holdings)\n",
    "df_today_holdings = FinInvestmentsGet.get_total_holdings(assets_global_current_day)"
   ]
  },
  {
   "cell_type": "markdown",
   "id": "90a46858",
   "metadata": {},
   "source": [
    "### Current Day NW"
   ]
  },
  {
   "cell_type": "code",
   "execution_count": 18,
   "id": "0dc89b3a",
   "metadata": {},
   "outputs": [],
   "source": [
    "nw_global = FinCalc.calc_global_nw(row_today_cashflow, df_today_holdings, df_m_cashflow, df_year_holdings)"
   ]
  },
  {
   "cell_type": "code",
   "execution_count": 21,
   "id": "2764f5cf",
   "metadata": {},
   "outputs": [
    {
     "data": {
      "text/html": [
       "<div>\n",
       "<style scoped>\n",
       "    .dataframe tbody tr th:only-of-type {\n",
       "        vertical-align: middle;\n",
       "    }\n",
       "\n",
       "    .dataframe tbody tr th {\n",
       "        vertical-align: top;\n",
       "    }\n",
       "\n",
       "    .dataframe thead th {\n",
       "        text-align: right;\n",
       "    }\n",
       "</style>\n",
       "<table border=\"1\" class=\"dataframe\">\n",
       "  <thead>\n",
       "    <tr style=\"text-align: right;\">\n",
       "      <th></th>\n",
       "      <th>2024-12-31</th>\n",
       "      <th>2025-01-31</th>\n",
       "      <th>2025-02-28</th>\n",
       "      <th>2025-03-31</th>\n",
       "      <th>2025-04-30</th>\n",
       "      <th>2025-05-31</th>\n",
       "      <th>2025-06-04</th>\n",
       "    </tr>\n",
       "  </thead>\n",
       "  <tbody>\n",
       "    <tr>\n",
       "      <th>liquidity</th>\n",
       "      <td>14,711.19</td>\n",
       "      <td>16,316.17</td>\n",
       "      <td>17,355.17</td>\n",
       "      <td>18,204.84</td>\n",
       "      <td>19,300.95</td>\n",
       "      <td>20,130.07</td>\n",
       "      <td>21,613.30</td>\n",
       "    </tr>\n",
       "    <tr>\n",
       "      <th>investments</th>\n",
       "      <td>1,034.37</td>\n",
       "      <td>1,258.29</td>\n",
       "      <td>906.08</td>\n",
       "      <td>1,058.19</td>\n",
       "      <td>1,349.42</td>\n",
       "      <td>1,689.61</td>\n",
       "      <td>1,821.46</td>\n",
       "    </tr>\n",
       "    <tr>\n",
       "      <th>networth</th>\n",
       "      <td>15,745.56</td>\n",
       "      <td>17,574.46</td>\n",
       "      <td>18,261.25</td>\n",
       "      <td>19,263.03</td>\n",
       "      <td>20,650.37</td>\n",
       "      <td>21,819.68</td>\n",
       "      <td>23,434.76</td>\n",
       "    </tr>\n",
       "    <tr>\n",
       "      <th>nwch</th>\n",
       "      <td>NaN</td>\n",
       "      <td>1,828.90</td>\n",
       "      <td>686.79</td>\n",
       "      <td>1,001.79</td>\n",
       "      <td>1,387.33</td>\n",
       "      <td>1,169.31</td>\n",
       "      <td>1,615.08</td>\n",
       "    </tr>\n",
       "    <tr>\n",
       "      <th>ch%</th>\n",
       "      <td>NaN</td>\n",
       "      <td>0.10</td>\n",
       "      <td>0.04</td>\n",
       "      <td>0.05</td>\n",
       "      <td>0.07</td>\n",
       "      <td>0.05</td>\n",
       "      <td>0.07</td>\n",
       "    </tr>\n",
       "  </tbody>\n",
       "</table>\n",
       "</div>"
      ],
      "text/plain": [
       "             2024-12-31  2025-01-31  2025-02-28  2025-03-31  2025-04-30  \\\n",
       "liquidity     14,711.19   16,316.17   17,355.17   18,204.84   19,300.95   \n",
       "investments    1,034.37    1,258.29      906.08    1,058.19    1,349.42   \n",
       "networth      15,745.56   17,574.46   18,261.25   19,263.03   20,650.37   \n",
       "nwch                NaN    1,828.90      686.79    1,001.79    1,387.33   \n",
       "ch%                 NaN        0.10        0.04        0.05        0.07   \n",
       "\n",
       "             2025-05-31  2025-06-04  \n",
       "liquidity     20,130.07   21,613.30  \n",
       "investments    1,689.61    1,821.46  \n",
       "networth      21,819.68   23,434.76  \n",
       "nwch           1,169.31    1,615.08  \n",
       "ch%                0.05        0.07  "
      ]
     },
     "execution_count": 21,
     "metadata": {},
     "output_type": "execute_result"
    }
   ],
   "source": [
    "nw_global.T"
   ]
  },
  {
   "cell_type": "code",
   "execution_count": 19,
   "id": "ebdb2c2b",
   "metadata": {},
   "outputs": [
    {
     "data": {
      "text/plain": [
       "liquidity     21,613.30\n",
       "investments    1,821.46\n",
       "networth      23,434.76\n",
       "nwch           1,615.08\n",
       "ch%                0.07\n",
       "Name: 2025-06-04 00:00:00, dtype: float64"
      ]
     },
     "execution_count": 19,
     "metadata": {},
     "output_type": "execute_result"
    }
   ],
   "source": [
    "nw_global.iloc[-1].T"
   ]
  },
  {
   "cell_type": "code",
   "execution_count": 20,
   "id": "f4f9254a",
   "metadata": {},
   "outputs": [
    {
     "data": {
      "text/html": [
       "<div>\n",
       "<style scoped>\n",
       "    .dataframe tbody tr th:only-of-type {\n",
       "        vertical-align: middle;\n",
       "    }\n",
       "\n",
       "    .dataframe tbody tr th {\n",
       "        vertical-align: top;\n",
       "    }\n",
       "\n",
       "    .dataframe thead th {\n",
       "        text-align: right;\n",
       "    }\n",
       "</style>\n",
       "<table border=\"1\" class=\"dataframe\">\n",
       "  <thead>\n",
       "    <tr style=\"text-align: right;\">\n",
       "      <th></th>\n",
       "      <th>SOL</th>\n",
       "      <th>ETH</th>\n",
       "      <th>USDT</th>\n",
       "      <th>IE00BK5BQT80</th>\n",
       "      <th>JE00B1VS3770</th>\n",
       "      <th>Total</th>\n",
       "    </tr>\n",
       "  </thead>\n",
       "  <tbody>\n",
       "    <tr>\n",
       "      <th>2025-06-04</th>\n",
       "      <td>689.62</td>\n",
       "      <td>0.00</td>\n",
       "      <td>95.04</td>\n",
       "      <td>1,036.80</td>\n",
       "      <td>0.00</td>\n",
       "      <td>1,821.46</td>\n",
       "    </tr>\n",
       "  </tbody>\n",
       "</table>\n",
       "</div>"
      ],
      "text/plain": [
       "              SOL  ETH  USDT  IE00BK5BQT80  JE00B1VS3770    Total\n",
       "2025-06-04 689.62 0.00 95.04      1,036.80          0.00 1,821.46"
      ]
     },
     "execution_count": 20,
     "metadata": {},
     "output_type": "execute_result"
    }
   ],
   "source": [
    "df_today_holdings"
   ]
  },
  {
   "cell_type": "code",
   "execution_count": null,
   "id": "4e0a98b8",
   "metadata": {},
   "outputs": [],
   "source": []
  }
 ],
 "metadata": {
  "kernelspec": {
   "display_name": "base",
   "language": "python",
   "name": "python3"
  },
  "language_info": {
   "codemirror_mode": {
    "name": "ipython",
    "version": 3
   },
   "file_extension": ".py",
   "mimetype": "text/x-python",
   "name": "python",
   "nbconvert_exporter": "python",
   "pygments_lexer": "ipython3",
   "version": "3.13.2"
  }
 },
 "nbformat": 4,
 "nbformat_minor": 5
}
