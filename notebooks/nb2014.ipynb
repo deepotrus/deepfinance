{
 "cells": [
  {
   "cell_type": "code",
   "execution_count": 1,
   "id": "afa0defe-cafa-4ed2-809b-13624b5942a9",
   "metadata": {},
   "outputs": [],
   "source": [
    "import pandas as pd"
   ]
  },
  {
   "cell_type": "markdown",
   "id": "8041d569-9c07-43e8-a41b-3e66c08fe859",
   "metadata": {},
   "source": [
    "### Initial Holdings 2024"
   ]
  },
  {
   "cell_type": "code",
   "execution_count": 4,
   "id": "634ac0f5",
   "metadata": {},
   "outputs": [],
   "source": [
    "data_path = \"../../tmp/data_new\""
   ]
  },
  {
   "cell_type": "code",
   "execution_count": 5,
   "id": "0de3fb8a-904e-4030-81f7-1ea57b087c4f",
   "metadata": {},
   "outputs": [],
   "source": [
    "year = 2024\n",
    "import json\n",
    "with open(f\"{data_path}/{year}/{year}_init.json\") as file:\n",
    "    data = file.read()\n",
    "init_holdings = json.loads(data)"
   ]
  },
  {
   "cell_type": "code",
   "execution_count": 6,
   "id": "53dcc4b0-8b59-4265-bf19-2aaccb0b73f8",
   "metadata": {},
   "outputs": [
    {
     "data": {
      "text/plain": [
       "{'liquidity': {'Hype - EUR': 6, 'Revolut - EUR': 16.74, 'Money - EUR': 14.13},\n",
       " 'Cryptocurrencies': {'SOL': 4.8604, 'ETH': 0.0122, 'USDT': 0}}"
      ]
     },
     "execution_count": 6,
     "metadata": {},
     "output_type": "execute_result"
    }
   ],
   "source": [
    "init_holdings"
   ]
  },
  {
   "cell_type": "markdown",
   "id": "c617cb5c-6f55-4c40-a8ba-83542265b66e",
   "metadata": {},
   "source": [
    "### Cashflow 2024"
   ]
  },
  {
   "cell_type": "code",
   "execution_count": 7,
   "id": "58d630e0-45e5-4d90-804a-e8cf1fa9f01c",
   "metadata": {},
   "outputs": [],
   "source": [
    "path = f\"{data_path}/{year}/cashflow\""
   ]
  },
  {
   "cell_type": "code",
   "execution_count": 8,
   "id": "2f7405df-3ee0-4513-aafb-142bf4f93990",
   "metadata": {},
   "outputs": [],
   "source": [
    "dfl = list()\n",
    "for i in range(1,13):\n",
    "    try:\n",
    "        df = pd.read_csv(f\"{path}/{year}-{i:0=2}_cashflow.csv\", skipinitialspace=True, na_filter=False)\n",
    "    except:\n",
    "        continue\n",
    "    df.columns = df.columns.str.strip() # remove whitespaces from columns\n",
    "    df.Category = df.Category.str.strip()\n",
    "    df.Subcategory = df.Subcategory.str.strip()\n",
    "    df.Type = df.Type.str.strip()\n",
    "    df.Coin = df.Coin.str.strip()\n",
    "    dfl.append(df)"
   ]
  },
  {
   "cell_type": "code",
   "execution_count": 9,
   "id": "1e8ffaf4-362d-482f-823d-4f1c452bd291",
   "metadata": {},
   "outputs": [],
   "source": [
    "df_year_cashflow = pd.concat(dfl)"
   ]
  },
  {
   "cell_type": "code",
   "execution_count": 10,
   "id": "365535c2-c380-4007-86b9-7def6b273ac4",
   "metadata": {},
   "outputs": [],
   "source": [
    "df_year_cashflow['dates'] = pd.to_datetime(df_year_cashflow['Date'])"
   ]
  },
  {
   "cell_type": "code",
   "execution_count": 11,
   "id": "541b2d2d-180d-4175-8e74-4346d2ac22e8",
   "metadata": {},
   "outputs": [],
   "source": [
    "incomes = df_year_cashflow.loc[(df_year_cashflow[\"Category\"] != \"Transfer\") & (df_year_cashflow[\"Qty\"] > 0)]\n",
    "liabilities = df_year_cashflow.loc[(df_year_cashflow[\"Category\"] != \"Transfer\") & (df_year_cashflow[\"Qty\"] <= 0)]"
   ]
  },
  {
   "cell_type": "code",
   "execution_count": 12,
   "id": "3e53f15e-44d0-47d5-a498-cf4fae13ec60",
   "metadata": {},
   "outputs": [],
   "source": [
    "m_incomes = incomes.resample(rule='ME', on='dates')['Qty'].sum()\n",
    "m_liab = liabilities.resample(rule='ME', on='dates')['Qty'].sum()\n",
    "m_savings = incomes.resample(rule='ME', on='dates')['Qty'].sum() + liabilities.resample(rule='ME', on='dates')['Qty'].sum()\n",
    "m_savingrate = df_year_cashflow.resample(rule='ME', on='dates')['Qty'].sum() / incomes.resample(rule='ME', on='dates')['Qty'].sum()"
   ]
  },
  {
   "cell_type": "code",
   "execution_count": 13,
   "id": "51eeeaf1-c43d-4b19-b84f-d011bbc4e298",
   "metadata": {},
   "outputs": [
    {
     "data": {
      "text/plain": [
       "dates\n",
       "2024-01-31   -1069.210\n",
       "2024-02-29    -878.360\n",
       "2024-03-31    -359.750\n",
       "2024-04-30    -936.960\n",
       "2024-05-31    -614.410\n",
       "2024-06-30    -842.750\n",
       "2024-07-31    -386.740\n",
       "2024-08-31    -389.540\n",
       "2024-09-30    -620.999\n",
       "2024-10-31    -569.470\n",
       "2024-11-30    -544.630\n",
       "2024-12-31    -478.200\n",
       "Freq: ME, Name: Qty, dtype: float64"
      ]
     },
     "execution_count": 13,
     "metadata": {},
     "output_type": "execute_result"
    }
   ],
   "source": [
    "m_liab"
   ]
  },
  {
   "cell_type": "code",
   "execution_count": 14,
   "id": "18e1d4b2-60d4-492b-a3ff-3f0dabb727bb",
   "metadata": {},
   "outputs": [],
   "source": [
    "zipped = zip(\n",
    "    m_incomes.index,\n",
    "    m_incomes.values,\n",
    "    m_liab.values,\n",
    "    m_savings.values,\n",
    "    m_savingrate.values,\n",
    ")"
   ]
  },
  {
   "cell_type": "code",
   "execution_count": 15,
   "id": "32a75bcd-2131-4b7a-a06b-0f5399ff1e82",
   "metadata": {},
   "outputs": [],
   "source": [
    "df_m_cashflow = pd.DataFrame(zipped,columns=[\"dates\",\"incomes\",\"liabilities\",\"savings\",\"saving_rate\"])"
   ]
  },
  {
   "cell_type": "code",
   "execution_count": 16,
   "id": "a0730340-ca39-44d1-9fe7-4a50f71879fb",
   "metadata": {},
   "outputs": [],
   "source": [
    "pd.options.display.float_format = \"{:,.2f}\".format"
   ]
  },
  {
   "cell_type": "code",
   "execution_count": 17,
   "id": "20ca50f3-b948-4689-ad17-9fd6cba6af2f",
   "metadata": {},
   "outputs": [
    {
     "data": {
      "text/html": [
       "<div>\n",
       "<style scoped>\n",
       "    .dataframe tbody tr th:only-of-type {\n",
       "        vertical-align: middle;\n",
       "    }\n",
       "\n",
       "    .dataframe tbody tr th {\n",
       "        vertical-align: top;\n",
       "    }\n",
       "\n",
       "    .dataframe thead th {\n",
       "        text-align: right;\n",
       "    }\n",
       "</style>\n",
       "<table border=\"1\" class=\"dataframe\">\n",
       "  <thead>\n",
       "    <tr style=\"text-align: right;\">\n",
       "      <th>dates</th>\n",
       "      <th>2024-01-31</th>\n",
       "      <th>2024-02-29</th>\n",
       "      <th>2024-03-31</th>\n",
       "      <th>2024-04-30</th>\n",
       "      <th>2024-05-31</th>\n",
       "      <th>2024-06-30</th>\n",
       "      <th>2024-07-31</th>\n",
       "      <th>2024-08-31</th>\n",
       "      <th>2024-09-30</th>\n",
       "      <th>2024-10-31</th>\n",
       "      <th>2024-11-30</th>\n",
       "      <th>2024-12-31</th>\n",
       "    </tr>\n",
       "  </thead>\n",
       "  <tbody>\n",
       "    <tr>\n",
       "      <th>incomes</th>\n",
       "      <td>2,031.00</td>\n",
       "      <td>1,642.00</td>\n",
       "      <td>1,630.00</td>\n",
       "      <td>1,642.00</td>\n",
       "      <td>1,682.00</td>\n",
       "      <td>1,688.00</td>\n",
       "      <td>2,534.34</td>\n",
       "      <td>1,694.00</td>\n",
       "      <td>1,694.00</td>\n",
       "      <td>1,778.00</td>\n",
       "      <td>1,693.00</td>\n",
       "      <td>2,757.00</td>\n",
       "    </tr>\n",
       "    <tr>\n",
       "      <th>liabilities</th>\n",
       "      <td>-1,069.21</td>\n",
       "      <td>-878.36</td>\n",
       "      <td>-359.75</td>\n",
       "      <td>-936.96</td>\n",
       "      <td>-614.41</td>\n",
       "      <td>-842.75</td>\n",
       "      <td>-386.74</td>\n",
       "      <td>-389.54</td>\n",
       "      <td>-621.00</td>\n",
       "      <td>-569.47</td>\n",
       "      <td>-544.63</td>\n",
       "      <td>-478.20</td>\n",
       "    </tr>\n",
       "    <tr>\n",
       "      <th>savings</th>\n",
       "      <td>961.79</td>\n",
       "      <td>763.64</td>\n",
       "      <td>1,270.25</td>\n",
       "      <td>705.04</td>\n",
       "      <td>1,067.59</td>\n",
       "      <td>845.25</td>\n",
       "      <td>2,147.60</td>\n",
       "      <td>1,304.46</td>\n",
       "      <td>1,073.00</td>\n",
       "      <td>1,208.53</td>\n",
       "      <td>1,148.37</td>\n",
       "      <td>2,278.80</td>\n",
       "    </tr>\n",
       "    <tr>\n",
       "      <th>saving_rate</th>\n",
       "      <td>0.47</td>\n",
       "      <td>0.47</td>\n",
       "      <td>0.78</td>\n",
       "      <td>0.43</td>\n",
       "      <td>0.63</td>\n",
       "      <td>0.50</td>\n",
       "      <td>0.85</td>\n",
       "      <td>0.71</td>\n",
       "      <td>0.63</td>\n",
       "      <td>0.68</td>\n",
       "      <td>0.68</td>\n",
       "      <td>0.83</td>\n",
       "    </tr>\n",
       "  </tbody>\n",
       "</table>\n",
       "</div>"
      ],
      "text/plain": [
       "dates        2024-01-31  2024-02-29  2024-03-31  2024-04-30  2024-05-31  \\\n",
       "incomes        2,031.00    1,642.00    1,630.00    1,642.00    1,682.00   \n",
       "liabilities   -1,069.21     -878.36     -359.75     -936.96     -614.41   \n",
       "savings          961.79      763.64    1,270.25      705.04    1,067.59   \n",
       "saving_rate        0.47        0.47        0.78        0.43        0.63   \n",
       "\n",
       "dates        2024-06-30  2024-07-31  2024-08-31  2024-09-30  2024-10-31  \\\n",
       "incomes        1,688.00    2,534.34    1,694.00    1,694.00    1,778.00   \n",
       "liabilities     -842.75     -386.74     -389.54     -621.00     -569.47   \n",
       "savings          845.25    2,147.60    1,304.46    1,073.00    1,208.53   \n",
       "saving_rate        0.50        0.85        0.71        0.63        0.68   \n",
       "\n",
       "dates        2024-11-30  2024-12-31  \n",
       "incomes        1,693.00    2,757.00  \n",
       "liabilities     -544.63     -478.20  \n",
       "savings        1,148.37    2,278.80  \n",
       "saving_rate        0.68        0.83  "
      ]
     },
     "execution_count": 17,
     "metadata": {},
     "output_type": "execute_result"
    }
   ],
   "source": [
    "df_m_cashflow.set_index(\"dates\").T"
   ]
  },
  {
   "cell_type": "code",
   "execution_count": 18,
   "id": "18b5fb02-0b6c-4dfc-ade1-096ca52835e1",
   "metadata": {},
   "outputs": [],
   "source": [
    "# Liquidity in Hype, Revolut\n",
    "current_balance_revolut = round(df_year_cashflow.loc[df_year_cashflow[\"Type\"] == \"Revolut\"]['Qty'].sum(),2) + init_holdings['liquidity']['Revolut - EUR']\n",
    "current_balance_hype    = round(df_year_cashflow.loc[df_year_cashflow[\"Type\"] == \"Hype\"]['Qty'].sum(),2) + init_holdings['liquidity']['Hype - EUR']\n",
    "current_balance_cash    = round(df_year_cashflow.loc[df_year_cashflow[\"Type\"] == \"Cash\"]['Qty'].sum(),2) + init_holdings['liquidity']['Money - EUR']\n",
    "current_balance_bitget  = round(df_year_cashflow.loc[df_year_cashflow[\"Type\"] == \"Bitget\"]['Qty'].sum(),2)"
   ]
  },
  {
   "cell_type": "code",
   "execution_count": 19,
   "id": "c85c2a1d-4732-4524-9eb8-e04b9c7497ea",
   "metadata": {},
   "outputs": [
    {
     "name": "stdout",
     "output_type": "stream",
     "text": [
      "Current LIQUIDITY\n",
      "Revolut: 28.61\n",
      "Hype: 14382.58\n",
      "Cash: 300.0\n",
      "Bitget Fiat: 0.0\n"
     ]
    }
   ],
   "source": [
    "print(\"Current LIQUIDITY\")\n",
    "print(f\"Revolut: {current_balance_revolut}\")\n",
    "print(f\"Hype: {current_balance_hype}\")\n",
    "print(f\"Cash: {current_balance_cash}\")\n",
    "print(f\"Bitget Fiat: {current_balance_bitget}\")"
   ]
  },
  {
   "cell_type": "markdown",
   "id": "4eec52e6-1ad7-4c65-b717-fb30d105a371",
   "metadata": {},
   "source": [
    "### Detail Expenses January 2025"
   ]
  },
  {
   "cell_type": "code",
   "execution_count": 20,
   "id": "25f3679e-d503-4621-812a-4f006ef76dae",
   "metadata": {},
   "outputs": [],
   "source": [
    "import plotly.express as px\n",
    "import plotly.graph_objects as go\n",
    "def extract_hist_expenses(df):\n",
    "    df_expenses = df.loc[ ((df[\"Category\"] != \"Transfer\") & (df[\"Qty\"] < 0)) ]\n",
    "    expenses = df_expenses['Qty'].abs().values\n",
    "    df_expenses = df_expenses.assign(Expenses = expenses) # Creates new columns \"Expenses\"\n",
    "    \n",
    "    return df_expenses\n",
    "\n",
    "def plot_hist_expenses(df_expenses, plot_categories = False):\n",
    "    pxfig = px.sunburst(df_expenses, path=['Category', 'Subcategory'], values='Expenses')\n",
    "    \n",
    "    labels = pxfig['data'][0]['labels'].tolist()\n",
    "    parents = pxfig['data'][0]['parents'].tolist()\n",
    "    ids = pxfig['data'][0]['ids'].tolist()\n",
    "    if plot_categories:\n",
    "        values = None\n",
    "    else:\n",
    "        values = pxfig['data'][0]['values'].tolist()\n",
    "\n",
    "    \n",
    "    fig = go.Figure(\n",
    "        go.Sunburst(\n",
    "            labels = labels,\n",
    "            parents = parents,\n",
    "            values = values,\n",
    "            ids = ids,\n",
    "            branchvalues = \"total\",\n",
    "        )\n",
    "    )\n",
    "    fig.update_layout(\n",
    "        title = dict(text=\"Expenses\", x=0.5, y=0.95),\n",
    "        margin = dict(t=60, l=10, r=10, b=10),\n",
    "        height = 500, width = 500\n",
    "    )\n",
    "    return fig"
   ]
  },
  {
   "cell_type": "code",
   "execution_count": 21,
   "id": "2b4e8e8d-47cb-4b0c-aaa1-ba9de8127d81",
   "metadata": {},
   "outputs": [
    {
     "data": {
      "application/vnd.plotly.v1+json": {
       "config": {
        "plotlyServerURL": "https://plot.ly"
       },
       "data": [
        {
         "branchvalues": "total",
         "ids": [
          "Shop/Accessories",
          "Subs/Bank",
          "Shop/Books",
          "Other/Courses",
          "Groceries/Diet",
          "Leisure/Disco",
          "Leisure/Drink",
          "Transport/Gasoline",
          "Family/Groceries",
          "Health/Hygiene",
          "Leisure/Restaurant",
          "Subs/SIM",
          "Transport/Train",
          "Subs/VPS",
          "Family",
          "Groceries",
          "Health",
          "Leisure",
          "Other",
          "Shop",
          "Subs",
          "Transport"
         ],
         "labels": [
          "Accessories",
          "Bank",
          "Books",
          "Courses",
          "Diet",
          "Disco",
          "Drink",
          "Gasoline",
          "Groceries",
          "Hygiene",
          "Restaurant",
          "SIM",
          "Train",
          "VPS",
          "Family",
          "Groceries",
          "Health",
          "Leisure",
          "Other",
          "Shop",
          "Subs",
          "Transport"
         ],
         "parents": [
          "Shop",
          "Subs",
          "Shop",
          "Other",
          "Groceries",
          "Leisure",
          "Leisure",
          "Transport",
          "Family",
          "Health",
          "Leisure",
          "Subs",
          "Transport",
          "Subs",
          "",
          "",
          "",
          "",
          "",
          "",
          "",
          ""
         ],
         "type": "sunburst",
         "values": [
          141.08,
          1,
          43.269999999999996,
          121.67,
          344.25,
          39.2,
          2,
          50,
          14.16,
          10,
          59.7,
          20,
          21.6,
          10.43,
          14.16,
          344.25,
          10,
          100.9,
          121.67,
          184.35,
          31.43,
          71.6
         ]
        }
       ],
       "layout": {
        "height": 500,
        "margin": {
         "b": 10,
         "l": 10,
         "r": 10,
         "t": 60
        },
        "template": {
         "data": {
          "bar": [
           {
            "error_x": {
             "color": "#2a3f5f"
            },
            "error_y": {
             "color": "#2a3f5f"
            },
            "marker": {
             "line": {
              "color": "#E5ECF6",
              "width": 0.5
             },
             "pattern": {
              "fillmode": "overlay",
              "size": 10,
              "solidity": 0.2
             }
            },
            "type": "bar"
           }
          ],
          "barpolar": [
           {
            "marker": {
             "line": {
              "color": "#E5ECF6",
              "width": 0.5
             },
             "pattern": {
              "fillmode": "overlay",
              "size": 10,
              "solidity": 0.2
             }
            },
            "type": "barpolar"
           }
          ],
          "carpet": [
           {
            "aaxis": {
             "endlinecolor": "#2a3f5f",
             "gridcolor": "white",
             "linecolor": "white",
             "minorgridcolor": "white",
             "startlinecolor": "#2a3f5f"
            },
            "baxis": {
             "endlinecolor": "#2a3f5f",
             "gridcolor": "white",
             "linecolor": "white",
             "minorgridcolor": "white",
             "startlinecolor": "#2a3f5f"
            },
            "type": "carpet"
           }
          ],
          "choropleth": [
           {
            "colorbar": {
             "outlinewidth": 0,
             "ticks": ""
            },
            "type": "choropleth"
           }
          ],
          "contour": [
           {
            "colorbar": {
             "outlinewidth": 0,
             "ticks": ""
            },
            "colorscale": [
             [
              0,
              "#0d0887"
             ],
             [
              0.1111111111111111,
              "#46039f"
             ],
             [
              0.2222222222222222,
              "#7201a8"
             ],
             [
              0.3333333333333333,
              "#9c179e"
             ],
             [
              0.4444444444444444,
              "#bd3786"
             ],
             [
              0.5555555555555556,
              "#d8576b"
             ],
             [
              0.6666666666666666,
              "#ed7953"
             ],
             [
              0.7777777777777778,
              "#fb9f3a"
             ],
             [
              0.8888888888888888,
              "#fdca26"
             ],
             [
              1,
              "#f0f921"
             ]
            ],
            "type": "contour"
           }
          ],
          "contourcarpet": [
           {
            "colorbar": {
             "outlinewidth": 0,
             "ticks": ""
            },
            "type": "contourcarpet"
           }
          ],
          "heatmap": [
           {
            "colorbar": {
             "outlinewidth": 0,
             "ticks": ""
            },
            "colorscale": [
             [
              0,
              "#0d0887"
             ],
             [
              0.1111111111111111,
              "#46039f"
             ],
             [
              0.2222222222222222,
              "#7201a8"
             ],
             [
              0.3333333333333333,
              "#9c179e"
             ],
             [
              0.4444444444444444,
              "#bd3786"
             ],
             [
              0.5555555555555556,
              "#d8576b"
             ],
             [
              0.6666666666666666,
              "#ed7953"
             ],
             [
              0.7777777777777778,
              "#fb9f3a"
             ],
             [
              0.8888888888888888,
              "#fdca26"
             ],
             [
              1,
              "#f0f921"
             ]
            ],
            "type": "heatmap"
           }
          ],
          "heatmapgl": [
           {
            "colorbar": {
             "outlinewidth": 0,
             "ticks": ""
            },
            "colorscale": [
             [
              0,
              "#0d0887"
             ],
             [
              0.1111111111111111,
              "#46039f"
             ],
             [
              0.2222222222222222,
              "#7201a8"
             ],
             [
              0.3333333333333333,
              "#9c179e"
             ],
             [
              0.4444444444444444,
              "#bd3786"
             ],
             [
              0.5555555555555556,
              "#d8576b"
             ],
             [
              0.6666666666666666,
              "#ed7953"
             ],
             [
              0.7777777777777778,
              "#fb9f3a"
             ],
             [
              0.8888888888888888,
              "#fdca26"
             ],
             [
              1,
              "#f0f921"
             ]
            ],
            "type": "heatmapgl"
           }
          ],
          "histogram": [
           {
            "marker": {
             "pattern": {
              "fillmode": "overlay",
              "size": 10,
              "solidity": 0.2
             }
            },
            "type": "histogram"
           }
          ],
          "histogram2d": [
           {
            "colorbar": {
             "outlinewidth": 0,
             "ticks": ""
            },
            "colorscale": [
             [
              0,
              "#0d0887"
             ],
             [
              0.1111111111111111,
              "#46039f"
             ],
             [
              0.2222222222222222,
              "#7201a8"
             ],
             [
              0.3333333333333333,
              "#9c179e"
             ],
             [
              0.4444444444444444,
              "#bd3786"
             ],
             [
              0.5555555555555556,
              "#d8576b"
             ],
             [
              0.6666666666666666,
              "#ed7953"
             ],
             [
              0.7777777777777778,
              "#fb9f3a"
             ],
             [
              0.8888888888888888,
              "#fdca26"
             ],
             [
              1,
              "#f0f921"
             ]
            ],
            "type": "histogram2d"
           }
          ],
          "histogram2dcontour": [
           {
            "colorbar": {
             "outlinewidth": 0,
             "ticks": ""
            },
            "colorscale": [
             [
              0,
              "#0d0887"
             ],
             [
              0.1111111111111111,
              "#46039f"
             ],
             [
              0.2222222222222222,
              "#7201a8"
             ],
             [
              0.3333333333333333,
              "#9c179e"
             ],
             [
              0.4444444444444444,
              "#bd3786"
             ],
             [
              0.5555555555555556,
              "#d8576b"
             ],
             [
              0.6666666666666666,
              "#ed7953"
             ],
             [
              0.7777777777777778,
              "#fb9f3a"
             ],
             [
              0.8888888888888888,
              "#fdca26"
             ],
             [
              1,
              "#f0f921"
             ]
            ],
            "type": "histogram2dcontour"
           }
          ],
          "mesh3d": [
           {
            "colorbar": {
             "outlinewidth": 0,
             "ticks": ""
            },
            "type": "mesh3d"
           }
          ],
          "parcoords": [
           {
            "line": {
             "colorbar": {
              "outlinewidth": 0,
              "ticks": ""
             }
            },
            "type": "parcoords"
           }
          ],
          "pie": [
           {
            "automargin": true,
            "type": "pie"
           }
          ],
          "scatter": [
           {
            "fillpattern": {
             "fillmode": "overlay",
             "size": 10,
             "solidity": 0.2
            },
            "type": "scatter"
           }
          ],
          "scatter3d": [
           {
            "line": {
             "colorbar": {
              "outlinewidth": 0,
              "ticks": ""
             }
            },
            "marker": {
             "colorbar": {
              "outlinewidth": 0,
              "ticks": ""
             }
            },
            "type": "scatter3d"
           }
          ],
          "scattercarpet": [
           {
            "marker": {
             "colorbar": {
              "outlinewidth": 0,
              "ticks": ""
             }
            },
            "type": "scattercarpet"
           }
          ],
          "scattergeo": [
           {
            "marker": {
             "colorbar": {
              "outlinewidth": 0,
              "ticks": ""
             }
            },
            "type": "scattergeo"
           }
          ],
          "scattergl": [
           {
            "marker": {
             "colorbar": {
              "outlinewidth": 0,
              "ticks": ""
             }
            },
            "type": "scattergl"
           }
          ],
          "scattermapbox": [
           {
            "marker": {
             "colorbar": {
              "outlinewidth": 0,
              "ticks": ""
             }
            },
            "type": "scattermapbox"
           }
          ],
          "scatterpolar": [
           {
            "marker": {
             "colorbar": {
              "outlinewidth": 0,
              "ticks": ""
             }
            },
            "type": "scatterpolar"
           }
          ],
          "scatterpolargl": [
           {
            "marker": {
             "colorbar": {
              "outlinewidth": 0,
              "ticks": ""
             }
            },
            "type": "scatterpolargl"
           }
          ],
          "scatterternary": [
           {
            "marker": {
             "colorbar": {
              "outlinewidth": 0,
              "ticks": ""
             }
            },
            "type": "scatterternary"
           }
          ],
          "surface": [
           {
            "colorbar": {
             "outlinewidth": 0,
             "ticks": ""
            },
            "colorscale": [
             [
              0,
              "#0d0887"
             ],
             [
              0.1111111111111111,
              "#46039f"
             ],
             [
              0.2222222222222222,
              "#7201a8"
             ],
             [
              0.3333333333333333,
              "#9c179e"
             ],
             [
              0.4444444444444444,
              "#bd3786"
             ],
             [
              0.5555555555555556,
              "#d8576b"
             ],
             [
              0.6666666666666666,
              "#ed7953"
             ],
             [
              0.7777777777777778,
              "#fb9f3a"
             ],
             [
              0.8888888888888888,
              "#fdca26"
             ],
             [
              1,
              "#f0f921"
             ]
            ],
            "type": "surface"
           }
          ],
          "table": [
           {
            "cells": {
             "fill": {
              "color": "#EBF0F8"
             },
             "line": {
              "color": "white"
             }
            },
            "header": {
             "fill": {
              "color": "#C8D4E3"
             },
             "line": {
              "color": "white"
             }
            },
            "type": "table"
           }
          ]
         },
         "layout": {
          "annotationdefaults": {
           "arrowcolor": "#2a3f5f",
           "arrowhead": 0,
           "arrowwidth": 1
          },
          "autotypenumbers": "strict",
          "coloraxis": {
           "colorbar": {
            "outlinewidth": 0,
            "ticks": ""
           }
          },
          "colorscale": {
           "diverging": [
            [
             0,
             "#8e0152"
            ],
            [
             0.1,
             "#c51b7d"
            ],
            [
             0.2,
             "#de77ae"
            ],
            [
             0.3,
             "#f1b6da"
            ],
            [
             0.4,
             "#fde0ef"
            ],
            [
             0.5,
             "#f7f7f7"
            ],
            [
             0.6,
             "#e6f5d0"
            ],
            [
             0.7,
             "#b8e186"
            ],
            [
             0.8,
             "#7fbc41"
            ],
            [
             0.9,
             "#4d9221"
            ],
            [
             1,
             "#276419"
            ]
           ],
           "sequential": [
            [
             0,
             "#0d0887"
            ],
            [
             0.1111111111111111,
             "#46039f"
            ],
            [
             0.2222222222222222,
             "#7201a8"
            ],
            [
             0.3333333333333333,
             "#9c179e"
            ],
            [
             0.4444444444444444,
             "#bd3786"
            ],
            [
             0.5555555555555556,
             "#d8576b"
            ],
            [
             0.6666666666666666,
             "#ed7953"
            ],
            [
             0.7777777777777778,
             "#fb9f3a"
            ],
            [
             0.8888888888888888,
             "#fdca26"
            ],
            [
             1,
             "#f0f921"
            ]
           ],
           "sequentialminus": [
            [
             0,
             "#0d0887"
            ],
            [
             0.1111111111111111,
             "#46039f"
            ],
            [
             0.2222222222222222,
             "#7201a8"
            ],
            [
             0.3333333333333333,
             "#9c179e"
            ],
            [
             0.4444444444444444,
             "#bd3786"
            ],
            [
             0.5555555555555556,
             "#d8576b"
            ],
            [
             0.6666666666666666,
             "#ed7953"
            ],
            [
             0.7777777777777778,
             "#fb9f3a"
            ],
            [
             0.8888888888888888,
             "#fdca26"
            ],
            [
             1,
             "#f0f921"
            ]
           ]
          },
          "colorway": [
           "#636efa",
           "#EF553B",
           "#00cc96",
           "#ab63fa",
           "#FFA15A",
           "#19d3f3",
           "#FF6692",
           "#B6E880",
           "#FF97FF",
           "#FECB52"
          ],
          "font": {
           "color": "#2a3f5f"
          },
          "geo": {
           "bgcolor": "white",
           "lakecolor": "white",
           "landcolor": "#E5ECF6",
           "showlakes": true,
           "showland": true,
           "subunitcolor": "white"
          },
          "hoverlabel": {
           "align": "left"
          },
          "hovermode": "closest",
          "mapbox": {
           "style": "light"
          },
          "paper_bgcolor": "white",
          "plot_bgcolor": "#E5ECF6",
          "polar": {
           "angularaxis": {
            "gridcolor": "white",
            "linecolor": "white",
            "ticks": ""
           },
           "bgcolor": "#E5ECF6",
           "radialaxis": {
            "gridcolor": "white",
            "linecolor": "white",
            "ticks": ""
           }
          },
          "scene": {
           "xaxis": {
            "backgroundcolor": "#E5ECF6",
            "gridcolor": "white",
            "gridwidth": 2,
            "linecolor": "white",
            "showbackground": true,
            "ticks": "",
            "zerolinecolor": "white"
           },
           "yaxis": {
            "backgroundcolor": "#E5ECF6",
            "gridcolor": "white",
            "gridwidth": 2,
            "linecolor": "white",
            "showbackground": true,
            "ticks": "",
            "zerolinecolor": "white"
           },
           "zaxis": {
            "backgroundcolor": "#E5ECF6",
            "gridcolor": "white",
            "gridwidth": 2,
            "linecolor": "white",
            "showbackground": true,
            "ticks": "",
            "zerolinecolor": "white"
           }
          },
          "shapedefaults": {
           "line": {
            "color": "#2a3f5f"
           }
          },
          "ternary": {
           "aaxis": {
            "gridcolor": "white",
            "linecolor": "white",
            "ticks": ""
           },
           "baxis": {
            "gridcolor": "white",
            "linecolor": "white",
            "ticks": ""
           },
           "bgcolor": "#E5ECF6",
           "caxis": {
            "gridcolor": "white",
            "linecolor": "white",
            "ticks": ""
           }
          },
          "title": {
           "x": 0.05
          },
          "xaxis": {
           "automargin": true,
           "gridcolor": "white",
           "linecolor": "white",
           "ticks": "",
           "title": {
            "standoff": 15
           },
           "zerolinecolor": "white",
           "zerolinewidth": 2
          },
          "yaxis": {
           "automargin": true,
           "gridcolor": "white",
           "linecolor": "white",
           "ticks": "",
           "title": {
            "standoff": 15
           },
           "zerolinecolor": "white",
           "zerolinewidth": 2
          }
         }
        },
        "title": {
         "text": "Expenses",
         "x": 0.5,
         "y": 0.95
        },
        "width": 500
       }
      }
     },
     "metadata": {},
     "output_type": "display_data"
    }
   ],
   "source": [
    "df_expenses = extract_hist_expenses(dfl[1])\n",
    "fig = plot_hist_expenses(df_expenses)\n",
    "#fig = PF_Plot.plot_hist_expenses(df_year_expenses, plot_categories = True)\n",
    "fig.show()"
   ]
  },
  {
   "cell_type": "markdown",
   "id": "90fde5e2-1389-4205-8c32-f5a433ee5cdc",
   "metadata": {},
   "source": [
    "### Investments 2024"
   ]
  },
  {
   "cell_type": "code",
   "execution_count": 22,
   "id": "7824cce0-0e00-4af3-ae9b-382948938879",
   "metadata": {},
   "outputs": [
    {
     "data": {
      "text/plain": [
       "{'liquidity': {'Hype - EUR': 6, 'Revolut - EUR': 16.74, 'Money - EUR': 14.13},\n",
       " 'Cryptocurrencies': {'SOL': 4.8604, 'ETH': 0.0122, 'USDT': 0}}"
      ]
     },
     "execution_count": 22,
     "metadata": {},
     "output_type": "execute_result"
    }
   ],
   "source": [
    "init_holdings"
   ]
  },
  {
   "cell_type": "code",
   "execution_count": 23,
   "id": "9b63f198-ccea-4f9f-9957-12616501dd0d",
   "metadata": {},
   "outputs": [
    {
     "name": "stderr",
     "output_type": "stream",
     "text": [
      "/tmp/ipykernel_12930/1847335848.py:14: FutureWarning:\n",
      "\n",
      "The behavior of DataFrame concatenation with empty or all-NA entries is deprecated. In a future version, this will no longer exclude empty or all-NA columns when determining the result dtypes. To retain the old behavior, exclude the relevant entries before the concat operation.\n",
      "\n"
     ]
    }
   ],
   "source": [
    "path = f\"{data_path}/{year}/investments\"\n",
    "dfinv_l = list()\n",
    "for i in range(1,13):\n",
    "    try:\n",
    "        df = pd.read_csv(f\"{path}/{year}-{i:0=2}_investments.csv\", skipinitialspace=True, na_filter=False)\n",
    "    except:\n",
    "        continue\n",
    "    df.columns = df.columns.str.strip() # remove whitespaces from columns\n",
    "    df.Category = df.Category.str.strip()\n",
    "    df.Subcategory = df.Subcategory.str.strip()\n",
    "    df.Type = df.Type.str.strip()\n",
    "    df.Symbol = df.Symbol.str.strip()\n",
    "    dfinv_l.append(df)\n",
    "df_year_investments = pd.concat(dfinv_l)\n",
    "df_year_investments['dates'] = pd.to_datetime(df_year_investments['Date'])\n",
    "df_year_investments.drop(inplace=True, columns=[\"Date\"])\n",
    "df_year_investments.set_index('dates',inplace=True)"
   ]
  },
  {
   "cell_type": "code",
   "execution_count": 24,
   "id": "6a10f56f-7dda-42c4-9e70-ae7b9b26445c",
   "metadata": {},
   "outputs": [
    {
     "data": {
      "text/html": [
       "<div>\n",
       "<style scoped>\n",
       "    .dataframe tbody tr th:only-of-type {\n",
       "        vertical-align: middle;\n",
       "    }\n",
       "\n",
       "    .dataframe tbody tr th {\n",
       "        vertical-align: top;\n",
       "    }\n",
       "\n",
       "    .dataframe thead th {\n",
       "        text-align: right;\n",
       "    }\n",
       "</style>\n",
       "<table border=\"1\" class=\"dataframe\">\n",
       "  <thead>\n",
       "    <tr style=\"text-align: right;\">\n",
       "      <th></th>\n",
       "      <th>Type</th>\n",
       "      <th>Symbol</th>\n",
       "      <th>Qty</th>\n",
       "      <th>Category</th>\n",
       "      <th>Subcategory</th>\n",
       "      <th>Description</th>\n",
       "    </tr>\n",
       "    <tr>\n",
       "      <th>dates</th>\n",
       "      <th></th>\n",
       "      <th></th>\n",
       "      <th></th>\n",
       "      <th></th>\n",
       "      <th></th>\n",
       "      <th></th>\n",
       "    </tr>\n",
       "  </thead>\n",
       "  <tbody>\n",
       "    <tr>\n",
       "      <th>2024-01-01</th>\n",
       "      <td>Cryptocurrencies</td>\n",
       "      <td>SOL</td>\n",
       "      <td>0.00</td>\n",
       "      <td>State</td>\n",
       "      <td>Holdings</td>\n",
       "      <td>Stating Cryptocurrencies exchange the incoming...</td>\n",
       "    </tr>\n",
       "    <tr>\n",
       "      <th>2024-01-01</th>\n",
       "      <td>Cryptocurrencies</td>\n",
       "      <td>ETH</td>\n",
       "      <td>0.00</td>\n",
       "      <td>State</td>\n",
       "      <td>Holdings</td>\n",
       "      <td>Stating Cryptocurrencies exchange the incoming...</td>\n",
       "    </tr>\n",
       "    <tr>\n",
       "      <th>2024-01-01</th>\n",
       "      <td>Cryptocurrencies</td>\n",
       "      <td>USDT</td>\n",
       "      <td>0.00</td>\n",
       "      <td>State</td>\n",
       "      <td>Holdings</td>\n",
       "      <td>Stating Cryptocurrencies exchange the incoming...</td>\n",
       "    </tr>\n",
       "    <tr>\n",
       "      <th>2024-08-13</th>\n",
       "      <td>Cryptocurrencies</td>\n",
       "      <td>USDT</td>\n",
       "      <td>108.24</td>\n",
       "      <td>Buy</td>\n",
       "      <td>Holdings</td>\n",
       "      <td>Bought 108 USDT for Futures account</td>\n",
       "    </tr>\n",
       "  </tbody>\n",
       "</table>\n",
       "</div>"
      ],
      "text/plain": [
       "                        Type Symbol    Qty Category Subcategory  \\\n",
       "dates                                                             \n",
       "2024-01-01  Cryptocurrencies    SOL   0.00    State    Holdings   \n",
       "2024-01-01  Cryptocurrencies    ETH   0.00    State    Holdings   \n",
       "2024-01-01  Cryptocurrencies   USDT   0.00    State    Holdings   \n",
       "2024-08-13  Cryptocurrencies   USDT 108.24      Buy    Holdings   \n",
       "\n",
       "                                                  Description  \n",
       "dates                                                          \n",
       "2024-01-01  Stating Cryptocurrencies exchange the incoming...  \n",
       "2024-01-01  Stating Cryptocurrencies exchange the incoming...  \n",
       "2024-01-01  Stating Cryptocurrencies exchange the incoming...  \n",
       "2024-08-13                Bought 108 USDT for Futures account  "
      ]
     },
     "execution_count": 24,
     "metadata": {},
     "output_type": "execute_result"
    }
   ],
   "source": [
    "df_year_investments"
   ]
  },
  {
   "cell_type": "code",
   "execution_count": 25,
   "id": "1097de1f-6c59-4f0a-9fb3-8d7392e1e3cf",
   "metadata": {},
   "outputs": [
    {
     "data": {
      "text/plain": [
       "['SOL', 'ETH', 'USDT']"
      ]
     },
     "execution_count": 25,
     "metadata": {},
     "output_type": "execute_result"
    }
   ],
   "source": [
    "symbols = list(df_year_investments.loc[df_year_investments[\"Type\"]==\"Cryptocurrencies\"][\"Symbol\"].unique())\n",
    "symbols"
   ]
  },
  {
   "cell_type": "code",
   "execution_count": 26,
   "id": "63c72d9f-eadd-4355-8600-df2708733448",
   "metadata": {},
   "outputs": [
    {
     "name": "stdout",
     "output_type": "stream",
     "text": [
      "dates\n",
      "2024-01-31   0.00\n",
      "Freq: ME, Name: Qty, dtype: float64\n",
      "dates\n",
      "2024-01-31   0.00\n",
      "Freq: ME, Name: Qty, dtype: float64\n",
      "dates\n",
      "2024-01-31     0.00\n",
      "2024-02-29     0.00\n",
      "2024-03-31     0.00\n",
      "2024-04-30     0.00\n",
      "2024-05-31     0.00\n",
      "2024-06-30     0.00\n",
      "2024-07-31     0.00\n",
      "2024-08-31   108.24\n",
      "Freq: ME, Name: Qty, dtype: float64\n"
     ]
    }
   ],
   "source": [
    "# BUILD THE DATAFRAME OF ASSET MOVEMENTS WITH FILL TILL END OF YEAR\n",
    "list_investments_asset_class = dict()\n",
    "for asset_class in [\"Cryptocurrencies\"]:\n",
    "    df_year_investments_per_asset = dict()\n",
    "    for symbol in symbols:\n",
    "        df_symbol_transactions = df_year_investments.loc[df_year_investments[\"Type\"] == asset_class].loc[df_year_investments['Symbol'] == symbol]\n",
    "        df_month_invest = df_symbol_transactions.resample(rule='ME')['Qty'].sum()\n",
    "        print(df_month_invest)\n",
    "\n",
    "        try:\n",
    "            fill_len = 12 - len(df_month_invest)\n",
    "            df_month_fill = pd.DataFrame(index = pd.date_range(f'{year}-{len(df_month_invest)+1:0=2}-01',f'{year}-12-31', freq='ME'), data = zip([0]*fill_len), columns=[\"Qty\"])\n",
    "            df_year_investments_per_asset[symbol] = pd.concat([df_month_invest, df_month_fill])\n",
    "        except:\n",
    "            df_year_investments_per_asset[symbol] = df_month_invest\n",
    "    \n",
    "    list_investments_asset_class[asset_class] = df_year_investments_per_asset"
   ]
  },
  {
   "cell_type": "code",
   "execution_count": 30,
   "id": "2cef5898-e86c-4f86-8a8d-d67322499a20",
   "metadata": {},
   "outputs": [],
   "source": [
    "def getSymbolHoldings(asset_class, asset_ticker, list_investments_asset_class, init_holdings, year):\n",
    "    init_and_cum_qty_permonth = list_investments_asset_class[asset_class][asset_ticker].values.cumsum() + init_holdings[asset_class][asset_ticker]\n",
    "    asset_history = pd.read_csv(f\"{data_path}/exchange/{asset_ticker}-EUR.csv\").set_index('Date')\n",
    "    asset_history[\"shift\"] = asset_history.shift(1)[\"Close €\"]\n",
    "    asset_history[\"Returns\"] = (asset_history[\"Close €\"] - asset_history[\"shift\"] )/ asset_history[\"Close €\"]\n",
    "    pick_symbol_holdings = asset_history.loc[f'{year}-01-01':f'{year}-12-31'].drop(columns=[\"shift\"])\n",
    "    \n",
    "    pick_symbol_holdings[\"shares\"] = init_and_cum_qty_permonth\n",
    "    pick_symbol_holdings[\"holdings €\"] = pick_symbol_holdings[\"Close €\"]*pick_symbol_holdings[\"shares\"]\n",
    "\n",
    "    return pick_symbol_holdings"
   ]
  },
  {
   "cell_type": "code",
   "execution_count": 31,
   "id": "fc92e13c-d943-4933-a047-bc1448e5d5b1",
   "metadata": {},
   "outputs": [
    {
     "data": {
      "text/html": [
       "<div>\n",
       "<style scoped>\n",
       "    .dataframe tbody tr th:only-of-type {\n",
       "        vertical-align: middle;\n",
       "    }\n",
       "\n",
       "    .dataframe tbody tr th {\n",
       "        vertical-align: top;\n",
       "    }\n",
       "\n",
       "    .dataframe thead th {\n",
       "        text-align: right;\n",
       "    }\n",
       "</style>\n",
       "<table border=\"1\" class=\"dataframe\">\n",
       "  <thead>\n",
       "    <tr style=\"text-align: right;\">\n",
       "      <th>Date</th>\n",
       "      <th>2024-01-30</th>\n",
       "      <th>2024-02-28</th>\n",
       "      <th>2024-03-31</th>\n",
       "      <th>2024-04-30</th>\n",
       "      <th>2024-05-31</th>\n",
       "      <th>2024-06-30</th>\n",
       "      <th>2024-07-31</th>\n",
       "      <th>2024-08-31</th>\n",
       "      <th>2024-09-30</th>\n",
       "      <th>2024-10-31</th>\n",
       "      <th>2024-11-30</th>\n",
       "      <th>2024-12-31</th>\n",
       "    </tr>\n",
       "  </thead>\n",
       "  <tbody>\n",
       "    <tr>\n",
       "      <th>Close €</th>\n",
       "      <td>89.84</td>\n",
       "      <td>116.07</td>\n",
       "      <td>187.58</td>\n",
       "      <td>118.72</td>\n",
       "      <td>152.55</td>\n",
       "      <td>136.40</td>\n",
       "      <td>158.66</td>\n",
       "      <td>122.56</td>\n",
       "      <td>137.00</td>\n",
       "      <td>154.83</td>\n",
       "      <td>224.64</td>\n",
       "      <td>182.39</td>\n",
       "    </tr>\n",
       "    <tr>\n",
       "      <th>Returns</th>\n",
       "      <td>-0.03</td>\n",
       "      <td>0.23</td>\n",
       "      <td>0.38</td>\n",
       "      <td>-0.58</td>\n",
       "      <td>0.22</td>\n",
       "      <td>-0.12</td>\n",
       "      <td>0.14</td>\n",
       "      <td>-0.29</td>\n",
       "      <td>0.11</td>\n",
       "      <td>0.12</td>\n",
       "      <td>0.31</td>\n",
       "      <td>-0.23</td>\n",
       "    </tr>\n",
       "    <tr>\n",
       "      <th>shares</th>\n",
       "      <td>4.86</td>\n",
       "      <td>4.86</td>\n",
       "      <td>4.86</td>\n",
       "      <td>4.86</td>\n",
       "      <td>4.86</td>\n",
       "      <td>4.86</td>\n",
       "      <td>4.86</td>\n",
       "      <td>4.86</td>\n",
       "      <td>4.86</td>\n",
       "      <td>4.86</td>\n",
       "      <td>4.86</td>\n",
       "      <td>4.86</td>\n",
       "    </tr>\n",
       "    <tr>\n",
       "      <th>holdings €</th>\n",
       "      <td>436.66</td>\n",
       "      <td>564.15</td>\n",
       "      <td>911.71</td>\n",
       "      <td>577.03</td>\n",
       "      <td>741.45</td>\n",
       "      <td>662.96</td>\n",
       "      <td>771.15</td>\n",
       "      <td>595.69</td>\n",
       "      <td>665.87</td>\n",
       "      <td>752.54</td>\n",
       "      <td>1,091.84</td>\n",
       "      <td>886.49</td>\n",
       "    </tr>\n",
       "  </tbody>\n",
       "</table>\n",
       "</div>"
      ],
      "text/plain": [
       "Date        2024-01-30  2024-02-28  2024-03-31  2024-04-30  2024-05-31  \\\n",
       "Close €          89.84      116.07      187.58      118.72      152.55   \n",
       "Returns          -0.03        0.23        0.38       -0.58        0.22   \n",
       "shares            4.86        4.86        4.86        4.86        4.86   \n",
       "holdings €      436.66      564.15      911.71      577.03      741.45   \n",
       "\n",
       "Date        2024-06-30  2024-07-31  2024-08-31  2024-09-30  2024-10-31  \\\n",
       "Close €         136.40      158.66      122.56      137.00      154.83   \n",
       "Returns          -0.12        0.14       -0.29        0.11        0.12   \n",
       "shares            4.86        4.86        4.86        4.86        4.86   \n",
       "holdings €      662.96      771.15      595.69      665.87      752.54   \n",
       "\n",
       "Date        2024-11-30  2024-12-31  \n",
       "Close €         224.64      182.39  \n",
       "Returns           0.31       -0.23  \n",
       "shares            4.86        4.86  \n",
       "holdings €    1,091.84      886.49  "
      ]
     },
     "execution_count": 31,
     "metadata": {},
     "output_type": "execute_result"
    }
   ],
   "source": [
    "getSymbolHoldings(\"Cryptocurrencies\", \"SOL\", list_investments_asset_class, init_holdings, year).T"
   ]
  },
  {
   "cell_type": "code",
   "execution_count": 32,
   "id": "51fd31e4-6fc3-4092-aef9-371666b7760b",
   "metadata": {},
   "outputs": [
    {
     "data": {
      "text/html": [
       "<div>\n",
       "<style scoped>\n",
       "    .dataframe tbody tr th:only-of-type {\n",
       "        vertical-align: middle;\n",
       "    }\n",
       "\n",
       "    .dataframe tbody tr th {\n",
       "        vertical-align: top;\n",
       "    }\n",
       "\n",
       "    .dataframe thead th {\n",
       "        text-align: right;\n",
       "    }\n",
       "</style>\n",
       "<table border=\"1\" class=\"dataframe\">\n",
       "  <thead>\n",
       "    <tr style=\"text-align: right;\">\n",
       "      <th>Date</th>\n",
       "      <th>2024-01-30</th>\n",
       "      <th>2024-02-28</th>\n",
       "      <th>2024-03-31</th>\n",
       "      <th>2024-04-30</th>\n",
       "      <th>2024-05-31</th>\n",
       "      <th>2024-06-30</th>\n",
       "      <th>2024-07-31</th>\n",
       "      <th>2024-08-31</th>\n",
       "      <th>2024-09-30</th>\n",
       "      <th>2024-10-31</th>\n",
       "      <th>2024-11-30</th>\n",
       "      <th>2024-12-31</th>\n",
       "    </tr>\n",
       "  </thead>\n",
       "  <tbody>\n",
       "    <tr>\n",
       "      <th>Close €</th>\n",
       "      <td>2,113.56</td>\n",
       "      <td>3,085.93</td>\n",
       "      <td>3,379.90</td>\n",
       "      <td>2,823.98</td>\n",
       "      <td>3,467.94</td>\n",
       "      <td>3,200.17</td>\n",
       "      <td>2,987.01</td>\n",
       "      <td>2,275.55</td>\n",
       "      <td>2,336.43</td>\n",
       "      <td>2,311.38</td>\n",
       "      <td>3,502.00</td>\n",
       "      <td>3,221.44</td>\n",
       "    </tr>\n",
       "    <tr>\n",
       "      <th>Returns</th>\n",
       "      <td>0.02</td>\n",
       "      <td>0.32</td>\n",
       "      <td>0.09</td>\n",
       "      <td>-0.20</td>\n",
       "      <td>0.19</td>\n",
       "      <td>-0.08</td>\n",
       "      <td>-0.07</td>\n",
       "      <td>-0.31</td>\n",
       "      <td>0.03</td>\n",
       "      <td>-0.01</td>\n",
       "      <td>0.34</td>\n",
       "      <td>-0.09</td>\n",
       "    </tr>\n",
       "    <tr>\n",
       "      <th>shares</th>\n",
       "      <td>0.01</td>\n",
       "      <td>0.01</td>\n",
       "      <td>0.01</td>\n",
       "      <td>0.01</td>\n",
       "      <td>0.01</td>\n",
       "      <td>0.01</td>\n",
       "      <td>0.01</td>\n",
       "      <td>0.01</td>\n",
       "      <td>0.01</td>\n",
       "      <td>0.01</td>\n",
       "      <td>0.01</td>\n",
       "      <td>0.01</td>\n",
       "    </tr>\n",
       "    <tr>\n",
       "      <th>holdings €</th>\n",
       "      <td>25.79</td>\n",
       "      <td>37.65</td>\n",
       "      <td>41.23</td>\n",
       "      <td>34.45</td>\n",
       "      <td>42.31</td>\n",
       "      <td>39.04</td>\n",
       "      <td>36.44</td>\n",
       "      <td>27.76</td>\n",
       "      <td>28.50</td>\n",
       "      <td>28.20</td>\n",
       "      <td>42.72</td>\n",
       "      <td>39.30</td>\n",
       "    </tr>\n",
       "  </tbody>\n",
       "</table>\n",
       "</div>"
      ],
      "text/plain": [
       "Date        2024-01-30  2024-02-28  2024-03-31  2024-04-30  2024-05-31  \\\n",
       "Close €       2,113.56    3,085.93    3,379.90    2,823.98    3,467.94   \n",
       "Returns           0.02        0.32        0.09       -0.20        0.19   \n",
       "shares            0.01        0.01        0.01        0.01        0.01   \n",
       "holdings €       25.79       37.65       41.23       34.45       42.31   \n",
       "\n",
       "Date        2024-06-30  2024-07-31  2024-08-31  2024-09-30  2024-10-31  \\\n",
       "Close €       3,200.17    2,987.01    2,275.55    2,336.43    2,311.38   \n",
       "Returns          -0.08       -0.07       -0.31        0.03       -0.01   \n",
       "shares            0.01        0.01        0.01        0.01        0.01   \n",
       "holdings €       39.04       36.44       27.76       28.50       28.20   \n",
       "\n",
       "Date        2024-11-30  2024-12-31  \n",
       "Close €       3,502.00    3,221.44  \n",
       "Returns           0.34       -0.09  \n",
       "shares            0.01        0.01  \n",
       "holdings €       42.72       39.30  "
      ]
     },
     "execution_count": 32,
     "metadata": {},
     "output_type": "execute_result"
    }
   ],
   "source": [
    "getSymbolHoldings(\"Cryptocurrencies\", \"ETH\", list_investments_asset_class, init_holdings, year).T"
   ]
  },
  {
   "cell_type": "code",
   "execution_count": 33,
   "id": "633419ae-59f3-4171-bb71-fbdef67d5f1f",
   "metadata": {},
   "outputs": [
    {
     "data": {
      "text/html": [
       "<div>\n",
       "<style scoped>\n",
       "    .dataframe tbody tr th:only-of-type {\n",
       "        vertical-align: middle;\n",
       "    }\n",
       "\n",
       "    .dataframe tbody tr th {\n",
       "        vertical-align: top;\n",
       "    }\n",
       "\n",
       "    .dataframe thead th {\n",
       "        text-align: right;\n",
       "    }\n",
       "</style>\n",
       "<table border=\"1\" class=\"dataframe\">\n",
       "  <thead>\n",
       "    <tr style=\"text-align: right;\">\n",
       "      <th>Date</th>\n",
       "      <th>2024-01-30</th>\n",
       "      <th>2024-02-28</th>\n",
       "      <th>2024-03-31</th>\n",
       "      <th>2024-04-30</th>\n",
       "      <th>2024-05-31</th>\n",
       "      <th>2024-06-30</th>\n",
       "      <th>2024-07-31</th>\n",
       "      <th>2024-08-31</th>\n",
       "      <th>2024-09-30</th>\n",
       "      <th>2024-10-31</th>\n",
       "      <th>2024-11-30</th>\n",
       "      <th>2024-12-31</th>\n",
       "    </tr>\n",
       "  </thead>\n",
       "  <tbody>\n",
       "    <tr>\n",
       "      <th>Close €</th>\n",
       "      <td>0.93</td>\n",
       "      <td>0.92</td>\n",
       "      <td>0.93</td>\n",
       "      <td>0.94</td>\n",
       "      <td>0.92</td>\n",
       "      <td>0.93</td>\n",
       "      <td>0.92</td>\n",
       "      <td>0.91</td>\n",
       "      <td>0.90</td>\n",
       "      <td>0.92</td>\n",
       "      <td>0.95</td>\n",
       "      <td>0.96</td>\n",
       "    </tr>\n",
       "    <tr>\n",
       "      <th>Returns</th>\n",
       "      <td>0.02</td>\n",
       "      <td>-0.00</td>\n",
       "      <td>0.00</td>\n",
       "      <td>0.01</td>\n",
       "      <td>-0.02</td>\n",
       "      <td>0.01</td>\n",
       "      <td>-0.01</td>\n",
       "      <td>-0.02</td>\n",
       "      <td>-0.01</td>\n",
       "      <td>0.02</td>\n",
       "      <td>0.03</td>\n",
       "      <td>0.02</td>\n",
       "    </tr>\n",
       "    <tr>\n",
       "      <th>shares</th>\n",
       "      <td>0.00</td>\n",
       "      <td>0.00</td>\n",
       "      <td>0.00</td>\n",
       "      <td>0.00</td>\n",
       "      <td>0.00</td>\n",
       "      <td>0.00</td>\n",
       "      <td>0.00</td>\n",
       "      <td>108.24</td>\n",
       "      <td>108.24</td>\n",
       "      <td>108.24</td>\n",
       "      <td>108.24</td>\n",
       "      <td>108.24</td>\n",
       "    </tr>\n",
       "    <tr>\n",
       "      <th>holdings €</th>\n",
       "      <td>0.00</td>\n",
       "      <td>0.00</td>\n",
       "      <td>0.00</td>\n",
       "      <td>0.00</td>\n",
       "      <td>0.00</td>\n",
       "      <td>0.00</td>\n",
       "      <td>0.00</td>\n",
       "      <td>97.99</td>\n",
       "      <td>97.17</td>\n",
       "      <td>99.33</td>\n",
       "      <td>102.33</td>\n",
       "      <td>104.28</td>\n",
       "    </tr>\n",
       "  </tbody>\n",
       "</table>\n",
       "</div>"
      ],
      "text/plain": [
       "Date        2024-01-30  2024-02-28  2024-03-31  2024-04-30  2024-05-31  \\\n",
       "Close €           0.93        0.92        0.93        0.94        0.92   \n",
       "Returns           0.02       -0.00        0.00        0.01       -0.02   \n",
       "shares            0.00        0.00        0.00        0.00        0.00   \n",
       "holdings €        0.00        0.00        0.00        0.00        0.00   \n",
       "\n",
       "Date        2024-06-30  2024-07-31  2024-08-31  2024-09-30  2024-10-31  \\\n",
       "Close €           0.93        0.92        0.91        0.90        0.92   \n",
       "Returns           0.01       -0.01       -0.02       -0.01        0.02   \n",
       "shares            0.00        0.00      108.24      108.24      108.24   \n",
       "holdings €        0.00        0.00       97.99       97.17       99.33   \n",
       "\n",
       "Date        2024-11-30  2024-12-31  \n",
       "Close €           0.95        0.96  \n",
       "Returns           0.03        0.02  \n",
       "shares          108.24      108.24  \n",
       "holdings €      102.33      104.28  "
      ]
     },
     "execution_count": 33,
     "metadata": {},
     "output_type": "execute_result"
    }
   ],
   "source": [
    "getSymbolHoldings(\"Cryptocurrencies\", \"USDT\", list_investments_asset_class, init_holdings, year).T"
   ]
  },
  {
   "cell_type": "code",
   "execution_count": 34,
   "id": "77649648-d0b0-4412-857f-c71d8915a624",
   "metadata": {},
   "outputs": [],
   "source": [
    "cryptocurrency_year_holdings = 0\n",
    "for symbol in symbols:\n",
    "    df_symbol_holdings = getSymbolHoldings(\"Cryptocurrencies\", symbol, list_investments_asset_class, init_holdings, year)\n",
    "    cryptocurrency_year_holdings += df_symbol_holdings[\"holdings €\"]"
   ]
  },
  {
   "cell_type": "code",
   "execution_count": 35,
   "id": "b5ed14d0-fa66-4be7-849b-53ec969851d2",
   "metadata": {},
   "outputs": [
    {
     "data": {
      "text/plain": [
       "Date\n",
       "2024-01-30     462.44\n",
       "2024-02-28     601.79\n",
       "2024-03-31     952.95\n",
       "2024-04-30     611.48\n",
       "2024-05-31     783.76\n",
       "2024-06-30     702.00\n",
       "2024-07-31     807.59\n",
       "2024-08-31     721.44\n",
       "2024-09-30     791.55\n",
       "2024-10-31     880.07\n",
       "2024-11-30   1,236.90\n",
       "2024-12-31   1,030.07\n",
       "Name: holdings €, dtype: float64"
      ]
     },
     "execution_count": 35,
     "metadata": {},
     "output_type": "execute_result"
    }
   ],
   "source": [
    "cryptocurrency_year_holdings"
   ]
  },
  {
   "cell_type": "code",
   "execution_count": 36,
   "id": "668d7fdc-5409-4d81-9647-b7f4bab49df5",
   "metadata": {},
   "outputs": [],
   "source": [
    "# Then SUM on NW"
   ]
  },
  {
   "cell_type": "markdown",
   "id": "69e2a3a2-b990-4889-874c-caa1c54e74cf",
   "metadata": {},
   "source": [
    "### NW 2024"
   ]
  },
  {
   "cell_type": "code",
   "execution_count": 37,
   "id": "3fe87d67-8969-4443-be11-0556cd5aaf93",
   "metadata": {},
   "outputs": [
    {
     "data": {
      "text/plain": [
       "{'Hype - EUR': 6, 'Revolut - EUR': 16.74, 'Money - EUR': 14.13}"
      ]
     },
     "execution_count": 37,
     "metadata": {},
     "output_type": "execute_result"
    }
   ],
   "source": [
    "init_holdings['liquidity']"
   ]
  },
  {
   "cell_type": "code",
   "execution_count": 38,
   "id": "dd39cf5e-75db-4872-bb1a-083d9328a674",
   "metadata": {},
   "outputs": [],
   "source": [
    "liquidity = df_m_cashflow[\"savings\"].values.cumsum() + init_holdings['liquidity']['Hype - EUR'] + init_holdings['liquidity']['Revolut - EUR'] + init_holdings['liquidity']['Money - EUR']"
   ]
  },
  {
   "cell_type": "code",
   "execution_count": 39,
   "id": "a2ec0b6c-cb81-4567-b7c3-54216372c7be",
   "metadata": {},
   "outputs": [
    {
     "data": {
      "text/plain": [
       "[np.float64(462.44376800000003),\n",
       " np.float64(601.7949739999999),\n",
       " np.float64(952.9486120000001),\n",
       " np.float64(611.479244),\n",
       " np.float64(783.7628880000001),\n",
       " np.float64(702.000634),\n",
       " np.float64(807.592586),\n",
       " np.float64(721.4430884000001),\n",
       " np.float64(791.5517060000001),\n",
       " np.float64(880.0685808000001),\n",
       " np.float64(1236.8958344),\n",
       " np.float64(1030.0694224)]"
      ]
     },
     "execution_count": 39,
     "metadata": {},
     "output_type": "execute_result"
    }
   ],
   "source": [
    "list(cryptocurrency_year_holdings.values)"
   ]
  },
  {
   "cell_type": "code",
   "execution_count": 40,
   "id": "8f29c112-13f7-4641-ab3f-41e2b4c08e8d",
   "metadata": {},
   "outputs": [
    {
     "data": {
      "text/plain": [
       "array([  998.66 ,  1762.3  ,  3032.55 ,  3737.59 ,  4805.18 ,  5650.43 ,\n",
       "        7798.03 ,  9102.49 , 10175.491, 11384.021, 12532.391, 14811.191])"
      ]
     },
     "execution_count": 40,
     "metadata": {},
     "output_type": "execute_result"
    }
   ],
   "source": [
    "liquidity"
   ]
  },
  {
   "cell_type": "code",
   "execution_count": 41,
   "id": "990224ea-4925-45f8-a83f-35afd0321e3d",
   "metadata": {},
   "outputs": [],
   "source": [
    "liquidity_end_2023 = 24.30\n",
    "crypto_end_2023 = 473.56\n",
    "columns = [\"liquidity\", \"crypto\"]\n",
    "\n",
    "nw2023 = pd.DataFrame(data = zip([liquidity_end_2023],[crypto_end_2023]), columns = columns, index = pd.date_range(f'2023-12-31',f'2023-12-31', freq='ME'))"
   ]
  },
  {
   "cell_type": "code",
   "execution_count": 42,
   "id": "296578bb-cbcb-4784-9b3d-8978f56a8cca",
   "metadata": {},
   "outputs": [],
   "source": [
    "zipped = zip(liquidity, cryptocurrency_year_holdings.values)\n",
    "columns = [\"liquidity\", \"crypto\"]\n",
    "nw2024 = pd.DataFrame(index = pd.date_range(f'{year}-01-01',f'{year}-12-31', freq='ME'), data = zipped, columns = columns)"
   ]
  },
  {
   "cell_type": "code",
   "execution_count": 43,
   "id": "ba0d90d7-c547-47ef-92cb-c0ebe83e646d",
   "metadata": {},
   "outputs": [],
   "source": [
    "nw = pd.concat([nw2023, nw2024])"
   ]
  },
  {
   "cell_type": "code",
   "execution_count": 44,
   "id": "264506ba-7bb8-418e-ac4f-11d98492cc7b",
   "metadata": {},
   "outputs": [],
   "source": [
    "nw[\"nw\"] = nw.liquidity + nw.crypto"
   ]
  },
  {
   "cell_type": "code",
   "execution_count": 45,
   "id": "7a6dc0eb-3118-4bb6-b435-d9b875b07a8b",
   "metadata": {},
   "outputs": [],
   "source": [
    "nw[\"nwch\"] = (nw[\"nw\"] - nw.nw.shift(1) )\n",
    "nw[\"nw%\"] = (nw[\"nw\"] - nw.nw.shift(1) )/ nw[\"nw\"]"
   ]
  },
  {
   "cell_type": "code",
   "execution_count": 46,
   "id": "e23ac3be-d4b5-4eb5-8283-f7dcd5dbdca2",
   "metadata": {},
   "outputs": [
    {
     "data": {
      "text/html": [
       "<div>\n",
       "<style scoped>\n",
       "    .dataframe tbody tr th:only-of-type {\n",
       "        vertical-align: middle;\n",
       "    }\n",
       "\n",
       "    .dataframe tbody tr th {\n",
       "        vertical-align: top;\n",
       "    }\n",
       "\n",
       "    .dataframe thead th {\n",
       "        text-align: right;\n",
       "    }\n",
       "</style>\n",
       "<table border=\"1\" class=\"dataframe\">\n",
       "  <thead>\n",
       "    <tr style=\"text-align: right;\">\n",
       "      <th></th>\n",
       "      <th>2023-12-31</th>\n",
       "      <th>2024-01-31</th>\n",
       "      <th>2024-02-29</th>\n",
       "      <th>2024-03-31</th>\n",
       "      <th>2024-04-30</th>\n",
       "      <th>2024-05-31</th>\n",
       "      <th>2024-06-30</th>\n",
       "      <th>2024-07-31</th>\n",
       "      <th>2024-08-31</th>\n",
       "      <th>2024-09-30</th>\n",
       "      <th>2024-10-31</th>\n",
       "      <th>2024-11-30</th>\n",
       "      <th>2024-12-31</th>\n",
       "    </tr>\n",
       "  </thead>\n",
       "  <tbody>\n",
       "    <tr>\n",
       "      <th>liquidity</th>\n",
       "      <td>24.30</td>\n",
       "      <td>998.66</td>\n",
       "      <td>1,762.30</td>\n",
       "      <td>3,032.55</td>\n",
       "      <td>3,737.59</td>\n",
       "      <td>4,805.18</td>\n",
       "      <td>5,650.43</td>\n",
       "      <td>7,798.03</td>\n",
       "      <td>9,102.49</td>\n",
       "      <td>10,175.49</td>\n",
       "      <td>11,384.02</td>\n",
       "      <td>12,532.39</td>\n",
       "      <td>14,811.19</td>\n",
       "    </tr>\n",
       "    <tr>\n",
       "      <th>crypto</th>\n",
       "      <td>473.56</td>\n",
       "      <td>462.44</td>\n",
       "      <td>601.79</td>\n",
       "      <td>952.95</td>\n",
       "      <td>611.48</td>\n",
       "      <td>783.76</td>\n",
       "      <td>702.00</td>\n",
       "      <td>807.59</td>\n",
       "      <td>721.44</td>\n",
       "      <td>791.55</td>\n",
       "      <td>880.07</td>\n",
       "      <td>1,236.90</td>\n",
       "      <td>1,030.07</td>\n",
       "    </tr>\n",
       "    <tr>\n",
       "      <th>nw</th>\n",
       "      <td>497.86</td>\n",
       "      <td>1,461.10</td>\n",
       "      <td>2,364.09</td>\n",
       "      <td>3,985.50</td>\n",
       "      <td>4,349.07</td>\n",
       "      <td>5,588.94</td>\n",
       "      <td>6,352.43</td>\n",
       "      <td>8,605.62</td>\n",
       "      <td>9,823.93</td>\n",
       "      <td>10,967.04</td>\n",
       "      <td>12,264.09</td>\n",
       "      <td>13,769.29</td>\n",
       "      <td>15,841.26</td>\n",
       "    </tr>\n",
       "    <tr>\n",
       "      <th>nwch</th>\n",
       "      <td>NaN</td>\n",
       "      <td>963.24</td>\n",
       "      <td>902.99</td>\n",
       "      <td>1,621.40</td>\n",
       "      <td>363.57</td>\n",
       "      <td>1,239.87</td>\n",
       "      <td>763.49</td>\n",
       "      <td>2,253.19</td>\n",
       "      <td>1,218.31</td>\n",
       "      <td>1,143.11</td>\n",
       "      <td>1,297.05</td>\n",
       "      <td>1,505.20</td>\n",
       "      <td>2,071.97</td>\n",
       "    </tr>\n",
       "    <tr>\n",
       "      <th>nw%</th>\n",
       "      <td>NaN</td>\n",
       "      <td>0.66</td>\n",
       "      <td>0.38</td>\n",
       "      <td>0.41</td>\n",
       "      <td>0.08</td>\n",
       "      <td>0.22</td>\n",
       "      <td>0.12</td>\n",
       "      <td>0.26</td>\n",
       "      <td>0.12</td>\n",
       "      <td>0.10</td>\n",
       "      <td>0.11</td>\n",
       "      <td>0.11</td>\n",
       "      <td>0.13</td>\n",
       "    </tr>\n",
       "  </tbody>\n",
       "</table>\n",
       "</div>"
      ],
      "text/plain": [
       "           2023-12-31  2024-01-31  2024-02-29  2024-03-31  2024-04-30  \\\n",
       "liquidity       24.30      998.66    1,762.30    3,032.55    3,737.59   \n",
       "crypto         473.56      462.44      601.79      952.95      611.48   \n",
       "nw             497.86    1,461.10    2,364.09    3,985.50    4,349.07   \n",
       "nwch              NaN      963.24      902.99    1,621.40      363.57   \n",
       "nw%               NaN        0.66        0.38        0.41        0.08   \n",
       "\n",
       "           2024-05-31  2024-06-30  2024-07-31  2024-08-31  2024-09-30  \\\n",
       "liquidity    4,805.18    5,650.43    7,798.03    9,102.49   10,175.49   \n",
       "crypto         783.76      702.00      807.59      721.44      791.55   \n",
       "nw           5,588.94    6,352.43    8,605.62    9,823.93   10,967.04   \n",
       "nwch         1,239.87      763.49    2,253.19    1,218.31    1,143.11   \n",
       "nw%              0.22        0.12        0.26        0.12        0.10   \n",
       "\n",
       "           2024-10-31  2024-11-30  2024-12-31  \n",
       "liquidity   11,384.02   12,532.39   14,811.19  \n",
       "crypto         880.07    1,236.90    1,030.07  \n",
       "nw          12,264.09   13,769.29   15,841.26  \n",
       "nwch         1,297.05    1,505.20    2,071.97  \n",
       "nw%              0.11        0.11        0.13  "
      ]
     },
     "execution_count": 46,
     "metadata": {},
     "output_type": "execute_result"
    }
   ],
   "source": [
    "nw.T"
   ]
  },
  {
   "cell_type": "markdown",
   "id": "a4ee0a3d-613a-4c07-aca9-69339e9bd4ee",
   "metadata": {},
   "source": [
    "### FIRE Metrics on end 2024"
   ]
  },
  {
   "cell_type": "code",
   "execution_count": 47,
   "id": "678caa5f-a84f-4b38-886d-ca40e4d746ee",
   "metadata": {},
   "outputs": [],
   "source": [
    "current_yearly_expediture = df_m_cashflow.liabilities.sum()\n",
    "current_nw = nw.nw.iloc[-1]"
   ]
  },
  {
   "cell_type": "code",
   "execution_count": 48,
   "id": "4262b37d-e158-45ca-a20b-49ff70a49358",
   "metadata": {},
   "outputs": [
    {
     "name": "stdout",
     "output_type": "stream",
     "text": [
      "256367.3\n"
     ]
    }
   ],
   "source": [
    "desired_wd = 0.030\n",
    "fu_number = abs(current_yearly_expediture) / desired_wd\n",
    "print(fu_number)"
   ]
  },
  {
   "cell_type": "code",
   "execution_count": 49,
   "id": "7b0237df-64a5-40ac-b5b3-b4abb0d8d164",
   "metadata": {},
   "outputs": [
    {
     "name": "stdout",
     "output_type": "stream",
     "text": [
      "0.06179126753841071\n"
     ]
    }
   ],
   "source": [
    "progress_fi = current_nw / fu_number\n",
    "print(progress_fi)"
   ]
  },
  {
   "cell_type": "code",
   "execution_count": 50,
   "id": "e09a9058-efd6-43d4-b047-8a37d5f32aff",
   "metadata": {},
   "outputs": [],
   "source": [
    "current_yearly_saved = nw.nwch.sum()"
   ]
  },
  {
   "cell_type": "code",
   "execution_count": 51,
   "id": "f6696aa5-127a-4dc5-b1c0-19e26e40a934",
   "metadata": {},
   "outputs": [],
   "source": [
    "current_yearly_monthly_savings = current_yearly_saved/12"
   ]
  },
  {
   "cell_type": "code",
   "execution_count": 52,
   "id": "6a2554c2-9025-416a-8c61-8442dde1f24e",
   "metadata": {},
   "outputs": [
    {
     "name": "stdout",
     "output_type": "stream",
     "text": [
      "Months left to FIRE: 188\n"
     ]
    }
   ],
   "source": [
    "months_left_to_fire = (fu_number - current_nw)/current_yearly_monthly_savings\n",
    "print(f\"Months left to FIRE: {int(months_left_to_fire)}\")"
   ]
  },
  {
   "cell_type": "code",
   "execution_count": null,
   "id": "85593424-66d4-44f5-be1b-e1b1fecf1cb4",
   "metadata": {},
   "outputs": [],
   "source": []
  },
  {
   "cell_type": "code",
   "execution_count": null,
   "id": "e4a1fa2e-b49a-4431-8280-3fb124c7dbbc",
   "metadata": {},
   "outputs": [],
   "source": []
  }
 ],
 "metadata": {
  "kernelspec": {
   "display_name": "base",
   "language": "python",
   "name": "python3"
  },
  "language_info": {
   "codemirror_mode": {
    "name": "ipython",
    "version": 3
   },
   "file_extension": ".py",
   "mimetype": "text/x-python",
   "name": "python",
   "nbconvert_exporter": "python",
   "pygments_lexer": "ipython3",
   "version": "3.12.9"
  }
 },
 "nbformat": 4,
 "nbformat_minor": 5
}
