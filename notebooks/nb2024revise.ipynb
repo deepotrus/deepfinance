{
 "cells": [
  {
   "cell_type": "code",
   "execution_count": 1,
   "id": "e1f9dfee",
   "metadata": {},
   "outputs": [],
   "source": [
    "import pandas as pd\n",
    "pd.options.display.float_format = \"{:,.2f}\".format\n",
    "\n",
    "import sys\n",
    "sys.path.append('../lib/')\n",
    "from financelib import FinLoad\n",
    "from financelib import FinCalc\n",
    "from financelib import FinPlot\n",
    "from pathlib import Path"
   ]
  },
  {
   "cell_type": "code",
   "execution_count": 2,
   "id": "330888b2",
   "metadata": {},
   "outputs": [],
   "source": [
    "YEAR = 2024\n",
    "data_path_o = Path(\"../../tmp/data\")"
   ]
  },
  {
   "cell_type": "markdown",
   "id": "93ebaaa6",
   "metadata": {},
   "source": [
    "### Load Data 2024"
   ]
  },
  {
   "cell_type": "code",
   "execution_count": 3,
   "id": "ed2fbf21",
   "metadata": {},
   "outputs": [],
   "source": [
    "init_holdings = FinLoad.load_init_holdings(data_path_o, YEAR)\n",
    "df_year_cashflow = FinLoad.load_cashflow(data_path_o, YEAR)\n",
    "df_year_investments = FinLoad.load_investments(data_path_o, YEAR)"
   ]
  },
  {
   "cell_type": "markdown",
   "id": "ea2d5169",
   "metadata": {},
   "source": [
    "### Calculate"
   ]
  },
  {
   "cell_type": "code",
   "execution_count": 4,
   "id": "d8d339b7",
   "metadata": {},
   "outputs": [],
   "source": [
    "df_m_cashflow = FinCalc.calc_monthly_cashflow(df_year_cashflow)"
   ]
  },
  {
   "cell_type": "code",
   "execution_count": 5,
   "id": "c0e6f05f",
   "metadata": {},
   "outputs": [
    {
     "data": {
      "text/html": [
       "<div>\n",
       "<style scoped>\n",
       "    .dataframe tbody tr th:only-of-type {\n",
       "        vertical-align: middle;\n",
       "    }\n",
       "\n",
       "    .dataframe tbody tr th {\n",
       "        vertical-align: top;\n",
       "    }\n",
       "\n",
       "    .dataframe thead th {\n",
       "        text-align: right;\n",
       "    }\n",
       "</style>\n",
       "<table border=\"1\" class=\"dataframe\">\n",
       "  <thead>\n",
       "    <tr style=\"text-align: right;\">\n",
       "      <th>Date</th>\n",
       "      <th>2024-01-31</th>\n",
       "      <th>2024-02-29</th>\n",
       "      <th>2024-03-31</th>\n",
       "      <th>2024-04-30</th>\n",
       "      <th>2024-05-31</th>\n",
       "      <th>2024-06-30</th>\n",
       "      <th>2024-07-31</th>\n",
       "      <th>2024-08-31</th>\n",
       "      <th>2024-09-30</th>\n",
       "      <th>2024-10-31</th>\n",
       "      <th>2024-11-30</th>\n",
       "      <th>2024-12-31</th>\n",
       "    </tr>\n",
       "  </thead>\n",
       "  <tbody>\n",
       "    <tr>\n",
       "      <th>incomes</th>\n",
       "      <td>2,031.00</td>\n",
       "      <td>1,642.00</td>\n",
       "      <td>1,630.00</td>\n",
       "      <td>1,642.00</td>\n",
       "      <td>1,682.00</td>\n",
       "      <td>1,688.00</td>\n",
       "      <td>2,534.34</td>\n",
       "      <td>1,694.00</td>\n",
       "      <td>1,694.00</td>\n",
       "      <td>1,778.00</td>\n",
       "      <td>1,693.00</td>\n",
       "      <td>2,757.00</td>\n",
       "    </tr>\n",
       "    <tr>\n",
       "      <th>liabilities</th>\n",
       "      <td>-1,069.21</td>\n",
       "      <td>-878.36</td>\n",
       "      <td>-359.75</td>\n",
       "      <td>-936.96</td>\n",
       "      <td>-614.41</td>\n",
       "      <td>-842.75</td>\n",
       "      <td>-386.74</td>\n",
       "      <td>-389.54</td>\n",
       "      <td>-621.00</td>\n",
       "      <td>-569.47</td>\n",
       "      <td>-544.63</td>\n",
       "      <td>-478.20</td>\n",
       "    </tr>\n",
       "    <tr>\n",
       "      <th>savings</th>\n",
       "      <td>961.79</td>\n",
       "      <td>763.64</td>\n",
       "      <td>1,270.25</td>\n",
       "      <td>705.04</td>\n",
       "      <td>1,067.59</td>\n",
       "      <td>845.25</td>\n",
       "      <td>2,147.60</td>\n",
       "      <td>1,304.46</td>\n",
       "      <td>1,073.00</td>\n",
       "      <td>1,208.53</td>\n",
       "      <td>1,148.37</td>\n",
       "      <td>2,278.80</td>\n",
       "    </tr>\n",
       "    <tr>\n",
       "      <th>saving_rate</th>\n",
       "      <td>0.47</td>\n",
       "      <td>0.47</td>\n",
       "      <td>0.78</td>\n",
       "      <td>0.43</td>\n",
       "      <td>0.63</td>\n",
       "      <td>0.50</td>\n",
       "      <td>0.85</td>\n",
       "      <td>0.71</td>\n",
       "      <td>0.63</td>\n",
       "      <td>0.68</td>\n",
       "      <td>0.68</td>\n",
       "      <td>0.83</td>\n",
       "    </tr>\n",
       "  </tbody>\n",
       "</table>\n",
       "</div>"
      ],
      "text/plain": [
       "Date         2024-01-31  2024-02-29  2024-03-31  2024-04-30  2024-05-31  \\\n",
       "incomes        2,031.00    1,642.00    1,630.00    1,642.00    1,682.00   \n",
       "liabilities   -1,069.21     -878.36     -359.75     -936.96     -614.41   \n",
       "savings          961.79      763.64    1,270.25      705.04    1,067.59   \n",
       "saving_rate        0.47        0.47        0.78        0.43        0.63   \n",
       "\n",
       "Date         2024-06-30  2024-07-31  2024-08-31  2024-09-30  2024-10-31  \\\n",
       "incomes        1,688.00    2,534.34    1,694.00    1,694.00    1,778.00   \n",
       "liabilities     -842.75     -386.74     -389.54     -621.00     -569.47   \n",
       "savings          845.25    2,147.60    1,304.46    1,073.00    1,208.53   \n",
       "saving_rate        0.50        0.85        0.71        0.63        0.68   \n",
       "\n",
       "Date         2024-11-30  2024-12-31  \n",
       "incomes        1,693.00    2,757.00  \n",
       "liabilities     -544.63     -478.20  \n",
       "savings        1,148.37    2,278.80  \n",
       "saving_rate        0.68        0.83  "
      ]
     },
     "execution_count": 5,
     "metadata": {},
     "output_type": "execute_result"
    }
   ],
   "source": [
    "df_m_cashflow.set_index(\"Date\").T"
   ]
  },
  {
   "cell_type": "code",
   "execution_count": 6,
   "id": "9a79d1e1",
   "metadata": {},
   "outputs": [
    {
     "data": {
      "text/html": [
       "<div>\n",
       "<style scoped>\n",
       "    .dataframe tbody tr th:only-of-type {\n",
       "        vertical-align: middle;\n",
       "    }\n",
       "\n",
       "    .dataframe tbody tr th {\n",
       "        vertical-align: top;\n",
       "    }\n",
       "\n",
       "    .dataframe thead th {\n",
       "        text-align: right;\n",
       "    }\n",
       "</style>\n",
       "<table border=\"1\" class=\"dataframe\">\n",
       "  <thead>\n",
       "    <tr style=\"text-align: right;\">\n",
       "      <th></th>\n",
       "      <th>Date</th>\n",
       "      <th>incomes</th>\n",
       "      <th>liabilities</th>\n",
       "      <th>savings</th>\n",
       "      <th>saving_rate</th>\n",
       "    </tr>\n",
       "  </thead>\n",
       "  <tbody>\n",
       "    <tr>\n",
       "      <th>0</th>\n",
       "      <td>2024-01-31</td>\n",
       "      <td>2,031.00</td>\n",
       "      <td>-1,069.21</td>\n",
       "      <td>961.79</td>\n",
       "      <td>0.47</td>\n",
       "    </tr>\n",
       "    <tr>\n",
       "      <th>1</th>\n",
       "      <td>2024-02-29</td>\n",
       "      <td>1,642.00</td>\n",
       "      <td>-878.36</td>\n",
       "      <td>763.64</td>\n",
       "      <td>0.47</td>\n",
       "    </tr>\n",
       "    <tr>\n",
       "      <th>2</th>\n",
       "      <td>2024-03-31</td>\n",
       "      <td>1,630.00</td>\n",
       "      <td>-359.75</td>\n",
       "      <td>1,270.25</td>\n",
       "      <td>0.78</td>\n",
       "    </tr>\n",
       "    <tr>\n",
       "      <th>3</th>\n",
       "      <td>2024-04-30</td>\n",
       "      <td>1,642.00</td>\n",
       "      <td>-936.96</td>\n",
       "      <td>705.04</td>\n",
       "      <td>0.43</td>\n",
       "    </tr>\n",
       "    <tr>\n",
       "      <th>4</th>\n",
       "      <td>2024-05-31</td>\n",
       "      <td>1,682.00</td>\n",
       "      <td>-614.41</td>\n",
       "      <td>1,067.59</td>\n",
       "      <td>0.63</td>\n",
       "    </tr>\n",
       "    <tr>\n",
       "      <th>5</th>\n",
       "      <td>2024-06-30</td>\n",
       "      <td>1,688.00</td>\n",
       "      <td>-842.75</td>\n",
       "      <td>845.25</td>\n",
       "      <td>0.50</td>\n",
       "    </tr>\n",
       "    <tr>\n",
       "      <th>6</th>\n",
       "      <td>2024-07-31</td>\n",
       "      <td>2,534.34</td>\n",
       "      <td>-386.74</td>\n",
       "      <td>2,147.60</td>\n",
       "      <td>0.85</td>\n",
       "    </tr>\n",
       "    <tr>\n",
       "      <th>7</th>\n",
       "      <td>2024-08-31</td>\n",
       "      <td>1,694.00</td>\n",
       "      <td>-389.54</td>\n",
       "      <td>1,304.46</td>\n",
       "      <td>0.71</td>\n",
       "    </tr>\n",
       "    <tr>\n",
       "      <th>8</th>\n",
       "      <td>2024-09-30</td>\n",
       "      <td>1,694.00</td>\n",
       "      <td>-621.00</td>\n",
       "      <td>1,073.00</td>\n",
       "      <td>0.63</td>\n",
       "    </tr>\n",
       "    <tr>\n",
       "      <th>9</th>\n",
       "      <td>2024-10-31</td>\n",
       "      <td>1,778.00</td>\n",
       "      <td>-569.47</td>\n",
       "      <td>1,208.53</td>\n",
       "      <td>0.68</td>\n",
       "    </tr>\n",
       "    <tr>\n",
       "      <th>10</th>\n",
       "      <td>2024-11-30</td>\n",
       "      <td>1,693.00</td>\n",
       "      <td>-544.63</td>\n",
       "      <td>1,148.37</td>\n",
       "      <td>0.68</td>\n",
       "    </tr>\n",
       "    <tr>\n",
       "      <th>11</th>\n",
       "      <td>2024-12-31</td>\n",
       "      <td>2,757.00</td>\n",
       "      <td>-478.20</td>\n",
       "      <td>2,278.80</td>\n",
       "      <td>0.83</td>\n",
       "    </tr>\n",
       "  </tbody>\n",
       "</table>\n",
       "</div>"
      ],
      "text/plain": [
       "         Date  incomes  liabilities  savings  saving_rate\n",
       "0  2024-01-31 2,031.00    -1,069.21   961.79         0.47\n",
       "1  2024-02-29 1,642.00      -878.36   763.64         0.47\n",
       "2  2024-03-31 1,630.00      -359.75 1,270.25         0.78\n",
       "3  2024-04-30 1,642.00      -936.96   705.04         0.43\n",
       "4  2024-05-31 1,682.00      -614.41 1,067.59         0.63\n",
       "5  2024-06-30 1,688.00      -842.75   845.25         0.50\n",
       "6  2024-07-31 2,534.34      -386.74 2,147.60         0.85\n",
       "7  2024-08-31 1,694.00      -389.54 1,304.46         0.71\n",
       "8  2024-09-30 1,694.00      -621.00 1,073.00         0.63\n",
       "9  2024-10-31 1,778.00      -569.47 1,208.53         0.68\n",
       "10 2024-11-30 1,693.00      -544.63 1,148.37         0.68\n",
       "11 2024-12-31 2,757.00      -478.20 2,278.80         0.83"
      ]
     },
     "execution_count": 6,
     "metadata": {},
     "output_type": "execute_result"
    }
   ],
   "source": [
    "df_m_cashflow"
   ]
  },
  {
   "cell_type": "code",
   "execution_count": 7,
   "id": "6838efa3",
   "metadata": {},
   "outputs": [
    {
     "data": {
      "application/vnd.plotly.v1+json": {
       "config": {
        "plotlyServerURL": "https://plot.ly"
       },
       "data": [
        {
         "marker": {
          "color": "indianred"
         },
         "name": "incomes",
         "type": "bar",
         "x": [
          "2024-01-31T00:00:00",
          "2024-02-29T00:00:00",
          "2024-03-31T00:00:00",
          "2024-04-30T00:00:00",
          "2024-05-31T00:00:00",
          "2024-06-30T00:00:00",
          "2024-07-31T00:00:00",
          "2024-08-31T00:00:00",
          "2024-09-30T00:00:00",
          "2024-10-31T00:00:00",
          "2024-11-30T00:00:00",
          "2024-12-31T00:00:00"
         ],
         "xaxis": "x",
         "y": [
          2031,
          1642,
          1630,
          1642,
          1682,
          1688,
          2534.34,
          1694,
          1694,
          1778,
          1693,
          2757
         ],
         "yaxis": "y"
        },
        {
         "marker": {
          "color": "lightsalmon"
         },
         "name": "liabilities",
         "type": "bar",
         "x": [
          "2024-01-31T00:00:00",
          "2024-02-29T00:00:00",
          "2024-03-31T00:00:00",
          "2024-04-30T00:00:00",
          "2024-05-31T00:00:00",
          "2024-06-30T00:00:00",
          "2024-07-31T00:00:00",
          "2024-08-31T00:00:00",
          "2024-09-30T00:00:00",
          "2024-10-31T00:00:00",
          "2024-11-30T00:00:00",
          "2024-12-31T00:00:00"
         ],
         "xaxis": "x",
         "y": [
          1069.21,
          878.36,
          359.75,
          936.96,
          614.41,
          842.75,
          386.74,
          389.54,
          620.999,
          569.47,
          544.63,
          478.2
         ],
         "yaxis": "y"
        },
        {
         "line": {
          "color": "red"
         },
         "name": "% Saving Rate",
         "type": "scatter",
         "x": [
          "2024-01-31T00:00:00",
          "2024-02-29T00:00:00",
          "2024-03-31T00:00:00",
          "2024-04-30T00:00:00",
          "2024-05-31T00:00:00",
          "2024-06-30T00:00:00",
          "2024-07-31T00:00:00",
          "2024-08-31T00:00:00",
          "2024-09-30T00:00:00",
          "2024-10-31T00:00:00",
          "2024-11-30T00:00:00",
          "2024-12-31T00:00:00"
         ],
         "xaxis": "x",
         "y": [
          47.35548990645002,
          46.50669914738124,
          77.92944785276073,
          42.93788063337393,
          63.47146254458978,
          50.07405213270142,
          84.74001120607336,
          71.10153482880756,
          63.34126328217236,
          67.9713160854893,
          67.8304784406379,
          82.65505984766051
         ],
         "yaxis": "y2"
        }
       ],
       "layout": {
        "barmode": "group",
        "height": 400,
        "template": {
         "data": {
          "bar": [
           {
            "error_x": {
             "color": "#2a3f5f"
            },
            "error_y": {
             "color": "#2a3f5f"
            },
            "marker": {
             "line": {
              "color": "#E5ECF6",
              "width": 0.5
             },
             "pattern": {
              "fillmode": "overlay",
              "size": 10,
              "solidity": 0.2
             }
            },
            "type": "bar"
           }
          ],
          "barpolar": [
           {
            "marker": {
             "line": {
              "color": "#E5ECF6",
              "width": 0.5
             },
             "pattern": {
              "fillmode": "overlay",
              "size": 10,
              "solidity": 0.2
             }
            },
            "type": "barpolar"
           }
          ],
          "carpet": [
           {
            "aaxis": {
             "endlinecolor": "#2a3f5f",
             "gridcolor": "white",
             "linecolor": "white",
             "minorgridcolor": "white",
             "startlinecolor": "#2a3f5f"
            },
            "baxis": {
             "endlinecolor": "#2a3f5f",
             "gridcolor": "white",
             "linecolor": "white",
             "minorgridcolor": "white",
             "startlinecolor": "#2a3f5f"
            },
            "type": "carpet"
           }
          ],
          "choropleth": [
           {
            "colorbar": {
             "outlinewidth": 0,
             "ticks": ""
            },
            "type": "choropleth"
           }
          ],
          "contour": [
           {
            "colorbar": {
             "outlinewidth": 0,
             "ticks": ""
            },
            "colorscale": [
             [
              0,
              "#0d0887"
             ],
             [
              0.1111111111111111,
              "#46039f"
             ],
             [
              0.2222222222222222,
              "#7201a8"
             ],
             [
              0.3333333333333333,
              "#9c179e"
             ],
             [
              0.4444444444444444,
              "#bd3786"
             ],
             [
              0.5555555555555556,
              "#d8576b"
             ],
             [
              0.6666666666666666,
              "#ed7953"
             ],
             [
              0.7777777777777778,
              "#fb9f3a"
             ],
             [
              0.8888888888888888,
              "#fdca26"
             ],
             [
              1,
              "#f0f921"
             ]
            ],
            "type": "contour"
           }
          ],
          "contourcarpet": [
           {
            "colorbar": {
             "outlinewidth": 0,
             "ticks": ""
            },
            "type": "contourcarpet"
           }
          ],
          "heatmap": [
           {
            "colorbar": {
             "outlinewidth": 0,
             "ticks": ""
            },
            "colorscale": [
             [
              0,
              "#0d0887"
             ],
             [
              0.1111111111111111,
              "#46039f"
             ],
             [
              0.2222222222222222,
              "#7201a8"
             ],
             [
              0.3333333333333333,
              "#9c179e"
             ],
             [
              0.4444444444444444,
              "#bd3786"
             ],
             [
              0.5555555555555556,
              "#d8576b"
             ],
             [
              0.6666666666666666,
              "#ed7953"
             ],
             [
              0.7777777777777778,
              "#fb9f3a"
             ],
             [
              0.8888888888888888,
              "#fdca26"
             ],
             [
              1,
              "#f0f921"
             ]
            ],
            "type": "heatmap"
           }
          ],
          "heatmapgl": [
           {
            "colorbar": {
             "outlinewidth": 0,
             "ticks": ""
            },
            "colorscale": [
             [
              0,
              "#0d0887"
             ],
             [
              0.1111111111111111,
              "#46039f"
             ],
             [
              0.2222222222222222,
              "#7201a8"
             ],
             [
              0.3333333333333333,
              "#9c179e"
             ],
             [
              0.4444444444444444,
              "#bd3786"
             ],
             [
              0.5555555555555556,
              "#d8576b"
             ],
             [
              0.6666666666666666,
              "#ed7953"
             ],
             [
              0.7777777777777778,
              "#fb9f3a"
             ],
             [
              0.8888888888888888,
              "#fdca26"
             ],
             [
              1,
              "#f0f921"
             ]
            ],
            "type": "heatmapgl"
           }
          ],
          "histogram": [
           {
            "marker": {
             "pattern": {
              "fillmode": "overlay",
              "size": 10,
              "solidity": 0.2
             }
            },
            "type": "histogram"
           }
          ],
          "histogram2d": [
           {
            "colorbar": {
             "outlinewidth": 0,
             "ticks": ""
            },
            "colorscale": [
             [
              0,
              "#0d0887"
             ],
             [
              0.1111111111111111,
              "#46039f"
             ],
             [
              0.2222222222222222,
              "#7201a8"
             ],
             [
              0.3333333333333333,
              "#9c179e"
             ],
             [
              0.4444444444444444,
              "#bd3786"
             ],
             [
              0.5555555555555556,
              "#d8576b"
             ],
             [
              0.6666666666666666,
              "#ed7953"
             ],
             [
              0.7777777777777778,
              "#fb9f3a"
             ],
             [
              0.8888888888888888,
              "#fdca26"
             ],
             [
              1,
              "#f0f921"
             ]
            ],
            "type": "histogram2d"
           }
          ],
          "histogram2dcontour": [
           {
            "colorbar": {
             "outlinewidth": 0,
             "ticks": ""
            },
            "colorscale": [
             [
              0,
              "#0d0887"
             ],
             [
              0.1111111111111111,
              "#46039f"
             ],
             [
              0.2222222222222222,
              "#7201a8"
             ],
             [
              0.3333333333333333,
              "#9c179e"
             ],
             [
              0.4444444444444444,
              "#bd3786"
             ],
             [
              0.5555555555555556,
              "#d8576b"
             ],
             [
              0.6666666666666666,
              "#ed7953"
             ],
             [
              0.7777777777777778,
              "#fb9f3a"
             ],
             [
              0.8888888888888888,
              "#fdca26"
             ],
             [
              1,
              "#f0f921"
             ]
            ],
            "type": "histogram2dcontour"
           }
          ],
          "mesh3d": [
           {
            "colorbar": {
             "outlinewidth": 0,
             "ticks": ""
            },
            "type": "mesh3d"
           }
          ],
          "parcoords": [
           {
            "line": {
             "colorbar": {
              "outlinewidth": 0,
              "ticks": ""
             }
            },
            "type": "parcoords"
           }
          ],
          "pie": [
           {
            "automargin": true,
            "type": "pie"
           }
          ],
          "scatter": [
           {
            "fillpattern": {
             "fillmode": "overlay",
             "size": 10,
             "solidity": 0.2
            },
            "type": "scatter"
           }
          ],
          "scatter3d": [
           {
            "line": {
             "colorbar": {
              "outlinewidth": 0,
              "ticks": ""
             }
            },
            "marker": {
             "colorbar": {
              "outlinewidth": 0,
              "ticks": ""
             }
            },
            "type": "scatter3d"
           }
          ],
          "scattercarpet": [
           {
            "marker": {
             "colorbar": {
              "outlinewidth": 0,
              "ticks": ""
             }
            },
            "type": "scattercarpet"
           }
          ],
          "scattergeo": [
           {
            "marker": {
             "colorbar": {
              "outlinewidth": 0,
              "ticks": ""
             }
            },
            "type": "scattergeo"
           }
          ],
          "scattergl": [
           {
            "marker": {
             "colorbar": {
              "outlinewidth": 0,
              "ticks": ""
             }
            },
            "type": "scattergl"
           }
          ],
          "scattermapbox": [
           {
            "marker": {
             "colorbar": {
              "outlinewidth": 0,
              "ticks": ""
             }
            },
            "type": "scattermapbox"
           }
          ],
          "scatterpolar": [
           {
            "marker": {
             "colorbar": {
              "outlinewidth": 0,
              "ticks": ""
             }
            },
            "type": "scatterpolar"
           }
          ],
          "scatterpolargl": [
           {
            "marker": {
             "colorbar": {
              "outlinewidth": 0,
              "ticks": ""
             }
            },
            "type": "scatterpolargl"
           }
          ],
          "scatterternary": [
           {
            "marker": {
             "colorbar": {
              "outlinewidth": 0,
              "ticks": ""
             }
            },
            "type": "scatterternary"
           }
          ],
          "surface": [
           {
            "colorbar": {
             "outlinewidth": 0,
             "ticks": ""
            },
            "colorscale": [
             [
              0,
              "#0d0887"
             ],
             [
              0.1111111111111111,
              "#46039f"
             ],
             [
              0.2222222222222222,
              "#7201a8"
             ],
             [
              0.3333333333333333,
              "#9c179e"
             ],
             [
              0.4444444444444444,
              "#bd3786"
             ],
             [
              0.5555555555555556,
              "#d8576b"
             ],
             [
              0.6666666666666666,
              "#ed7953"
             ],
             [
              0.7777777777777778,
              "#fb9f3a"
             ],
             [
              0.8888888888888888,
              "#fdca26"
             ],
             [
              1,
              "#f0f921"
             ]
            ],
            "type": "surface"
           }
          ],
          "table": [
           {
            "cells": {
             "fill": {
              "color": "#EBF0F8"
             },
             "line": {
              "color": "white"
             }
            },
            "header": {
             "fill": {
              "color": "#C8D4E3"
             },
             "line": {
              "color": "white"
             }
            },
            "type": "table"
           }
          ]
         },
         "layout": {
          "annotationdefaults": {
           "arrowcolor": "#2a3f5f",
           "arrowhead": 0,
           "arrowwidth": 1
          },
          "autotypenumbers": "strict",
          "coloraxis": {
           "colorbar": {
            "outlinewidth": 0,
            "ticks": ""
           }
          },
          "colorscale": {
           "diverging": [
            [
             0,
             "#8e0152"
            ],
            [
             0.1,
             "#c51b7d"
            ],
            [
             0.2,
             "#de77ae"
            ],
            [
             0.3,
             "#f1b6da"
            ],
            [
             0.4,
             "#fde0ef"
            ],
            [
             0.5,
             "#f7f7f7"
            ],
            [
             0.6,
             "#e6f5d0"
            ],
            [
             0.7,
             "#b8e186"
            ],
            [
             0.8,
             "#7fbc41"
            ],
            [
             0.9,
             "#4d9221"
            ],
            [
             1,
             "#276419"
            ]
           ],
           "sequential": [
            [
             0,
             "#0d0887"
            ],
            [
             0.1111111111111111,
             "#46039f"
            ],
            [
             0.2222222222222222,
             "#7201a8"
            ],
            [
             0.3333333333333333,
             "#9c179e"
            ],
            [
             0.4444444444444444,
             "#bd3786"
            ],
            [
             0.5555555555555556,
             "#d8576b"
            ],
            [
             0.6666666666666666,
             "#ed7953"
            ],
            [
             0.7777777777777778,
             "#fb9f3a"
            ],
            [
             0.8888888888888888,
             "#fdca26"
            ],
            [
             1,
             "#f0f921"
            ]
           ],
           "sequentialminus": [
            [
             0,
             "#0d0887"
            ],
            [
             0.1111111111111111,
             "#46039f"
            ],
            [
             0.2222222222222222,
             "#7201a8"
            ],
            [
             0.3333333333333333,
             "#9c179e"
            ],
            [
             0.4444444444444444,
             "#bd3786"
            ],
            [
             0.5555555555555556,
             "#d8576b"
            ],
            [
             0.6666666666666666,
             "#ed7953"
            ],
            [
             0.7777777777777778,
             "#fb9f3a"
            ],
            [
             0.8888888888888888,
             "#fdca26"
            ],
            [
             1,
             "#f0f921"
            ]
           ]
          },
          "colorway": [
           "#636efa",
           "#EF553B",
           "#00cc96",
           "#ab63fa",
           "#FFA15A",
           "#19d3f3",
           "#FF6692",
           "#B6E880",
           "#FF97FF",
           "#FECB52"
          ],
          "font": {
           "color": "#2a3f5f"
          },
          "geo": {
           "bgcolor": "white",
           "lakecolor": "white",
           "landcolor": "#E5ECF6",
           "showlakes": true,
           "showland": true,
           "subunitcolor": "white"
          },
          "hoverlabel": {
           "align": "left"
          },
          "hovermode": "closest",
          "mapbox": {
           "style": "light"
          },
          "paper_bgcolor": "white",
          "plot_bgcolor": "#E5ECF6",
          "polar": {
           "angularaxis": {
            "gridcolor": "white",
            "linecolor": "white",
            "ticks": ""
           },
           "bgcolor": "#E5ECF6",
           "radialaxis": {
            "gridcolor": "white",
            "linecolor": "white",
            "ticks": ""
           }
          },
          "scene": {
           "xaxis": {
            "backgroundcolor": "#E5ECF6",
            "gridcolor": "white",
            "gridwidth": 2,
            "linecolor": "white",
            "showbackground": true,
            "ticks": "",
            "zerolinecolor": "white"
           },
           "yaxis": {
            "backgroundcolor": "#E5ECF6",
            "gridcolor": "white",
            "gridwidth": 2,
            "linecolor": "white",
            "showbackground": true,
            "ticks": "",
            "zerolinecolor": "white"
           },
           "zaxis": {
            "backgroundcolor": "#E5ECF6",
            "gridcolor": "white",
            "gridwidth": 2,
            "linecolor": "white",
            "showbackground": true,
            "ticks": "",
            "zerolinecolor": "white"
           }
          },
          "shapedefaults": {
           "line": {
            "color": "#2a3f5f"
           }
          },
          "ternary": {
           "aaxis": {
            "gridcolor": "white",
            "linecolor": "white",
            "ticks": ""
           },
           "baxis": {
            "gridcolor": "white",
            "linecolor": "white",
            "ticks": ""
           },
           "bgcolor": "#E5ECF6",
           "caxis": {
            "gridcolor": "white",
            "linecolor": "white",
            "ticks": ""
           }
          },
          "title": {
           "x": 0.05
          },
          "xaxis": {
           "automargin": true,
           "gridcolor": "white",
           "linecolor": "white",
           "ticks": "",
           "title": {
            "standoff": 15
           },
           "zerolinecolor": "white",
           "zerolinewidth": 2
          },
          "yaxis": {
           "automargin": true,
           "gridcolor": "white",
           "linecolor": "white",
           "ticks": "",
           "title": {
            "standoff": 15
           },
           "zerolinecolor": "white",
           "zerolinewidth": 2
          }
         }
        },
        "title": {
         "text": "Cashflow  Graph",
         "x": 0.4,
         "y": 0.85
        },
        "width": 1000,
        "xaxis": {
         "anchor": "y",
         "domain": [
          0,
          0.94
         ],
         "tickangle": 0
        },
        "yaxis": {
         "anchor": "x",
         "domain": [
          0,
          1
         ],
         "showgrid": false,
         "side": "left",
         "tickmode": "array",
         "ticktext": [
          "0€",
          "500€",
          "1000€",
          "1500€",
          "2000€",
          "2500€"
         ],
         "tickvals": [
          0,
          500,
          1000,
          1500,
          2000,
          2500
         ],
         "title": {
          "text": "<b>Social Credits</b>"
         }
        },
        "yaxis2": {
         "anchor": "x",
         "overlaying": "y",
         "range": [
          0,
          100
         ],
         "side": "right",
         "tickmode": "array",
         "ticktext": [
          "40%",
          "60%",
          "80%"
         ],
         "tickvals": [
          40,
          60,
          80
         ],
         "title": {
          "text": "<b>Saving Rate</b>"
         }
        }
       }
      }
     },
     "metadata": {},
     "output_type": "display_data"
    }
   ],
   "source": [
    "fig_cashflow = FinPlot.plot_cashflow(df_m_cashflow)\n",
    "fig_cashflow.show()"
   ]
  },
  {
   "cell_type": "code",
   "execution_count": 8,
   "id": "18b5fb02-0b6c-4dfc-ade1-096ca52835e1",
   "metadata": {},
   "outputs": [],
   "source": [
    "# Liquidity in Hype, Revolut\n",
    "current_balance_revolut = round(df_year_cashflow.loc[df_year_cashflow[\"Type\"] == \"Revolut\"]['Qty'].sum(),2) + init_holdings['liquidity']['Revolut - EUR']\n",
    "current_balance_hype    = round(df_year_cashflow.loc[df_year_cashflow[\"Type\"] == \"Hype\"]['Qty'].sum(),2) + init_holdings['liquidity']['Hype - EUR']\n",
    "current_balance_cash    = round(df_year_cashflow.loc[df_year_cashflow[\"Type\"] == \"Cash\"]['Qty'].sum(),2) + init_holdings['liquidity']['Money - EUR']\n",
    "current_balance_bitget  = round(df_year_cashflow.loc[df_year_cashflow[\"Type\"] == \"Bitget\"]['Qty'].sum(),2)"
   ]
  },
  {
   "cell_type": "code",
   "execution_count": 9,
   "id": "c85c2a1d-4732-4524-9eb8-e04b9c7497ea",
   "metadata": {},
   "outputs": [
    {
     "name": "stdout",
     "output_type": "stream",
     "text": [
      "Current LIQUIDITY\n",
      "Revolut: 28.61\n",
      "Hype: 14382.58\n",
      "Cash: 300.0\n",
      "Bitget Fiat: 0.0\n"
     ]
    }
   ],
   "source": [
    "print(\"Current LIQUIDITY\")\n",
    "print(f\"Revolut: {current_balance_revolut}\")\n",
    "print(f\"Hype: {current_balance_hype}\")\n",
    "print(f\"Cash: {current_balance_cash}\")\n",
    "print(f\"Bitget Fiat: {current_balance_bitget}\")"
   ]
  },
  {
   "cell_type": "markdown",
   "id": "4eec52e6-1ad7-4c65-b717-fb30d105a371",
   "metadata": {},
   "source": [
    "### Detail Expenses January 2025"
   ]
  },
  {
   "cell_type": "code",
   "execution_count": null,
   "id": "2b4e8e8d-47cb-4b0c-aaa1-ba9de8127d81",
   "metadata": {},
   "outputs": [
    {
     "data": {
      "application/vnd.plotly.v1+json": {
       "config": {
        "plotlyServerURL": "https://plot.ly"
       },
       "data": [
        {
         "branchvalues": "total",
         "ids": [
          "Shop/Accessories",
          "Subs/Bank",
          "Shop/Books",
          "Shop/Clothes",
          "Other/Courses",
          "Groceries/Diet",
          "Leisure/Disco",
          "Leisure/Drink",
          "Transport/Gasoline",
          "Other/Gifts",
          "Leisure/Karma",
          "Leisure/Restaurant",
          "Subs/SIM",
          "Transport/Train",
          "Groceries",
          "Leisure",
          "Other",
          "Shop",
          "Subs",
          "Transport"
         ],
         "labels": [
          "Accessories",
          "Bank",
          "Books",
          "Clothes",
          "Courses",
          "Diet",
          "Disco",
          "Drink",
          "Gasoline",
          "Gifts",
          "Karma",
          "Restaurant",
          "SIM",
          "Train",
          "Groceries",
          "Leisure",
          "Other",
          "Shop",
          "Subs",
          "Transport"
         ],
         "parents": [
          "Shop",
          "Subs",
          "Shop",
          "Shop",
          "Other",
          "Groceries",
          "Leisure",
          "Leisure",
          "Transport",
          "Other",
          "Leisure",
          "Leisure",
          "Subs",
          "Transport",
          "",
          "",
          "",
          "",
          "",
          ""
         ],
         "type": "sunburst",
         "values": [
          44.53,
          3,
          28.02,
          355.15,
          121.67,
          312.98,
          47.9,
          25,
          60.08,
          17.28,
          25,
          15.4,
          5,
          8.2,
          312.98,
          113.3,
          138.95,
          427.70000000000005,
          8,
          68.28
         ]
        }
       ],
       "layout": {
        "height": 500,
        "margin": {
         "b": 10,
         "l": 10,
         "r": 10,
         "t": 60
        },
        "template": {
         "data": {
          "bar": [
           {
            "error_x": {
             "color": "#2a3f5f"
            },
            "error_y": {
             "color": "#2a3f5f"
            },
            "marker": {
             "line": {
              "color": "#E5ECF6",
              "width": 0.5
             },
             "pattern": {
              "fillmode": "overlay",
              "size": 10,
              "solidity": 0.2
             }
            },
            "type": "bar"
           }
          ],
          "barpolar": [
           {
            "marker": {
             "line": {
              "color": "#E5ECF6",
              "width": 0.5
             },
             "pattern": {
              "fillmode": "overlay",
              "size": 10,
              "solidity": 0.2
             }
            },
            "type": "barpolar"
           }
          ],
          "carpet": [
           {
            "aaxis": {
             "endlinecolor": "#2a3f5f",
             "gridcolor": "white",
             "linecolor": "white",
             "minorgridcolor": "white",
             "startlinecolor": "#2a3f5f"
            },
            "baxis": {
             "endlinecolor": "#2a3f5f",
             "gridcolor": "white",
             "linecolor": "white",
             "minorgridcolor": "white",
             "startlinecolor": "#2a3f5f"
            },
            "type": "carpet"
           }
          ],
          "choropleth": [
           {
            "colorbar": {
             "outlinewidth": 0,
             "ticks": ""
            },
            "type": "choropleth"
           }
          ],
          "contour": [
           {
            "colorbar": {
             "outlinewidth": 0,
             "ticks": ""
            },
            "colorscale": [
             [
              0,
              "#0d0887"
             ],
             [
              0.1111111111111111,
              "#46039f"
             ],
             [
              0.2222222222222222,
              "#7201a8"
             ],
             [
              0.3333333333333333,
              "#9c179e"
             ],
             [
              0.4444444444444444,
              "#bd3786"
             ],
             [
              0.5555555555555556,
              "#d8576b"
             ],
             [
              0.6666666666666666,
              "#ed7953"
             ],
             [
              0.7777777777777778,
              "#fb9f3a"
             ],
             [
              0.8888888888888888,
              "#fdca26"
             ],
             [
              1,
              "#f0f921"
             ]
            ],
            "type": "contour"
           }
          ],
          "contourcarpet": [
           {
            "colorbar": {
             "outlinewidth": 0,
             "ticks": ""
            },
            "type": "contourcarpet"
           }
          ],
          "heatmap": [
           {
            "colorbar": {
             "outlinewidth": 0,
             "ticks": ""
            },
            "colorscale": [
             [
              0,
              "#0d0887"
             ],
             [
              0.1111111111111111,
              "#46039f"
             ],
             [
              0.2222222222222222,
              "#7201a8"
             ],
             [
              0.3333333333333333,
              "#9c179e"
             ],
             [
              0.4444444444444444,
              "#bd3786"
             ],
             [
              0.5555555555555556,
              "#d8576b"
             ],
             [
              0.6666666666666666,
              "#ed7953"
             ],
             [
              0.7777777777777778,
              "#fb9f3a"
             ],
             [
              0.8888888888888888,
              "#fdca26"
             ],
             [
              1,
              "#f0f921"
             ]
            ],
            "type": "heatmap"
           }
          ],
          "heatmapgl": [
           {
            "colorbar": {
             "outlinewidth": 0,
             "ticks": ""
            },
            "colorscale": [
             [
              0,
              "#0d0887"
             ],
             [
              0.1111111111111111,
              "#46039f"
             ],
             [
              0.2222222222222222,
              "#7201a8"
             ],
             [
              0.3333333333333333,
              "#9c179e"
             ],
             [
              0.4444444444444444,
              "#bd3786"
             ],
             [
              0.5555555555555556,
              "#d8576b"
             ],
             [
              0.6666666666666666,
              "#ed7953"
             ],
             [
              0.7777777777777778,
              "#fb9f3a"
             ],
             [
              0.8888888888888888,
              "#fdca26"
             ],
             [
              1,
              "#f0f921"
             ]
            ],
            "type": "heatmapgl"
           }
          ],
          "histogram": [
           {
            "marker": {
             "pattern": {
              "fillmode": "overlay",
              "size": 10,
              "solidity": 0.2
             }
            },
            "type": "histogram"
           }
          ],
          "histogram2d": [
           {
            "colorbar": {
             "outlinewidth": 0,
             "ticks": ""
            },
            "colorscale": [
             [
              0,
              "#0d0887"
             ],
             [
              0.1111111111111111,
              "#46039f"
             ],
             [
              0.2222222222222222,
              "#7201a8"
             ],
             [
              0.3333333333333333,
              "#9c179e"
             ],
             [
              0.4444444444444444,
              "#bd3786"
             ],
             [
              0.5555555555555556,
              "#d8576b"
             ],
             [
              0.6666666666666666,
              "#ed7953"
             ],
             [
              0.7777777777777778,
              "#fb9f3a"
             ],
             [
              0.8888888888888888,
              "#fdca26"
             ],
             [
              1,
              "#f0f921"
             ]
            ],
            "type": "histogram2d"
           }
          ],
          "histogram2dcontour": [
           {
            "colorbar": {
             "outlinewidth": 0,
             "ticks": ""
            },
            "colorscale": [
             [
              0,
              "#0d0887"
             ],
             [
              0.1111111111111111,
              "#46039f"
             ],
             [
              0.2222222222222222,
              "#7201a8"
             ],
             [
              0.3333333333333333,
              "#9c179e"
             ],
             [
              0.4444444444444444,
              "#bd3786"
             ],
             [
              0.5555555555555556,
              "#d8576b"
             ],
             [
              0.6666666666666666,
              "#ed7953"
             ],
             [
              0.7777777777777778,
              "#fb9f3a"
             ],
             [
              0.8888888888888888,
              "#fdca26"
             ],
             [
              1,
              "#f0f921"
             ]
            ],
            "type": "histogram2dcontour"
           }
          ],
          "mesh3d": [
           {
            "colorbar": {
             "outlinewidth": 0,
             "ticks": ""
            },
            "type": "mesh3d"
           }
          ],
          "parcoords": [
           {
            "line": {
             "colorbar": {
              "outlinewidth": 0,
              "ticks": ""
             }
            },
            "type": "parcoords"
           }
          ],
          "pie": [
           {
            "automargin": true,
            "type": "pie"
           }
          ],
          "scatter": [
           {
            "fillpattern": {
             "fillmode": "overlay",
             "size": 10,
             "solidity": 0.2
            },
            "type": "scatter"
           }
          ],
          "scatter3d": [
           {
            "line": {
             "colorbar": {
              "outlinewidth": 0,
              "ticks": ""
             }
            },
            "marker": {
             "colorbar": {
              "outlinewidth": 0,
              "ticks": ""
             }
            },
            "type": "scatter3d"
           }
          ],
          "scattercarpet": [
           {
            "marker": {
             "colorbar": {
              "outlinewidth": 0,
              "ticks": ""
             }
            },
            "type": "scattercarpet"
           }
          ],
          "scattergeo": [
           {
            "marker": {
             "colorbar": {
              "outlinewidth": 0,
              "ticks": ""
             }
            },
            "type": "scattergeo"
           }
          ],
          "scattergl": [
           {
            "marker": {
             "colorbar": {
              "outlinewidth": 0,
              "ticks": ""
             }
            },
            "type": "scattergl"
           }
          ],
          "scattermapbox": [
           {
            "marker": {
             "colorbar": {
              "outlinewidth": 0,
              "ticks": ""
             }
            },
            "type": "scattermapbox"
           }
          ],
          "scatterpolar": [
           {
            "marker": {
             "colorbar": {
              "outlinewidth": 0,
              "ticks": ""
             }
            },
            "type": "scatterpolar"
           }
          ],
          "scatterpolargl": [
           {
            "marker": {
             "colorbar": {
              "outlinewidth": 0,
              "ticks": ""
             }
            },
            "type": "scatterpolargl"
           }
          ],
          "scatterternary": [
           {
            "marker": {
             "colorbar": {
              "outlinewidth": 0,
              "ticks": ""
             }
            },
            "type": "scatterternary"
           }
          ],
          "surface": [
           {
            "colorbar": {
             "outlinewidth": 0,
             "ticks": ""
            },
            "colorscale": [
             [
              0,
              "#0d0887"
             ],
             [
              0.1111111111111111,
              "#46039f"
             ],
             [
              0.2222222222222222,
              "#7201a8"
             ],
             [
              0.3333333333333333,
              "#9c179e"
             ],
             [
              0.4444444444444444,
              "#bd3786"
             ],
             [
              0.5555555555555556,
              "#d8576b"
             ],
             [
              0.6666666666666666,
              "#ed7953"
             ],
             [
              0.7777777777777778,
              "#fb9f3a"
             ],
             [
              0.8888888888888888,
              "#fdca26"
             ],
             [
              1,
              "#f0f921"
             ]
            ],
            "type": "surface"
           }
          ],
          "table": [
           {
            "cells": {
             "fill": {
              "color": "#EBF0F8"
             },
             "line": {
              "color": "white"
             }
            },
            "header": {
             "fill": {
              "color": "#C8D4E3"
             },
             "line": {
              "color": "white"
             }
            },
            "type": "table"
           }
          ]
         },
         "layout": {
          "annotationdefaults": {
           "arrowcolor": "#2a3f5f",
           "arrowhead": 0,
           "arrowwidth": 1
          },
          "autotypenumbers": "strict",
          "coloraxis": {
           "colorbar": {
            "outlinewidth": 0,
            "ticks": ""
           }
          },
          "colorscale": {
           "diverging": [
            [
             0,
             "#8e0152"
            ],
            [
             0.1,
             "#c51b7d"
            ],
            [
             0.2,
             "#de77ae"
            ],
            [
             0.3,
             "#f1b6da"
            ],
            [
             0.4,
             "#fde0ef"
            ],
            [
             0.5,
             "#f7f7f7"
            ],
            [
             0.6,
             "#e6f5d0"
            ],
            [
             0.7,
             "#b8e186"
            ],
            [
             0.8,
             "#7fbc41"
            ],
            [
             0.9,
             "#4d9221"
            ],
            [
             1,
             "#276419"
            ]
           ],
           "sequential": [
            [
             0,
             "#0d0887"
            ],
            [
             0.1111111111111111,
             "#46039f"
            ],
            [
             0.2222222222222222,
             "#7201a8"
            ],
            [
             0.3333333333333333,
             "#9c179e"
            ],
            [
             0.4444444444444444,
             "#bd3786"
            ],
            [
             0.5555555555555556,
             "#d8576b"
            ],
            [
             0.6666666666666666,
             "#ed7953"
            ],
            [
             0.7777777777777778,
             "#fb9f3a"
            ],
            [
             0.8888888888888888,
             "#fdca26"
            ],
            [
             1,
             "#f0f921"
            ]
           ],
           "sequentialminus": [
            [
             0,
             "#0d0887"
            ],
            [
             0.1111111111111111,
             "#46039f"
            ],
            [
             0.2222222222222222,
             "#7201a8"
            ],
            [
             0.3333333333333333,
             "#9c179e"
            ],
            [
             0.4444444444444444,
             "#bd3786"
            ],
            [
             0.5555555555555556,
             "#d8576b"
            ],
            [
             0.6666666666666666,
             "#ed7953"
            ],
            [
             0.7777777777777778,
             "#fb9f3a"
            ],
            [
             0.8888888888888888,
             "#fdca26"
            ],
            [
             1,
             "#f0f921"
            ]
           ]
          },
          "colorway": [
           "#636efa",
           "#EF553B",
           "#00cc96",
           "#ab63fa",
           "#FFA15A",
           "#19d3f3",
           "#FF6692",
           "#B6E880",
           "#FF97FF",
           "#FECB52"
          ],
          "font": {
           "color": "#2a3f5f"
          },
          "geo": {
           "bgcolor": "white",
           "lakecolor": "white",
           "landcolor": "#E5ECF6",
           "showlakes": true,
           "showland": true,
           "subunitcolor": "white"
          },
          "hoverlabel": {
           "align": "left"
          },
          "hovermode": "closest",
          "mapbox": {
           "style": "light"
          },
          "paper_bgcolor": "white",
          "plot_bgcolor": "#E5ECF6",
          "polar": {
           "angularaxis": {
            "gridcolor": "white",
            "linecolor": "white",
            "ticks": ""
           },
           "bgcolor": "#E5ECF6",
           "radialaxis": {
            "gridcolor": "white",
            "linecolor": "white",
            "ticks": ""
           }
          },
          "scene": {
           "xaxis": {
            "backgroundcolor": "#E5ECF6",
            "gridcolor": "white",
            "gridwidth": 2,
            "linecolor": "white",
            "showbackground": true,
            "ticks": "",
            "zerolinecolor": "white"
           },
           "yaxis": {
            "backgroundcolor": "#E5ECF6",
            "gridcolor": "white",
            "gridwidth": 2,
            "linecolor": "white",
            "showbackground": true,
            "ticks": "",
            "zerolinecolor": "white"
           },
           "zaxis": {
            "backgroundcolor": "#E5ECF6",
            "gridcolor": "white",
            "gridwidth": 2,
            "linecolor": "white",
            "showbackground": true,
            "ticks": "",
            "zerolinecolor": "white"
           }
          },
          "shapedefaults": {
           "line": {
            "color": "#2a3f5f"
           }
          },
          "ternary": {
           "aaxis": {
            "gridcolor": "white",
            "linecolor": "white",
            "ticks": ""
           },
           "baxis": {
            "gridcolor": "white",
            "linecolor": "white",
            "ticks": ""
           },
           "bgcolor": "#E5ECF6",
           "caxis": {
            "gridcolor": "white",
            "linecolor": "white",
            "ticks": ""
           }
          },
          "title": {
           "x": 0.05
          },
          "xaxis": {
           "automargin": true,
           "gridcolor": "white",
           "linecolor": "white",
           "ticks": "",
           "title": {
            "standoff": 15
           },
           "zerolinecolor": "white",
           "zerolinewidth": 2
          },
          "yaxis": {
           "automargin": true,
           "gridcolor": "white",
           "linecolor": "white",
           "ticks": "",
           "title": {
            "standoff": 15
           },
           "zerolinecolor": "white",
           "zerolinewidth": 2
          }
         }
        },
        "title": {
         "text": "Expenses",
         "x": 0.5,
         "y": 0.95
        },
        "width": 500
       }
      }
     },
     "metadata": {},
     "output_type": "display_data"
    }
   ],
   "source": [
    "df_expenses = FinCalc.calc_expenses(df_year_cashflow[ df_year_cashflow.index.month == 1 ])\n",
    "fig = FinPlot.plot_expenses_donut(df_expenses)\n",
    "fig.show()"
   ]
  },
  {
   "cell_type": "code",
   "execution_count": 68,
   "id": "3ab193e9",
   "metadata": {},
   "outputs": [],
   "source": [
    "def plot_expenses_donut(df_expenses, plot_categories = False):\n",
    "    pxfig = px.sunburst(df_expenses, path=['Category', 'Subcategory'], values='Expenses')\n",
    "    \n",
    "    labels = pxfig['data'][0]['labels'].tolist()\n",
    "    parents = pxfig['data'][0]['parents'].tolist()\n",
    "    ids = pxfig['data'][0]['ids'].tolist()\n",
    "    if plot_categories:\n",
    "        values = None\n",
    "    else:\n",
    "        values = pxfig['data'][0]['values'].tolist()\n",
    "  \n",
    "    print(parents)\n",
    "    print(labels)\n",
    "\n",
    "    # Define colors for each category\n",
    "    category_colors = {\n",
    "        'Shop':      '#CDC1FF',\n",
    "        'Groceries': '#C96868',\n",
    "        'Other':     '#95D2B3',\n",
    "        'Leisure':   '#FCDC94',\n",
    "        'Transport': '#B9B28A',\n",
    "        'Subs':      '#C9E9D2',\n",
    "        'Health':    '#D4F6FF',\n",
    "        'Family':    '#FFCF9D',\n",
    "        'Holiday':   '#FEFBD8',\n",
    "        'Bills':     '#E7D4B5'\n",
    "    }\n",
    "\n",
    "    # Create a list of colors for each label\n",
    "    #colors = []\n",
    "    #for label in labels:\n",
    "    #    if label in category_colors:\n",
    "    #        colors.append(category_colors[label])  # Category color\n",
    "    #    else:\n",
    "    #        # Get the parent category color and lighten it for subcategories\n",
    "    #        parent_index = labels.index(parents[labels.index(label)]) if parents[labels.index(label)] else None\n",
    "    #        if parent_index is not None:\n",
    "    #            parent_color = category_colors[parents[labels.index(label)]]\n",
    "    #            colors.append(parent_color)  # Lighter subcategory color\n",
    "    #        else:\n",
    "    #            colors.append('#FFFFFF')  # Default color for root\n",
    "\n",
    "    # Create a list of colors for each label\n",
    "    colors = []\n",
    "    for label in labels:\n",
    "        if label in category_colors:\n",
    "            colors.append(category_colors[label])  # Category color\n",
    "        else:\n",
    "            if parents[labels.index(label)]:\n",
    "                parent_index = labels.index(parents[labels.index(label)])\n",
    "            else:\n",
    "                parent_index = None\n",
    "\n",
    "            if parent_index is not None:\n",
    "                parent_color = category_colors[parents[labels.index(label)]]\n",
    "                colors.append(parent_color)  # Lighter subcategory color\n",
    "            else:\n",
    "                colors.append('#FFFFFF')  # Default color for root\n",
    "\n",
    "    fig = go.Figure(\n",
    "        go.Sunburst(\n",
    "            labels = labels,\n",
    "            parents = parents,\n",
    "            values = values,\n",
    "            ids = ids,\n",
    "            branchvalues = \"total\",\n",
    "            marker=dict(colors=colors)\n",
    "        )\n",
    "    )\n",
    "    fig.update_layout(\n",
    "        title = dict(text=\"Expenses\", x=0.5, y=0.95),\n",
    "        margin = dict(t=60, l=10, r=10, b=10),\n",
    "        height = 500, width = 500\n",
    "    )\n",
    "    return fig"
   ]
  },
  {
   "cell_type": "code",
   "execution_count": 69,
   "id": "0b23f102",
   "metadata": {},
   "outputs": [
    {
     "name": "stdout",
     "output_type": "stream",
     "text": [
      "['Shop', 'Subs', 'Groceries', 'Leisure', 'Family', 'Groceries', 'Groceries', 'Transport', 'Holiday', 'Holiday', 'Leisure', 'Leisure', 'Subs', 'Groceries', 'Holiday', 'Subs', '', '', '', '', '', '', '']\n",
      "['Accessories', 'Bank', 'Diet', 'Drink', 'Favors', 'Feast', 'Food', 'Gasoline', 'Groceries', 'Internet', 'Karma', 'Restaurant', 'SIM', 'Supplements', 'Transport', 'VPS', 'Family', 'Groceries', 'Holiday', 'Leisure', 'Shop', 'Subs', 'Transport']\n"
     ]
    },
    {
     "data": {
      "application/vnd.plotly.v1+json": {
       "config": {
        "plotlyServerURL": "https://plot.ly"
       },
       "data": [
        {
         "branchvalues": "total",
         "ids": [
          "Shop/Accessories",
          "Subs/Bank",
          "Groceries/Diet",
          "Leisure/Drink",
          "Family/Favors",
          "Groceries/Feast",
          "Groceries/Food",
          "Transport/Gasoline",
          "Holiday/Groceries",
          "Holiday/Internet",
          "Leisure/Karma",
          "Leisure/Restaurant",
          "Subs/SIM",
          "Groceries/Supplements",
          "Holiday/Transport",
          "Subs/VPS",
          "Family",
          "Groceries",
          "Holiday",
          "Leisure",
          "Shop",
          "Subs",
          "Transport"
         ],
         "labels": [
          "Accessories",
          "Bank",
          "Diet",
          "Drink",
          "Favors",
          "Feast",
          "Food",
          "Gasoline",
          "Groceries",
          "Internet",
          "Karma",
          "Restaurant",
          "SIM",
          "Supplements",
          "Transport",
          "VPS",
          "Family",
          "Groceries",
          "Holiday",
          "Leisure",
          "Shop",
          "Subs",
          "Transport"
         ],
         "marker": {
          "colors": [
           "#CDC1FF",
           "#C9E9D2",
           "#C96868",
           "#FCDC94",
           "#FFCF9D",
           "#C96868",
           "#C96868",
           "#B9B28A",
           "#C96868",
           "#FEFBD8",
           "#FCDC94",
           "#FCDC94",
           "#C9E9D2",
           "#C96868",
           "#B9B28A",
           "#C9E9D2",
           "#FFCF9D",
           "#C96868",
           "#FEFBD8",
           "#FCDC94",
           "#CDC1FF",
           "#C9E9D2",
           "#B9B28A"
          ]
         },
         "parents": [
          "Shop",
          "Subs",
          "Groceries",
          "Leisure",
          "Family",
          "Groceries",
          "Groceries",
          "Transport",
          "Holiday",
          "Holiday",
          "Leisure",
          "Leisure",
          "Subs",
          "Groceries",
          "Holiday",
          "Subs",
          "",
          "",
          "",
          "",
          "",
          "",
          ""
         ],
         "type": "sunburst",
         "values": [
          59.46,
          1,
          84.32,
          2.4,
          2.99,
          16.57,
          78.64,
          10,
          43.9,
          10,
          1,
          6,
          5,
          53.99,
          8.6,
          5.67,
          2.99,
          233.52,
          62.5,
          9.4,
          59.46,
          11.67,
          10
         ]
        }
       ],
       "layout": {
        "height": 500,
        "margin": {
         "b": 10,
         "l": 10,
         "r": 10,
         "t": 60
        },
        "template": {
         "data": {
          "bar": [
           {
            "error_x": {
             "color": "#2a3f5f"
            },
            "error_y": {
             "color": "#2a3f5f"
            },
            "marker": {
             "line": {
              "color": "#E5ECF6",
              "width": 0.5
             },
             "pattern": {
              "fillmode": "overlay",
              "size": 10,
              "solidity": 0.2
             }
            },
            "type": "bar"
           }
          ],
          "barpolar": [
           {
            "marker": {
             "line": {
              "color": "#E5ECF6",
              "width": 0.5
             },
             "pattern": {
              "fillmode": "overlay",
              "size": 10,
              "solidity": 0.2
             }
            },
            "type": "barpolar"
           }
          ],
          "carpet": [
           {
            "aaxis": {
             "endlinecolor": "#2a3f5f",
             "gridcolor": "white",
             "linecolor": "white",
             "minorgridcolor": "white",
             "startlinecolor": "#2a3f5f"
            },
            "baxis": {
             "endlinecolor": "#2a3f5f",
             "gridcolor": "white",
             "linecolor": "white",
             "minorgridcolor": "white",
             "startlinecolor": "#2a3f5f"
            },
            "type": "carpet"
           }
          ],
          "choropleth": [
           {
            "colorbar": {
             "outlinewidth": 0,
             "ticks": ""
            },
            "type": "choropleth"
           }
          ],
          "contour": [
           {
            "colorbar": {
             "outlinewidth": 0,
             "ticks": ""
            },
            "colorscale": [
             [
              0,
              "#0d0887"
             ],
             [
              0.1111111111111111,
              "#46039f"
             ],
             [
              0.2222222222222222,
              "#7201a8"
             ],
             [
              0.3333333333333333,
              "#9c179e"
             ],
             [
              0.4444444444444444,
              "#bd3786"
             ],
             [
              0.5555555555555556,
              "#d8576b"
             ],
             [
              0.6666666666666666,
              "#ed7953"
             ],
             [
              0.7777777777777778,
              "#fb9f3a"
             ],
             [
              0.8888888888888888,
              "#fdca26"
             ],
             [
              1,
              "#f0f921"
             ]
            ],
            "type": "contour"
           }
          ],
          "contourcarpet": [
           {
            "colorbar": {
             "outlinewidth": 0,
             "ticks": ""
            },
            "type": "contourcarpet"
           }
          ],
          "heatmap": [
           {
            "colorbar": {
             "outlinewidth": 0,
             "ticks": ""
            },
            "colorscale": [
             [
              0,
              "#0d0887"
             ],
             [
              0.1111111111111111,
              "#46039f"
             ],
             [
              0.2222222222222222,
              "#7201a8"
             ],
             [
              0.3333333333333333,
              "#9c179e"
             ],
             [
              0.4444444444444444,
              "#bd3786"
             ],
             [
              0.5555555555555556,
              "#d8576b"
             ],
             [
              0.6666666666666666,
              "#ed7953"
             ],
             [
              0.7777777777777778,
              "#fb9f3a"
             ],
             [
              0.8888888888888888,
              "#fdca26"
             ],
             [
              1,
              "#f0f921"
             ]
            ],
            "type": "heatmap"
           }
          ],
          "heatmapgl": [
           {
            "colorbar": {
             "outlinewidth": 0,
             "ticks": ""
            },
            "colorscale": [
             [
              0,
              "#0d0887"
             ],
             [
              0.1111111111111111,
              "#46039f"
             ],
             [
              0.2222222222222222,
              "#7201a8"
             ],
             [
              0.3333333333333333,
              "#9c179e"
             ],
             [
              0.4444444444444444,
              "#bd3786"
             ],
             [
              0.5555555555555556,
              "#d8576b"
             ],
             [
              0.6666666666666666,
              "#ed7953"
             ],
             [
              0.7777777777777778,
              "#fb9f3a"
             ],
             [
              0.8888888888888888,
              "#fdca26"
             ],
             [
              1,
              "#f0f921"
             ]
            ],
            "type": "heatmapgl"
           }
          ],
          "histogram": [
           {
            "marker": {
             "pattern": {
              "fillmode": "overlay",
              "size": 10,
              "solidity": 0.2
             }
            },
            "type": "histogram"
           }
          ],
          "histogram2d": [
           {
            "colorbar": {
             "outlinewidth": 0,
             "ticks": ""
            },
            "colorscale": [
             [
              0,
              "#0d0887"
             ],
             [
              0.1111111111111111,
              "#46039f"
             ],
             [
              0.2222222222222222,
              "#7201a8"
             ],
             [
              0.3333333333333333,
              "#9c179e"
             ],
             [
              0.4444444444444444,
              "#bd3786"
             ],
             [
              0.5555555555555556,
              "#d8576b"
             ],
             [
              0.6666666666666666,
              "#ed7953"
             ],
             [
              0.7777777777777778,
              "#fb9f3a"
             ],
             [
              0.8888888888888888,
              "#fdca26"
             ],
             [
              1,
              "#f0f921"
             ]
            ],
            "type": "histogram2d"
           }
          ],
          "histogram2dcontour": [
           {
            "colorbar": {
             "outlinewidth": 0,
             "ticks": ""
            },
            "colorscale": [
             [
              0,
              "#0d0887"
             ],
             [
              0.1111111111111111,
              "#46039f"
             ],
             [
              0.2222222222222222,
              "#7201a8"
             ],
             [
              0.3333333333333333,
              "#9c179e"
             ],
             [
              0.4444444444444444,
              "#bd3786"
             ],
             [
              0.5555555555555556,
              "#d8576b"
             ],
             [
              0.6666666666666666,
              "#ed7953"
             ],
             [
              0.7777777777777778,
              "#fb9f3a"
             ],
             [
              0.8888888888888888,
              "#fdca26"
             ],
             [
              1,
              "#f0f921"
             ]
            ],
            "type": "histogram2dcontour"
           }
          ],
          "mesh3d": [
           {
            "colorbar": {
             "outlinewidth": 0,
             "ticks": ""
            },
            "type": "mesh3d"
           }
          ],
          "parcoords": [
           {
            "line": {
             "colorbar": {
              "outlinewidth": 0,
              "ticks": ""
             }
            },
            "type": "parcoords"
           }
          ],
          "pie": [
           {
            "automargin": true,
            "type": "pie"
           }
          ],
          "scatter": [
           {
            "fillpattern": {
             "fillmode": "overlay",
             "size": 10,
             "solidity": 0.2
            },
            "type": "scatter"
           }
          ],
          "scatter3d": [
           {
            "line": {
             "colorbar": {
              "outlinewidth": 0,
              "ticks": ""
             }
            },
            "marker": {
             "colorbar": {
              "outlinewidth": 0,
              "ticks": ""
             }
            },
            "type": "scatter3d"
           }
          ],
          "scattercarpet": [
           {
            "marker": {
             "colorbar": {
              "outlinewidth": 0,
              "ticks": ""
             }
            },
            "type": "scattercarpet"
           }
          ],
          "scattergeo": [
           {
            "marker": {
             "colorbar": {
              "outlinewidth": 0,
              "ticks": ""
             }
            },
            "type": "scattergeo"
           }
          ],
          "scattergl": [
           {
            "marker": {
             "colorbar": {
              "outlinewidth": 0,
              "ticks": ""
             }
            },
            "type": "scattergl"
           }
          ],
          "scattermapbox": [
           {
            "marker": {
             "colorbar": {
              "outlinewidth": 0,
              "ticks": ""
             }
            },
            "type": "scattermapbox"
           }
          ],
          "scatterpolar": [
           {
            "marker": {
             "colorbar": {
              "outlinewidth": 0,
              "ticks": ""
             }
            },
            "type": "scatterpolar"
           }
          ],
          "scatterpolargl": [
           {
            "marker": {
             "colorbar": {
              "outlinewidth": 0,
              "ticks": ""
             }
            },
            "type": "scatterpolargl"
           }
          ],
          "scatterternary": [
           {
            "marker": {
             "colorbar": {
              "outlinewidth": 0,
              "ticks": ""
             }
            },
            "type": "scatterternary"
           }
          ],
          "surface": [
           {
            "colorbar": {
             "outlinewidth": 0,
             "ticks": ""
            },
            "colorscale": [
             [
              0,
              "#0d0887"
             ],
             [
              0.1111111111111111,
              "#46039f"
             ],
             [
              0.2222222222222222,
              "#7201a8"
             ],
             [
              0.3333333333333333,
              "#9c179e"
             ],
             [
              0.4444444444444444,
              "#bd3786"
             ],
             [
              0.5555555555555556,
              "#d8576b"
             ],
             [
              0.6666666666666666,
              "#ed7953"
             ],
             [
              0.7777777777777778,
              "#fb9f3a"
             ],
             [
              0.8888888888888888,
              "#fdca26"
             ],
             [
              1,
              "#f0f921"
             ]
            ],
            "type": "surface"
           }
          ],
          "table": [
           {
            "cells": {
             "fill": {
              "color": "#EBF0F8"
             },
             "line": {
              "color": "white"
             }
            },
            "header": {
             "fill": {
              "color": "#C8D4E3"
             },
             "line": {
              "color": "white"
             }
            },
            "type": "table"
           }
          ]
         },
         "layout": {
          "annotationdefaults": {
           "arrowcolor": "#2a3f5f",
           "arrowhead": 0,
           "arrowwidth": 1
          },
          "autotypenumbers": "strict",
          "coloraxis": {
           "colorbar": {
            "outlinewidth": 0,
            "ticks": ""
           }
          },
          "colorscale": {
           "diverging": [
            [
             0,
             "#8e0152"
            ],
            [
             0.1,
             "#c51b7d"
            ],
            [
             0.2,
             "#de77ae"
            ],
            [
             0.3,
             "#f1b6da"
            ],
            [
             0.4,
             "#fde0ef"
            ],
            [
             0.5,
             "#f7f7f7"
            ],
            [
             0.6,
             "#e6f5d0"
            ],
            [
             0.7,
             "#b8e186"
            ],
            [
             0.8,
             "#7fbc41"
            ],
            [
             0.9,
             "#4d9221"
            ],
            [
             1,
             "#276419"
            ]
           ],
           "sequential": [
            [
             0,
             "#0d0887"
            ],
            [
             0.1111111111111111,
             "#46039f"
            ],
            [
             0.2222222222222222,
             "#7201a8"
            ],
            [
             0.3333333333333333,
             "#9c179e"
            ],
            [
             0.4444444444444444,
             "#bd3786"
            ],
            [
             0.5555555555555556,
             "#d8576b"
            ],
            [
             0.6666666666666666,
             "#ed7953"
            ],
            [
             0.7777777777777778,
             "#fb9f3a"
            ],
            [
             0.8888888888888888,
             "#fdca26"
            ],
            [
             1,
             "#f0f921"
            ]
           ],
           "sequentialminus": [
            [
             0,
             "#0d0887"
            ],
            [
             0.1111111111111111,
             "#46039f"
            ],
            [
             0.2222222222222222,
             "#7201a8"
            ],
            [
             0.3333333333333333,
             "#9c179e"
            ],
            [
             0.4444444444444444,
             "#bd3786"
            ],
            [
             0.5555555555555556,
             "#d8576b"
            ],
            [
             0.6666666666666666,
             "#ed7953"
            ],
            [
             0.7777777777777778,
             "#fb9f3a"
            ],
            [
             0.8888888888888888,
             "#fdca26"
            ],
            [
             1,
             "#f0f921"
            ]
           ]
          },
          "colorway": [
           "#636efa",
           "#EF553B",
           "#00cc96",
           "#ab63fa",
           "#FFA15A",
           "#19d3f3",
           "#FF6692",
           "#B6E880",
           "#FF97FF",
           "#FECB52"
          ],
          "font": {
           "color": "#2a3f5f"
          },
          "geo": {
           "bgcolor": "white",
           "lakecolor": "white",
           "landcolor": "#E5ECF6",
           "showlakes": true,
           "showland": true,
           "subunitcolor": "white"
          },
          "hoverlabel": {
           "align": "left"
          },
          "hovermode": "closest",
          "mapbox": {
           "style": "light"
          },
          "paper_bgcolor": "white",
          "plot_bgcolor": "#E5ECF6",
          "polar": {
           "angularaxis": {
            "gridcolor": "white",
            "linecolor": "white",
            "ticks": ""
           },
           "bgcolor": "#E5ECF6",
           "radialaxis": {
            "gridcolor": "white",
            "linecolor": "white",
            "ticks": ""
           }
          },
          "scene": {
           "xaxis": {
            "backgroundcolor": "#E5ECF6",
            "gridcolor": "white",
            "gridwidth": 2,
            "linecolor": "white",
            "showbackground": true,
            "ticks": "",
            "zerolinecolor": "white"
           },
           "yaxis": {
            "backgroundcolor": "#E5ECF6",
            "gridcolor": "white",
            "gridwidth": 2,
            "linecolor": "white",
            "showbackground": true,
            "ticks": "",
            "zerolinecolor": "white"
           },
           "zaxis": {
            "backgroundcolor": "#E5ECF6",
            "gridcolor": "white",
            "gridwidth": 2,
            "linecolor": "white",
            "showbackground": true,
            "ticks": "",
            "zerolinecolor": "white"
           }
          },
          "shapedefaults": {
           "line": {
            "color": "#2a3f5f"
           }
          },
          "ternary": {
           "aaxis": {
            "gridcolor": "white",
            "linecolor": "white",
            "ticks": ""
           },
           "baxis": {
            "gridcolor": "white",
            "linecolor": "white",
            "ticks": ""
           },
           "bgcolor": "#E5ECF6",
           "caxis": {
            "gridcolor": "white",
            "linecolor": "white",
            "ticks": ""
           }
          },
          "title": {
           "x": 0.05
          },
          "xaxis": {
           "automargin": true,
           "gridcolor": "white",
           "linecolor": "white",
           "ticks": "",
           "title": {
            "standoff": 15
           },
           "zerolinecolor": "white",
           "zerolinewidth": 2
          },
          "yaxis": {
           "automargin": true,
           "gridcolor": "white",
           "linecolor": "white",
           "ticks": "",
           "title": {
            "standoff": 15
           },
           "zerolinecolor": "white",
           "zerolinewidth": 2
          }
         }
        },
        "title": {
         "text": "Expenses",
         "x": 0.5,
         "y": 0.95
        },
        "width": 500
       }
      }
     },
     "metadata": {},
     "output_type": "display_data"
    }
   ],
   "source": [
    "df_expenses = FinCalc.calc_expenses(df_year_cashflow[ df_year_cashflow.index.month == 8 ])\n",
    "fig = plot_expenses_donut(df_expenses)\n",
    "fig.show()"
   ]
  },
  {
   "cell_type": "markdown",
   "id": "90fde5e2-1389-4205-8c32-f5a433ee5cdc",
   "metadata": {},
   "source": [
    "### Investments 2024"
   ]
  },
  {
   "cell_type": "code",
   "execution_count": 5,
   "id": "1097de1f-6c59-4f0a-9fb3-8d7392e1e3cf",
   "metadata": {},
   "outputs": [
    {
     "data": {
      "text/plain": [
       "['SOL', 'ETH', 'USDT']"
      ]
     },
     "execution_count": 5,
     "metadata": {},
     "output_type": "execute_result"
    }
   ],
   "source": [
    "symbols = list(df_year_investments.loc[df_year_investments[\"Type\"]==\"Cryptocurrencies\"][\"Symbol\"].unique())\n",
    "symbols"
   ]
  },
  {
   "cell_type": "code",
   "execution_count": 6,
   "id": "63c72d9f-eadd-4355-8600-df2708733448",
   "metadata": {},
   "outputs": [
    {
     "name": "stdout",
     "output_type": "stream",
     "text": [
      "Date\n",
      "2024-01-31   0.00\n",
      "Freq: ME, Name: Qty, dtype: float64\n",
      "Date\n",
      "2024-01-31   0.00\n",
      "Freq: ME, Name: Qty, dtype: float64\n",
      "Date\n",
      "2024-01-31     0.00\n",
      "2024-02-29     0.00\n",
      "2024-03-31     0.00\n",
      "2024-04-30     0.00\n",
      "2024-05-31     0.00\n",
      "2024-06-30     0.00\n",
      "2024-07-31     0.00\n",
      "2024-08-31   108.24\n",
      "Freq: ME, Name: Qty, dtype: float64\n"
     ]
    }
   ],
   "source": [
    "# BUILD THE DATAFRAME OF ASSET MOVEMENTS WITH FILL TILL END OF YEAR\n",
    "list_investments_asset_class = dict()\n",
    "for asset_class in [\"Cryptocurrencies\"]:\n",
    "    df_year_investments_per_asset = dict()\n",
    "    for symbol in symbols:\n",
    "        df_symbol_transactions = df_year_investments.loc[df_year_investments[\"Type\"] == asset_class].loc[df_year_investments['Symbol'] == symbol]\n",
    "        df_month_invest = df_symbol_transactions.resample(rule='ME')['Qty'].sum()\n",
    "        print(df_month_invest)\n",
    "\n",
    "        try:\n",
    "            fill_len = 12 - len(df_month_invest)\n",
    "            df_month_fill = pd.DataFrame(index = pd.date_range(f'{year}-{len(df_month_invest)+1:0=2}-01',f'{year}-12-31', freq='ME'), data = zip([0]*fill_len), columns=[\"Qty\"])\n",
    "            df_year_investments_per_asset[symbol] = pd.concat([df_month_invest, df_month_fill])\n",
    "        except:\n",
    "            df_year_investments_per_asset[symbol] = df_month_invest\n",
    "    \n",
    "    list_investments_asset_class[asset_class] = df_year_investments_per_asset"
   ]
  },
  {
   "cell_type": "code",
   "execution_count": 10,
   "id": "2cef5898-e86c-4f86-8a8d-d67322499a20",
   "metadata": {},
   "outputs": [],
   "source": [
    "def getSymbolHoldings(asset_class, asset_ticker, list_investments_asset_class, init_holdings, year):\n",
    "    init_and_cum_qty_permonth = list_investments_asset_class[asset_class][asset_ticker].values.cumsum() + init_holdings[asset_class][asset_ticker]\n",
    "    asset_history = pd.read_csv(f\"{data_path_o}/exchange/{asset_ticker}-EUR.csv\").set_index('Date')\n",
    "    asset_history[\"shift\"] = asset_history.shift(1)[\"Close €\"]\n",
    "    asset_history[\"Returns\"] = (asset_history[\"Close €\"] - asset_history[\"shift\"] )/ asset_history[\"Close €\"]\n",
    "    pick_symbol_holdings = asset_history.loc[f'{year}-01-01':f'{year}-12-31'].drop(columns=[\"shift\"])\n",
    "    \n",
    "    pick_symbol_holdings[\"shares\"] = init_and_cum_qty_permonth\n",
    "    pick_symbol_holdings[\"holdings €\"] = pick_symbol_holdings[\"Close €\"]*pick_symbol_holdings[\"shares\"]\n",
    "\n",
    "    return pick_symbol_holdings"
   ]
  },
  {
   "cell_type": "code",
   "execution_count": 11,
   "id": "fc92e13c-d943-4933-a047-bc1448e5d5b1",
   "metadata": {},
   "outputs": [
    {
     "ename": "ValueError",
     "evalue": "Length of values (1) does not match length of index (12)",
     "output_type": "error",
     "traceback": [
      "\u001b[31m---------------------------------------------------------------------------\u001b[39m",
      "\u001b[31mValueError\u001b[39m                                Traceback (most recent call last)",
      "\u001b[36mCell\u001b[39m\u001b[36m \u001b[39m\u001b[32mIn[11]\u001b[39m\u001b[32m, line 1\u001b[39m\n\u001b[32m----> \u001b[39m\u001b[32m1\u001b[39m \u001b[43mgetSymbolHoldings\u001b[49m\u001b[43m(\u001b[49m\u001b[33;43m\"\u001b[39;49m\u001b[33;43mCryptocurrencies\u001b[39;49m\u001b[33;43m\"\u001b[39;49m\u001b[43m,\u001b[49m\u001b[43m \u001b[49m\u001b[33;43m\"\u001b[39;49m\u001b[33;43mSOL\u001b[39;49m\u001b[33;43m\"\u001b[39;49m\u001b[43m,\u001b[49m\u001b[43m \u001b[49m\u001b[43mlist_investments_asset_class\u001b[49m\u001b[43m,\u001b[49m\u001b[43m \u001b[49m\u001b[43minit_holdings\u001b[49m\u001b[43m,\u001b[49m\u001b[43m \u001b[49m\u001b[43mYEAR\u001b[49m\u001b[43m)\u001b[49m.T\n",
      "\u001b[36mCell\u001b[39m\u001b[36m \u001b[39m\u001b[32mIn[10]\u001b[39m\u001b[32m, line 8\u001b[39m, in \u001b[36mgetSymbolHoldings\u001b[39m\u001b[34m(asset_class, asset_ticker, list_investments_asset_class, init_holdings, year)\u001b[39m\n\u001b[32m      5\u001b[39m asset_history[\u001b[33m\"\u001b[39m\u001b[33mReturns\u001b[39m\u001b[33m\"\u001b[39m] = (asset_history[\u001b[33m\"\u001b[39m\u001b[33mClose €\u001b[39m\u001b[33m\"\u001b[39m] - asset_history[\u001b[33m\"\u001b[39m\u001b[33mshift\u001b[39m\u001b[33m\"\u001b[39m] )/ asset_history[\u001b[33m\"\u001b[39m\u001b[33mClose €\u001b[39m\u001b[33m\"\u001b[39m]\n\u001b[32m      6\u001b[39m pick_symbol_holdings = asset_history.loc[\u001b[33mf\u001b[39m\u001b[33m'\u001b[39m\u001b[38;5;132;01m{\u001b[39;00myear\u001b[38;5;132;01m}\u001b[39;00m\u001b[33m-01-01\u001b[39m\u001b[33m'\u001b[39m:\u001b[33mf\u001b[39m\u001b[33m'\u001b[39m\u001b[38;5;132;01m{\u001b[39;00myear\u001b[38;5;132;01m}\u001b[39;00m\u001b[33m-12-31\u001b[39m\u001b[33m'\u001b[39m].drop(columns=[\u001b[33m\"\u001b[39m\u001b[33mshift\u001b[39m\u001b[33m\"\u001b[39m])\n\u001b[32m----> \u001b[39m\u001b[32m8\u001b[39m \u001b[43mpick_symbol_holdings\u001b[49m\u001b[43m[\u001b[49m\u001b[33;43m\"\u001b[39;49m\u001b[33;43mshares\u001b[39;49m\u001b[33;43m\"\u001b[39;49m\u001b[43m]\u001b[49m = init_and_cum_qty_permonth\n\u001b[32m      9\u001b[39m pick_symbol_holdings[\u001b[33m\"\u001b[39m\u001b[33mholdings €\u001b[39m\u001b[33m\"\u001b[39m] = pick_symbol_holdings[\u001b[33m\"\u001b[39m\u001b[33mClose €\u001b[39m\u001b[33m\"\u001b[39m]*pick_symbol_holdings[\u001b[33m\"\u001b[39m\u001b[33mshares\u001b[39m\u001b[33m\"\u001b[39m]\n\u001b[32m     11\u001b[39m \u001b[38;5;28;01mreturn\u001b[39;00m pick_symbol_holdings\n",
      "\u001b[36mFile \u001b[39m\u001b[32m~/miniconda3/lib/python3.12/site-packages/pandas/core/frame.py:4311\u001b[39m, in \u001b[36mDataFrame.__setitem__\u001b[39m\u001b[34m(self, key, value)\u001b[39m\n\u001b[32m   4308\u001b[39m     \u001b[38;5;28mself\u001b[39m._setitem_array([key], value)\n\u001b[32m   4309\u001b[39m \u001b[38;5;28;01melse\u001b[39;00m:\n\u001b[32m   4310\u001b[39m     \u001b[38;5;66;03m# set column\u001b[39;00m\n\u001b[32m-> \u001b[39m\u001b[32m4311\u001b[39m     \u001b[38;5;28;43mself\u001b[39;49m\u001b[43m.\u001b[49m\u001b[43m_set_item\u001b[49m\u001b[43m(\u001b[49m\u001b[43mkey\u001b[49m\u001b[43m,\u001b[49m\u001b[43m \u001b[49m\u001b[43mvalue\u001b[49m\u001b[43m)\u001b[49m\n",
      "\u001b[36mFile \u001b[39m\u001b[32m~/miniconda3/lib/python3.12/site-packages/pandas/core/frame.py:4524\u001b[39m, in \u001b[36mDataFrame._set_item\u001b[39m\u001b[34m(self, key, value)\u001b[39m\n\u001b[32m   4514\u001b[39m \u001b[38;5;28;01mdef\u001b[39;00m \u001b[34m_set_item\u001b[39m(\u001b[38;5;28mself\u001b[39m, key, value) -> \u001b[38;5;28;01mNone\u001b[39;00m:\n\u001b[32m   4515\u001b[39m \u001b[38;5;250m    \u001b[39m\u001b[33;03m\"\"\"\u001b[39;00m\n\u001b[32m   4516\u001b[39m \u001b[33;03m    Add series to DataFrame in specified column.\u001b[39;00m\n\u001b[32m   4517\u001b[39m \n\u001b[32m   (...)\u001b[39m\u001b[32m   4522\u001b[39m \u001b[33;03m    ensure homogeneity.\u001b[39;00m\n\u001b[32m   4523\u001b[39m \u001b[33;03m    \"\"\"\u001b[39;00m\n\u001b[32m-> \u001b[39m\u001b[32m4524\u001b[39m     value, refs = \u001b[38;5;28;43mself\u001b[39;49m\u001b[43m.\u001b[49m\u001b[43m_sanitize_column\u001b[49m\u001b[43m(\u001b[49m\u001b[43mvalue\u001b[49m\u001b[43m)\u001b[49m\n\u001b[32m   4526\u001b[39m     \u001b[38;5;28;01mif\u001b[39;00m (\n\u001b[32m   4527\u001b[39m         key \u001b[38;5;129;01min\u001b[39;00m \u001b[38;5;28mself\u001b[39m.columns\n\u001b[32m   4528\u001b[39m         \u001b[38;5;129;01mand\u001b[39;00m value.ndim == \u001b[32m1\u001b[39m\n\u001b[32m   4529\u001b[39m         \u001b[38;5;129;01mand\u001b[39;00m \u001b[38;5;129;01mnot\u001b[39;00m \u001b[38;5;28misinstance\u001b[39m(value.dtype, ExtensionDtype)\n\u001b[32m   4530\u001b[39m     ):\n\u001b[32m   4531\u001b[39m         \u001b[38;5;66;03m# broadcast across multiple columns if necessary\u001b[39;00m\n\u001b[32m   4532\u001b[39m         \u001b[38;5;28;01mif\u001b[39;00m \u001b[38;5;129;01mnot\u001b[39;00m \u001b[38;5;28mself\u001b[39m.columns.is_unique \u001b[38;5;129;01mor\u001b[39;00m \u001b[38;5;28misinstance\u001b[39m(\u001b[38;5;28mself\u001b[39m.columns, MultiIndex):\n",
      "\u001b[36mFile \u001b[39m\u001b[32m~/miniconda3/lib/python3.12/site-packages/pandas/core/frame.py:5266\u001b[39m, in \u001b[36mDataFrame._sanitize_column\u001b[39m\u001b[34m(self, value)\u001b[39m\n\u001b[32m   5263\u001b[39m     \u001b[38;5;28;01mreturn\u001b[39;00m _reindex_for_setitem(value, \u001b[38;5;28mself\u001b[39m.index)\n\u001b[32m   5265\u001b[39m \u001b[38;5;28;01mif\u001b[39;00m is_list_like(value):\n\u001b[32m-> \u001b[39m\u001b[32m5266\u001b[39m     \u001b[43mcom\u001b[49m\u001b[43m.\u001b[49m\u001b[43mrequire_length_match\u001b[49m\u001b[43m(\u001b[49m\u001b[43mvalue\u001b[49m\u001b[43m,\u001b[49m\u001b[43m \u001b[49m\u001b[38;5;28;43mself\u001b[39;49m\u001b[43m.\u001b[49m\u001b[43mindex\u001b[49m\u001b[43m)\u001b[49m\n\u001b[32m   5267\u001b[39m arr = sanitize_array(value, \u001b[38;5;28mself\u001b[39m.index, copy=\u001b[38;5;28;01mTrue\u001b[39;00m, allow_2d=\u001b[38;5;28;01mTrue\u001b[39;00m)\n\u001b[32m   5268\u001b[39m \u001b[38;5;28;01mif\u001b[39;00m (\n\u001b[32m   5269\u001b[39m     \u001b[38;5;28misinstance\u001b[39m(value, Index)\n\u001b[32m   5270\u001b[39m     \u001b[38;5;129;01mand\u001b[39;00m value.dtype == \u001b[33m\"\u001b[39m\u001b[33mobject\u001b[39m\u001b[33m\"\u001b[39m\n\u001b[32m   (...)\u001b[39m\u001b[32m   5273\u001b[39m     \u001b[38;5;66;03m# TODO: Remove kludge in sanitize_array for string mode when enforcing\u001b[39;00m\n\u001b[32m   5274\u001b[39m     \u001b[38;5;66;03m# this deprecation\u001b[39;00m\n",
      "\u001b[36mFile \u001b[39m\u001b[32m~/miniconda3/lib/python3.12/site-packages/pandas/core/common.py:573\u001b[39m, in \u001b[36mrequire_length_match\u001b[39m\u001b[34m(data, index)\u001b[39m\n\u001b[32m    569\u001b[39m \u001b[38;5;250m\u001b[39m\u001b[33;03m\"\"\"\u001b[39;00m\n\u001b[32m    570\u001b[39m \u001b[33;03mCheck the length of data matches the length of the index.\u001b[39;00m\n\u001b[32m    571\u001b[39m \u001b[33;03m\"\"\"\u001b[39;00m\n\u001b[32m    572\u001b[39m \u001b[38;5;28;01mif\u001b[39;00m \u001b[38;5;28mlen\u001b[39m(data) != \u001b[38;5;28mlen\u001b[39m(index):\n\u001b[32m--> \u001b[39m\u001b[32m573\u001b[39m     \u001b[38;5;28;01mraise\u001b[39;00m \u001b[38;5;167;01mValueError\u001b[39;00m(\n\u001b[32m    574\u001b[39m         \u001b[33m\"\u001b[39m\u001b[33mLength of values \u001b[39m\u001b[33m\"\u001b[39m\n\u001b[32m    575\u001b[39m         \u001b[33mf\u001b[39m\u001b[33m\"\u001b[39m\u001b[33m(\u001b[39m\u001b[38;5;132;01m{\u001b[39;00m\u001b[38;5;28mlen\u001b[39m(data)\u001b[38;5;132;01m}\u001b[39;00m\u001b[33m) \u001b[39m\u001b[33m\"\u001b[39m\n\u001b[32m    576\u001b[39m         \u001b[33m\"\u001b[39m\u001b[33mdoes not match length of index \u001b[39m\u001b[33m\"\u001b[39m\n\u001b[32m    577\u001b[39m         \u001b[33mf\u001b[39m\u001b[33m\"\u001b[39m\u001b[33m(\u001b[39m\u001b[38;5;132;01m{\u001b[39;00m\u001b[38;5;28mlen\u001b[39m(index)\u001b[38;5;132;01m}\u001b[39;00m\u001b[33m)\u001b[39m\u001b[33m\"\u001b[39m\n\u001b[32m    578\u001b[39m     )\n",
      "\u001b[31mValueError\u001b[39m: Length of values (1) does not match length of index (12)"
     ]
    }
   ],
   "source": [
    "getSymbolHoldings(\"Cryptocurrencies\", \"SOL\", list_investments_asset_class, init_holdings, YEAR).T"
   ]
  },
  {
   "cell_type": "code",
   "execution_count": 32,
   "id": "51fd31e4-6fc3-4092-aef9-371666b7760b",
   "metadata": {},
   "outputs": [
    {
     "data": {
      "text/html": [
       "<div>\n",
       "<style scoped>\n",
       "    .dataframe tbody tr th:only-of-type {\n",
       "        vertical-align: middle;\n",
       "    }\n",
       "\n",
       "    .dataframe tbody tr th {\n",
       "        vertical-align: top;\n",
       "    }\n",
       "\n",
       "    .dataframe thead th {\n",
       "        text-align: right;\n",
       "    }\n",
       "</style>\n",
       "<table border=\"1\" class=\"dataframe\">\n",
       "  <thead>\n",
       "    <tr style=\"text-align: right;\">\n",
       "      <th>Date</th>\n",
       "      <th>2024-01-30</th>\n",
       "      <th>2024-02-28</th>\n",
       "      <th>2024-03-31</th>\n",
       "      <th>2024-04-30</th>\n",
       "      <th>2024-05-31</th>\n",
       "      <th>2024-06-30</th>\n",
       "      <th>2024-07-31</th>\n",
       "      <th>2024-08-31</th>\n",
       "      <th>2024-09-30</th>\n",
       "      <th>2024-10-31</th>\n",
       "      <th>2024-11-30</th>\n",
       "      <th>2024-12-31</th>\n",
       "    </tr>\n",
       "  </thead>\n",
       "  <tbody>\n",
       "    <tr>\n",
       "      <th>Close €</th>\n",
       "      <td>2,113.56</td>\n",
       "      <td>3,085.93</td>\n",
       "      <td>3,379.90</td>\n",
       "      <td>2,823.98</td>\n",
       "      <td>3,467.94</td>\n",
       "      <td>3,200.17</td>\n",
       "      <td>2,987.01</td>\n",
       "      <td>2,275.55</td>\n",
       "      <td>2,336.43</td>\n",
       "      <td>2,311.38</td>\n",
       "      <td>3,502.00</td>\n",
       "      <td>3,221.44</td>\n",
       "    </tr>\n",
       "    <tr>\n",
       "      <th>Returns</th>\n",
       "      <td>0.02</td>\n",
       "      <td>0.32</td>\n",
       "      <td>0.09</td>\n",
       "      <td>-0.20</td>\n",
       "      <td>0.19</td>\n",
       "      <td>-0.08</td>\n",
       "      <td>-0.07</td>\n",
       "      <td>-0.31</td>\n",
       "      <td>0.03</td>\n",
       "      <td>-0.01</td>\n",
       "      <td>0.34</td>\n",
       "      <td>-0.09</td>\n",
       "    </tr>\n",
       "    <tr>\n",
       "      <th>shares</th>\n",
       "      <td>0.01</td>\n",
       "      <td>0.01</td>\n",
       "      <td>0.01</td>\n",
       "      <td>0.01</td>\n",
       "      <td>0.01</td>\n",
       "      <td>0.01</td>\n",
       "      <td>0.01</td>\n",
       "      <td>0.01</td>\n",
       "      <td>0.01</td>\n",
       "      <td>0.01</td>\n",
       "      <td>0.01</td>\n",
       "      <td>0.01</td>\n",
       "    </tr>\n",
       "    <tr>\n",
       "      <th>holdings €</th>\n",
       "      <td>25.79</td>\n",
       "      <td>37.65</td>\n",
       "      <td>41.23</td>\n",
       "      <td>34.45</td>\n",
       "      <td>42.31</td>\n",
       "      <td>39.04</td>\n",
       "      <td>36.44</td>\n",
       "      <td>27.76</td>\n",
       "      <td>28.50</td>\n",
       "      <td>28.20</td>\n",
       "      <td>42.72</td>\n",
       "      <td>39.30</td>\n",
       "    </tr>\n",
       "  </tbody>\n",
       "</table>\n",
       "</div>"
      ],
      "text/plain": [
       "Date        2024-01-30  2024-02-28  2024-03-31  2024-04-30  2024-05-31  \\\n",
       "Close €       2,113.56    3,085.93    3,379.90    2,823.98    3,467.94   \n",
       "Returns           0.02        0.32        0.09       -0.20        0.19   \n",
       "shares            0.01        0.01        0.01        0.01        0.01   \n",
       "holdings €       25.79       37.65       41.23       34.45       42.31   \n",
       "\n",
       "Date        2024-06-30  2024-07-31  2024-08-31  2024-09-30  2024-10-31  \\\n",
       "Close €       3,200.17    2,987.01    2,275.55    2,336.43    2,311.38   \n",
       "Returns          -0.08       -0.07       -0.31        0.03       -0.01   \n",
       "shares            0.01        0.01        0.01        0.01        0.01   \n",
       "holdings €       39.04       36.44       27.76       28.50       28.20   \n",
       "\n",
       "Date        2024-11-30  2024-12-31  \n",
       "Close €       3,502.00    3,221.44  \n",
       "Returns           0.34       -0.09  \n",
       "shares            0.01        0.01  \n",
       "holdings €       42.72       39.30  "
      ]
     },
     "execution_count": 32,
     "metadata": {},
     "output_type": "execute_result"
    }
   ],
   "source": [
    "getSymbolHoldings(\"Cryptocurrencies\", \"ETH\", list_investments_asset_class, init_holdings, year).T"
   ]
  },
  {
   "cell_type": "code",
   "execution_count": 33,
   "id": "633419ae-59f3-4171-bb71-fbdef67d5f1f",
   "metadata": {},
   "outputs": [
    {
     "data": {
      "text/html": [
       "<div>\n",
       "<style scoped>\n",
       "    .dataframe tbody tr th:only-of-type {\n",
       "        vertical-align: middle;\n",
       "    }\n",
       "\n",
       "    .dataframe tbody tr th {\n",
       "        vertical-align: top;\n",
       "    }\n",
       "\n",
       "    .dataframe thead th {\n",
       "        text-align: right;\n",
       "    }\n",
       "</style>\n",
       "<table border=\"1\" class=\"dataframe\">\n",
       "  <thead>\n",
       "    <tr style=\"text-align: right;\">\n",
       "      <th>Date</th>\n",
       "      <th>2024-01-30</th>\n",
       "      <th>2024-02-28</th>\n",
       "      <th>2024-03-31</th>\n",
       "      <th>2024-04-30</th>\n",
       "      <th>2024-05-31</th>\n",
       "      <th>2024-06-30</th>\n",
       "      <th>2024-07-31</th>\n",
       "      <th>2024-08-31</th>\n",
       "      <th>2024-09-30</th>\n",
       "      <th>2024-10-31</th>\n",
       "      <th>2024-11-30</th>\n",
       "      <th>2024-12-31</th>\n",
       "    </tr>\n",
       "  </thead>\n",
       "  <tbody>\n",
       "    <tr>\n",
       "      <th>Close €</th>\n",
       "      <td>0.93</td>\n",
       "      <td>0.92</td>\n",
       "      <td>0.93</td>\n",
       "      <td>0.94</td>\n",
       "      <td>0.92</td>\n",
       "      <td>0.93</td>\n",
       "      <td>0.92</td>\n",
       "      <td>0.91</td>\n",
       "      <td>0.90</td>\n",
       "      <td>0.92</td>\n",
       "      <td>0.95</td>\n",
       "      <td>0.96</td>\n",
       "    </tr>\n",
       "    <tr>\n",
       "      <th>Returns</th>\n",
       "      <td>0.02</td>\n",
       "      <td>-0.00</td>\n",
       "      <td>0.00</td>\n",
       "      <td>0.01</td>\n",
       "      <td>-0.02</td>\n",
       "      <td>0.01</td>\n",
       "      <td>-0.01</td>\n",
       "      <td>-0.02</td>\n",
       "      <td>-0.01</td>\n",
       "      <td>0.02</td>\n",
       "      <td>0.03</td>\n",
       "      <td>0.02</td>\n",
       "    </tr>\n",
       "    <tr>\n",
       "      <th>shares</th>\n",
       "      <td>0.00</td>\n",
       "      <td>0.00</td>\n",
       "      <td>0.00</td>\n",
       "      <td>0.00</td>\n",
       "      <td>0.00</td>\n",
       "      <td>0.00</td>\n",
       "      <td>0.00</td>\n",
       "      <td>108.24</td>\n",
       "      <td>108.24</td>\n",
       "      <td>108.24</td>\n",
       "      <td>108.24</td>\n",
       "      <td>108.24</td>\n",
       "    </tr>\n",
       "    <tr>\n",
       "      <th>holdings €</th>\n",
       "      <td>0.00</td>\n",
       "      <td>0.00</td>\n",
       "      <td>0.00</td>\n",
       "      <td>0.00</td>\n",
       "      <td>0.00</td>\n",
       "      <td>0.00</td>\n",
       "      <td>0.00</td>\n",
       "      <td>97.99</td>\n",
       "      <td>97.17</td>\n",
       "      <td>99.33</td>\n",
       "      <td>102.33</td>\n",
       "      <td>104.28</td>\n",
       "    </tr>\n",
       "  </tbody>\n",
       "</table>\n",
       "</div>"
      ],
      "text/plain": [
       "Date        2024-01-30  2024-02-28  2024-03-31  2024-04-30  2024-05-31  \\\n",
       "Close €           0.93        0.92        0.93        0.94        0.92   \n",
       "Returns           0.02       -0.00        0.00        0.01       -0.02   \n",
       "shares            0.00        0.00        0.00        0.00        0.00   \n",
       "holdings €        0.00        0.00        0.00        0.00        0.00   \n",
       "\n",
       "Date        2024-06-30  2024-07-31  2024-08-31  2024-09-30  2024-10-31  \\\n",
       "Close €           0.93        0.92        0.91        0.90        0.92   \n",
       "Returns           0.01       -0.01       -0.02       -0.01        0.02   \n",
       "shares            0.00        0.00      108.24      108.24      108.24   \n",
       "holdings €        0.00        0.00       97.99       97.17       99.33   \n",
       "\n",
       "Date        2024-11-30  2024-12-31  \n",
       "Close €           0.95        0.96  \n",
       "Returns           0.03        0.02  \n",
       "shares          108.24      108.24  \n",
       "holdings €      102.33      104.28  "
      ]
     },
     "execution_count": 33,
     "metadata": {},
     "output_type": "execute_result"
    }
   ],
   "source": [
    "getSymbolHoldings(\"Cryptocurrencies\", \"USDT\", list_investments_asset_class, init_holdings, year).T"
   ]
  },
  {
   "cell_type": "code",
   "execution_count": 34,
   "id": "77649648-d0b0-4412-857f-c71d8915a624",
   "metadata": {},
   "outputs": [],
   "source": [
    "cryptocurrency_year_holdings = 0\n",
    "for symbol in symbols:\n",
    "    df_symbol_holdings = getSymbolHoldings(\"Cryptocurrencies\", symbol, list_investments_asset_class, init_holdings, year)\n",
    "    cryptocurrency_year_holdings += df_symbol_holdings[\"holdings €\"]"
   ]
  },
  {
   "cell_type": "code",
   "execution_count": 35,
   "id": "b5ed14d0-fa66-4be7-849b-53ec969851d2",
   "metadata": {},
   "outputs": [
    {
     "data": {
      "text/plain": [
       "Date\n",
       "2024-01-30     462.44\n",
       "2024-02-28     601.79\n",
       "2024-03-31     952.95\n",
       "2024-04-30     611.48\n",
       "2024-05-31     783.76\n",
       "2024-06-30     702.00\n",
       "2024-07-31     807.59\n",
       "2024-08-31     721.44\n",
       "2024-09-30     791.55\n",
       "2024-10-31     880.07\n",
       "2024-11-30   1,236.90\n",
       "2024-12-31   1,030.07\n",
       "Name: holdings €, dtype: float64"
      ]
     },
     "execution_count": 35,
     "metadata": {},
     "output_type": "execute_result"
    }
   ],
   "source": [
    "cryptocurrency_year_holdings"
   ]
  },
  {
   "cell_type": "code",
   "execution_count": 36,
   "id": "668d7fdc-5409-4d81-9647-b7f4bab49df5",
   "metadata": {},
   "outputs": [],
   "source": [
    "# Then SUM on NW"
   ]
  },
  {
   "cell_type": "markdown",
   "id": "69e2a3a2-b990-4889-874c-caa1c54e74cf",
   "metadata": {},
   "source": [
    "### NW 2024"
   ]
  },
  {
   "cell_type": "code",
   "execution_count": 37,
   "id": "3fe87d67-8969-4443-be11-0556cd5aaf93",
   "metadata": {},
   "outputs": [
    {
     "data": {
      "text/plain": [
       "{'Hype - EUR': 6, 'Revolut - EUR': 16.74, 'Money - EUR': 14.13}"
      ]
     },
     "execution_count": 37,
     "metadata": {},
     "output_type": "execute_result"
    }
   ],
   "source": [
    "init_holdings['liquidity']"
   ]
  },
  {
   "cell_type": "code",
   "execution_count": 38,
   "id": "dd39cf5e-75db-4872-bb1a-083d9328a674",
   "metadata": {},
   "outputs": [],
   "source": [
    "liquidity = df_m_cashflow[\"savings\"].values.cumsum() + init_holdings['liquidity']['Hype - EUR'] + init_holdings['liquidity']['Revolut - EUR'] + init_holdings['liquidity']['Money - EUR']"
   ]
  },
  {
   "cell_type": "code",
   "execution_count": 39,
   "id": "a2ec0b6c-cb81-4567-b7c3-54216372c7be",
   "metadata": {},
   "outputs": [
    {
     "data": {
      "text/plain": [
       "[np.float64(462.44376800000003),\n",
       " np.float64(601.7949739999999),\n",
       " np.float64(952.9486120000001),\n",
       " np.float64(611.479244),\n",
       " np.float64(783.7628880000001),\n",
       " np.float64(702.000634),\n",
       " np.float64(807.592586),\n",
       " np.float64(721.4430884000001),\n",
       " np.float64(791.5517060000001),\n",
       " np.float64(880.0685808000001),\n",
       " np.float64(1236.8958344),\n",
       " np.float64(1030.0694224)]"
      ]
     },
     "execution_count": 39,
     "metadata": {},
     "output_type": "execute_result"
    }
   ],
   "source": [
    "list(cryptocurrency_year_holdings.values)"
   ]
  },
  {
   "cell_type": "code",
   "execution_count": 40,
   "id": "8f29c112-13f7-4641-ab3f-41e2b4c08e8d",
   "metadata": {},
   "outputs": [
    {
     "data": {
      "text/plain": [
       "array([  998.66 ,  1762.3  ,  3032.55 ,  3737.59 ,  4805.18 ,  5650.43 ,\n",
       "        7798.03 ,  9102.49 , 10175.491, 11384.021, 12532.391, 14811.191])"
      ]
     },
     "execution_count": 40,
     "metadata": {},
     "output_type": "execute_result"
    }
   ],
   "source": [
    "liquidity"
   ]
  },
  {
   "cell_type": "code",
   "execution_count": 41,
   "id": "990224ea-4925-45f8-a83f-35afd0321e3d",
   "metadata": {},
   "outputs": [],
   "source": [
    "liquidity_end_2023 = 24.30\n",
    "crypto_end_2023 = 473.56\n",
    "columns = [\"liquidity\", \"crypto\"]\n",
    "\n",
    "nw2023 = pd.DataFrame(data = zip([liquidity_end_2023],[crypto_end_2023]), columns = columns, index = pd.date_range(f'2023-12-31',f'2023-12-31', freq='ME'))"
   ]
  },
  {
   "cell_type": "code",
   "execution_count": 42,
   "id": "296578bb-cbcb-4784-9b3d-8978f56a8cca",
   "metadata": {},
   "outputs": [],
   "source": [
    "zipped = zip(liquidity, cryptocurrency_year_holdings.values)\n",
    "columns = [\"liquidity\", \"crypto\"]\n",
    "nw2024 = pd.DataFrame(index = pd.date_range(f'{year}-01-01',f'{year}-12-31', freq='ME'), data = zipped, columns = columns)"
   ]
  },
  {
   "cell_type": "code",
   "execution_count": 43,
   "id": "ba0d90d7-c547-47ef-92cb-c0ebe83e646d",
   "metadata": {},
   "outputs": [],
   "source": [
    "nw = pd.concat([nw2023, nw2024])"
   ]
  },
  {
   "cell_type": "code",
   "execution_count": 44,
   "id": "264506ba-7bb8-418e-ac4f-11d98492cc7b",
   "metadata": {},
   "outputs": [],
   "source": [
    "nw[\"nw\"] = nw.liquidity + nw.crypto"
   ]
  },
  {
   "cell_type": "code",
   "execution_count": 45,
   "id": "7a6dc0eb-3118-4bb6-b435-d9b875b07a8b",
   "metadata": {},
   "outputs": [],
   "source": [
    "nw[\"nwch\"] = (nw[\"nw\"] - nw.nw.shift(1) )\n",
    "nw[\"nw%\"] = (nw[\"nw\"] - nw.nw.shift(1) )/ nw[\"nw\"]"
   ]
  },
  {
   "cell_type": "code",
   "execution_count": 46,
   "id": "e23ac3be-d4b5-4eb5-8283-f7dcd5dbdca2",
   "metadata": {},
   "outputs": [
    {
     "data": {
      "text/html": [
       "<div>\n",
       "<style scoped>\n",
       "    .dataframe tbody tr th:only-of-type {\n",
       "        vertical-align: middle;\n",
       "    }\n",
       "\n",
       "    .dataframe tbody tr th {\n",
       "        vertical-align: top;\n",
       "    }\n",
       "\n",
       "    .dataframe thead th {\n",
       "        text-align: right;\n",
       "    }\n",
       "</style>\n",
       "<table border=\"1\" class=\"dataframe\">\n",
       "  <thead>\n",
       "    <tr style=\"text-align: right;\">\n",
       "      <th></th>\n",
       "      <th>2023-12-31</th>\n",
       "      <th>2024-01-31</th>\n",
       "      <th>2024-02-29</th>\n",
       "      <th>2024-03-31</th>\n",
       "      <th>2024-04-30</th>\n",
       "      <th>2024-05-31</th>\n",
       "      <th>2024-06-30</th>\n",
       "      <th>2024-07-31</th>\n",
       "      <th>2024-08-31</th>\n",
       "      <th>2024-09-30</th>\n",
       "      <th>2024-10-31</th>\n",
       "      <th>2024-11-30</th>\n",
       "      <th>2024-12-31</th>\n",
       "    </tr>\n",
       "  </thead>\n",
       "  <tbody>\n",
       "    <tr>\n",
       "      <th>liquidity</th>\n",
       "      <td>24.30</td>\n",
       "      <td>998.66</td>\n",
       "      <td>1,762.30</td>\n",
       "      <td>3,032.55</td>\n",
       "      <td>3,737.59</td>\n",
       "      <td>4,805.18</td>\n",
       "      <td>5,650.43</td>\n",
       "      <td>7,798.03</td>\n",
       "      <td>9,102.49</td>\n",
       "      <td>10,175.49</td>\n",
       "      <td>11,384.02</td>\n",
       "      <td>12,532.39</td>\n",
       "      <td>14,811.19</td>\n",
       "    </tr>\n",
       "    <tr>\n",
       "      <th>crypto</th>\n",
       "      <td>473.56</td>\n",
       "      <td>462.44</td>\n",
       "      <td>601.79</td>\n",
       "      <td>952.95</td>\n",
       "      <td>611.48</td>\n",
       "      <td>783.76</td>\n",
       "      <td>702.00</td>\n",
       "      <td>807.59</td>\n",
       "      <td>721.44</td>\n",
       "      <td>791.55</td>\n",
       "      <td>880.07</td>\n",
       "      <td>1,236.90</td>\n",
       "      <td>1,030.07</td>\n",
       "    </tr>\n",
       "    <tr>\n",
       "      <th>nw</th>\n",
       "      <td>497.86</td>\n",
       "      <td>1,461.10</td>\n",
       "      <td>2,364.09</td>\n",
       "      <td>3,985.50</td>\n",
       "      <td>4,349.07</td>\n",
       "      <td>5,588.94</td>\n",
       "      <td>6,352.43</td>\n",
       "      <td>8,605.62</td>\n",
       "      <td>9,823.93</td>\n",
       "      <td>10,967.04</td>\n",
       "      <td>12,264.09</td>\n",
       "      <td>13,769.29</td>\n",
       "      <td>15,841.26</td>\n",
       "    </tr>\n",
       "    <tr>\n",
       "      <th>nwch</th>\n",
       "      <td>NaN</td>\n",
       "      <td>963.24</td>\n",
       "      <td>902.99</td>\n",
       "      <td>1,621.40</td>\n",
       "      <td>363.57</td>\n",
       "      <td>1,239.87</td>\n",
       "      <td>763.49</td>\n",
       "      <td>2,253.19</td>\n",
       "      <td>1,218.31</td>\n",
       "      <td>1,143.11</td>\n",
       "      <td>1,297.05</td>\n",
       "      <td>1,505.20</td>\n",
       "      <td>2,071.97</td>\n",
       "    </tr>\n",
       "    <tr>\n",
       "      <th>nw%</th>\n",
       "      <td>NaN</td>\n",
       "      <td>0.66</td>\n",
       "      <td>0.38</td>\n",
       "      <td>0.41</td>\n",
       "      <td>0.08</td>\n",
       "      <td>0.22</td>\n",
       "      <td>0.12</td>\n",
       "      <td>0.26</td>\n",
       "      <td>0.12</td>\n",
       "      <td>0.10</td>\n",
       "      <td>0.11</td>\n",
       "      <td>0.11</td>\n",
       "      <td>0.13</td>\n",
       "    </tr>\n",
       "  </tbody>\n",
       "</table>\n",
       "</div>"
      ],
      "text/plain": [
       "           2023-12-31  2024-01-31  2024-02-29  2024-03-31  2024-04-30  \\\n",
       "liquidity       24.30      998.66    1,762.30    3,032.55    3,737.59   \n",
       "crypto         473.56      462.44      601.79      952.95      611.48   \n",
       "nw             497.86    1,461.10    2,364.09    3,985.50    4,349.07   \n",
       "nwch              NaN      963.24      902.99    1,621.40      363.57   \n",
       "nw%               NaN        0.66        0.38        0.41        0.08   \n",
       "\n",
       "           2024-05-31  2024-06-30  2024-07-31  2024-08-31  2024-09-30  \\\n",
       "liquidity    4,805.18    5,650.43    7,798.03    9,102.49   10,175.49   \n",
       "crypto         783.76      702.00      807.59      721.44      791.55   \n",
       "nw           5,588.94    6,352.43    8,605.62    9,823.93   10,967.04   \n",
       "nwch         1,239.87      763.49    2,253.19    1,218.31    1,143.11   \n",
       "nw%              0.22        0.12        0.26        0.12        0.10   \n",
       "\n",
       "           2024-10-31  2024-11-30  2024-12-31  \n",
       "liquidity   11,384.02   12,532.39   14,811.19  \n",
       "crypto         880.07    1,236.90    1,030.07  \n",
       "nw          12,264.09   13,769.29   15,841.26  \n",
       "nwch         1,297.05    1,505.20    2,071.97  \n",
       "nw%              0.11        0.11        0.13  "
      ]
     },
     "execution_count": 46,
     "metadata": {},
     "output_type": "execute_result"
    }
   ],
   "source": [
    "nw.T"
   ]
  },
  {
   "cell_type": "markdown",
   "id": "a4ee0a3d-613a-4c07-aca9-69339e9bd4ee",
   "metadata": {},
   "source": [
    "### FIRE Metrics on end 2024"
   ]
  },
  {
   "cell_type": "code",
   "execution_count": 47,
   "id": "678caa5f-a84f-4b38-886d-ca40e4d746ee",
   "metadata": {},
   "outputs": [],
   "source": [
    "current_yearly_expediture = df_m_cashflow.liabilities.sum()\n",
    "current_nw = nw.nw.iloc[-1]"
   ]
  },
  {
   "cell_type": "code",
   "execution_count": 48,
   "id": "4262b37d-e158-45ca-a20b-49ff70a49358",
   "metadata": {},
   "outputs": [
    {
     "name": "stdout",
     "output_type": "stream",
     "text": [
      "256367.3\n"
     ]
    }
   ],
   "source": [
    "desired_wd = 0.030\n",
    "fu_number = abs(current_yearly_expediture) / desired_wd\n",
    "print(fu_number)"
   ]
  },
  {
   "cell_type": "code",
   "execution_count": 49,
   "id": "7b0237df-64a5-40ac-b5b3-b4abb0d8d164",
   "metadata": {},
   "outputs": [
    {
     "name": "stdout",
     "output_type": "stream",
     "text": [
      "0.06179126753841071\n"
     ]
    }
   ],
   "source": [
    "progress_fi = current_nw / fu_number\n",
    "print(progress_fi)"
   ]
  },
  {
   "cell_type": "code",
   "execution_count": 50,
   "id": "e09a9058-efd6-43d4-b047-8a37d5f32aff",
   "metadata": {},
   "outputs": [],
   "source": [
    "current_yearly_saved = nw.nwch.sum()"
   ]
  },
  {
   "cell_type": "code",
   "execution_count": 51,
   "id": "f6696aa5-127a-4dc5-b1c0-19e26e40a934",
   "metadata": {},
   "outputs": [],
   "source": [
    "current_yearly_monthly_savings = current_yearly_saved/12"
   ]
  },
  {
   "cell_type": "code",
   "execution_count": 52,
   "id": "6a2554c2-9025-416a-8c61-8442dde1f24e",
   "metadata": {},
   "outputs": [
    {
     "name": "stdout",
     "output_type": "stream",
     "text": [
      "Months left to FIRE: 188\n"
     ]
    }
   ],
   "source": [
    "months_left_to_fire = (fu_number - current_nw)/current_yearly_monthly_savings\n",
    "print(f\"Months left to FIRE: {int(months_left_to_fire)}\")"
   ]
  },
  {
   "cell_type": "code",
   "execution_count": null,
   "id": "85593424-66d4-44f5-be1b-e1b1fecf1cb4",
   "metadata": {},
   "outputs": [],
   "source": []
  },
  {
   "cell_type": "code",
   "execution_count": null,
   "id": "e4a1fa2e-b49a-4431-8280-3fb124c7dbbc",
   "metadata": {},
   "outputs": [],
   "source": []
  }
 ],
 "metadata": {
  "kernelspec": {
   "display_name": "base",
   "language": "python",
   "name": "python3"
  },
  "language_info": {
   "codemirror_mode": {
    "name": "ipython",
    "version": 3
   },
   "file_extension": ".py",
   "mimetype": "text/x-python",
   "name": "python",
   "nbconvert_exporter": "python",
   "pygments_lexer": "ipython3",
   "version": "3.12.9"
  }
 },
 "nbformat": 4,
 "nbformat_minor": 5
}
