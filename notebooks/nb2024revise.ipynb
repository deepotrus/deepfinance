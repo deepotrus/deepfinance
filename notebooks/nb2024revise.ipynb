{
 "cells": [
  {
   "cell_type": "code",
   "execution_count": 1,
   "id": "e1f9dfee",
   "metadata": {},
   "outputs": [],
   "source": [
    "import pandas as pd\n",
    "pd.options.display.float_format = \"{:,.2f}\".format\n",
    "\n",
    "import sys\n",
    "sys.path.append('../lib/')\n",
    "from financelib import FinLoad\n",
    "from financelib import FinCalc\n",
    "from financelib import FinFetch\n",
    "from financelib import FinPlot\n",
    "from financelib import FinInvestmentsGet\n",
    "\n",
    "from pathlib import Path\n",
    "\n",
    "import requests # for investments yahoo finance data\n",
    "\n",
    "import time # sleep fetch"
   ]
  },
  {
   "cell_type": "code",
   "execution_count": 2,
   "id": "330888b2",
   "metadata": {},
   "outputs": [],
   "source": [
    "YEAR = 2024\n",
    "data_path_o = Path(\"../../tmp/data\")"
   ]
  },
  {
   "cell_type": "markdown",
   "id": "93ebaaa6",
   "metadata": {},
   "source": [
    "### Load Data 2024"
   ]
  },
  {
   "cell_type": "code",
   "execution_count": 3,
   "id": "ed2fbf21",
   "metadata": {},
   "outputs": [],
   "source": [
    "init_holdings = FinLoad.load_init_holdings(data_path_o, YEAR)\n",
    "df_year_cashflow = FinLoad.load_cashflow(data_path_o, YEAR)\n",
    "df_year_investments = FinLoad.load_investments(data_path_o, YEAR)"
   ]
  },
  {
   "cell_type": "markdown",
   "id": "ea2d5169",
   "metadata": {},
   "source": [
    "### Calculate"
   ]
  },
  {
   "cell_type": "code",
   "execution_count": 4,
   "id": "d8d339b7",
   "metadata": {},
   "outputs": [],
   "source": [
    "df_m_cashflow = FinCalc.calc_monthly_cashflow(df_year_cashflow)"
   ]
  },
  {
   "cell_type": "code",
   "execution_count": 5,
   "id": "c0e6f05f",
   "metadata": {},
   "outputs": [
    {
     "data": {
      "text/html": [
       "<div>\n",
       "<style scoped>\n",
       "    .dataframe tbody tr th:only-of-type {\n",
       "        vertical-align: middle;\n",
       "    }\n",
       "\n",
       "    .dataframe tbody tr th {\n",
       "        vertical-align: top;\n",
       "    }\n",
       "\n",
       "    .dataframe thead th {\n",
       "        text-align: right;\n",
       "    }\n",
       "</style>\n",
       "<table border=\"1\" class=\"dataframe\">\n",
       "  <thead>\n",
       "    <tr style=\"text-align: right;\">\n",
       "      <th>Date</th>\n",
       "      <th>2024-01-31</th>\n",
       "      <th>2024-02-29</th>\n",
       "      <th>2024-03-31</th>\n",
       "      <th>2024-04-30</th>\n",
       "      <th>2024-05-31</th>\n",
       "      <th>2024-06-30</th>\n",
       "      <th>2024-07-31</th>\n",
       "      <th>2024-08-31</th>\n",
       "      <th>2024-09-30</th>\n",
       "      <th>2024-10-31</th>\n",
       "      <th>2024-11-30</th>\n",
       "      <th>2024-12-31</th>\n",
       "    </tr>\n",
       "  </thead>\n",
       "  <tbody>\n",
       "    <tr>\n",
       "      <th>incomes</th>\n",
       "      <td>2,031.00</td>\n",
       "      <td>1,642.00</td>\n",
       "      <td>1,630.00</td>\n",
       "      <td>1,642.00</td>\n",
       "      <td>1,682.00</td>\n",
       "      <td>1,688.00</td>\n",
       "      <td>2,534.34</td>\n",
       "      <td>1,694.00</td>\n",
       "      <td>1,694.00</td>\n",
       "      <td>1,778.00</td>\n",
       "      <td>1,693.00</td>\n",
       "      <td>2,757.00</td>\n",
       "    </tr>\n",
       "    <tr>\n",
       "      <th>liabilities</th>\n",
       "      <td>-1,069.21</td>\n",
       "      <td>-878.36</td>\n",
       "      <td>-359.75</td>\n",
       "      <td>-936.96</td>\n",
       "      <td>-614.41</td>\n",
       "      <td>-842.75</td>\n",
       "      <td>-386.74</td>\n",
       "      <td>-389.54</td>\n",
       "      <td>-621.00</td>\n",
       "      <td>-569.47</td>\n",
       "      <td>-544.63</td>\n",
       "      <td>-478.20</td>\n",
       "    </tr>\n",
       "    <tr>\n",
       "      <th>savings</th>\n",
       "      <td>961.79</td>\n",
       "      <td>763.64</td>\n",
       "      <td>1,270.25</td>\n",
       "      <td>705.04</td>\n",
       "      <td>1,067.59</td>\n",
       "      <td>845.25</td>\n",
       "      <td>2,147.60</td>\n",
       "      <td>1,304.46</td>\n",
       "      <td>1,073.00</td>\n",
       "      <td>1,208.53</td>\n",
       "      <td>1,148.37</td>\n",
       "      <td>2,278.80</td>\n",
       "    </tr>\n",
       "    <tr>\n",
       "      <th>saving_rate</th>\n",
       "      <td>0.47</td>\n",
       "      <td>0.47</td>\n",
       "      <td>0.78</td>\n",
       "      <td>0.43</td>\n",
       "      <td>0.63</td>\n",
       "      <td>0.50</td>\n",
       "      <td>0.85</td>\n",
       "      <td>0.71</td>\n",
       "      <td>0.63</td>\n",
       "      <td>0.68</td>\n",
       "      <td>0.68</td>\n",
       "      <td>0.83</td>\n",
       "    </tr>\n",
       "  </tbody>\n",
       "</table>\n",
       "</div>"
      ],
      "text/plain": [
       "Date         2024-01-31  2024-02-29  2024-03-31  2024-04-30  2024-05-31  \\\n",
       "incomes        2,031.00    1,642.00    1,630.00    1,642.00    1,682.00   \n",
       "liabilities   -1,069.21     -878.36     -359.75     -936.96     -614.41   \n",
       "savings          961.79      763.64    1,270.25      705.04    1,067.59   \n",
       "saving_rate        0.47        0.47        0.78        0.43        0.63   \n",
       "\n",
       "Date         2024-06-30  2024-07-31  2024-08-31  2024-09-30  2024-10-31  \\\n",
       "incomes        1,688.00    2,534.34    1,694.00    1,694.00    1,778.00   \n",
       "liabilities     -842.75     -386.74     -389.54     -621.00     -569.47   \n",
       "savings          845.25    2,147.60    1,304.46    1,073.00    1,208.53   \n",
       "saving_rate        0.50        0.85        0.71        0.63        0.68   \n",
       "\n",
       "Date         2024-11-30  2024-12-31  \n",
       "incomes        1,693.00    2,757.00  \n",
       "liabilities     -544.63     -478.20  \n",
       "savings        1,148.37    2,278.80  \n",
       "saving_rate        0.68        0.83  "
      ]
     },
     "execution_count": 5,
     "metadata": {},
     "output_type": "execute_result"
    }
   ],
   "source": [
    "df_m_cashflow.T"
   ]
  },
  {
   "cell_type": "code",
   "execution_count": 7,
   "id": "6838efa3",
   "metadata": {},
   "outputs": [
    {
     "data": {
      "application/vnd.plotly.v1+json": {
       "config": {
        "plotlyServerURL": "https://plot.ly"
       },
       "data": [
        {
         "marker": {
          "color": "indianred"
         },
         "name": "incomes",
         "type": "bar",
         "x": [
          "2024-01-31T00:00:00",
          "2024-02-29T00:00:00",
          "2024-03-31T00:00:00",
          "2024-04-30T00:00:00",
          "2024-05-31T00:00:00",
          "2024-06-30T00:00:00",
          "2024-07-31T00:00:00",
          "2024-08-31T00:00:00",
          "2024-09-30T00:00:00",
          "2024-10-31T00:00:00",
          "2024-11-30T00:00:00",
          "2024-12-31T00:00:00"
         ],
         "xaxis": "x",
         "y": [
          2031,
          1642,
          1630,
          1642,
          1682,
          1688,
          2534.34,
          1694,
          1694,
          1778,
          1693,
          2757
         ],
         "yaxis": "y"
        },
        {
         "marker": {
          "color": "lightsalmon"
         },
         "name": "liabilities",
         "type": "bar",
         "x": [
          "2024-01-31T00:00:00",
          "2024-02-29T00:00:00",
          "2024-03-31T00:00:00",
          "2024-04-30T00:00:00",
          "2024-05-31T00:00:00",
          "2024-06-30T00:00:00",
          "2024-07-31T00:00:00",
          "2024-08-31T00:00:00",
          "2024-09-30T00:00:00",
          "2024-10-31T00:00:00",
          "2024-11-30T00:00:00",
          "2024-12-31T00:00:00"
         ],
         "xaxis": "x",
         "y": [
          1069.21,
          878.36,
          359.75,
          936.96,
          614.41,
          842.75,
          386.74,
          389.54,
          620.999,
          569.47,
          544.63,
          478.2
         ],
         "yaxis": "y"
        },
        {
         "line": {
          "color": "red"
         },
         "name": "% Saving Rate",
         "type": "scatter",
         "x": [
          "2024-01-31T00:00:00",
          "2024-02-29T00:00:00",
          "2024-03-31T00:00:00",
          "2024-04-30T00:00:00",
          "2024-05-31T00:00:00",
          "2024-06-30T00:00:00",
          "2024-07-31T00:00:00",
          "2024-08-31T00:00:00",
          "2024-09-30T00:00:00",
          "2024-10-31T00:00:00",
          "2024-11-30T00:00:00",
          "2024-12-31T00:00:00"
         ],
         "xaxis": "x",
         "y": [
          47.35548990645002,
          46.50669914738124,
          77.92944785276073,
          42.93788063337393,
          63.47146254458978,
          50.07405213270142,
          84.74001120607336,
          71.10153482880756,
          63.34126328217236,
          67.9713160854893,
          67.8304784406379,
          82.65505984766051
         ],
         "yaxis": "y2"
        }
       ],
       "layout": {
        "barmode": "group",
        "height": 400,
        "template": {
         "data": {
          "bar": [
           {
            "error_x": {
             "color": "#2a3f5f"
            },
            "error_y": {
             "color": "#2a3f5f"
            },
            "marker": {
             "line": {
              "color": "#E5ECF6",
              "width": 0.5
             },
             "pattern": {
              "fillmode": "overlay",
              "size": 10,
              "solidity": 0.2
             }
            },
            "type": "bar"
           }
          ],
          "barpolar": [
           {
            "marker": {
             "line": {
              "color": "#E5ECF6",
              "width": 0.5
             },
             "pattern": {
              "fillmode": "overlay",
              "size": 10,
              "solidity": 0.2
             }
            },
            "type": "barpolar"
           }
          ],
          "carpet": [
           {
            "aaxis": {
             "endlinecolor": "#2a3f5f",
             "gridcolor": "white",
             "linecolor": "white",
             "minorgridcolor": "white",
             "startlinecolor": "#2a3f5f"
            },
            "baxis": {
             "endlinecolor": "#2a3f5f",
             "gridcolor": "white",
             "linecolor": "white",
             "minorgridcolor": "white",
             "startlinecolor": "#2a3f5f"
            },
            "type": "carpet"
           }
          ],
          "choropleth": [
           {
            "colorbar": {
             "outlinewidth": 0,
             "ticks": ""
            },
            "type": "choropleth"
           }
          ],
          "contour": [
           {
            "colorbar": {
             "outlinewidth": 0,
             "ticks": ""
            },
            "colorscale": [
             [
              0,
              "#0d0887"
             ],
             [
              0.1111111111111111,
              "#46039f"
             ],
             [
              0.2222222222222222,
              "#7201a8"
             ],
             [
              0.3333333333333333,
              "#9c179e"
             ],
             [
              0.4444444444444444,
              "#bd3786"
             ],
             [
              0.5555555555555556,
              "#d8576b"
             ],
             [
              0.6666666666666666,
              "#ed7953"
             ],
             [
              0.7777777777777778,
              "#fb9f3a"
             ],
             [
              0.8888888888888888,
              "#fdca26"
             ],
             [
              1,
              "#f0f921"
             ]
            ],
            "type": "contour"
           }
          ],
          "contourcarpet": [
           {
            "colorbar": {
             "outlinewidth": 0,
             "ticks": ""
            },
            "type": "contourcarpet"
           }
          ],
          "heatmap": [
           {
            "colorbar": {
             "outlinewidth": 0,
             "ticks": ""
            },
            "colorscale": [
             [
              0,
              "#0d0887"
             ],
             [
              0.1111111111111111,
              "#46039f"
             ],
             [
              0.2222222222222222,
              "#7201a8"
             ],
             [
              0.3333333333333333,
              "#9c179e"
             ],
             [
              0.4444444444444444,
              "#bd3786"
             ],
             [
              0.5555555555555556,
              "#d8576b"
             ],
             [
              0.6666666666666666,
              "#ed7953"
             ],
             [
              0.7777777777777778,
              "#fb9f3a"
             ],
             [
              0.8888888888888888,
              "#fdca26"
             ],
             [
              1,
              "#f0f921"
             ]
            ],
            "type": "heatmap"
           }
          ],
          "heatmapgl": [
           {
            "colorbar": {
             "outlinewidth": 0,
             "ticks": ""
            },
            "colorscale": [
             [
              0,
              "#0d0887"
             ],
             [
              0.1111111111111111,
              "#46039f"
             ],
             [
              0.2222222222222222,
              "#7201a8"
             ],
             [
              0.3333333333333333,
              "#9c179e"
             ],
             [
              0.4444444444444444,
              "#bd3786"
             ],
             [
              0.5555555555555556,
              "#d8576b"
             ],
             [
              0.6666666666666666,
              "#ed7953"
             ],
             [
              0.7777777777777778,
              "#fb9f3a"
             ],
             [
              0.8888888888888888,
              "#fdca26"
             ],
             [
              1,
              "#f0f921"
             ]
            ],
            "type": "heatmapgl"
           }
          ],
          "histogram": [
           {
            "marker": {
             "pattern": {
              "fillmode": "overlay",
              "size": 10,
              "solidity": 0.2
             }
            },
            "type": "histogram"
           }
          ],
          "histogram2d": [
           {
            "colorbar": {
             "outlinewidth": 0,
             "ticks": ""
            },
            "colorscale": [
             [
              0,
              "#0d0887"
             ],
             [
              0.1111111111111111,
              "#46039f"
             ],
             [
              0.2222222222222222,
              "#7201a8"
             ],
             [
              0.3333333333333333,
              "#9c179e"
             ],
             [
              0.4444444444444444,
              "#bd3786"
             ],
             [
              0.5555555555555556,
              "#d8576b"
             ],
             [
              0.6666666666666666,
              "#ed7953"
             ],
             [
              0.7777777777777778,
              "#fb9f3a"
             ],
             [
              0.8888888888888888,
              "#fdca26"
             ],
             [
              1,
              "#f0f921"
             ]
            ],
            "type": "histogram2d"
           }
          ],
          "histogram2dcontour": [
           {
            "colorbar": {
             "outlinewidth": 0,
             "ticks": ""
            },
            "colorscale": [
             [
              0,
              "#0d0887"
             ],
             [
              0.1111111111111111,
              "#46039f"
             ],
             [
              0.2222222222222222,
              "#7201a8"
             ],
             [
              0.3333333333333333,
              "#9c179e"
             ],
             [
              0.4444444444444444,
              "#bd3786"
             ],
             [
              0.5555555555555556,
              "#d8576b"
             ],
             [
              0.6666666666666666,
              "#ed7953"
             ],
             [
              0.7777777777777778,
              "#fb9f3a"
             ],
             [
              0.8888888888888888,
              "#fdca26"
             ],
             [
              1,
              "#f0f921"
             ]
            ],
            "type": "histogram2dcontour"
           }
          ],
          "mesh3d": [
           {
            "colorbar": {
             "outlinewidth": 0,
             "ticks": ""
            },
            "type": "mesh3d"
           }
          ],
          "parcoords": [
           {
            "line": {
             "colorbar": {
              "outlinewidth": 0,
              "ticks": ""
             }
            },
            "type": "parcoords"
           }
          ],
          "pie": [
           {
            "automargin": true,
            "type": "pie"
           }
          ],
          "scatter": [
           {
            "fillpattern": {
             "fillmode": "overlay",
             "size": 10,
             "solidity": 0.2
            },
            "type": "scatter"
           }
          ],
          "scatter3d": [
           {
            "line": {
             "colorbar": {
              "outlinewidth": 0,
              "ticks": ""
             }
            },
            "marker": {
             "colorbar": {
              "outlinewidth": 0,
              "ticks": ""
             }
            },
            "type": "scatter3d"
           }
          ],
          "scattercarpet": [
           {
            "marker": {
             "colorbar": {
              "outlinewidth": 0,
              "ticks": ""
             }
            },
            "type": "scattercarpet"
           }
          ],
          "scattergeo": [
           {
            "marker": {
             "colorbar": {
              "outlinewidth": 0,
              "ticks": ""
             }
            },
            "type": "scattergeo"
           }
          ],
          "scattergl": [
           {
            "marker": {
             "colorbar": {
              "outlinewidth": 0,
              "ticks": ""
             }
            },
            "type": "scattergl"
           }
          ],
          "scattermapbox": [
           {
            "marker": {
             "colorbar": {
              "outlinewidth": 0,
              "ticks": ""
             }
            },
            "type": "scattermapbox"
           }
          ],
          "scatterpolar": [
           {
            "marker": {
             "colorbar": {
              "outlinewidth": 0,
              "ticks": ""
             }
            },
            "type": "scatterpolar"
           }
          ],
          "scatterpolargl": [
           {
            "marker": {
             "colorbar": {
              "outlinewidth": 0,
              "ticks": ""
             }
            },
            "type": "scatterpolargl"
           }
          ],
          "scatterternary": [
           {
            "marker": {
             "colorbar": {
              "outlinewidth": 0,
              "ticks": ""
             }
            },
            "type": "scatterternary"
           }
          ],
          "surface": [
           {
            "colorbar": {
             "outlinewidth": 0,
             "ticks": ""
            },
            "colorscale": [
             [
              0,
              "#0d0887"
             ],
             [
              0.1111111111111111,
              "#46039f"
             ],
             [
              0.2222222222222222,
              "#7201a8"
             ],
             [
              0.3333333333333333,
              "#9c179e"
             ],
             [
              0.4444444444444444,
              "#bd3786"
             ],
             [
              0.5555555555555556,
              "#d8576b"
             ],
             [
              0.6666666666666666,
              "#ed7953"
             ],
             [
              0.7777777777777778,
              "#fb9f3a"
             ],
             [
              0.8888888888888888,
              "#fdca26"
             ],
             [
              1,
              "#f0f921"
             ]
            ],
            "type": "surface"
           }
          ],
          "table": [
           {
            "cells": {
             "fill": {
              "color": "#EBF0F8"
             },
             "line": {
              "color": "white"
             }
            },
            "header": {
             "fill": {
              "color": "#C8D4E3"
             },
             "line": {
              "color": "white"
             }
            },
            "type": "table"
           }
          ]
         },
         "layout": {
          "annotationdefaults": {
           "arrowcolor": "#2a3f5f",
           "arrowhead": 0,
           "arrowwidth": 1
          },
          "autotypenumbers": "strict",
          "coloraxis": {
           "colorbar": {
            "outlinewidth": 0,
            "ticks": ""
           }
          },
          "colorscale": {
           "diverging": [
            [
             0,
             "#8e0152"
            ],
            [
             0.1,
             "#c51b7d"
            ],
            [
             0.2,
             "#de77ae"
            ],
            [
             0.3,
             "#f1b6da"
            ],
            [
             0.4,
             "#fde0ef"
            ],
            [
             0.5,
             "#f7f7f7"
            ],
            [
             0.6,
             "#e6f5d0"
            ],
            [
             0.7,
             "#b8e186"
            ],
            [
             0.8,
             "#7fbc41"
            ],
            [
             0.9,
             "#4d9221"
            ],
            [
             1,
             "#276419"
            ]
           ],
           "sequential": [
            [
             0,
             "#0d0887"
            ],
            [
             0.1111111111111111,
             "#46039f"
            ],
            [
             0.2222222222222222,
             "#7201a8"
            ],
            [
             0.3333333333333333,
             "#9c179e"
            ],
            [
             0.4444444444444444,
             "#bd3786"
            ],
            [
             0.5555555555555556,
             "#d8576b"
            ],
            [
             0.6666666666666666,
             "#ed7953"
            ],
            [
             0.7777777777777778,
             "#fb9f3a"
            ],
            [
             0.8888888888888888,
             "#fdca26"
            ],
            [
             1,
             "#f0f921"
            ]
           ],
           "sequentialminus": [
            [
             0,
             "#0d0887"
            ],
            [
             0.1111111111111111,
             "#46039f"
            ],
            [
             0.2222222222222222,
             "#7201a8"
            ],
            [
             0.3333333333333333,
             "#9c179e"
            ],
            [
             0.4444444444444444,
             "#bd3786"
            ],
            [
             0.5555555555555556,
             "#d8576b"
            ],
            [
             0.6666666666666666,
             "#ed7953"
            ],
            [
             0.7777777777777778,
             "#fb9f3a"
            ],
            [
             0.8888888888888888,
             "#fdca26"
            ],
            [
             1,
             "#f0f921"
            ]
           ]
          },
          "colorway": [
           "#636efa",
           "#EF553B",
           "#00cc96",
           "#ab63fa",
           "#FFA15A",
           "#19d3f3",
           "#FF6692",
           "#B6E880",
           "#FF97FF",
           "#FECB52"
          ],
          "font": {
           "color": "#2a3f5f"
          },
          "geo": {
           "bgcolor": "white",
           "lakecolor": "white",
           "landcolor": "#E5ECF6",
           "showlakes": true,
           "showland": true,
           "subunitcolor": "white"
          },
          "hoverlabel": {
           "align": "left"
          },
          "hovermode": "closest",
          "mapbox": {
           "style": "light"
          },
          "paper_bgcolor": "white",
          "plot_bgcolor": "#E5ECF6",
          "polar": {
           "angularaxis": {
            "gridcolor": "white",
            "linecolor": "white",
            "ticks": ""
           },
           "bgcolor": "#E5ECF6",
           "radialaxis": {
            "gridcolor": "white",
            "linecolor": "white",
            "ticks": ""
           }
          },
          "scene": {
           "xaxis": {
            "backgroundcolor": "#E5ECF6",
            "gridcolor": "white",
            "gridwidth": 2,
            "linecolor": "white",
            "showbackground": true,
            "ticks": "",
            "zerolinecolor": "white"
           },
           "yaxis": {
            "backgroundcolor": "#E5ECF6",
            "gridcolor": "white",
            "gridwidth": 2,
            "linecolor": "white",
            "showbackground": true,
            "ticks": "",
            "zerolinecolor": "white"
           },
           "zaxis": {
            "backgroundcolor": "#E5ECF6",
            "gridcolor": "white",
            "gridwidth": 2,
            "linecolor": "white",
            "showbackground": true,
            "ticks": "",
            "zerolinecolor": "white"
           }
          },
          "shapedefaults": {
           "line": {
            "color": "#2a3f5f"
           }
          },
          "ternary": {
           "aaxis": {
            "gridcolor": "white",
            "linecolor": "white",
            "ticks": ""
           },
           "baxis": {
            "gridcolor": "white",
            "linecolor": "white",
            "ticks": ""
           },
           "bgcolor": "#E5ECF6",
           "caxis": {
            "gridcolor": "white",
            "linecolor": "white",
            "ticks": ""
           }
          },
          "title": {
           "x": 0.05
          },
          "xaxis": {
           "automargin": true,
           "gridcolor": "white",
           "linecolor": "white",
           "ticks": "",
           "title": {
            "standoff": 15
           },
           "zerolinecolor": "white",
           "zerolinewidth": 2
          },
          "yaxis": {
           "automargin": true,
           "gridcolor": "white",
           "linecolor": "white",
           "ticks": "",
           "title": {
            "standoff": 15
           },
           "zerolinecolor": "white",
           "zerolinewidth": 2
          }
         }
        },
        "title": {
         "text": "Cashflow  Graph",
         "x": 0.4,
         "y": 0.85
        },
        "width": 1000,
        "xaxis": {
         "anchor": "y",
         "domain": [
          0,
          0.94
         ],
         "tickangle": 0
        },
        "yaxis": {
         "anchor": "x",
         "domain": [
          0,
          1
         ],
         "showgrid": false,
         "side": "left",
         "tickmode": "array",
         "ticktext": [
          "0€",
          "500€",
          "1000€",
          "1500€",
          "2000€",
          "2500€"
         ],
         "tickvals": [
          0,
          500,
          1000,
          1500,
          2000,
          2500
         ],
         "title": {
          "text": "<b>Social Credits</b>"
         }
        },
        "yaxis2": {
         "anchor": "x",
         "overlaying": "y",
         "range": [
          0,
          100
         ],
         "side": "right",
         "tickmode": "array",
         "ticktext": [
          "40%",
          "60%",
          "80%"
         ],
         "tickvals": [
          40,
          60,
          80
         ],
         "title": {
          "text": "<b>Saving Rate</b>"
         }
        }
       }
      }
     },
     "metadata": {},
     "output_type": "display_data"
    }
   ],
   "source": [
    "fig_cashflow = FinPlot.plot_cashflow(df_m_cashflow)\n",
    "fig_cashflow.show()"
   ]
  },
  {
   "cell_type": "code",
   "execution_count": 8,
   "id": "18b5fb02-0b6c-4dfc-ade1-096ca52835e1",
   "metadata": {},
   "outputs": [],
   "source": [
    "# Liquidity in Hype, Revolut\n",
    "current_balance_revolut = round(df_year_cashflow.loc[df_year_cashflow[\"Type\"] == \"Revolut\"]['Qty'].sum(),2) + init_holdings['liquidity']['Revolut - EUR']\n",
    "current_balance_hype    = round(df_year_cashflow.loc[df_year_cashflow[\"Type\"] == \"Hype\"]['Qty'].sum(),2) + init_holdings['liquidity']['Hype - EUR']\n",
    "current_balance_cash    = round(df_year_cashflow.loc[df_year_cashflow[\"Type\"] == \"Cash\"]['Qty'].sum(),2) + init_holdings['liquidity']['Money - EUR']\n",
    "current_balance_bitget  = round(df_year_cashflow.loc[df_year_cashflow[\"Type\"] == \"Bitget\"]['Qty'].sum(),2)"
   ]
  },
  {
   "cell_type": "code",
   "execution_count": 9,
   "id": "c85c2a1d-4732-4524-9eb8-e04b9c7497ea",
   "metadata": {},
   "outputs": [
    {
     "name": "stdout",
     "output_type": "stream",
     "text": [
      "Current LIQUIDITY\n",
      "Revolut: 28.61\n",
      "Hype: 14382.58\n",
      "Cash: 300.0\n",
      "Bitget Fiat: 0.0\n"
     ]
    }
   ],
   "source": [
    "print(\"Current LIQUIDITY\")\n",
    "print(f\"Revolut: {current_balance_revolut}\")\n",
    "print(f\"Hype: {current_balance_hype}\")\n",
    "print(f\"Cash: {current_balance_cash}\")\n",
    "print(f\"Bitget Fiat: {current_balance_bitget}\")"
   ]
  },
  {
   "cell_type": "markdown",
   "id": "4eec52e6-1ad7-4c65-b717-fb30d105a371",
   "metadata": {},
   "source": [
    "### Detail Expenses January 2025"
   ]
  },
  {
   "cell_type": "code",
   "execution_count": 10,
   "id": "6907ab86",
   "metadata": {},
   "outputs": [
    {
     "data": {
      "application/vnd.plotly.v1+json": {
       "config": {
        "plotlyServerURL": "https://plot.ly"
       },
       "data": [
        {
         "branchvalues": "total",
         "customdata": [
          [
           "Other"
          ],
          [
           "Transport"
          ],
          [
           "Shop"
          ],
          [
           "Subs"
          ],
          [
           "Shop"
          ],
          [
           "Groceries"
          ],
          [
           "Family"
          ],
          [
           "Transport"
          ],
          [
           "Groceries"
          ],
          [
           "Subs"
          ],
          [
           "Family"
          ],
          [
           "Subs"
          ],
          [
           "Shop"
          ],
          [
           "Family"
          ],
          [
           "Transport"
          ],
          [
           "Other"
          ],
          [
           "Other"
          ]
         ],
         "domain": {
          "x": [
           0,
           1
          ],
          "y": [
           0,
           1
          ]
         },
         "hovertemplate": "labels=%{label}<br>Qty=%{value}<br>parent=%{parent}<br>id=%{id}<br>Category=%{customdata[0]}<extra></extra>",
         "ids": [
          "Other",
          "Transport",
          "Shop",
          "Subs/SIM",
          "Shop/Clothes",
          "Groceries/Diet",
          "Family/Events",
          "Transport/Train",
          "Groceries",
          "Subs/VPS",
          "Family",
          "Subs",
          "Shop/Accessories",
          "Family/Groceries",
          "Transport/Gasoline",
          "Other/Papers",
          "Other/Taxes"
         ],
         "labels": [
          "Other",
          "Transport",
          "Shop",
          "SIM",
          "Clothes",
          "Diet",
          "Events",
          "Train",
          "Groceries",
          "VPS",
          "Family",
          "Subs",
          "Accessories",
          "Groceries",
          "Gasoline",
          "Papers",
          "Taxes"
         ],
         "marker": {
          "colors": [
           "#95D2B3",
           "#B9B28A",
           "#CDC1FF",
           "#C9E9D2",
           "#CDC1FF",
           "#C96868",
           "#FFCF9D",
           "#B9B28A",
           "#C96868",
           "#C9E9D2",
           "#FFCF9D",
           "#C9E9D2",
           "#CDC1FF",
           "#FFCF9D",
           "#B9B28A",
           "#95D2B3",
           "#95D2B3"
          ]
         },
         "name": "",
         "parents": [
          "",
          "",
          "",
          "Subs",
          "Shop",
          "Groceries",
          "Family",
          "Transport",
          "",
          "Subs",
          "",
          "",
          "Shop",
          "Family",
          "Transport",
          "Other",
          "Other"
         ],
         "type": "sunburst",
         "values": [
          143,
          73.43,
          177.18,
          5,
          90.97,
          412.22,
          20,
          13.4,
          412.22,
          5.63,
          26.29,
          10.629999999999999,
          86.21000000000001,
          6.29,
          60.03,
          126,
          17
         ]
        }
       ],
       "layout": {
        "height": 500,
        "legend": {
         "tracegroupgap": 0
        },
        "margin": {
         "b": 10,
         "l": 10,
         "r": 10,
         "t": 60
        },
        "template": {
         "data": {
          "bar": [
           {
            "error_x": {
             "color": "#2a3f5f"
            },
            "error_y": {
             "color": "#2a3f5f"
            },
            "marker": {
             "line": {
              "color": "#E5ECF6",
              "width": 0.5
             },
             "pattern": {
              "fillmode": "overlay",
              "size": 10,
              "solidity": 0.2
             }
            },
            "type": "bar"
           }
          ],
          "barpolar": [
           {
            "marker": {
             "line": {
              "color": "#E5ECF6",
              "width": 0.5
             },
             "pattern": {
              "fillmode": "overlay",
              "size": 10,
              "solidity": 0.2
             }
            },
            "type": "barpolar"
           }
          ],
          "carpet": [
           {
            "aaxis": {
             "endlinecolor": "#2a3f5f",
             "gridcolor": "white",
             "linecolor": "white",
             "minorgridcolor": "white",
             "startlinecolor": "#2a3f5f"
            },
            "baxis": {
             "endlinecolor": "#2a3f5f",
             "gridcolor": "white",
             "linecolor": "white",
             "minorgridcolor": "white",
             "startlinecolor": "#2a3f5f"
            },
            "type": "carpet"
           }
          ],
          "choropleth": [
           {
            "colorbar": {
             "outlinewidth": 0,
             "ticks": ""
            },
            "type": "choropleth"
           }
          ],
          "contour": [
           {
            "colorbar": {
             "outlinewidth": 0,
             "ticks": ""
            },
            "colorscale": [
             [
              0,
              "#0d0887"
             ],
             [
              0.1111111111111111,
              "#46039f"
             ],
             [
              0.2222222222222222,
              "#7201a8"
             ],
             [
              0.3333333333333333,
              "#9c179e"
             ],
             [
              0.4444444444444444,
              "#bd3786"
             ],
             [
              0.5555555555555556,
              "#d8576b"
             ],
             [
              0.6666666666666666,
              "#ed7953"
             ],
             [
              0.7777777777777778,
              "#fb9f3a"
             ],
             [
              0.8888888888888888,
              "#fdca26"
             ],
             [
              1,
              "#f0f921"
             ]
            ],
            "type": "contour"
           }
          ],
          "contourcarpet": [
           {
            "colorbar": {
             "outlinewidth": 0,
             "ticks": ""
            },
            "type": "contourcarpet"
           }
          ],
          "heatmap": [
           {
            "colorbar": {
             "outlinewidth": 0,
             "ticks": ""
            },
            "colorscale": [
             [
              0,
              "#0d0887"
             ],
             [
              0.1111111111111111,
              "#46039f"
             ],
             [
              0.2222222222222222,
              "#7201a8"
             ],
             [
              0.3333333333333333,
              "#9c179e"
             ],
             [
              0.4444444444444444,
              "#bd3786"
             ],
             [
              0.5555555555555556,
              "#d8576b"
             ],
             [
              0.6666666666666666,
              "#ed7953"
             ],
             [
              0.7777777777777778,
              "#fb9f3a"
             ],
             [
              0.8888888888888888,
              "#fdca26"
             ],
             [
              1,
              "#f0f921"
             ]
            ],
            "type": "heatmap"
           }
          ],
          "heatmapgl": [
           {
            "colorbar": {
             "outlinewidth": 0,
             "ticks": ""
            },
            "colorscale": [
             [
              0,
              "#0d0887"
             ],
             [
              0.1111111111111111,
              "#46039f"
             ],
             [
              0.2222222222222222,
              "#7201a8"
             ],
             [
              0.3333333333333333,
              "#9c179e"
             ],
             [
              0.4444444444444444,
              "#bd3786"
             ],
             [
              0.5555555555555556,
              "#d8576b"
             ],
             [
              0.6666666666666666,
              "#ed7953"
             ],
             [
              0.7777777777777778,
              "#fb9f3a"
             ],
             [
              0.8888888888888888,
              "#fdca26"
             ],
             [
              1,
              "#f0f921"
             ]
            ],
            "type": "heatmapgl"
           }
          ],
          "histogram": [
           {
            "marker": {
             "pattern": {
              "fillmode": "overlay",
              "size": 10,
              "solidity": 0.2
             }
            },
            "type": "histogram"
           }
          ],
          "histogram2d": [
           {
            "colorbar": {
             "outlinewidth": 0,
             "ticks": ""
            },
            "colorscale": [
             [
              0,
              "#0d0887"
             ],
             [
              0.1111111111111111,
              "#46039f"
             ],
             [
              0.2222222222222222,
              "#7201a8"
             ],
             [
              0.3333333333333333,
              "#9c179e"
             ],
             [
              0.4444444444444444,
              "#bd3786"
             ],
             [
              0.5555555555555556,
              "#d8576b"
             ],
             [
              0.6666666666666666,
              "#ed7953"
             ],
             [
              0.7777777777777778,
              "#fb9f3a"
             ],
             [
              0.8888888888888888,
              "#fdca26"
             ],
             [
              1,
              "#f0f921"
             ]
            ],
            "type": "histogram2d"
           }
          ],
          "histogram2dcontour": [
           {
            "colorbar": {
             "outlinewidth": 0,
             "ticks": ""
            },
            "colorscale": [
             [
              0,
              "#0d0887"
             ],
             [
              0.1111111111111111,
              "#46039f"
             ],
             [
              0.2222222222222222,
              "#7201a8"
             ],
             [
              0.3333333333333333,
              "#9c179e"
             ],
             [
              0.4444444444444444,
              "#bd3786"
             ],
             [
              0.5555555555555556,
              "#d8576b"
             ],
             [
              0.6666666666666666,
              "#ed7953"
             ],
             [
              0.7777777777777778,
              "#fb9f3a"
             ],
             [
              0.8888888888888888,
              "#fdca26"
             ],
             [
              1,
              "#f0f921"
             ]
            ],
            "type": "histogram2dcontour"
           }
          ],
          "mesh3d": [
           {
            "colorbar": {
             "outlinewidth": 0,
             "ticks": ""
            },
            "type": "mesh3d"
           }
          ],
          "parcoords": [
           {
            "line": {
             "colorbar": {
              "outlinewidth": 0,
              "ticks": ""
             }
            },
            "type": "parcoords"
           }
          ],
          "pie": [
           {
            "automargin": true,
            "type": "pie"
           }
          ],
          "scatter": [
           {
            "fillpattern": {
             "fillmode": "overlay",
             "size": 10,
             "solidity": 0.2
            },
            "type": "scatter"
           }
          ],
          "scatter3d": [
           {
            "line": {
             "colorbar": {
              "outlinewidth": 0,
              "ticks": ""
             }
            },
            "marker": {
             "colorbar": {
              "outlinewidth": 0,
              "ticks": ""
             }
            },
            "type": "scatter3d"
           }
          ],
          "scattercarpet": [
           {
            "marker": {
             "colorbar": {
              "outlinewidth": 0,
              "ticks": ""
             }
            },
            "type": "scattercarpet"
           }
          ],
          "scattergeo": [
           {
            "marker": {
             "colorbar": {
              "outlinewidth": 0,
              "ticks": ""
             }
            },
            "type": "scattergeo"
           }
          ],
          "scattergl": [
           {
            "marker": {
             "colorbar": {
              "outlinewidth": 0,
              "ticks": ""
             }
            },
            "type": "scattergl"
           }
          ],
          "scattermapbox": [
           {
            "marker": {
             "colorbar": {
              "outlinewidth": 0,
              "ticks": ""
             }
            },
            "type": "scattermapbox"
           }
          ],
          "scatterpolar": [
           {
            "marker": {
             "colorbar": {
              "outlinewidth": 0,
              "ticks": ""
             }
            },
            "type": "scatterpolar"
           }
          ],
          "scatterpolargl": [
           {
            "marker": {
             "colorbar": {
              "outlinewidth": 0,
              "ticks": ""
             }
            },
            "type": "scatterpolargl"
           }
          ],
          "scatterternary": [
           {
            "marker": {
             "colorbar": {
              "outlinewidth": 0,
              "ticks": ""
             }
            },
            "type": "scatterternary"
           }
          ],
          "surface": [
           {
            "colorbar": {
             "outlinewidth": 0,
             "ticks": ""
            },
            "colorscale": [
             [
              0,
              "#0d0887"
             ],
             [
              0.1111111111111111,
              "#46039f"
             ],
             [
              0.2222222222222222,
              "#7201a8"
             ],
             [
              0.3333333333333333,
              "#9c179e"
             ],
             [
              0.4444444444444444,
              "#bd3786"
             ],
             [
              0.5555555555555556,
              "#d8576b"
             ],
             [
              0.6666666666666666,
              "#ed7953"
             ],
             [
              0.7777777777777778,
              "#fb9f3a"
             ],
             [
              0.8888888888888888,
              "#fdca26"
             ],
             [
              1,
              "#f0f921"
             ]
            ],
            "type": "surface"
           }
          ],
          "table": [
           {
            "cells": {
             "fill": {
              "color": "#EBF0F8"
             },
             "line": {
              "color": "white"
             }
            },
            "header": {
             "fill": {
              "color": "#C8D4E3"
             },
             "line": {
              "color": "white"
             }
            },
            "type": "table"
           }
          ]
         },
         "layout": {
          "annotationdefaults": {
           "arrowcolor": "#2a3f5f",
           "arrowhead": 0,
           "arrowwidth": 1
          },
          "autotypenumbers": "strict",
          "coloraxis": {
           "colorbar": {
            "outlinewidth": 0,
            "ticks": ""
           }
          },
          "colorscale": {
           "diverging": [
            [
             0,
             "#8e0152"
            ],
            [
             0.1,
             "#c51b7d"
            ],
            [
             0.2,
             "#de77ae"
            ],
            [
             0.3,
             "#f1b6da"
            ],
            [
             0.4,
             "#fde0ef"
            ],
            [
             0.5,
             "#f7f7f7"
            ],
            [
             0.6,
             "#e6f5d0"
            ],
            [
             0.7,
             "#b8e186"
            ],
            [
             0.8,
             "#7fbc41"
            ],
            [
             0.9,
             "#4d9221"
            ],
            [
             1,
             "#276419"
            ]
           ],
           "sequential": [
            [
             0,
             "#0d0887"
            ],
            [
             0.1111111111111111,
             "#46039f"
            ],
            [
             0.2222222222222222,
             "#7201a8"
            ],
            [
             0.3333333333333333,
             "#9c179e"
            ],
            [
             0.4444444444444444,
             "#bd3786"
            ],
            [
             0.5555555555555556,
             "#d8576b"
            ],
            [
             0.6666666666666666,
             "#ed7953"
            ],
            [
             0.7777777777777778,
             "#fb9f3a"
            ],
            [
             0.8888888888888888,
             "#fdca26"
            ],
            [
             1,
             "#f0f921"
            ]
           ],
           "sequentialminus": [
            [
             0,
             "#0d0887"
            ],
            [
             0.1111111111111111,
             "#46039f"
            ],
            [
             0.2222222222222222,
             "#7201a8"
            ],
            [
             0.3333333333333333,
             "#9c179e"
            ],
            [
             0.4444444444444444,
             "#bd3786"
            ],
            [
             0.5555555555555556,
             "#d8576b"
            ],
            [
             0.6666666666666666,
             "#ed7953"
            ],
            [
             0.7777777777777778,
             "#fb9f3a"
            ],
            [
             0.8888888888888888,
             "#fdca26"
            ],
            [
             1,
             "#f0f921"
            ]
           ]
          },
          "colorway": [
           "#636efa",
           "#EF553B",
           "#00cc96",
           "#ab63fa",
           "#FFA15A",
           "#19d3f3",
           "#FF6692",
           "#B6E880",
           "#FF97FF",
           "#FECB52"
          ],
          "font": {
           "color": "#2a3f5f"
          },
          "geo": {
           "bgcolor": "white",
           "lakecolor": "white",
           "landcolor": "#E5ECF6",
           "showlakes": true,
           "showland": true,
           "subunitcolor": "white"
          },
          "hoverlabel": {
           "align": "left"
          },
          "hovermode": "closest",
          "mapbox": {
           "style": "light"
          },
          "paper_bgcolor": "white",
          "plot_bgcolor": "#E5ECF6",
          "polar": {
           "angularaxis": {
            "gridcolor": "white",
            "linecolor": "white",
            "ticks": ""
           },
           "bgcolor": "#E5ECF6",
           "radialaxis": {
            "gridcolor": "white",
            "linecolor": "white",
            "ticks": ""
           }
          },
          "scene": {
           "xaxis": {
            "backgroundcolor": "#E5ECF6",
            "gridcolor": "white",
            "gridwidth": 2,
            "linecolor": "white",
            "showbackground": true,
            "ticks": "",
            "zerolinecolor": "white"
           },
           "yaxis": {
            "backgroundcolor": "#E5ECF6",
            "gridcolor": "white",
            "gridwidth": 2,
            "linecolor": "white",
            "showbackground": true,
            "ticks": "",
            "zerolinecolor": "white"
           },
           "zaxis": {
            "backgroundcolor": "#E5ECF6",
            "gridcolor": "white",
            "gridwidth": 2,
            "linecolor": "white",
            "showbackground": true,
            "ticks": "",
            "zerolinecolor": "white"
           }
          },
          "shapedefaults": {
           "line": {
            "color": "#2a3f5f"
           }
          },
          "ternary": {
           "aaxis": {
            "gridcolor": "white",
            "linecolor": "white",
            "ticks": ""
           },
           "baxis": {
            "gridcolor": "white",
            "linecolor": "white",
            "ticks": ""
           },
           "bgcolor": "#E5ECF6",
           "caxis": {
            "gridcolor": "white",
            "linecolor": "white",
            "ticks": ""
           }
          },
          "title": {
           "x": 0.05
          },
          "xaxis": {
           "automargin": true,
           "gridcolor": "white",
           "linecolor": "white",
           "ticks": "",
           "title": {
            "standoff": 15
           },
           "zerolinecolor": "white",
           "zerolinewidth": 2
          },
          "yaxis": {
           "automargin": true,
           "gridcolor": "white",
           "linecolor": "white",
           "ticks": "",
           "title": {
            "standoff": 15
           },
           "zerolinecolor": "white",
           "zerolinewidth": 2
          }
         }
        },
        "title": {
         "text": "Expenses",
         "x": 0.5,
         "y": 0.95
        },
        "width": 500
       }
      }
     },
     "metadata": {},
     "output_type": "display_data"
    }
   ],
   "source": [
    "df_expenses = FinCalc.calc_expenses(df_year_cashflow[ df_year_cashflow.index.month == 6 ])\n",
    "df_expenses[\"Qty\"] = df_expenses.Qty.abs() # sunburst does not understand negative values\n",
    "fig = FinPlot.plot_expenses_donut(df_expenses)\n",
    "fig.show()"
   ]
  },
  {
   "cell_type": "markdown",
   "id": "90fde5e2-1389-4205-8c32-f5a433ee5cdc",
   "metadata": {},
   "source": [
    "### Investments 2024"
   ]
  },
  {
   "cell_type": "code",
   "execution_count": 11,
   "id": "77d56a4a",
   "metadata": {},
   "outputs": [],
   "source": [
    "init_holdings = FinLoad.load_init_holdings(data_path_o, YEAR)\n",
    "df_year_investments = FinLoad.load_investments(data_path_o, YEAR)"
   ]
  },
  {
   "cell_type": "code",
   "execution_count": 12,
   "id": "0318009e",
   "metadata": {},
   "outputs": [],
   "source": [
    "df_init_investments = FinInvestmentsGet.get_init_holdings_to_df(init_holdings, YEAR)\n",
    "df_year_investments = pd.concat([df_init_investments, df_year_investments])\n"
   ]
  },
  {
   "cell_type": "code",
   "execution_count": 13,
   "id": "a13bb018",
   "metadata": {},
   "outputs": [
    {
     "data": {
      "text/html": [
       "<div>\n",
       "<style scoped>\n",
       "    .dataframe tbody tr th:only-of-type {\n",
       "        vertical-align: middle;\n",
       "    }\n",
       "\n",
       "    .dataframe tbody tr th {\n",
       "        vertical-align: top;\n",
       "    }\n",
       "\n",
       "    .dataframe thead th {\n",
       "        text-align: right;\n",
       "    }\n",
       "</style>\n",
       "<table border=\"1\" class=\"dataframe\">\n",
       "  <thead>\n",
       "    <tr style=\"text-align: right;\">\n",
       "      <th></th>\n",
       "      <th>Type</th>\n",
       "      <th>Symbol</th>\n",
       "      <th>Qty</th>\n",
       "      <th>Category</th>\n",
       "      <th>Subcategory</th>\n",
       "      <th>Description</th>\n",
       "    </tr>\n",
       "    <tr>\n",
       "      <th>Date</th>\n",
       "      <th></th>\n",
       "      <th></th>\n",
       "      <th></th>\n",
       "      <th></th>\n",
       "      <th></th>\n",
       "      <th></th>\n",
       "    </tr>\n",
       "  </thead>\n",
       "  <tbody>\n",
       "    <tr>\n",
       "      <th>2024-01-01</th>\n",
       "      <td>Cryptocurrencies</td>\n",
       "      <td>SOL</td>\n",
       "      <td>4.86</td>\n",
       "      <td>Init</td>\n",
       "      <td>Holdings</td>\n",
       "      <td>From previous year</td>\n",
       "    </tr>\n",
       "    <tr>\n",
       "      <th>2024-01-01</th>\n",
       "      <td>Cryptocurrencies</td>\n",
       "      <td>ETH</td>\n",
       "      <td>0.01</td>\n",
       "      <td>Init</td>\n",
       "      <td>Holdings</td>\n",
       "      <td>From previous year</td>\n",
       "    </tr>\n",
       "    <tr>\n",
       "      <th>2024-01-01</th>\n",
       "      <td>ETFs</td>\n",
       "      <td>IE00BK5BQT80</td>\n",
       "      <td>9.00</td>\n",
       "      <td>Init</td>\n",
       "      <td>Holdings</td>\n",
       "      <td>From previous year</td>\n",
       "    </tr>\n",
       "    <tr>\n",
       "      <th>2024-01-01</th>\n",
       "      <td>ETFs</td>\n",
       "      <td>JE00B1VS3770</td>\n",
       "      <td>1.00</td>\n",
       "      <td>Init</td>\n",
       "      <td>Holdings</td>\n",
       "      <td>From previous year</td>\n",
       "    </tr>\n",
       "    <tr>\n",
       "      <th>2024-08-13</th>\n",
       "      <td>Cryptocurrencies</td>\n",
       "      <td>USDT</td>\n",
       "      <td>108.24</td>\n",
       "      <td>Buy</td>\n",
       "      <td>Holdings</td>\n",
       "      <td>Bought 108 USDT for Futures account</td>\n",
       "    </tr>\n",
       "  </tbody>\n",
       "</table>\n",
       "</div>"
      ],
      "text/plain": [
       "                        Type        Symbol    Qty Category Subcategory  \\\n",
       "Date                                                                     \n",
       "2024-01-01  Cryptocurrencies           SOL   4.86     Init    Holdings   \n",
       "2024-01-01  Cryptocurrencies           ETH   0.01     Init    Holdings   \n",
       "2024-01-01              ETFs  IE00BK5BQT80   9.00     Init    Holdings   \n",
       "2024-01-01              ETFs  JE00B1VS3770   1.00     Init    Holdings   \n",
       "2024-08-13  Cryptocurrencies          USDT 108.24      Buy    Holdings   \n",
       "\n",
       "                                    Description  \n",
       "Date                                             \n",
       "2024-01-01                   From previous year  \n",
       "2024-01-01                   From previous year  \n",
       "2024-01-01                   From previous year  \n",
       "2024-01-01                   From previous year  \n",
       "2024-08-13  Bought 108 USDT for Futures account  "
      ]
     },
     "execution_count": 13,
     "metadata": {},
     "output_type": "execute_result"
    }
   ],
   "source": [
    "df_year_investments"
   ]
  },
  {
   "cell_type": "code",
   "execution_count": 14,
   "id": "7683dd24",
   "metadata": {},
   "outputs": [
    {
     "name": "stdout",
     "output_type": "stream",
     "text": [
      "SOL\n",
      "../../tmp/data/2024/investments/exchange/SOL-EUR.csv already exists. Data Loaded from local.\n",
      "ETH\n",
      "../../tmp/data/2024/investments/exchange/ETH-EUR.csv already exists. Data Loaded from local.\n",
      "USDT\n",
      "../../tmp/data/2024/investments/exchange/USDT-EUR.csv already exists. Data Loaded from local.\n",
      "IE00BK5BQT80\n",
      "../../tmp/data/2024/investments/exchange/IE00BK5BQT80-EUR.csv already exists. Data Loaded from local.\n",
      "JE00B1VS3770\n",
      "../../tmp/data/2024/investments/exchange/JE00B1VS3770-EUR.csv already exists. Data Loaded from local.\n"
     ]
    }
   ],
   "source": [
    "holdings_monthlyized = FinInvestmentsGet.get_holdings_monthlyized(df_year_investments, YEAR)\n",
    "assets_monthlyized = FinInvestmentsGet.get_assets_monthlyized(holdings_monthlyized, data_path_o, YEAR)\n",
    "assets = FinInvestmentsGet.get_assets_global(assets_monthlyized, holdings_monthlyized)"
   ]
  },
  {
   "cell_type": "code",
   "execution_count": 15,
   "id": "30e448f6",
   "metadata": {},
   "outputs": [],
   "source": [
    "df_year_holdings = FinInvestmentsGet.get_total_holdings(assets)"
   ]
  },
  {
   "cell_type": "code",
   "execution_count": 24,
   "id": "34d5ec35",
   "metadata": {},
   "outputs": [
    {
     "data": {
      "text/html": [
       "<div>\n",
       "<style scoped>\n",
       "    .dataframe tbody tr th:only-of-type {\n",
       "        vertical-align: middle;\n",
       "    }\n",
       "\n",
       "    .dataframe tbody tr th {\n",
       "        vertical-align: top;\n",
       "    }\n",
       "\n",
       "    .dataframe thead th {\n",
       "        text-align: right;\n",
       "    }\n",
       "</style>\n",
       "<table border=\"1\" class=\"dataframe\">\n",
       "  <thead>\n",
       "    <tr style=\"text-align: right;\">\n",
       "      <th></th>\n",
       "      <th>SOL</th>\n",
       "      <th>ETH</th>\n",
       "      <th>USDT</th>\n",
       "      <th>IE00BK5BQT80</th>\n",
       "      <th>JE00B1VS3770</th>\n",
       "      <th>Total</th>\n",
       "    </tr>\n",
       "  </thead>\n",
       "  <tbody>\n",
       "    <tr>\n",
       "      <th>2024-01-31</th>\n",
       "      <td>454.84</td>\n",
       "      <td>26.38</td>\n",
       "      <td>0.00</td>\n",
       "      <td>986.94</td>\n",
       "      <td>177.45</td>\n",
       "      <td>1,645.60</td>\n",
       "    </tr>\n",
       "    <tr>\n",
       "      <th>2024-02-29</th>\n",
       "      <td>529.39</td>\n",
       "      <td>38.11</td>\n",
       "      <td>0.00</td>\n",
       "      <td>1,029.33</td>\n",
       "      <td>177.12</td>\n",
       "      <td>1,773.95</td>\n",
       "    </tr>\n",
       "    <tr>\n",
       "      <th>2024-03-31</th>\n",
       "      <td>874.77</td>\n",
       "      <td>39.63</td>\n",
       "      <td>0.00</td>\n",
       "      <td>1,064.79</td>\n",
       "      <td>192.73</td>\n",
       "      <td>2,171.92</td>\n",
       "    </tr>\n",
       "    <tr>\n",
       "      <th>2024-04-30</th>\n",
       "      <td>624.95</td>\n",
       "      <td>36.61</td>\n",
       "      <td>0.00</td>\n",
       "      <td>1,036.98</td>\n",
       "      <td>201.40</td>\n",
       "      <td>1,899.94</td>\n",
       "    </tr>\n",
       "    <tr>\n",
       "      <th>2024-05-31</th>\n",
       "      <td>749.28</td>\n",
       "      <td>42.20</td>\n",
       "      <td>0.00</td>\n",
       "      <td>1,065.42</td>\n",
       "      <td>202.40</td>\n",
       "      <td>2,059.30</td>\n",
       "    </tr>\n",
       "    <tr>\n",
       "      <th>2024-06-30</th>\n",
       "      <td>634.77</td>\n",
       "      <td>38.39</td>\n",
       "      <td>0.00</td>\n",
       "      <td>1,102.86</td>\n",
       "      <td>203.60</td>\n",
       "      <td>1,979.61</td>\n",
       "    </tr>\n",
       "    <tr>\n",
       "      <th>2024-07-31</th>\n",
       "      <td>804.88</td>\n",
       "      <td>36.98</td>\n",
       "      <td>0.00</td>\n",
       "      <td>1,109.16</td>\n",
       "      <td>209.45</td>\n",
       "      <td>2,160.48</td>\n",
       "    </tr>\n",
       "    <tr>\n",
       "      <th>2024-08-31</th>\n",
       "      <td>606.82</td>\n",
       "      <td>27.86</td>\n",
       "      <td>97.42</td>\n",
       "      <td>1,110.60</td>\n",
       "      <td>211.83</td>\n",
       "      <td>2,054.53</td>\n",
       "    </tr>\n",
       "    <tr>\n",
       "      <th>2024-09-30</th>\n",
       "      <td>690.27</td>\n",
       "      <td>29.05</td>\n",
       "      <td>97.42</td>\n",
       "      <td>1,125.63</td>\n",
       "      <td>219.43</td>\n",
       "      <td>2,161.80</td>\n",
       "    </tr>\n",
       "    <tr>\n",
       "      <th>2024-10-31</th>\n",
       "      <td>783.01</td>\n",
       "      <td>29.86</td>\n",
       "      <td>99.58</td>\n",
       "      <td>1,131.39</td>\n",
       "      <td>234.63</td>\n",
       "      <td>2,278.47</td>\n",
       "    </tr>\n",
       "    <tr>\n",
       "      <th>2024-11-30</th>\n",
       "      <td>1,118.86</td>\n",
       "      <td>41.44</td>\n",
       "      <td>102.83</td>\n",
       "      <td>1,207.71</td>\n",
       "      <td>234.32</td>\n",
       "      <td>2,705.16</td>\n",
       "    </tr>\n",
       "    <tr>\n",
       "      <th>2024-12-31</th>\n",
       "      <td>892.27</td>\n",
       "      <td>39.35</td>\n",
       "      <td>103.91</td>\n",
       "      <td>1,199.34</td>\n",
       "      <td>234.53</td>\n",
       "      <td>2,469.40</td>\n",
       "    </tr>\n",
       "  </tbody>\n",
       "</table>\n",
       "</div>"
      ],
      "text/plain": [
       "                SOL   ETH   USDT  IE00BK5BQT80  JE00B1VS3770    Total\n",
       "2024-01-31   454.84 26.38   0.00        986.94        177.45 1,645.60\n",
       "2024-02-29   529.39 38.11   0.00      1,029.33        177.12 1,773.95\n",
       "2024-03-31   874.77 39.63   0.00      1,064.79        192.73 2,171.92\n",
       "2024-04-30   624.95 36.61   0.00      1,036.98        201.40 1,899.94\n",
       "2024-05-31   749.28 42.20   0.00      1,065.42        202.40 2,059.30\n",
       "2024-06-30   634.77 38.39   0.00      1,102.86        203.60 1,979.61\n",
       "2024-07-31   804.88 36.98   0.00      1,109.16        209.45 2,160.48\n",
       "2024-08-31   606.82 27.86  97.42      1,110.60        211.83 2,054.53\n",
       "2024-09-30   690.27 29.05  97.42      1,125.63        219.43 2,161.80\n",
       "2024-10-31   783.01 29.86  99.58      1,131.39        234.63 2,278.47\n",
       "2024-11-30 1,118.86 41.44 102.83      1,207.71        234.32 2,705.16\n",
       "2024-12-31   892.27 39.35 103.91      1,199.34        234.53 2,469.40"
      ]
     },
     "execution_count": 24,
     "metadata": {},
     "output_type": "execute_result"
    }
   ],
   "source": [
    "df_year_holdings"
   ]
  },
  {
   "cell_type": "markdown",
   "id": "69e2a3a2-b990-4889-874c-caa1c54e74cf",
   "metadata": {},
   "source": [
    "### NW 2024"
   ]
  },
  {
   "cell_type": "code",
   "execution_count": 17,
   "id": "3fe87d67-8969-4443-be11-0556cd5aaf93",
   "metadata": {},
   "outputs": [
    {
     "data": {
      "text/plain": [
       "{'Hype - EUR': 6, 'Revolut - EUR': 16.74, 'Money - EUR': 14.13}"
      ]
     },
     "execution_count": 17,
     "metadata": {},
     "output_type": "execute_result"
    }
   ],
   "source": [
    "init_holdings['liquidity']"
   ]
  },
  {
   "cell_type": "code",
   "execution_count": 22,
   "id": "b5fea0b3",
   "metadata": {},
   "outputs": [
    {
     "data": {
      "text/html": [
       "<div>\n",
       "<style scoped>\n",
       "    .dataframe tbody tr th:only-of-type {\n",
       "        vertical-align: middle;\n",
       "    }\n",
       "\n",
       "    .dataframe tbody tr th {\n",
       "        vertical-align: top;\n",
       "    }\n",
       "\n",
       "    .dataframe thead th {\n",
       "        text-align: right;\n",
       "    }\n",
       "</style>\n",
       "<table border=\"1\" class=\"dataframe\">\n",
       "  <thead>\n",
       "    <tr style=\"text-align: right;\">\n",
       "      <th>Date</th>\n",
       "      <th>2024-01-31</th>\n",
       "      <th>2024-02-29</th>\n",
       "      <th>2024-03-31</th>\n",
       "      <th>2024-04-30</th>\n",
       "      <th>2024-05-31</th>\n",
       "      <th>2024-06-30</th>\n",
       "      <th>2024-07-31</th>\n",
       "      <th>2024-08-31</th>\n",
       "      <th>2024-09-30</th>\n",
       "      <th>2024-10-31</th>\n",
       "      <th>2024-11-30</th>\n",
       "      <th>2024-12-31</th>\n",
       "    </tr>\n",
       "  </thead>\n",
       "  <tbody>\n",
       "    <tr>\n",
       "      <th>incomes</th>\n",
       "      <td>2,031.00</td>\n",
       "      <td>1,642.00</td>\n",
       "      <td>1,630.00</td>\n",
       "      <td>1,642.00</td>\n",
       "      <td>1,682.00</td>\n",
       "      <td>1,688.00</td>\n",
       "      <td>2,534.34</td>\n",
       "      <td>1,694.00</td>\n",
       "      <td>1,694.00</td>\n",
       "      <td>1,778.00</td>\n",
       "      <td>1,693.00</td>\n",
       "      <td>2,757.00</td>\n",
       "    </tr>\n",
       "    <tr>\n",
       "      <th>liabilities</th>\n",
       "      <td>-1,069.21</td>\n",
       "      <td>-878.36</td>\n",
       "      <td>-359.75</td>\n",
       "      <td>-936.96</td>\n",
       "      <td>-614.41</td>\n",
       "      <td>-842.75</td>\n",
       "      <td>-386.74</td>\n",
       "      <td>-389.54</td>\n",
       "      <td>-621.00</td>\n",
       "      <td>-569.47</td>\n",
       "      <td>-544.63</td>\n",
       "      <td>-478.20</td>\n",
       "    </tr>\n",
       "    <tr>\n",
       "      <th>savings</th>\n",
       "      <td>961.79</td>\n",
       "      <td>763.64</td>\n",
       "      <td>1,270.25</td>\n",
       "      <td>705.04</td>\n",
       "      <td>1,067.59</td>\n",
       "      <td>845.25</td>\n",
       "      <td>2,147.60</td>\n",
       "      <td>1,304.46</td>\n",
       "      <td>1,073.00</td>\n",
       "      <td>1,208.53</td>\n",
       "      <td>1,148.37</td>\n",
       "      <td>2,278.80</td>\n",
       "    </tr>\n",
       "    <tr>\n",
       "      <th>saving_rate</th>\n",
       "      <td>0.47</td>\n",
       "      <td>0.47</td>\n",
       "      <td>0.78</td>\n",
       "      <td>0.43</td>\n",
       "      <td>0.63</td>\n",
       "      <td>0.50</td>\n",
       "      <td>0.85</td>\n",
       "      <td>0.71</td>\n",
       "      <td>0.63</td>\n",
       "      <td>0.68</td>\n",
       "      <td>0.68</td>\n",
       "      <td>0.83</td>\n",
       "    </tr>\n",
       "  </tbody>\n",
       "</table>\n",
       "</div>"
      ],
      "text/plain": [
       "Date         2024-01-31  2024-02-29  2024-03-31  2024-04-30  2024-05-31  \\\n",
       "incomes        2,031.00    1,642.00    1,630.00    1,642.00    1,682.00   \n",
       "liabilities   -1,069.21     -878.36     -359.75     -936.96     -614.41   \n",
       "savings          961.79      763.64    1,270.25      705.04    1,067.59   \n",
       "saving_rate        0.47        0.47        0.78        0.43        0.63   \n",
       "\n",
       "Date         2024-06-30  2024-07-31  2024-08-31  2024-09-30  2024-10-31  \\\n",
       "incomes        1,688.00    2,534.34    1,694.00    1,694.00    1,778.00   \n",
       "liabilities     -842.75     -386.74     -389.54     -621.00     -569.47   \n",
       "savings          845.25    2,147.60    1,304.46    1,073.00    1,208.53   \n",
       "saving_rate        0.50        0.85        0.71        0.63        0.68   \n",
       "\n",
       "Date         2024-11-30  2024-12-31  \n",
       "incomes        1,693.00    2,757.00  \n",
       "liabilities     -544.63     -478.20  \n",
       "savings        1,148.37    2,278.80  \n",
       "saving_rate        0.68        0.83  "
      ]
     },
     "execution_count": 22,
     "metadata": {},
     "output_type": "execute_result"
    }
   ],
   "source": [
    "df_m_cashflow.T"
   ]
  },
  {
   "cell_type": "code",
   "execution_count": 19,
   "id": "dd39cf5e-75db-4872-bb1a-083d9328a674",
   "metadata": {},
   "outputs": [],
   "source": [
    "liquidity = df_m_cashflow[\"savings\"].values.cumsum() + init_holdings['liquidity']['Hype - EUR'] + init_holdings['liquidity']['Revolut - EUR'] + init_holdings['liquidity']['Money - EUR']"
   ]
  },
  {
   "cell_type": "code",
   "execution_count": 20,
   "id": "11427dea",
   "metadata": {},
   "outputs": [
    {
     "data": {
      "text/plain": [
       "array([  998.66 ,  1762.3  ,  3032.55 ,  3737.59 ,  4805.18 ,  5650.43 ,\n",
       "        7798.03 ,  9102.49 , 10175.491, 11384.021, 12532.391, 14811.191])"
      ]
     },
     "execution_count": 20,
     "metadata": {},
     "output_type": "execute_result"
    }
   ],
   "source": [
    "liquidity"
   ]
  },
  {
   "cell_type": "code",
   "execution_count": null,
   "id": "b54d2a09",
   "metadata": {},
   "outputs": [],
   "source": []
  },
  {
   "cell_type": "code",
   "execution_count": 41,
   "id": "990224ea-4925-45f8-a83f-35afd0321e3d",
   "metadata": {},
   "outputs": [],
   "source": [
    "liquidity_end_2023 = 24.30\n",
    "crypto_end_2023 = 473.56\n",
    "columns = [\"liquidity\", \"crypto\"]\n",
    "\n",
    "nw2023 = pd.DataFrame(data = zip([liquidity_end_2023],[crypto_end_2023]), columns = columns, index = pd.date_range(f'2023-12-31',f'2023-12-31', freq='ME'))"
   ]
  },
  {
   "cell_type": "code",
   "execution_count": 42,
   "id": "296578bb-cbcb-4784-9b3d-8978f56a8cca",
   "metadata": {},
   "outputs": [],
   "source": [
    "zipped = zip(liquidity, cryptocurrency_year_holdings.values)\n",
    "columns = [\"liquidity\", \"crypto\"]\n",
    "nw2024 = pd.DataFrame(index = pd.date_range(f'{year}-01-01',f'{year}-12-31', freq='ME'), data = zipped, columns = columns)"
   ]
  },
  {
   "cell_type": "code",
   "execution_count": 43,
   "id": "ba0d90d7-c547-47ef-92cb-c0ebe83e646d",
   "metadata": {},
   "outputs": [],
   "source": [
    "nw = pd.concat([nw2023, nw2024])"
   ]
  },
  {
   "cell_type": "code",
   "execution_count": 44,
   "id": "264506ba-7bb8-418e-ac4f-11d98492cc7b",
   "metadata": {},
   "outputs": [],
   "source": [
    "nw[\"nw\"] = nw.liquidity + nw.crypto"
   ]
  },
  {
   "cell_type": "code",
   "execution_count": 45,
   "id": "7a6dc0eb-3118-4bb6-b435-d9b875b07a8b",
   "metadata": {},
   "outputs": [],
   "source": [
    "nw[\"nwch\"] = (nw[\"nw\"] - nw.nw.shift(1) )\n",
    "nw[\"nw%\"] = (nw[\"nw\"] - nw.nw.shift(1) )/ nw[\"nw\"]"
   ]
  },
  {
   "cell_type": "code",
   "execution_count": 46,
   "id": "e23ac3be-d4b5-4eb5-8283-f7dcd5dbdca2",
   "metadata": {},
   "outputs": [
    {
     "data": {
      "text/html": [
       "<div>\n",
       "<style scoped>\n",
       "    .dataframe tbody tr th:only-of-type {\n",
       "        vertical-align: middle;\n",
       "    }\n",
       "\n",
       "    .dataframe tbody tr th {\n",
       "        vertical-align: top;\n",
       "    }\n",
       "\n",
       "    .dataframe thead th {\n",
       "        text-align: right;\n",
       "    }\n",
       "</style>\n",
       "<table border=\"1\" class=\"dataframe\">\n",
       "  <thead>\n",
       "    <tr style=\"text-align: right;\">\n",
       "      <th></th>\n",
       "      <th>2023-12-31</th>\n",
       "      <th>2024-01-31</th>\n",
       "      <th>2024-02-29</th>\n",
       "      <th>2024-03-31</th>\n",
       "      <th>2024-04-30</th>\n",
       "      <th>2024-05-31</th>\n",
       "      <th>2024-06-30</th>\n",
       "      <th>2024-07-31</th>\n",
       "      <th>2024-08-31</th>\n",
       "      <th>2024-09-30</th>\n",
       "      <th>2024-10-31</th>\n",
       "      <th>2024-11-30</th>\n",
       "      <th>2024-12-31</th>\n",
       "    </tr>\n",
       "  </thead>\n",
       "  <tbody>\n",
       "    <tr>\n",
       "      <th>liquidity</th>\n",
       "      <td>24.30</td>\n",
       "      <td>998.66</td>\n",
       "      <td>1,762.30</td>\n",
       "      <td>3,032.55</td>\n",
       "      <td>3,737.59</td>\n",
       "      <td>4,805.18</td>\n",
       "      <td>5,650.43</td>\n",
       "      <td>7,798.03</td>\n",
       "      <td>9,102.49</td>\n",
       "      <td>10,175.49</td>\n",
       "      <td>11,384.02</td>\n",
       "      <td>12,532.39</td>\n",
       "      <td>14,811.19</td>\n",
       "    </tr>\n",
       "    <tr>\n",
       "      <th>crypto</th>\n",
       "      <td>473.56</td>\n",
       "      <td>462.44</td>\n",
       "      <td>601.79</td>\n",
       "      <td>952.95</td>\n",
       "      <td>611.48</td>\n",
       "      <td>783.76</td>\n",
       "      <td>702.00</td>\n",
       "      <td>807.59</td>\n",
       "      <td>721.44</td>\n",
       "      <td>791.55</td>\n",
       "      <td>880.07</td>\n",
       "      <td>1,236.90</td>\n",
       "      <td>1,030.07</td>\n",
       "    </tr>\n",
       "    <tr>\n",
       "      <th>nw</th>\n",
       "      <td>497.86</td>\n",
       "      <td>1,461.10</td>\n",
       "      <td>2,364.09</td>\n",
       "      <td>3,985.50</td>\n",
       "      <td>4,349.07</td>\n",
       "      <td>5,588.94</td>\n",
       "      <td>6,352.43</td>\n",
       "      <td>8,605.62</td>\n",
       "      <td>9,823.93</td>\n",
       "      <td>10,967.04</td>\n",
       "      <td>12,264.09</td>\n",
       "      <td>13,769.29</td>\n",
       "      <td>15,841.26</td>\n",
       "    </tr>\n",
       "    <tr>\n",
       "      <th>nwch</th>\n",
       "      <td>NaN</td>\n",
       "      <td>963.24</td>\n",
       "      <td>902.99</td>\n",
       "      <td>1,621.40</td>\n",
       "      <td>363.57</td>\n",
       "      <td>1,239.87</td>\n",
       "      <td>763.49</td>\n",
       "      <td>2,253.19</td>\n",
       "      <td>1,218.31</td>\n",
       "      <td>1,143.11</td>\n",
       "      <td>1,297.05</td>\n",
       "      <td>1,505.20</td>\n",
       "      <td>2,071.97</td>\n",
       "    </tr>\n",
       "    <tr>\n",
       "      <th>nw%</th>\n",
       "      <td>NaN</td>\n",
       "      <td>0.66</td>\n",
       "      <td>0.38</td>\n",
       "      <td>0.41</td>\n",
       "      <td>0.08</td>\n",
       "      <td>0.22</td>\n",
       "      <td>0.12</td>\n",
       "      <td>0.26</td>\n",
       "      <td>0.12</td>\n",
       "      <td>0.10</td>\n",
       "      <td>0.11</td>\n",
       "      <td>0.11</td>\n",
       "      <td>0.13</td>\n",
       "    </tr>\n",
       "  </tbody>\n",
       "</table>\n",
       "</div>"
      ],
      "text/plain": [
       "           2023-12-31  2024-01-31  2024-02-29  2024-03-31  2024-04-30  \\\n",
       "liquidity       24.30      998.66    1,762.30    3,032.55    3,737.59   \n",
       "crypto         473.56      462.44      601.79      952.95      611.48   \n",
       "nw             497.86    1,461.10    2,364.09    3,985.50    4,349.07   \n",
       "nwch              NaN      963.24      902.99    1,621.40      363.57   \n",
       "nw%               NaN        0.66        0.38        0.41        0.08   \n",
       "\n",
       "           2024-05-31  2024-06-30  2024-07-31  2024-08-31  2024-09-30  \\\n",
       "liquidity    4,805.18    5,650.43    7,798.03    9,102.49   10,175.49   \n",
       "crypto         783.76      702.00      807.59      721.44      791.55   \n",
       "nw           5,588.94    6,352.43    8,605.62    9,823.93   10,967.04   \n",
       "nwch         1,239.87      763.49    2,253.19    1,218.31    1,143.11   \n",
       "nw%              0.22        0.12        0.26        0.12        0.10   \n",
       "\n",
       "           2024-10-31  2024-11-30  2024-12-31  \n",
       "liquidity   11,384.02   12,532.39   14,811.19  \n",
       "crypto         880.07    1,236.90    1,030.07  \n",
       "nw          12,264.09   13,769.29   15,841.26  \n",
       "nwch         1,297.05    1,505.20    2,071.97  \n",
       "nw%              0.11        0.11        0.13  "
      ]
     },
     "execution_count": 46,
     "metadata": {},
     "output_type": "execute_result"
    }
   ],
   "source": [
    "nw.T"
   ]
  },
  {
   "cell_type": "markdown",
   "id": "a4ee0a3d-613a-4c07-aca9-69339e9bd4ee",
   "metadata": {},
   "source": [
    "### FIRE Metrics on end 2024"
   ]
  },
  {
   "cell_type": "code",
   "execution_count": 47,
   "id": "678caa5f-a84f-4b38-886d-ca40e4d746ee",
   "metadata": {},
   "outputs": [],
   "source": [
    "current_yearly_expediture = df_m_cashflow.liabilities.sum()\n",
    "current_nw = nw.nw.iloc[-1]"
   ]
  },
  {
   "cell_type": "code",
   "execution_count": 48,
   "id": "4262b37d-e158-45ca-a20b-49ff70a49358",
   "metadata": {},
   "outputs": [
    {
     "name": "stdout",
     "output_type": "stream",
     "text": [
      "256367.3\n"
     ]
    }
   ],
   "source": [
    "desired_wd = 0.030\n",
    "fu_number = abs(current_yearly_expediture) / desired_wd\n",
    "print(fu_number)"
   ]
  },
  {
   "cell_type": "code",
   "execution_count": 49,
   "id": "7b0237df-64a5-40ac-b5b3-b4abb0d8d164",
   "metadata": {},
   "outputs": [
    {
     "name": "stdout",
     "output_type": "stream",
     "text": [
      "0.06179126753841071\n"
     ]
    }
   ],
   "source": [
    "progress_fi = current_nw / fu_number\n",
    "print(progress_fi)"
   ]
  },
  {
   "cell_type": "code",
   "execution_count": 50,
   "id": "e09a9058-efd6-43d4-b047-8a37d5f32aff",
   "metadata": {},
   "outputs": [],
   "source": [
    "current_yearly_saved = nw.nwch.sum()"
   ]
  },
  {
   "cell_type": "code",
   "execution_count": 51,
   "id": "f6696aa5-127a-4dc5-b1c0-19e26e40a934",
   "metadata": {},
   "outputs": [],
   "source": [
    "current_yearly_monthly_savings = current_yearly_saved/12"
   ]
  },
  {
   "cell_type": "code",
   "execution_count": 52,
   "id": "6a2554c2-9025-416a-8c61-8442dde1f24e",
   "metadata": {},
   "outputs": [
    {
     "name": "stdout",
     "output_type": "stream",
     "text": [
      "Months left to FIRE: 188\n"
     ]
    }
   ],
   "source": [
    "months_left_to_fire = (fu_number - current_nw)/current_yearly_monthly_savings\n",
    "print(f\"Months left to FIRE: {int(months_left_to_fire)}\")"
   ]
  },
  {
   "cell_type": "code",
   "execution_count": null,
   "id": "85593424-66d4-44f5-be1b-e1b1fecf1cb4",
   "metadata": {},
   "outputs": [],
   "source": []
  },
  {
   "cell_type": "code",
   "execution_count": null,
   "id": "e4a1fa2e-b49a-4431-8280-3fb124c7dbbc",
   "metadata": {},
   "outputs": [],
   "source": []
  }
 ],
 "metadata": {
  "kernelspec": {
   "display_name": "base",
   "language": "python",
   "name": "python3"
  },
  "language_info": {
   "codemirror_mode": {
    "name": "ipython",
    "version": 3
   },
   "file_extension": ".py",
   "mimetype": "text/x-python",
   "name": "python",
   "nbconvert_exporter": "python",
   "pygments_lexer": "ipython3",
   "version": "3.12.9"
  }
 },
 "nbformat": 4,
 "nbformat_minor": 5
}
