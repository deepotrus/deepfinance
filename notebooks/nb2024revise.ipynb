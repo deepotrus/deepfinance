{
 "cells": [
  {
   "cell_type": "code",
   "execution_count": 1,
   "id": "e1f9dfee",
   "metadata": {},
   "outputs": [],
   "source": [
    "import pandas as pd\n",
    "pd.options.display.float_format = \"{:,.2f}\".format\n",
    "\n",
    "import sys\n",
    "sys.path.append('../lib/')\n",
    "from financelib import FinLoad\n",
    "from financelib import FinCalc\n",
    "from financelib import FinFetch\n",
    "from financelib import FinPlot\n",
    "from financelib import FinInvestmentsGet\n",
    "\n",
    "from pathlib import Path\n",
    "\n",
    "import requests # for investments yahoo finance data\n",
    "\n",
    "import time # sleep fetch"
   ]
  },
  {
   "cell_type": "code",
   "execution_count": 2,
   "id": "330888b2",
   "metadata": {},
   "outputs": [],
   "source": [
    "YEAR = 2024\n",
    "data_path_o = Path(\"../../data\")"
   ]
  },
  {
   "cell_type": "markdown",
   "id": "93ebaaa6",
   "metadata": {},
   "source": [
    "### Load Data 2024"
   ]
  },
  {
   "cell_type": "code",
   "execution_count": 3,
   "id": "ed2fbf21",
   "metadata": {},
   "outputs": [],
   "source": [
    "init_holdings = FinLoad.load_init_holdings(data_path_o, YEAR)\n",
    "df_year_cashflow = FinLoad.load_cashflow(data_path_o, YEAR)\n",
    "df_year_investments = FinLoad.load_investments(data_path_o, YEAR)"
   ]
  },
  {
   "cell_type": "markdown",
   "id": "ea2d5169",
   "metadata": {},
   "source": [
    "### Calculate"
   ]
  },
  {
   "cell_type": "code",
   "execution_count": 4,
   "id": "d8d339b7",
   "metadata": {},
   "outputs": [],
   "source": [
    "df_m_cashflow = FinCalc.calc_monthly_cashflow(df_year_cashflow, init_holdings, YEAR)"
   ]
  },
  {
   "cell_type": "code",
   "execution_count": 5,
   "id": "c0e6f05f",
   "metadata": {},
   "outputs": [
    {
     "data": {
      "text/html": [
       "<div>\n",
       "<style scoped>\n",
       "    .dataframe tbody tr th:only-of-type {\n",
       "        vertical-align: middle;\n",
       "    }\n",
       "\n",
       "    .dataframe tbody tr th {\n",
       "        vertical-align: top;\n",
       "    }\n",
       "\n",
       "    .dataframe thead th {\n",
       "        text-align: right;\n",
       "    }\n",
       "</style>\n",
       "<table border=\"1\" class=\"dataframe\">\n",
       "  <thead>\n",
       "    <tr style=\"text-align: right;\">\n",
       "      <th></th>\n",
       "      <th>2023-12-31</th>\n",
       "      <th>2024-01-31</th>\n",
       "      <th>2024-02-29</th>\n",
       "      <th>2024-03-31</th>\n",
       "      <th>2024-04-30</th>\n",
       "      <th>2024-05-31</th>\n",
       "      <th>2024-06-30</th>\n",
       "      <th>2024-07-31</th>\n",
       "      <th>2024-08-31</th>\n",
       "      <th>2024-09-30</th>\n",
       "      <th>2024-10-31</th>\n",
       "      <th>2024-11-30</th>\n",
       "      <th>2024-12-31</th>\n",
       "    </tr>\n",
       "  </thead>\n",
       "  <tbody>\n",
       "    <tr>\n",
       "      <th>incomes</th>\n",
       "      <td>-</td>\n",
       "      <td>2,031.00</td>\n",
       "      <td>1,642.00</td>\n",
       "      <td>1,630.00</td>\n",
       "      <td>1,642.00</td>\n",
       "      <td>1,682.00</td>\n",
       "      <td>1,688.00</td>\n",
       "      <td>2,534.34</td>\n",
       "      <td>1,694.00</td>\n",
       "      <td>1,694.00</td>\n",
       "      <td>1,778.00</td>\n",
       "      <td>1,693.00</td>\n",
       "      <td>2,757.00</td>\n",
       "    </tr>\n",
       "    <tr>\n",
       "      <th>liabilities</th>\n",
       "      <td>-</td>\n",
       "      <td>-1,069.21</td>\n",
       "      <td>-878.36</td>\n",
       "      <td>-359.75</td>\n",
       "      <td>-936.96</td>\n",
       "      <td>-614.41</td>\n",
       "      <td>-842.75</td>\n",
       "      <td>-386.74</td>\n",
       "      <td>-389.54</td>\n",
       "      <td>-621.00</td>\n",
       "      <td>-569.47</td>\n",
       "      <td>-544.63</td>\n",
       "      <td>-478.20</td>\n",
       "    </tr>\n",
       "    <tr>\n",
       "      <th>savings</th>\n",
       "      <td>38.87</td>\n",
       "      <td>961.79</td>\n",
       "      <td>763.64</td>\n",
       "      <td>1,270.25</td>\n",
       "      <td>705.04</td>\n",
       "      <td>1,067.59</td>\n",
       "      <td>845.25</td>\n",
       "      <td>2,147.60</td>\n",
       "      <td>1,304.46</td>\n",
       "      <td>1,073.00</td>\n",
       "      <td>1,208.53</td>\n",
       "      <td>1,148.37</td>\n",
       "      <td>2,278.80</td>\n",
       "    </tr>\n",
       "    <tr>\n",
       "      <th>saving_rate</th>\n",
       "      <td>-</td>\n",
       "      <td>0.47</td>\n",
       "      <td>0.47</td>\n",
       "      <td>0.78</td>\n",
       "      <td>0.43</td>\n",
       "      <td>0.63</td>\n",
       "      <td>0.50</td>\n",
       "      <td>0.85</td>\n",
       "      <td>0.77</td>\n",
       "      <td>0.63</td>\n",
       "      <td>0.68</td>\n",
       "      <td>0.68</td>\n",
       "      <td>0.83</td>\n",
       "    </tr>\n",
       "    <tr>\n",
       "      <th>investments</th>\n",
       "      <td>0.00</td>\n",
       "      <td>0.00</td>\n",
       "      <td>0.00</td>\n",
       "      <td>0.00</td>\n",
       "      <td>0.00</td>\n",
       "      <td>0.00</td>\n",
       "      <td>0.00</td>\n",
       "      <td>0.00</td>\n",
       "      <td>-100.00</td>\n",
       "      <td>0.00</td>\n",
       "      <td>0.00</td>\n",
       "      <td>0.00</td>\n",
       "      <td>0.00</td>\n",
       "    </tr>\n",
       "    <tr>\n",
       "      <th>liquidity</th>\n",
       "      <td>38.87</td>\n",
       "      <td>1,000.66</td>\n",
       "      <td>1,764.30</td>\n",
       "      <td>3,034.55</td>\n",
       "      <td>3,739.59</td>\n",
       "      <td>4,807.18</td>\n",
       "      <td>5,652.43</td>\n",
       "      <td>7,800.03</td>\n",
       "      <td>9,004.49</td>\n",
       "      <td>10,077.49</td>\n",
       "      <td>11,286.02</td>\n",
       "      <td>12,434.39</td>\n",
       "      <td>14,713.19</td>\n",
       "    </tr>\n",
       "  </tbody>\n",
       "</table>\n",
       "</div>"
      ],
      "text/plain": [
       "            2023-12-31 2024-01-31 2024-02-29 2024-03-31 2024-04-30 2024-05-31  \\\n",
       "incomes              -   2,031.00   1,642.00   1,630.00   1,642.00   1,682.00   \n",
       "liabilities          -  -1,069.21    -878.36    -359.75    -936.96    -614.41   \n",
       "savings          38.87     961.79     763.64   1,270.25     705.04   1,067.59   \n",
       "saving_rate          -       0.47       0.47       0.78       0.43       0.63   \n",
       "investments       0.00       0.00       0.00       0.00       0.00       0.00   \n",
       "liquidity        38.87   1,000.66   1,764.30   3,034.55   3,739.59   4,807.18   \n",
       "\n",
       "            2024-06-30 2024-07-31 2024-08-31 2024-09-30 2024-10-31 2024-11-30  \\\n",
       "incomes       1,688.00   2,534.34   1,694.00   1,694.00   1,778.00   1,693.00   \n",
       "liabilities    -842.75    -386.74    -389.54    -621.00    -569.47    -544.63   \n",
       "savings         845.25   2,147.60   1,304.46   1,073.00   1,208.53   1,148.37   \n",
       "saving_rate       0.50       0.85       0.77       0.63       0.68       0.68   \n",
       "investments       0.00       0.00    -100.00       0.00       0.00       0.00   \n",
       "liquidity     5,652.43   7,800.03   9,004.49  10,077.49  11,286.02  12,434.39   \n",
       "\n",
       "            2024-12-31  \n",
       "incomes       2,757.00  \n",
       "liabilities    -478.20  \n",
       "savings       2,278.80  \n",
       "saving_rate       0.83  \n",
       "investments       0.00  \n",
       "liquidity    14,713.19  "
      ]
     },
     "execution_count": 5,
     "metadata": {},
     "output_type": "execute_result"
    }
   ],
   "source": [
    "df_m_cashflow.T"
   ]
  },
  {
   "cell_type": "code",
   "execution_count": 6,
   "id": "6838efa3",
   "metadata": {},
   "outputs": [
    {
     "data": {
      "application/vnd.plotly.v1+json": {
       "config": {
        "plotlyServerURL": "https://plot.ly"
       },
       "data": [
        {
         "marker": {
          "color": "indianred"
         },
         "name": "incomes",
         "type": "bar",
         "x": [
          "2024-01-31T00:00:00",
          "2024-02-29T00:00:00",
          "2024-03-31T00:00:00",
          "2024-04-30T00:00:00",
          "2024-05-31T00:00:00",
          "2024-06-30T00:00:00",
          "2024-07-31T00:00:00",
          "2024-08-31T00:00:00",
          "2024-09-30T00:00:00",
          "2024-10-31T00:00:00",
          "2024-11-30T00:00:00",
          "2024-12-31T00:00:00"
         ],
         "xaxis": "x",
         "y": [
          2031,
          1642,
          1630,
          1642,
          1682,
          1688,
          2534.34,
          1694,
          1694,
          1778,
          1693,
          2757
         ],
         "yaxis": "y"
        },
        {
         "marker": {
          "color": "lightsalmon"
         },
         "name": "liabilities",
         "type": "bar",
         "x": [
          "2024-01-31T00:00:00",
          "2024-02-29T00:00:00",
          "2024-03-31T00:00:00",
          "2024-04-30T00:00:00",
          "2024-05-31T00:00:00",
          "2024-06-30T00:00:00",
          "2024-07-31T00:00:00",
          "2024-08-31T00:00:00",
          "2024-09-30T00:00:00",
          "2024-10-31T00:00:00",
          "2024-11-30T00:00:00",
          "2024-12-31T00:00:00"
         ],
         "xaxis": "x",
         "y": [
          1069.21,
          878.36,
          359.75,
          936.96,
          614.41,
          842.75,
          386.74,
          389.54,
          620.999,
          569.47,
          544.63,
          478.2
         ],
         "yaxis": "y"
        },
        {
         "line": {
          "color": "red"
         },
         "name": "% Saving Rate",
         "type": "scatter",
         "x": [
          "2024-01-31T00:00:00",
          "2024-02-29T00:00:00",
          "2024-03-31T00:00:00",
          "2024-04-30T00:00:00",
          "2024-05-31T00:00:00",
          "2024-06-30T00:00:00",
          "2024-07-31T00:00:00",
          "2024-08-31T00:00:00",
          "2024-09-30T00:00:00",
          "2024-10-31T00:00:00",
          "2024-11-30T00:00:00",
          "2024-12-31T00:00:00"
         ],
         "xaxis": "x",
         "y": [
          47.35548990645002,
          46.50669914738124,
          77.92944785276073,
          42.93788063337393,
          63.471462544589784,
          50.07405213270142,
          84.74001120607339,
          77.00472255017709,
          63.34126328217236,
          67.9713160854893,
          67.8304784406379,
          82.65505984766051
         ],
         "yaxis": "y2"
        }
       ],
       "layout": {
        "barmode": "group",
        "height": 400,
        "template": {
         "data": {
          "bar": [
           {
            "error_x": {
             "color": "#2a3f5f"
            },
            "error_y": {
             "color": "#2a3f5f"
            },
            "marker": {
             "line": {
              "color": "#E5ECF6",
              "width": 0.5
             },
             "pattern": {
              "fillmode": "overlay",
              "size": 10,
              "solidity": 0.2
             }
            },
            "type": "bar"
           }
          ],
          "barpolar": [
           {
            "marker": {
             "line": {
              "color": "#E5ECF6",
              "width": 0.5
             },
             "pattern": {
              "fillmode": "overlay",
              "size": 10,
              "solidity": 0.2
             }
            },
            "type": "barpolar"
           }
          ],
          "carpet": [
           {
            "aaxis": {
             "endlinecolor": "#2a3f5f",
             "gridcolor": "white",
             "linecolor": "white",
             "minorgridcolor": "white",
             "startlinecolor": "#2a3f5f"
            },
            "baxis": {
             "endlinecolor": "#2a3f5f",
             "gridcolor": "white",
             "linecolor": "white",
             "minorgridcolor": "white",
             "startlinecolor": "#2a3f5f"
            },
            "type": "carpet"
           }
          ],
          "choropleth": [
           {
            "colorbar": {
             "outlinewidth": 0,
             "ticks": ""
            },
            "type": "choropleth"
           }
          ],
          "contour": [
           {
            "colorbar": {
             "outlinewidth": 0,
             "ticks": ""
            },
            "colorscale": [
             [
              0,
              "#0d0887"
             ],
             [
              0.1111111111111111,
              "#46039f"
             ],
             [
              0.2222222222222222,
              "#7201a8"
             ],
             [
              0.3333333333333333,
              "#9c179e"
             ],
             [
              0.4444444444444444,
              "#bd3786"
             ],
             [
              0.5555555555555556,
              "#d8576b"
             ],
             [
              0.6666666666666666,
              "#ed7953"
             ],
             [
              0.7777777777777778,
              "#fb9f3a"
             ],
             [
              0.8888888888888888,
              "#fdca26"
             ],
             [
              1,
              "#f0f921"
             ]
            ],
            "type": "contour"
           }
          ],
          "contourcarpet": [
           {
            "colorbar": {
             "outlinewidth": 0,
             "ticks": ""
            },
            "type": "contourcarpet"
           }
          ],
          "heatmap": [
           {
            "colorbar": {
             "outlinewidth": 0,
             "ticks": ""
            },
            "colorscale": [
             [
              0,
              "#0d0887"
             ],
             [
              0.1111111111111111,
              "#46039f"
             ],
             [
              0.2222222222222222,
              "#7201a8"
             ],
             [
              0.3333333333333333,
              "#9c179e"
             ],
             [
              0.4444444444444444,
              "#bd3786"
             ],
             [
              0.5555555555555556,
              "#d8576b"
             ],
             [
              0.6666666666666666,
              "#ed7953"
             ],
             [
              0.7777777777777778,
              "#fb9f3a"
             ],
             [
              0.8888888888888888,
              "#fdca26"
             ],
             [
              1,
              "#f0f921"
             ]
            ],
            "type": "heatmap"
           }
          ],
          "heatmapgl": [
           {
            "colorbar": {
             "outlinewidth": 0,
             "ticks": ""
            },
            "colorscale": [
             [
              0,
              "#0d0887"
             ],
             [
              0.1111111111111111,
              "#46039f"
             ],
             [
              0.2222222222222222,
              "#7201a8"
             ],
             [
              0.3333333333333333,
              "#9c179e"
             ],
             [
              0.4444444444444444,
              "#bd3786"
             ],
             [
              0.5555555555555556,
              "#d8576b"
             ],
             [
              0.6666666666666666,
              "#ed7953"
             ],
             [
              0.7777777777777778,
              "#fb9f3a"
             ],
             [
              0.8888888888888888,
              "#fdca26"
             ],
             [
              1,
              "#f0f921"
             ]
            ],
            "type": "heatmapgl"
           }
          ],
          "histogram": [
           {
            "marker": {
             "pattern": {
              "fillmode": "overlay",
              "size": 10,
              "solidity": 0.2
             }
            },
            "type": "histogram"
           }
          ],
          "histogram2d": [
           {
            "colorbar": {
             "outlinewidth": 0,
             "ticks": ""
            },
            "colorscale": [
             [
              0,
              "#0d0887"
             ],
             [
              0.1111111111111111,
              "#46039f"
             ],
             [
              0.2222222222222222,
              "#7201a8"
             ],
             [
              0.3333333333333333,
              "#9c179e"
             ],
             [
              0.4444444444444444,
              "#bd3786"
             ],
             [
              0.5555555555555556,
              "#d8576b"
             ],
             [
              0.6666666666666666,
              "#ed7953"
             ],
             [
              0.7777777777777778,
              "#fb9f3a"
             ],
             [
              0.8888888888888888,
              "#fdca26"
             ],
             [
              1,
              "#f0f921"
             ]
            ],
            "type": "histogram2d"
           }
          ],
          "histogram2dcontour": [
           {
            "colorbar": {
             "outlinewidth": 0,
             "ticks": ""
            },
            "colorscale": [
             [
              0,
              "#0d0887"
             ],
             [
              0.1111111111111111,
              "#46039f"
             ],
             [
              0.2222222222222222,
              "#7201a8"
             ],
             [
              0.3333333333333333,
              "#9c179e"
             ],
             [
              0.4444444444444444,
              "#bd3786"
             ],
             [
              0.5555555555555556,
              "#d8576b"
             ],
             [
              0.6666666666666666,
              "#ed7953"
             ],
             [
              0.7777777777777778,
              "#fb9f3a"
             ],
             [
              0.8888888888888888,
              "#fdca26"
             ],
             [
              1,
              "#f0f921"
             ]
            ],
            "type": "histogram2dcontour"
           }
          ],
          "mesh3d": [
           {
            "colorbar": {
             "outlinewidth": 0,
             "ticks": ""
            },
            "type": "mesh3d"
           }
          ],
          "parcoords": [
           {
            "line": {
             "colorbar": {
              "outlinewidth": 0,
              "ticks": ""
             }
            },
            "type": "parcoords"
           }
          ],
          "pie": [
           {
            "automargin": true,
            "type": "pie"
           }
          ],
          "scatter": [
           {
            "fillpattern": {
             "fillmode": "overlay",
             "size": 10,
             "solidity": 0.2
            },
            "type": "scatter"
           }
          ],
          "scatter3d": [
           {
            "line": {
             "colorbar": {
              "outlinewidth": 0,
              "ticks": ""
             }
            },
            "marker": {
             "colorbar": {
              "outlinewidth": 0,
              "ticks": ""
             }
            },
            "type": "scatter3d"
           }
          ],
          "scattercarpet": [
           {
            "marker": {
             "colorbar": {
              "outlinewidth": 0,
              "ticks": ""
             }
            },
            "type": "scattercarpet"
           }
          ],
          "scattergeo": [
           {
            "marker": {
             "colorbar": {
              "outlinewidth": 0,
              "ticks": ""
             }
            },
            "type": "scattergeo"
           }
          ],
          "scattergl": [
           {
            "marker": {
             "colorbar": {
              "outlinewidth": 0,
              "ticks": ""
             }
            },
            "type": "scattergl"
           }
          ],
          "scattermapbox": [
           {
            "marker": {
             "colorbar": {
              "outlinewidth": 0,
              "ticks": ""
             }
            },
            "type": "scattermapbox"
           }
          ],
          "scatterpolar": [
           {
            "marker": {
             "colorbar": {
              "outlinewidth": 0,
              "ticks": ""
             }
            },
            "type": "scatterpolar"
           }
          ],
          "scatterpolargl": [
           {
            "marker": {
             "colorbar": {
              "outlinewidth": 0,
              "ticks": ""
             }
            },
            "type": "scatterpolargl"
           }
          ],
          "scatterternary": [
           {
            "marker": {
             "colorbar": {
              "outlinewidth": 0,
              "ticks": ""
             }
            },
            "type": "scatterternary"
           }
          ],
          "surface": [
           {
            "colorbar": {
             "outlinewidth": 0,
             "ticks": ""
            },
            "colorscale": [
             [
              0,
              "#0d0887"
             ],
             [
              0.1111111111111111,
              "#46039f"
             ],
             [
              0.2222222222222222,
              "#7201a8"
             ],
             [
              0.3333333333333333,
              "#9c179e"
             ],
             [
              0.4444444444444444,
              "#bd3786"
             ],
             [
              0.5555555555555556,
              "#d8576b"
             ],
             [
              0.6666666666666666,
              "#ed7953"
             ],
             [
              0.7777777777777778,
              "#fb9f3a"
             ],
             [
              0.8888888888888888,
              "#fdca26"
             ],
             [
              1,
              "#f0f921"
             ]
            ],
            "type": "surface"
           }
          ],
          "table": [
           {
            "cells": {
             "fill": {
              "color": "#EBF0F8"
             },
             "line": {
              "color": "white"
             }
            },
            "header": {
             "fill": {
              "color": "#C8D4E3"
             },
             "line": {
              "color": "white"
             }
            },
            "type": "table"
           }
          ]
         },
         "layout": {
          "annotationdefaults": {
           "arrowcolor": "#2a3f5f",
           "arrowhead": 0,
           "arrowwidth": 1
          },
          "autotypenumbers": "strict",
          "coloraxis": {
           "colorbar": {
            "outlinewidth": 0,
            "ticks": ""
           }
          },
          "colorscale": {
           "diverging": [
            [
             0,
             "#8e0152"
            ],
            [
             0.1,
             "#c51b7d"
            ],
            [
             0.2,
             "#de77ae"
            ],
            [
             0.3,
             "#f1b6da"
            ],
            [
             0.4,
             "#fde0ef"
            ],
            [
             0.5,
             "#f7f7f7"
            ],
            [
             0.6,
             "#e6f5d0"
            ],
            [
             0.7,
             "#b8e186"
            ],
            [
             0.8,
             "#7fbc41"
            ],
            [
             0.9,
             "#4d9221"
            ],
            [
             1,
             "#276419"
            ]
           ],
           "sequential": [
            [
             0,
             "#0d0887"
            ],
            [
             0.1111111111111111,
             "#46039f"
            ],
            [
             0.2222222222222222,
             "#7201a8"
            ],
            [
             0.3333333333333333,
             "#9c179e"
            ],
            [
             0.4444444444444444,
             "#bd3786"
            ],
            [
             0.5555555555555556,
             "#d8576b"
            ],
            [
             0.6666666666666666,
             "#ed7953"
            ],
            [
             0.7777777777777778,
             "#fb9f3a"
            ],
            [
             0.8888888888888888,
             "#fdca26"
            ],
            [
             1,
             "#f0f921"
            ]
           ],
           "sequentialminus": [
            [
             0,
             "#0d0887"
            ],
            [
             0.1111111111111111,
             "#46039f"
            ],
            [
             0.2222222222222222,
             "#7201a8"
            ],
            [
             0.3333333333333333,
             "#9c179e"
            ],
            [
             0.4444444444444444,
             "#bd3786"
            ],
            [
             0.5555555555555556,
             "#d8576b"
            ],
            [
             0.6666666666666666,
             "#ed7953"
            ],
            [
             0.7777777777777778,
             "#fb9f3a"
            ],
            [
             0.8888888888888888,
             "#fdca26"
            ],
            [
             1,
             "#f0f921"
            ]
           ]
          },
          "colorway": [
           "#636efa",
           "#EF553B",
           "#00cc96",
           "#ab63fa",
           "#FFA15A",
           "#19d3f3",
           "#FF6692",
           "#B6E880",
           "#FF97FF",
           "#FECB52"
          ],
          "font": {
           "color": "#2a3f5f"
          },
          "geo": {
           "bgcolor": "white",
           "lakecolor": "white",
           "landcolor": "#E5ECF6",
           "showlakes": true,
           "showland": true,
           "subunitcolor": "white"
          },
          "hoverlabel": {
           "align": "left"
          },
          "hovermode": "closest",
          "mapbox": {
           "style": "light"
          },
          "paper_bgcolor": "white",
          "plot_bgcolor": "#E5ECF6",
          "polar": {
           "angularaxis": {
            "gridcolor": "white",
            "linecolor": "white",
            "ticks": ""
           },
           "bgcolor": "#E5ECF6",
           "radialaxis": {
            "gridcolor": "white",
            "linecolor": "white",
            "ticks": ""
           }
          },
          "scene": {
           "xaxis": {
            "backgroundcolor": "#E5ECF6",
            "gridcolor": "white",
            "gridwidth": 2,
            "linecolor": "white",
            "showbackground": true,
            "ticks": "",
            "zerolinecolor": "white"
           },
           "yaxis": {
            "backgroundcolor": "#E5ECF6",
            "gridcolor": "white",
            "gridwidth": 2,
            "linecolor": "white",
            "showbackground": true,
            "ticks": "",
            "zerolinecolor": "white"
           },
           "zaxis": {
            "backgroundcolor": "#E5ECF6",
            "gridcolor": "white",
            "gridwidth": 2,
            "linecolor": "white",
            "showbackground": true,
            "ticks": "",
            "zerolinecolor": "white"
           }
          },
          "shapedefaults": {
           "line": {
            "color": "#2a3f5f"
           }
          },
          "ternary": {
           "aaxis": {
            "gridcolor": "white",
            "linecolor": "white",
            "ticks": ""
           },
           "baxis": {
            "gridcolor": "white",
            "linecolor": "white",
            "ticks": ""
           },
           "bgcolor": "#E5ECF6",
           "caxis": {
            "gridcolor": "white",
            "linecolor": "white",
            "ticks": ""
           }
          },
          "title": {
           "x": 0.05
          },
          "xaxis": {
           "automargin": true,
           "gridcolor": "white",
           "linecolor": "white",
           "ticks": "",
           "title": {
            "standoff": 15
           },
           "zerolinecolor": "white",
           "zerolinewidth": 2
          },
          "yaxis": {
           "automargin": true,
           "gridcolor": "white",
           "linecolor": "white",
           "ticks": "",
           "title": {
            "standoff": 15
           },
           "zerolinecolor": "white",
           "zerolinewidth": 2
          }
         }
        },
        "title": {
         "text": "Cashflow  Graph",
         "x": 0.4,
         "y": 0.85
        },
        "width": 1000,
        "xaxis": {
         "anchor": "y",
         "domain": [
          0,
          0.94
         ],
         "tickangle": 0
        },
        "yaxis": {
         "anchor": "x",
         "domain": [
          0,
          1
         ],
         "showgrid": false,
         "side": "left",
         "tickmode": "array",
         "ticktext": [
          "0€",
          "500€",
          "1000€",
          "1500€",
          "2000€",
          "2500€"
         ],
         "tickvals": [
          0,
          500,
          1000,
          1500,
          2000,
          2500
         ],
         "title": {
          "text": "<b>Social Credits</b>"
         }
        },
        "yaxis2": {
         "anchor": "x",
         "overlaying": "y",
         "range": [
          0,
          100
         ],
         "side": "right",
         "tickmode": "array",
         "ticktext": [
          "40%",
          "60%",
          "80%"
         ],
         "tickvals": [
          40,
          60,
          80
         ],
         "title": {
          "text": "<b>Saving Rate</b>"
         }
        }
       }
      }
     },
     "metadata": {},
     "output_type": "display_data"
    }
   ],
   "source": [
    "fig_cashflow = FinPlot.plot_cashflow(df_m_cashflow)\n",
    "fig_cashflow.show()"
   ]
  },
  {
   "cell_type": "markdown",
   "id": "72901702",
   "metadata": {},
   "source": [
    "### Calculate current balance"
   ]
  },
  {
   "cell_type": "code",
   "execution_count": 7,
   "id": "f52e6668",
   "metadata": {},
   "outputs": [
    {
     "data": {
      "text/plain": [
       "{'Hype': 14384.58, 'Revolut': 28.61, 'Cash': 300.0, 'Bitget': 0.0}"
      ]
     },
     "execution_count": 7,
     "metadata": {},
     "output_type": "execute_result"
    }
   ],
   "source": [
    "FinCalc.calc_current_balance(df_year_cashflow, init_holdings)"
   ]
  },
  {
   "cell_type": "markdown",
   "id": "4eec52e6-1ad7-4c65-b717-fb30d105a371",
   "metadata": {},
   "source": [
    "### Detail Expenses January 2025"
   ]
  },
  {
   "cell_type": "code",
   "execution_count": 8,
   "id": "6907ab86",
   "metadata": {},
   "outputs": [
    {
     "data": {
      "application/vnd.plotly.v1+json": {
       "config": {
        "plotlyServerURL": "https://plot.ly"
       },
       "data": [
        {
         "branchvalues": "total",
         "customdata": [
          [
           "Other"
          ],
          [
           "Transport"
          ],
          [
           "Shop"
          ],
          [
           "Subs"
          ],
          [
           "Shop"
          ],
          [
           "Groceries"
          ],
          [
           "Family"
          ],
          [
           "Transport"
          ],
          [
           "Groceries"
          ],
          [
           "Subs"
          ],
          [
           "Family"
          ],
          [
           "Subs"
          ],
          [
           "Shop"
          ],
          [
           "Family"
          ],
          [
           "Transport"
          ],
          [
           "Other"
          ],
          [
           "Other"
          ]
         ],
         "domain": {
          "x": [
           0,
           1
          ],
          "y": [
           0,
           1
          ]
         },
         "hovertemplate": "labels=%{label}<br>Qty=%{value}<br>parent=%{parent}<br>id=%{id}<br>Category=%{customdata[0]}<extra></extra>",
         "ids": [
          "Other",
          "Transport",
          "Shop",
          "Subs/SIM",
          "Shop/Clothes",
          "Groceries/Diet",
          "Family/Events",
          "Transport/Train",
          "Groceries",
          "Subs/VPS",
          "Family",
          "Subs",
          "Shop/Accessories",
          "Family/Groceries",
          "Transport/Gasoline",
          "Other/Papers",
          "Other/Taxes"
         ],
         "labels": [
          "Other",
          "Transport",
          "Shop",
          "SIM",
          "Clothes",
          "Diet",
          "Events",
          "Train",
          "Groceries",
          "VPS",
          "Family",
          "Subs",
          "Accessories",
          "Groceries",
          "Gasoline",
          "Papers",
          "Taxes"
         ],
         "marker": {
          "colors": [
           "#95D2B3",
           "#B9B28A",
           "#CDC1FF",
           "#C9E9D2",
           "#CDC1FF",
           "#C96868",
           "#FFCF9D",
           "#B9B28A",
           "#C96868",
           "#C9E9D2",
           "#FFCF9D",
           "#C9E9D2",
           "#CDC1FF",
           "#FFCF9D",
           "#B9B28A",
           "#95D2B3",
           "#95D2B3"
          ]
         },
         "name": "",
         "parents": [
          "",
          "",
          "",
          "Subs",
          "Shop",
          "Groceries",
          "Family",
          "Transport",
          "",
          "Subs",
          "",
          "",
          "Shop",
          "Family",
          "Transport",
          "Other",
          "Other"
         ],
         "type": "sunburst",
         "values": [
          143,
          73.43,
          177.18,
          5,
          90.97,
          412.22,
          20,
          13.4,
          412.22,
          5.63,
          26.29,
          10.629999999999999,
          86.21000000000001,
          6.29,
          60.03,
          126,
          17
         ]
        }
       ],
       "layout": {
        "height": 500,
        "legend": {
         "tracegroupgap": 0
        },
        "margin": {
         "b": 10,
         "l": 10,
         "r": 10,
         "t": 60
        },
        "template": {
         "data": {
          "bar": [
           {
            "error_x": {
             "color": "#2a3f5f"
            },
            "error_y": {
             "color": "#2a3f5f"
            },
            "marker": {
             "line": {
              "color": "#E5ECF6",
              "width": 0.5
             },
             "pattern": {
              "fillmode": "overlay",
              "size": 10,
              "solidity": 0.2
             }
            },
            "type": "bar"
           }
          ],
          "barpolar": [
           {
            "marker": {
             "line": {
              "color": "#E5ECF6",
              "width": 0.5
             },
             "pattern": {
              "fillmode": "overlay",
              "size": 10,
              "solidity": 0.2
             }
            },
            "type": "barpolar"
           }
          ],
          "carpet": [
           {
            "aaxis": {
             "endlinecolor": "#2a3f5f",
             "gridcolor": "white",
             "linecolor": "white",
             "minorgridcolor": "white",
             "startlinecolor": "#2a3f5f"
            },
            "baxis": {
             "endlinecolor": "#2a3f5f",
             "gridcolor": "white",
             "linecolor": "white",
             "minorgridcolor": "white",
             "startlinecolor": "#2a3f5f"
            },
            "type": "carpet"
           }
          ],
          "choropleth": [
           {
            "colorbar": {
             "outlinewidth": 0,
             "ticks": ""
            },
            "type": "choropleth"
           }
          ],
          "contour": [
           {
            "colorbar": {
             "outlinewidth": 0,
             "ticks": ""
            },
            "colorscale": [
             [
              0,
              "#0d0887"
             ],
             [
              0.1111111111111111,
              "#46039f"
             ],
             [
              0.2222222222222222,
              "#7201a8"
             ],
             [
              0.3333333333333333,
              "#9c179e"
             ],
             [
              0.4444444444444444,
              "#bd3786"
             ],
             [
              0.5555555555555556,
              "#d8576b"
             ],
             [
              0.6666666666666666,
              "#ed7953"
             ],
             [
              0.7777777777777778,
              "#fb9f3a"
             ],
             [
              0.8888888888888888,
              "#fdca26"
             ],
             [
              1,
              "#f0f921"
             ]
            ],
            "type": "contour"
           }
          ],
          "contourcarpet": [
           {
            "colorbar": {
             "outlinewidth": 0,
             "ticks": ""
            },
            "type": "contourcarpet"
           }
          ],
          "heatmap": [
           {
            "colorbar": {
             "outlinewidth": 0,
             "ticks": ""
            },
            "colorscale": [
             [
              0,
              "#0d0887"
             ],
             [
              0.1111111111111111,
              "#46039f"
             ],
             [
              0.2222222222222222,
              "#7201a8"
             ],
             [
              0.3333333333333333,
              "#9c179e"
             ],
             [
              0.4444444444444444,
              "#bd3786"
             ],
             [
              0.5555555555555556,
              "#d8576b"
             ],
             [
              0.6666666666666666,
              "#ed7953"
             ],
             [
              0.7777777777777778,
              "#fb9f3a"
             ],
             [
              0.8888888888888888,
              "#fdca26"
             ],
             [
              1,
              "#f0f921"
             ]
            ],
            "type": "heatmap"
           }
          ],
          "heatmapgl": [
           {
            "colorbar": {
             "outlinewidth": 0,
             "ticks": ""
            },
            "colorscale": [
             [
              0,
              "#0d0887"
             ],
             [
              0.1111111111111111,
              "#46039f"
             ],
             [
              0.2222222222222222,
              "#7201a8"
             ],
             [
              0.3333333333333333,
              "#9c179e"
             ],
             [
              0.4444444444444444,
              "#bd3786"
             ],
             [
              0.5555555555555556,
              "#d8576b"
             ],
             [
              0.6666666666666666,
              "#ed7953"
             ],
             [
              0.7777777777777778,
              "#fb9f3a"
             ],
             [
              0.8888888888888888,
              "#fdca26"
             ],
             [
              1,
              "#f0f921"
             ]
            ],
            "type": "heatmapgl"
           }
          ],
          "histogram": [
           {
            "marker": {
             "pattern": {
              "fillmode": "overlay",
              "size": 10,
              "solidity": 0.2
             }
            },
            "type": "histogram"
           }
          ],
          "histogram2d": [
           {
            "colorbar": {
             "outlinewidth": 0,
             "ticks": ""
            },
            "colorscale": [
             [
              0,
              "#0d0887"
             ],
             [
              0.1111111111111111,
              "#46039f"
             ],
             [
              0.2222222222222222,
              "#7201a8"
             ],
             [
              0.3333333333333333,
              "#9c179e"
             ],
             [
              0.4444444444444444,
              "#bd3786"
             ],
             [
              0.5555555555555556,
              "#d8576b"
             ],
             [
              0.6666666666666666,
              "#ed7953"
             ],
             [
              0.7777777777777778,
              "#fb9f3a"
             ],
             [
              0.8888888888888888,
              "#fdca26"
             ],
             [
              1,
              "#f0f921"
             ]
            ],
            "type": "histogram2d"
           }
          ],
          "histogram2dcontour": [
           {
            "colorbar": {
             "outlinewidth": 0,
             "ticks": ""
            },
            "colorscale": [
             [
              0,
              "#0d0887"
             ],
             [
              0.1111111111111111,
              "#46039f"
             ],
             [
              0.2222222222222222,
              "#7201a8"
             ],
             [
              0.3333333333333333,
              "#9c179e"
             ],
             [
              0.4444444444444444,
              "#bd3786"
             ],
             [
              0.5555555555555556,
              "#d8576b"
             ],
             [
              0.6666666666666666,
              "#ed7953"
             ],
             [
              0.7777777777777778,
              "#fb9f3a"
             ],
             [
              0.8888888888888888,
              "#fdca26"
             ],
             [
              1,
              "#f0f921"
             ]
            ],
            "type": "histogram2dcontour"
           }
          ],
          "mesh3d": [
           {
            "colorbar": {
             "outlinewidth": 0,
             "ticks": ""
            },
            "type": "mesh3d"
           }
          ],
          "parcoords": [
           {
            "line": {
             "colorbar": {
              "outlinewidth": 0,
              "ticks": ""
             }
            },
            "type": "parcoords"
           }
          ],
          "pie": [
           {
            "automargin": true,
            "type": "pie"
           }
          ],
          "scatter": [
           {
            "fillpattern": {
             "fillmode": "overlay",
             "size": 10,
             "solidity": 0.2
            },
            "type": "scatter"
           }
          ],
          "scatter3d": [
           {
            "line": {
             "colorbar": {
              "outlinewidth": 0,
              "ticks": ""
             }
            },
            "marker": {
             "colorbar": {
              "outlinewidth": 0,
              "ticks": ""
             }
            },
            "type": "scatter3d"
           }
          ],
          "scattercarpet": [
           {
            "marker": {
             "colorbar": {
              "outlinewidth": 0,
              "ticks": ""
             }
            },
            "type": "scattercarpet"
           }
          ],
          "scattergeo": [
           {
            "marker": {
             "colorbar": {
              "outlinewidth": 0,
              "ticks": ""
             }
            },
            "type": "scattergeo"
           }
          ],
          "scattergl": [
           {
            "marker": {
             "colorbar": {
              "outlinewidth": 0,
              "ticks": ""
             }
            },
            "type": "scattergl"
           }
          ],
          "scattermapbox": [
           {
            "marker": {
             "colorbar": {
              "outlinewidth": 0,
              "ticks": ""
             }
            },
            "type": "scattermapbox"
           }
          ],
          "scatterpolar": [
           {
            "marker": {
             "colorbar": {
              "outlinewidth": 0,
              "ticks": ""
             }
            },
            "type": "scatterpolar"
           }
          ],
          "scatterpolargl": [
           {
            "marker": {
             "colorbar": {
              "outlinewidth": 0,
              "ticks": ""
             }
            },
            "type": "scatterpolargl"
           }
          ],
          "scatterternary": [
           {
            "marker": {
             "colorbar": {
              "outlinewidth": 0,
              "ticks": ""
             }
            },
            "type": "scatterternary"
           }
          ],
          "surface": [
           {
            "colorbar": {
             "outlinewidth": 0,
             "ticks": ""
            },
            "colorscale": [
             [
              0,
              "#0d0887"
             ],
             [
              0.1111111111111111,
              "#46039f"
             ],
             [
              0.2222222222222222,
              "#7201a8"
             ],
             [
              0.3333333333333333,
              "#9c179e"
             ],
             [
              0.4444444444444444,
              "#bd3786"
             ],
             [
              0.5555555555555556,
              "#d8576b"
             ],
             [
              0.6666666666666666,
              "#ed7953"
             ],
             [
              0.7777777777777778,
              "#fb9f3a"
             ],
             [
              0.8888888888888888,
              "#fdca26"
             ],
             [
              1,
              "#f0f921"
             ]
            ],
            "type": "surface"
           }
          ],
          "table": [
           {
            "cells": {
             "fill": {
              "color": "#EBF0F8"
             },
             "line": {
              "color": "white"
             }
            },
            "header": {
             "fill": {
              "color": "#C8D4E3"
             },
             "line": {
              "color": "white"
             }
            },
            "type": "table"
           }
          ]
         },
         "layout": {
          "annotationdefaults": {
           "arrowcolor": "#2a3f5f",
           "arrowhead": 0,
           "arrowwidth": 1
          },
          "autotypenumbers": "strict",
          "coloraxis": {
           "colorbar": {
            "outlinewidth": 0,
            "ticks": ""
           }
          },
          "colorscale": {
           "diverging": [
            [
             0,
             "#8e0152"
            ],
            [
             0.1,
             "#c51b7d"
            ],
            [
             0.2,
             "#de77ae"
            ],
            [
             0.3,
             "#f1b6da"
            ],
            [
             0.4,
             "#fde0ef"
            ],
            [
             0.5,
             "#f7f7f7"
            ],
            [
             0.6,
             "#e6f5d0"
            ],
            [
             0.7,
             "#b8e186"
            ],
            [
             0.8,
             "#7fbc41"
            ],
            [
             0.9,
             "#4d9221"
            ],
            [
             1,
             "#276419"
            ]
           ],
           "sequential": [
            [
             0,
             "#0d0887"
            ],
            [
             0.1111111111111111,
             "#46039f"
            ],
            [
             0.2222222222222222,
             "#7201a8"
            ],
            [
             0.3333333333333333,
             "#9c179e"
            ],
            [
             0.4444444444444444,
             "#bd3786"
            ],
            [
             0.5555555555555556,
             "#d8576b"
            ],
            [
             0.6666666666666666,
             "#ed7953"
            ],
            [
             0.7777777777777778,
             "#fb9f3a"
            ],
            [
             0.8888888888888888,
             "#fdca26"
            ],
            [
             1,
             "#f0f921"
            ]
           ],
           "sequentialminus": [
            [
             0,
             "#0d0887"
            ],
            [
             0.1111111111111111,
             "#46039f"
            ],
            [
             0.2222222222222222,
             "#7201a8"
            ],
            [
             0.3333333333333333,
             "#9c179e"
            ],
            [
             0.4444444444444444,
             "#bd3786"
            ],
            [
             0.5555555555555556,
             "#d8576b"
            ],
            [
             0.6666666666666666,
             "#ed7953"
            ],
            [
             0.7777777777777778,
             "#fb9f3a"
            ],
            [
             0.8888888888888888,
             "#fdca26"
            ],
            [
             1,
             "#f0f921"
            ]
           ]
          },
          "colorway": [
           "#636efa",
           "#EF553B",
           "#00cc96",
           "#ab63fa",
           "#FFA15A",
           "#19d3f3",
           "#FF6692",
           "#B6E880",
           "#FF97FF",
           "#FECB52"
          ],
          "font": {
           "color": "#2a3f5f"
          },
          "geo": {
           "bgcolor": "white",
           "lakecolor": "white",
           "landcolor": "#E5ECF6",
           "showlakes": true,
           "showland": true,
           "subunitcolor": "white"
          },
          "hoverlabel": {
           "align": "left"
          },
          "hovermode": "closest",
          "mapbox": {
           "style": "light"
          },
          "paper_bgcolor": "white",
          "plot_bgcolor": "#E5ECF6",
          "polar": {
           "angularaxis": {
            "gridcolor": "white",
            "linecolor": "white",
            "ticks": ""
           },
           "bgcolor": "#E5ECF6",
           "radialaxis": {
            "gridcolor": "white",
            "linecolor": "white",
            "ticks": ""
           }
          },
          "scene": {
           "xaxis": {
            "backgroundcolor": "#E5ECF6",
            "gridcolor": "white",
            "gridwidth": 2,
            "linecolor": "white",
            "showbackground": true,
            "ticks": "",
            "zerolinecolor": "white"
           },
           "yaxis": {
            "backgroundcolor": "#E5ECF6",
            "gridcolor": "white",
            "gridwidth": 2,
            "linecolor": "white",
            "showbackground": true,
            "ticks": "",
            "zerolinecolor": "white"
           },
           "zaxis": {
            "backgroundcolor": "#E5ECF6",
            "gridcolor": "white",
            "gridwidth": 2,
            "linecolor": "white",
            "showbackground": true,
            "ticks": "",
            "zerolinecolor": "white"
           }
          },
          "shapedefaults": {
           "line": {
            "color": "#2a3f5f"
           }
          },
          "ternary": {
           "aaxis": {
            "gridcolor": "white",
            "linecolor": "white",
            "ticks": ""
           },
           "baxis": {
            "gridcolor": "white",
            "linecolor": "white",
            "ticks": ""
           },
           "bgcolor": "#E5ECF6",
           "caxis": {
            "gridcolor": "white",
            "linecolor": "white",
            "ticks": ""
           }
          },
          "title": {
           "x": 0.05
          },
          "xaxis": {
           "automargin": true,
           "gridcolor": "white",
           "linecolor": "white",
           "ticks": "",
           "title": {
            "standoff": 15
           },
           "zerolinecolor": "white",
           "zerolinewidth": 2
          },
          "yaxis": {
           "automargin": true,
           "gridcolor": "white",
           "linecolor": "white",
           "ticks": "",
           "title": {
            "standoff": 15
           },
           "zerolinecolor": "white",
           "zerolinewidth": 2
          }
         }
        },
        "title": {
         "text": "Expenses",
         "x": 0.5,
         "y": 0.95
        },
        "width": 500
       }
      }
     },
     "metadata": {},
     "output_type": "display_data"
    }
   ],
   "source": [
    "df_expenses = FinCalc.calc_expenses(df_year_cashflow[ df_year_cashflow.index.month == 6 ])\n",
    "df_expenses[\"Qty\"] = df_expenses.Qty.abs() # sunburst does not understand negative values\n",
    "fig = FinPlot.plot_expenses_donut(df_expenses)\n",
    "fig.show()"
   ]
  },
  {
   "cell_type": "markdown",
   "id": "90fde5e2-1389-4205-8c32-f5a433ee5cdc",
   "metadata": {},
   "source": [
    "### Investments 2024"
   ]
  },
  {
   "cell_type": "code",
   "execution_count": 9,
   "id": "77d56a4a",
   "metadata": {},
   "outputs": [],
   "source": [
    "init_holdings = FinLoad.load_init_holdings(data_path_o, YEAR)\n",
    "df_year_investments = FinLoad.load_investments(data_path_o, YEAR)"
   ]
  },
  {
   "cell_type": "code",
   "execution_count": 10,
   "id": "0318009e",
   "metadata": {},
   "outputs": [],
   "source": [
    "df_init_investments = FinInvestmentsGet.get_init_holdings_to_df(init_holdings, YEAR)\n",
    "df_year_investments = pd.concat([df_init_investments, df_year_investments])\n"
   ]
  },
  {
   "cell_type": "code",
   "execution_count": 11,
   "id": "a13bb018",
   "metadata": {},
   "outputs": [
    {
     "data": {
      "text/html": [
       "<div>\n",
       "<style scoped>\n",
       "    .dataframe tbody tr th:only-of-type {\n",
       "        vertical-align: middle;\n",
       "    }\n",
       "\n",
       "    .dataframe tbody tr th {\n",
       "        vertical-align: top;\n",
       "    }\n",
       "\n",
       "    .dataframe thead th {\n",
       "        text-align: right;\n",
       "    }\n",
       "</style>\n",
       "<table border=\"1\" class=\"dataframe\">\n",
       "  <thead>\n",
       "    <tr style=\"text-align: right;\">\n",
       "      <th></th>\n",
       "      <th>Type</th>\n",
       "      <th>Symbol</th>\n",
       "      <th>Qty</th>\n",
       "      <th>Category</th>\n",
       "      <th>Subcategory</th>\n",
       "      <th>Description</th>\n",
       "    </tr>\n",
       "    <tr>\n",
       "      <th>Date</th>\n",
       "      <th></th>\n",
       "      <th></th>\n",
       "      <th></th>\n",
       "      <th></th>\n",
       "      <th></th>\n",
       "      <th></th>\n",
       "    </tr>\n",
       "  </thead>\n",
       "  <tbody>\n",
       "    <tr>\n",
       "      <th>2023-12-31</th>\n",
       "      <td>Cryptocurrencies</td>\n",
       "      <td>SOL</td>\n",
       "      <td>4.86</td>\n",
       "      <td>Init</td>\n",
       "      <td>Holdings</td>\n",
       "      <td>From previous year</td>\n",
       "    </tr>\n",
       "    <tr>\n",
       "      <th>2023-12-31</th>\n",
       "      <td>Cryptocurrencies</td>\n",
       "      <td>ETH</td>\n",
       "      <td>0.01</td>\n",
       "      <td>Init</td>\n",
       "      <td>Holdings</td>\n",
       "      <td>From previous year</td>\n",
       "    </tr>\n",
       "    <tr>\n",
       "      <th>2024-08-13</th>\n",
       "      <td>Cryptocurrencies</td>\n",
       "      <td>USDT</td>\n",
       "      <td>108.24</td>\n",
       "      <td>Buy</td>\n",
       "      <td>Holdings</td>\n",
       "      <td>Bought 108 USDT for Futures account</td>\n",
       "    </tr>\n",
       "  </tbody>\n",
       "</table>\n",
       "</div>"
      ],
      "text/plain": [
       "                        Type Symbol    Qty Category Subcategory  \\\n",
       "Date                                                              \n",
       "2023-12-31  Cryptocurrencies    SOL   4.86     Init    Holdings   \n",
       "2023-12-31  Cryptocurrencies    ETH   0.01     Init    Holdings   \n",
       "2024-08-13  Cryptocurrencies   USDT 108.24      Buy    Holdings   \n",
       "\n",
       "                                    Description  \n",
       "Date                                             \n",
       "2023-12-31                   From previous year  \n",
       "2023-12-31                   From previous year  \n",
       "2024-08-13  Bought 108 USDT for Futures account  "
      ]
     },
     "execution_count": 11,
     "metadata": {},
     "output_type": "execute_result"
    }
   ],
   "source": [
    "df_year_investments"
   ]
  },
  {
   "cell_type": "code",
   "execution_count": 12,
   "id": "7683dd24",
   "metadata": {},
   "outputs": [
    {
     "name": "stdout",
     "output_type": "stream",
     "text": [
      "SOL\n",
      "../../data/2024/investments/exchange/SOL-EUR.csv already exists. Data Loaded from local.\n",
      "No need for update.\n",
      "ETH\n",
      "../../data/2024/investments/exchange/ETH-EUR.csv already exists. Data Loaded from local.\n",
      "No need for update.\n",
      "USDT\n",
      "../../data/2024/investments/exchange/USDT-EUR.csv already exists. Data Loaded from local.\n",
      "No need for update.\n"
     ]
    }
   ],
   "source": [
    "holdings_monthlyized = FinInvestmentsGet.get_holdings_monthlyized(df_year_investments, YEAR)\n",
    "assets_monthlyized = FinInvestmentsGet.get_assets_monthlyized(holdings_monthlyized, data_path_o, YEAR)\n",
    "assets = FinInvestmentsGet.get_assets_global(assets_monthlyized, holdings_monthlyized)"
   ]
  },
  {
   "cell_type": "code",
   "execution_count": 13,
   "id": "30e448f6",
   "metadata": {},
   "outputs": [],
   "source": [
    "df_year_holdings = FinInvestmentsGet.get_total_holdings(assets)"
   ]
  },
  {
   "cell_type": "code",
   "execution_count": 14,
   "id": "34d5ec35",
   "metadata": {},
   "outputs": [
    {
     "data": {
      "text/html": [
       "<div>\n",
       "<style scoped>\n",
       "    .dataframe tbody tr th:only-of-type {\n",
       "        vertical-align: middle;\n",
       "    }\n",
       "\n",
       "    .dataframe tbody tr th {\n",
       "        vertical-align: top;\n",
       "    }\n",
       "\n",
       "    .dataframe thead th {\n",
       "        text-align: right;\n",
       "    }\n",
       "</style>\n",
       "<table border=\"1\" class=\"dataframe\">\n",
       "  <thead>\n",
       "    <tr style=\"text-align: right;\">\n",
       "      <th></th>\n",
       "      <th>SOL</th>\n",
       "      <th>ETH</th>\n",
       "      <th>USDT</th>\n",
       "      <th>Total</th>\n",
       "    </tr>\n",
       "  </thead>\n",
       "  <tbody>\n",
       "    <tr>\n",
       "      <th>2023-12-31</th>\n",
       "      <td>447.74</td>\n",
       "      <td>25.29</td>\n",
       "      <td>0.00</td>\n",
       "      <td>473.03</td>\n",
       "    </tr>\n",
       "    <tr>\n",
       "      <th>2024-01-31</th>\n",
       "      <td>454.84</td>\n",
       "      <td>26.38</td>\n",
       "      <td>0.00</td>\n",
       "      <td>481.21</td>\n",
       "    </tr>\n",
       "    <tr>\n",
       "      <th>2024-02-29</th>\n",
       "      <td>529.39</td>\n",
       "      <td>38.11</td>\n",
       "      <td>0.00</td>\n",
       "      <td>567.50</td>\n",
       "    </tr>\n",
       "    <tr>\n",
       "      <th>2024-03-31</th>\n",
       "      <td>874.77</td>\n",
       "      <td>39.63</td>\n",
       "      <td>0.00</td>\n",
       "      <td>914.40</td>\n",
       "    </tr>\n",
       "    <tr>\n",
       "      <th>2024-04-30</th>\n",
       "      <td>624.95</td>\n",
       "      <td>36.61</td>\n",
       "      <td>0.00</td>\n",
       "      <td>661.56</td>\n",
       "    </tr>\n",
       "    <tr>\n",
       "      <th>2024-05-31</th>\n",
       "      <td>749.28</td>\n",
       "      <td>42.20</td>\n",
       "      <td>0.00</td>\n",
       "      <td>791.48</td>\n",
       "    </tr>\n",
       "    <tr>\n",
       "      <th>2024-06-30</th>\n",
       "      <td>634.77</td>\n",
       "      <td>38.39</td>\n",
       "      <td>0.00</td>\n",
       "      <td>673.15</td>\n",
       "    </tr>\n",
       "    <tr>\n",
       "      <th>2024-07-31</th>\n",
       "      <td>804.88</td>\n",
       "      <td>36.98</td>\n",
       "      <td>0.00</td>\n",
       "      <td>841.87</td>\n",
       "    </tr>\n",
       "    <tr>\n",
       "      <th>2024-08-31</th>\n",
       "      <td>606.82</td>\n",
       "      <td>27.86</td>\n",
       "      <td>97.42</td>\n",
       "      <td>732.10</td>\n",
       "    </tr>\n",
       "    <tr>\n",
       "      <th>2024-09-30</th>\n",
       "      <td>690.27</td>\n",
       "      <td>29.05</td>\n",
       "      <td>97.42</td>\n",
       "      <td>816.74</td>\n",
       "    </tr>\n",
       "    <tr>\n",
       "      <th>2024-10-31</th>\n",
       "      <td>783.01</td>\n",
       "      <td>29.86</td>\n",
       "      <td>99.58</td>\n",
       "      <td>912.45</td>\n",
       "    </tr>\n",
       "    <tr>\n",
       "      <th>2024-11-30</th>\n",
       "      <td>1,118.86</td>\n",
       "      <td>41.44</td>\n",
       "      <td>102.83</td>\n",
       "      <td>1,263.13</td>\n",
       "    </tr>\n",
       "    <tr>\n",
       "      <th>2024-12-31</th>\n",
       "      <td>892.27</td>\n",
       "      <td>39.35</td>\n",
       "      <td>103.91</td>\n",
       "      <td>1,035.53</td>\n",
       "    </tr>\n",
       "  </tbody>\n",
       "</table>\n",
       "</div>"
      ],
      "text/plain": [
       "                SOL   ETH   USDT    Total\n",
       "2023-12-31   447.74 25.29   0.00   473.03\n",
       "2024-01-31   454.84 26.38   0.00   481.21\n",
       "2024-02-29   529.39 38.11   0.00   567.50\n",
       "2024-03-31   874.77 39.63   0.00   914.40\n",
       "2024-04-30   624.95 36.61   0.00   661.56\n",
       "2024-05-31   749.28 42.20   0.00   791.48\n",
       "2024-06-30   634.77 38.39   0.00   673.15\n",
       "2024-07-31   804.88 36.98   0.00   841.87\n",
       "2024-08-31   606.82 27.86  97.42   732.10\n",
       "2024-09-30   690.27 29.05  97.42   816.74\n",
       "2024-10-31   783.01 29.86  99.58   912.45\n",
       "2024-11-30 1,118.86 41.44 102.83 1,263.13\n",
       "2024-12-31   892.27 39.35 103.91 1,035.53"
      ]
     },
     "execution_count": 14,
     "metadata": {},
     "output_type": "execute_result"
    }
   ],
   "source": [
    "df_year_holdings"
   ]
  },
  {
   "cell_type": "markdown",
   "id": "69e2a3a2-b990-4889-874c-caa1c54e74cf",
   "metadata": {},
   "source": [
    "### NW 2024"
   ]
  },
  {
   "cell_type": "code",
   "execution_count": 15,
   "id": "b5fea0b3",
   "metadata": {},
   "outputs": [
    {
     "data": {
      "text/html": [
       "<div>\n",
       "<style scoped>\n",
       "    .dataframe tbody tr th:only-of-type {\n",
       "        vertical-align: middle;\n",
       "    }\n",
       "\n",
       "    .dataframe tbody tr th {\n",
       "        vertical-align: top;\n",
       "    }\n",
       "\n",
       "    .dataframe thead th {\n",
       "        text-align: right;\n",
       "    }\n",
       "</style>\n",
       "<table border=\"1\" class=\"dataframe\">\n",
       "  <thead>\n",
       "    <tr style=\"text-align: right;\">\n",
       "      <th></th>\n",
       "      <th>2023-12-31</th>\n",
       "      <th>2024-01-31</th>\n",
       "      <th>2024-02-29</th>\n",
       "      <th>2024-03-31</th>\n",
       "      <th>2024-04-30</th>\n",
       "      <th>2024-05-31</th>\n",
       "      <th>2024-06-30</th>\n",
       "      <th>2024-07-31</th>\n",
       "      <th>2024-08-31</th>\n",
       "      <th>2024-09-30</th>\n",
       "      <th>2024-10-31</th>\n",
       "      <th>2024-11-30</th>\n",
       "      <th>2024-12-31</th>\n",
       "    </tr>\n",
       "  </thead>\n",
       "  <tbody>\n",
       "    <tr>\n",
       "      <th>incomes</th>\n",
       "      <td>-</td>\n",
       "      <td>2,031.00</td>\n",
       "      <td>1,642.00</td>\n",
       "      <td>1,630.00</td>\n",
       "      <td>1,642.00</td>\n",
       "      <td>1,682.00</td>\n",
       "      <td>1,688.00</td>\n",
       "      <td>2,534.34</td>\n",
       "      <td>1,694.00</td>\n",
       "      <td>1,694.00</td>\n",
       "      <td>1,778.00</td>\n",
       "      <td>1,693.00</td>\n",
       "      <td>2,757.00</td>\n",
       "    </tr>\n",
       "    <tr>\n",
       "      <th>liabilities</th>\n",
       "      <td>-</td>\n",
       "      <td>-1,069.21</td>\n",
       "      <td>-878.36</td>\n",
       "      <td>-359.75</td>\n",
       "      <td>-936.96</td>\n",
       "      <td>-614.41</td>\n",
       "      <td>-842.75</td>\n",
       "      <td>-386.74</td>\n",
       "      <td>-389.54</td>\n",
       "      <td>-621.00</td>\n",
       "      <td>-569.47</td>\n",
       "      <td>-544.63</td>\n",
       "      <td>-478.20</td>\n",
       "    </tr>\n",
       "    <tr>\n",
       "      <th>savings</th>\n",
       "      <td>38.87</td>\n",
       "      <td>961.79</td>\n",
       "      <td>763.64</td>\n",
       "      <td>1,270.25</td>\n",
       "      <td>705.04</td>\n",
       "      <td>1,067.59</td>\n",
       "      <td>845.25</td>\n",
       "      <td>2,147.60</td>\n",
       "      <td>1,304.46</td>\n",
       "      <td>1,073.00</td>\n",
       "      <td>1,208.53</td>\n",
       "      <td>1,148.37</td>\n",
       "      <td>2,278.80</td>\n",
       "    </tr>\n",
       "    <tr>\n",
       "      <th>saving_rate</th>\n",
       "      <td>-</td>\n",
       "      <td>0.47</td>\n",
       "      <td>0.47</td>\n",
       "      <td>0.78</td>\n",
       "      <td>0.43</td>\n",
       "      <td>0.63</td>\n",
       "      <td>0.50</td>\n",
       "      <td>0.85</td>\n",
       "      <td>0.77</td>\n",
       "      <td>0.63</td>\n",
       "      <td>0.68</td>\n",
       "      <td>0.68</td>\n",
       "      <td>0.83</td>\n",
       "    </tr>\n",
       "    <tr>\n",
       "      <th>investments</th>\n",
       "      <td>0.00</td>\n",
       "      <td>0.00</td>\n",
       "      <td>0.00</td>\n",
       "      <td>0.00</td>\n",
       "      <td>0.00</td>\n",
       "      <td>0.00</td>\n",
       "      <td>0.00</td>\n",
       "      <td>0.00</td>\n",
       "      <td>-100.00</td>\n",
       "      <td>0.00</td>\n",
       "      <td>0.00</td>\n",
       "      <td>0.00</td>\n",
       "      <td>0.00</td>\n",
       "    </tr>\n",
       "    <tr>\n",
       "      <th>liquidity</th>\n",
       "      <td>38.87</td>\n",
       "      <td>1,000.66</td>\n",
       "      <td>1,764.30</td>\n",
       "      <td>3,034.55</td>\n",
       "      <td>3,739.59</td>\n",
       "      <td>4,807.18</td>\n",
       "      <td>5,652.43</td>\n",
       "      <td>7,800.03</td>\n",
       "      <td>9,004.49</td>\n",
       "      <td>10,077.49</td>\n",
       "      <td>11,286.02</td>\n",
       "      <td>12,434.39</td>\n",
       "      <td>14,713.19</td>\n",
       "    </tr>\n",
       "  </tbody>\n",
       "</table>\n",
       "</div>"
      ],
      "text/plain": [
       "            2023-12-31 2024-01-31 2024-02-29 2024-03-31 2024-04-30 2024-05-31  \\\n",
       "incomes              -   2,031.00   1,642.00   1,630.00   1,642.00   1,682.00   \n",
       "liabilities          -  -1,069.21    -878.36    -359.75    -936.96    -614.41   \n",
       "savings          38.87     961.79     763.64   1,270.25     705.04   1,067.59   \n",
       "saving_rate          -       0.47       0.47       0.78       0.43       0.63   \n",
       "investments       0.00       0.00       0.00       0.00       0.00       0.00   \n",
       "liquidity        38.87   1,000.66   1,764.30   3,034.55   3,739.59   4,807.18   \n",
       "\n",
       "            2024-06-30 2024-07-31 2024-08-31 2024-09-30 2024-10-31 2024-11-30  \\\n",
       "incomes       1,688.00   2,534.34   1,694.00   1,694.00   1,778.00   1,693.00   \n",
       "liabilities    -842.75    -386.74    -389.54    -621.00    -569.47    -544.63   \n",
       "savings         845.25   2,147.60   1,304.46   1,073.00   1,208.53   1,148.37   \n",
       "saving_rate       0.50       0.85       0.77       0.63       0.68       0.68   \n",
       "investments       0.00       0.00    -100.00       0.00       0.00       0.00   \n",
       "liquidity     5,652.43   7,800.03   9,004.49  10,077.49  11,286.02  12,434.39   \n",
       "\n",
       "            2024-12-31  \n",
       "incomes       2,757.00  \n",
       "liabilities    -478.20  \n",
       "savings       2,278.80  \n",
       "saving_rate       0.83  \n",
       "investments       0.00  \n",
       "liquidity    14,713.19  "
      ]
     },
     "execution_count": 15,
     "metadata": {},
     "output_type": "execute_result"
    }
   ],
   "source": [
    "df_m_cashflow.T"
   ]
  },
  {
   "cell_type": "code",
   "execution_count": 16,
   "id": "b54d2a09",
   "metadata": {},
   "outputs": [],
   "source": [
    "nw = pd.concat([df_m_cashflow['liquidity'], df_year_holdings['Total']], axis=1, keys=['liquidity', 'investments'])\n",
    "nw['networth'] = nw.liquidity + nw.investments\n",
    "nw[\"nwch\"] = (nw.networth - nw.networth.shift(1) )\n",
    "nw[\"ch%\"] = (nw.networth - nw.networth.shift(1) )/ nw.networth"
   ]
  },
  {
   "cell_type": "code",
   "execution_count": 17,
   "id": "c4338515",
   "metadata": {},
   "outputs": [
    {
     "data": {
      "text/html": [
       "<div>\n",
       "<style scoped>\n",
       "    .dataframe tbody tr th:only-of-type {\n",
       "        vertical-align: middle;\n",
       "    }\n",
       "\n",
       "    .dataframe tbody tr th {\n",
       "        vertical-align: top;\n",
       "    }\n",
       "\n",
       "    .dataframe thead th {\n",
       "        text-align: right;\n",
       "    }\n",
       "</style>\n",
       "<table border=\"1\" class=\"dataframe\">\n",
       "  <thead>\n",
       "    <tr style=\"text-align: right;\">\n",
       "      <th></th>\n",
       "      <th>2023-12-31</th>\n",
       "      <th>2024-01-31</th>\n",
       "      <th>2024-02-29</th>\n",
       "      <th>2024-03-31</th>\n",
       "      <th>2024-04-30</th>\n",
       "      <th>2024-05-31</th>\n",
       "      <th>2024-06-30</th>\n",
       "      <th>2024-07-31</th>\n",
       "      <th>2024-08-31</th>\n",
       "      <th>2024-09-30</th>\n",
       "      <th>2024-10-31</th>\n",
       "      <th>2024-11-30</th>\n",
       "      <th>2024-12-31</th>\n",
       "    </tr>\n",
       "  </thead>\n",
       "  <tbody>\n",
       "    <tr>\n",
       "      <th>liquidity</th>\n",
       "      <td>38.87</td>\n",
       "      <td>1,000.66</td>\n",
       "      <td>1,764.30</td>\n",
       "      <td>3,034.55</td>\n",
       "      <td>3,739.59</td>\n",
       "      <td>4,807.18</td>\n",
       "      <td>5,652.43</td>\n",
       "      <td>7,800.03</td>\n",
       "      <td>9,004.49</td>\n",
       "      <td>10,077.49</td>\n",
       "      <td>11,286.02</td>\n",
       "      <td>12,434.39</td>\n",
       "      <td>14,713.19</td>\n",
       "    </tr>\n",
       "    <tr>\n",
       "      <th>investments</th>\n",
       "      <td>473.03</td>\n",
       "      <td>481.21</td>\n",
       "      <td>567.50</td>\n",
       "      <td>914.40</td>\n",
       "      <td>661.56</td>\n",
       "      <td>791.48</td>\n",
       "      <td>673.15</td>\n",
       "      <td>841.87</td>\n",
       "      <td>732.10</td>\n",
       "      <td>816.74</td>\n",
       "      <td>912.45</td>\n",
       "      <td>1,263.13</td>\n",
       "      <td>1,035.53</td>\n",
       "    </tr>\n",
       "    <tr>\n",
       "      <th>networth</th>\n",
       "      <td>511.90</td>\n",
       "      <td>1,481.87</td>\n",
       "      <td>2,331.80</td>\n",
       "      <td>3,948.95</td>\n",
       "      <td>4,401.15</td>\n",
       "      <td>5,598.66</td>\n",
       "      <td>6,325.58</td>\n",
       "      <td>8,641.90</td>\n",
       "      <td>9,736.59</td>\n",
       "      <td>10,894.23</td>\n",
       "      <td>12,198.47</td>\n",
       "      <td>13,697.52</td>\n",
       "      <td>15,748.73</td>\n",
       "    </tr>\n",
       "    <tr>\n",
       "      <th>nwch</th>\n",
       "      <td>NaN</td>\n",
       "      <td>969.97</td>\n",
       "      <td>849.93</td>\n",
       "      <td>1,617.15</td>\n",
       "      <td>452.20</td>\n",
       "      <td>1,197.51</td>\n",
       "      <td>726.92</td>\n",
       "      <td>2,316.31</td>\n",
       "      <td>1,094.69</td>\n",
       "      <td>1,157.64</td>\n",
       "      <td>1,304.24</td>\n",
       "      <td>1,499.05</td>\n",
       "      <td>2,051.20</td>\n",
       "    </tr>\n",
       "    <tr>\n",
       "      <th>ch%</th>\n",
       "      <td>NaN</td>\n",
       "      <td>0.65</td>\n",
       "      <td>0.36</td>\n",
       "      <td>0.41</td>\n",
       "      <td>0.10</td>\n",
       "      <td>0.21</td>\n",
       "      <td>0.11</td>\n",
       "      <td>0.27</td>\n",
       "      <td>0.11</td>\n",
       "      <td>0.11</td>\n",
       "      <td>0.11</td>\n",
       "      <td>0.11</td>\n",
       "      <td>0.13</td>\n",
       "    </tr>\n",
       "  </tbody>\n",
       "</table>\n",
       "</div>"
      ],
      "text/plain": [
       "             2023-12-31  2024-01-31  2024-02-29  2024-03-31  2024-04-30  \\\n",
       "liquidity         38.87    1,000.66    1,764.30    3,034.55    3,739.59   \n",
       "investments      473.03      481.21      567.50      914.40      661.56   \n",
       "networth         511.90    1,481.87    2,331.80    3,948.95    4,401.15   \n",
       "nwch                NaN      969.97      849.93    1,617.15      452.20   \n",
       "ch%                 NaN        0.65        0.36        0.41        0.10   \n",
       "\n",
       "             2024-05-31  2024-06-30  2024-07-31  2024-08-31  2024-09-30  \\\n",
       "liquidity      4,807.18    5,652.43    7,800.03    9,004.49   10,077.49   \n",
       "investments      791.48      673.15      841.87      732.10      816.74   \n",
       "networth       5,598.66    6,325.58    8,641.90    9,736.59   10,894.23   \n",
       "nwch           1,197.51      726.92    2,316.31    1,094.69    1,157.64   \n",
       "ch%                0.21        0.11        0.27        0.11        0.11   \n",
       "\n",
       "             2024-10-31  2024-11-30  2024-12-31  \n",
       "liquidity     11,286.02   12,434.39   14,713.19  \n",
       "investments      912.45    1,263.13    1,035.53  \n",
       "networth      12,198.47   13,697.52   15,748.73  \n",
       "nwch           1,304.24    1,499.05    2,051.20  \n",
       "ch%                0.11        0.11        0.13  "
      ]
     },
     "execution_count": 17,
     "metadata": {},
     "output_type": "execute_result"
    }
   ],
   "source": [
    "nw.T"
   ]
  },
  {
   "cell_type": "markdown",
   "id": "a4ee0a3d-613a-4c07-aca9-69339e9bd4ee",
   "metadata": {},
   "source": [
    "### FIRE Metrics on end 2024"
   ]
  },
  {
   "cell_type": "code",
   "execution_count": 18,
   "id": "678caa5f-a84f-4b38-886d-ca40e4d746ee",
   "metadata": {},
   "outputs": [
    {
     "ename": "TypeError",
     "evalue": "can only concatenate str (not \"float\") to str",
     "output_type": "error",
     "traceback": [
      "\u001b[31m---------------------------------------------------------------------------\u001b[39m",
      "\u001b[31mTypeError\u001b[39m                                 Traceback (most recent call last)",
      "\u001b[36mCell\u001b[39m\u001b[36m \u001b[39m\u001b[32mIn[18]\u001b[39m\u001b[32m, line 1\u001b[39m\n\u001b[32m----> \u001b[39m\u001b[32m1\u001b[39m current_yearly_expediture = \u001b[43mdf_m_cashflow\u001b[49m\u001b[43m.\u001b[49m\u001b[43mliabilities\u001b[49m\u001b[43m.\u001b[49m\u001b[43msum\u001b[49m\u001b[43m(\u001b[49m\u001b[43m)\u001b[49m\n\u001b[32m      2\u001b[39m current_nw = nw.nw.iloc[-\u001b[32m1\u001b[39m]\n",
      "\u001b[36mFile \u001b[39m\u001b[32m~/miniconda3/lib/python3.12/site-packages/pandas/core/series.py:6528\u001b[39m, in \u001b[36mSeries.sum\u001b[39m\u001b[34m(self, axis, skipna, numeric_only, min_count, **kwargs)\u001b[39m\n\u001b[32m   6519\u001b[39m \u001b[38;5;129m@doc\u001b[39m(make_doc(\u001b[33m\"\u001b[39m\u001b[33msum\u001b[39m\u001b[33m\"\u001b[39m, ndim=\u001b[32m1\u001b[39m))\n\u001b[32m   6520\u001b[39m \u001b[38;5;28;01mdef\u001b[39;00m \u001b[34msum\u001b[39m(\n\u001b[32m   6521\u001b[39m     \u001b[38;5;28mself\u001b[39m,\n\u001b[32m   (...)\u001b[39m\u001b[32m   6526\u001b[39m     **kwargs,\n\u001b[32m   6527\u001b[39m ):\n\u001b[32m-> \u001b[39m\u001b[32m6528\u001b[39m     \u001b[38;5;28;01mreturn\u001b[39;00m \u001b[43mNDFrame\u001b[49m\u001b[43m.\u001b[49m\u001b[43msum\u001b[49m\u001b[43m(\u001b[49m\u001b[38;5;28;43mself\u001b[39;49m\u001b[43m,\u001b[49m\u001b[43m \u001b[49m\u001b[43maxis\u001b[49m\u001b[43m,\u001b[49m\u001b[43m \u001b[49m\u001b[43mskipna\u001b[49m\u001b[43m,\u001b[49m\u001b[43m \u001b[49m\u001b[43mnumeric_only\u001b[49m\u001b[43m,\u001b[49m\u001b[43m \u001b[49m\u001b[43mmin_count\u001b[49m\u001b[43m,\u001b[49m\u001b[43m \u001b[49m\u001b[43m*\u001b[49m\u001b[43m*\u001b[49m\u001b[43mkwargs\u001b[49m\u001b[43m)\u001b[49m\n",
      "\u001b[36mFile \u001b[39m\u001b[32m~/miniconda3/lib/python3.12/site-packages/pandas/core/generic.py:12506\u001b[39m, in \u001b[36mNDFrame.sum\u001b[39m\u001b[34m(self, axis, skipna, numeric_only, min_count, **kwargs)\u001b[39m\n\u001b[32m  12498\u001b[39m \u001b[38;5;28;01mdef\u001b[39;00m \u001b[34msum\u001b[39m(\n\u001b[32m  12499\u001b[39m     \u001b[38;5;28mself\u001b[39m,\n\u001b[32m  12500\u001b[39m     axis: Axis | \u001b[38;5;28;01mNone\u001b[39;00m = \u001b[32m0\u001b[39m,\n\u001b[32m   (...)\u001b[39m\u001b[32m  12504\u001b[39m     **kwargs,\n\u001b[32m  12505\u001b[39m ):\n\u001b[32m> \u001b[39m\u001b[32m12506\u001b[39m     \u001b[38;5;28;01mreturn\u001b[39;00m \u001b[38;5;28;43mself\u001b[39;49m\u001b[43m.\u001b[49m\u001b[43m_min_count_stat_function\u001b[49m\u001b[43m(\u001b[49m\n\u001b[32m  12507\u001b[39m \u001b[43m        \u001b[49m\u001b[33;43m\"\u001b[39;49m\u001b[33;43msum\u001b[39;49m\u001b[33;43m\"\u001b[39;49m\u001b[43m,\u001b[49m\u001b[43m \u001b[49m\u001b[43mnanops\u001b[49m\u001b[43m.\u001b[49m\u001b[43mnansum\u001b[49m\u001b[43m,\u001b[49m\u001b[43m \u001b[49m\u001b[43maxis\u001b[49m\u001b[43m,\u001b[49m\u001b[43m \u001b[49m\u001b[43mskipna\u001b[49m\u001b[43m,\u001b[49m\u001b[43m \u001b[49m\u001b[43mnumeric_only\u001b[49m\u001b[43m,\u001b[49m\u001b[43m \u001b[49m\u001b[43mmin_count\u001b[49m\u001b[43m,\u001b[49m\u001b[43m \u001b[49m\u001b[43m*\u001b[49m\u001b[43m*\u001b[49m\u001b[43mkwargs\u001b[49m\n\u001b[32m  12508\u001b[39m \u001b[43m    \u001b[49m\u001b[43m)\u001b[49m\n",
      "\u001b[36mFile \u001b[39m\u001b[32m~/miniconda3/lib/python3.12/site-packages/pandas/core/generic.py:12489\u001b[39m, in \u001b[36mNDFrame._min_count_stat_function\u001b[39m\u001b[34m(self, name, func, axis, skipna, numeric_only, min_count, **kwargs)\u001b[39m\n\u001b[32m  12486\u001b[39m \u001b[38;5;28;01melif\u001b[39;00m axis \u001b[38;5;129;01mis\u001b[39;00m lib.no_default:\n\u001b[32m  12487\u001b[39m     axis = \u001b[32m0\u001b[39m\n\u001b[32m> \u001b[39m\u001b[32m12489\u001b[39m \u001b[38;5;28;01mreturn\u001b[39;00m \u001b[38;5;28;43mself\u001b[39;49m\u001b[43m.\u001b[49m\u001b[43m_reduce\u001b[49m\u001b[43m(\u001b[49m\n\u001b[32m  12490\u001b[39m \u001b[43m    \u001b[49m\u001b[43mfunc\u001b[49m\u001b[43m,\u001b[49m\n\u001b[32m  12491\u001b[39m \u001b[43m    \u001b[49m\u001b[43mname\u001b[49m\u001b[43m=\u001b[49m\u001b[43mname\u001b[49m\u001b[43m,\u001b[49m\n\u001b[32m  12492\u001b[39m \u001b[43m    \u001b[49m\u001b[43maxis\u001b[49m\u001b[43m=\u001b[49m\u001b[43maxis\u001b[49m\u001b[43m,\u001b[49m\n\u001b[32m  12493\u001b[39m \u001b[43m    \u001b[49m\u001b[43mskipna\u001b[49m\u001b[43m=\u001b[49m\u001b[43mskipna\u001b[49m\u001b[43m,\u001b[49m\n\u001b[32m  12494\u001b[39m \u001b[43m    \u001b[49m\u001b[43mnumeric_only\u001b[49m\u001b[43m=\u001b[49m\u001b[43mnumeric_only\u001b[49m\u001b[43m,\u001b[49m\n\u001b[32m  12495\u001b[39m \u001b[43m    \u001b[49m\u001b[43mmin_count\u001b[49m\u001b[43m=\u001b[49m\u001b[43mmin_count\u001b[49m\u001b[43m,\u001b[49m\n\u001b[32m  12496\u001b[39m \u001b[43m\u001b[49m\u001b[43m)\u001b[49m\n",
      "\u001b[36mFile \u001b[39m\u001b[32m~/miniconda3/lib/python3.12/site-packages/pandas/core/series.py:6457\u001b[39m, in \u001b[36mSeries._reduce\u001b[39m\u001b[34m(self, op, name, axis, skipna, numeric_only, filter_type, **kwds)\u001b[39m\n\u001b[32m   6452\u001b[39m     \u001b[38;5;66;03m# GH#47500 - change to TypeError to match other methods\u001b[39;00m\n\u001b[32m   6453\u001b[39m     \u001b[38;5;28;01mraise\u001b[39;00m \u001b[38;5;167;01mTypeError\u001b[39;00m(\n\u001b[32m   6454\u001b[39m         \u001b[33mf\u001b[39m\u001b[33m\"\u001b[39m\u001b[33mSeries.\u001b[39m\u001b[38;5;132;01m{\u001b[39;00mname\u001b[38;5;132;01m}\u001b[39;00m\u001b[33m does not allow \u001b[39m\u001b[38;5;132;01m{\u001b[39;00mkwd_name\u001b[38;5;132;01m}\u001b[39;00m\u001b[33m=\u001b[39m\u001b[38;5;132;01m{\u001b[39;00mnumeric_only\u001b[38;5;132;01m}\u001b[39;00m\u001b[33m \u001b[39m\u001b[33m\"\u001b[39m\n\u001b[32m   6455\u001b[39m         \u001b[33m\"\u001b[39m\u001b[33mwith non-numeric dtypes.\u001b[39m\u001b[33m\"\u001b[39m\n\u001b[32m   6456\u001b[39m     )\n\u001b[32m-> \u001b[39m\u001b[32m6457\u001b[39m \u001b[38;5;28;01mreturn\u001b[39;00m \u001b[43mop\u001b[49m\u001b[43m(\u001b[49m\u001b[43mdelegate\u001b[49m\u001b[43m,\u001b[49m\u001b[43m \u001b[49m\u001b[43mskipna\u001b[49m\u001b[43m=\u001b[49m\u001b[43mskipna\u001b[49m\u001b[43m,\u001b[49m\u001b[43m \u001b[49m\u001b[43m*\u001b[49m\u001b[43m*\u001b[49m\u001b[43mkwds\u001b[49m\u001b[43m)\u001b[49m\n",
      "\u001b[36mFile \u001b[39m\u001b[32m~/miniconda3/lib/python3.12/site-packages/pandas/core/nanops.py:85\u001b[39m, in \u001b[36mdisallow.__call__.<locals>._f\u001b[39m\u001b[34m(*args, **kwargs)\u001b[39m\n\u001b[32m     81\u001b[39m     \u001b[38;5;28;01mraise\u001b[39;00m \u001b[38;5;167;01mTypeError\u001b[39;00m(\n\u001b[32m     82\u001b[39m         \u001b[33mf\u001b[39m\u001b[33m\"\u001b[39m\u001b[33mreduction operation \u001b[39m\u001b[33m'\u001b[39m\u001b[38;5;132;01m{\u001b[39;00mf_name\u001b[38;5;132;01m}\u001b[39;00m\u001b[33m'\u001b[39m\u001b[33m not allowed for this dtype\u001b[39m\u001b[33m\"\u001b[39m\n\u001b[32m     83\u001b[39m     )\n\u001b[32m     84\u001b[39m \u001b[38;5;28;01mtry\u001b[39;00m:\n\u001b[32m---> \u001b[39m\u001b[32m85\u001b[39m     \u001b[38;5;28;01mreturn\u001b[39;00m \u001b[43mf\u001b[49m\u001b[43m(\u001b[49m\u001b[43m*\u001b[49m\u001b[43margs\u001b[49m\u001b[43m,\u001b[49m\u001b[43m \u001b[49m\u001b[43m*\u001b[49m\u001b[43m*\u001b[49m\u001b[43mkwargs\u001b[49m\u001b[43m)\u001b[49m\n\u001b[32m     86\u001b[39m \u001b[38;5;28;01mexcept\u001b[39;00m \u001b[38;5;167;01mValueError\u001b[39;00m \u001b[38;5;28;01mas\u001b[39;00m e:\n\u001b[32m     87\u001b[39m     \u001b[38;5;66;03m# we want to transform an object array\u001b[39;00m\n\u001b[32m     88\u001b[39m     \u001b[38;5;66;03m# ValueError message to the more typical TypeError\u001b[39;00m\n\u001b[32m     89\u001b[39m     \u001b[38;5;66;03m# e.g. this is normally a disallowed function on\u001b[39;00m\n\u001b[32m     90\u001b[39m     \u001b[38;5;66;03m# object arrays that contain strings\u001b[39;00m\n\u001b[32m     91\u001b[39m     \u001b[38;5;28;01mif\u001b[39;00m is_object_dtype(args[\u001b[32m0\u001b[39m]):\n",
      "\u001b[36mFile \u001b[39m\u001b[32m~/miniconda3/lib/python3.12/site-packages/pandas/core/nanops.py:404\u001b[39m, in \u001b[36m_datetimelike_compat.<locals>.new_func\u001b[39m\u001b[34m(values, axis, skipna, mask, **kwargs)\u001b[39m\n\u001b[32m    401\u001b[39m \u001b[38;5;28;01mif\u001b[39;00m datetimelike \u001b[38;5;129;01mand\u001b[39;00m mask \u001b[38;5;129;01mis\u001b[39;00m \u001b[38;5;28;01mNone\u001b[39;00m:\n\u001b[32m    402\u001b[39m     mask = isna(values)\n\u001b[32m--> \u001b[39m\u001b[32m404\u001b[39m result = \u001b[43mfunc\u001b[49m\u001b[43m(\u001b[49m\u001b[43mvalues\u001b[49m\u001b[43m,\u001b[49m\u001b[43m \u001b[49m\u001b[43maxis\u001b[49m\u001b[43m=\u001b[49m\u001b[43maxis\u001b[49m\u001b[43m,\u001b[49m\u001b[43m \u001b[49m\u001b[43mskipna\u001b[49m\u001b[43m=\u001b[49m\u001b[43mskipna\u001b[49m\u001b[43m,\u001b[49m\u001b[43m \u001b[49m\u001b[43mmask\u001b[49m\u001b[43m=\u001b[49m\u001b[43mmask\u001b[49m\u001b[43m,\u001b[49m\u001b[43m \u001b[49m\u001b[43m*\u001b[49m\u001b[43m*\u001b[49m\u001b[43mkwargs\u001b[49m\u001b[43m)\u001b[49m\n\u001b[32m    406\u001b[39m \u001b[38;5;28;01mif\u001b[39;00m datetimelike:\n\u001b[32m    407\u001b[39m     result = _wrap_results(result, orig_values.dtype, fill_value=iNaT)\n",
      "\u001b[36mFile \u001b[39m\u001b[32m~/miniconda3/lib/python3.12/site-packages/pandas/core/nanops.py:477\u001b[39m, in \u001b[36mmaybe_operate_rowwise.<locals>.newfunc\u001b[39m\u001b[34m(values, axis, **kwargs)\u001b[39m\n\u001b[32m    474\u001b[39m         results = [func(x, **kwargs) \u001b[38;5;28;01mfor\u001b[39;00m x \u001b[38;5;129;01min\u001b[39;00m arrs]\n\u001b[32m    475\u001b[39m     \u001b[38;5;28;01mreturn\u001b[39;00m np.array(results)\n\u001b[32m--> \u001b[39m\u001b[32m477\u001b[39m \u001b[38;5;28;01mreturn\u001b[39;00m \u001b[43mfunc\u001b[49m\u001b[43m(\u001b[49m\u001b[43mvalues\u001b[49m\u001b[43m,\u001b[49m\u001b[43m \u001b[49m\u001b[43maxis\u001b[49m\u001b[43m=\u001b[49m\u001b[43maxis\u001b[49m\u001b[43m,\u001b[49m\u001b[43m \u001b[49m\u001b[43m*\u001b[49m\u001b[43m*\u001b[49m\u001b[43mkwargs\u001b[49m\u001b[43m)\u001b[49m\n",
      "\u001b[36mFile \u001b[39m\u001b[32m~/miniconda3/lib/python3.12/site-packages/pandas/core/nanops.py:646\u001b[39m, in \u001b[36mnansum\u001b[39m\u001b[34m(values, axis, skipna, min_count, mask)\u001b[39m\n\u001b[32m    643\u001b[39m \u001b[38;5;28;01melif\u001b[39;00m dtype.kind == \u001b[33m\"\u001b[39m\u001b[33mm\u001b[39m\u001b[33m\"\u001b[39m:\n\u001b[32m    644\u001b[39m     dtype_sum = np.dtype(np.float64)\n\u001b[32m--> \u001b[39m\u001b[32m646\u001b[39m the_sum = \u001b[43mvalues\u001b[49m\u001b[43m.\u001b[49m\u001b[43msum\u001b[49m\u001b[43m(\u001b[49m\u001b[43maxis\u001b[49m\u001b[43m,\u001b[49m\u001b[43m \u001b[49m\u001b[43mdtype\u001b[49m\u001b[43m=\u001b[49m\u001b[43mdtype_sum\u001b[49m\u001b[43m)\u001b[49m\n\u001b[32m    647\u001b[39m the_sum = _maybe_null_out(the_sum, axis, mask, values.shape, min_count=min_count)\n\u001b[32m    649\u001b[39m \u001b[38;5;28;01mreturn\u001b[39;00m the_sum\n",
      "\u001b[36mFile \u001b[39m\u001b[32m~/miniconda3/lib/python3.12/site-packages/numpy/_core/_methods.py:52\u001b[39m, in \u001b[36m_sum\u001b[39m\u001b[34m(a, axis, dtype, out, keepdims, initial, where)\u001b[39m\n\u001b[32m     50\u001b[39m \u001b[38;5;28;01mdef\u001b[39;00m \u001b[34m_sum\u001b[39m(a, axis=\u001b[38;5;28;01mNone\u001b[39;00m, dtype=\u001b[38;5;28;01mNone\u001b[39;00m, out=\u001b[38;5;28;01mNone\u001b[39;00m, keepdims=\u001b[38;5;28;01mFalse\u001b[39;00m,\n\u001b[32m     51\u001b[39m          initial=_NoValue, where=\u001b[38;5;28;01mTrue\u001b[39;00m):\n\u001b[32m---> \u001b[39m\u001b[32m52\u001b[39m     \u001b[38;5;28;01mreturn\u001b[39;00m \u001b[43mumr_sum\u001b[49m\u001b[43m(\u001b[49m\u001b[43ma\u001b[49m\u001b[43m,\u001b[49m\u001b[43m \u001b[49m\u001b[43maxis\u001b[49m\u001b[43m,\u001b[49m\u001b[43m \u001b[49m\u001b[43mdtype\u001b[49m\u001b[43m,\u001b[49m\u001b[43m \u001b[49m\u001b[43mout\u001b[49m\u001b[43m,\u001b[49m\u001b[43m \u001b[49m\u001b[43mkeepdims\u001b[49m\u001b[43m,\u001b[49m\u001b[43m \u001b[49m\u001b[43minitial\u001b[49m\u001b[43m,\u001b[49m\u001b[43m \u001b[49m\u001b[43mwhere\u001b[49m\u001b[43m)\u001b[49m\n",
      "\u001b[31mTypeError\u001b[39m: can only concatenate str (not \"float\") to str"
     ]
    }
   ],
   "source": [
    "current_yearly_expediture = df_m_cashflow.liabilities.sum()\n",
    "current_nw = nw.nw.iloc[-1]"
   ]
  },
  {
   "cell_type": "code",
   "execution_count": null,
   "id": "4262b37d-e158-45ca-a20b-49ff70a49358",
   "metadata": {},
   "outputs": [
    {
     "name": "stdout",
     "output_type": "stream",
     "text": [
      "256367.3\n"
     ]
    }
   ],
   "source": [
    "desired_wd = 0.030\n",
    "fu_number = abs(current_yearly_expediture) / desired_wd\n",
    "print(fu_number)"
   ]
  },
  {
   "cell_type": "code",
   "execution_count": null,
   "id": "7b0237df-64a5-40ac-b5b3-b4abb0d8d164",
   "metadata": {},
   "outputs": [
    {
     "name": "stdout",
     "output_type": "stream",
     "text": [
      "0.06179126753841071\n"
     ]
    }
   ],
   "source": [
    "progress_fi = current_nw / fu_number\n",
    "print(progress_fi)"
   ]
  },
  {
   "cell_type": "code",
   "execution_count": null,
   "id": "e09a9058-efd6-43d4-b047-8a37d5f32aff",
   "metadata": {},
   "outputs": [],
   "source": [
    "current_yearly_saved = nw.nwch.sum()"
   ]
  },
  {
   "cell_type": "code",
   "execution_count": null,
   "id": "f6696aa5-127a-4dc5-b1c0-19e26e40a934",
   "metadata": {},
   "outputs": [],
   "source": [
    "current_yearly_monthly_savings = current_yearly_saved/12"
   ]
  },
  {
   "cell_type": "code",
   "execution_count": null,
   "id": "6a2554c2-9025-416a-8c61-8442dde1f24e",
   "metadata": {},
   "outputs": [
    {
     "name": "stdout",
     "output_type": "stream",
     "text": [
      "Months left to FIRE: 188\n"
     ]
    }
   ],
   "source": [
    "months_left_to_fire = (fu_number - current_nw)/current_yearly_monthly_savings\n",
    "print(f\"Months left to FIRE: {int(months_left_to_fire)}\")"
   ]
  },
  {
   "cell_type": "code",
   "execution_count": null,
   "id": "85593424-66d4-44f5-be1b-e1b1fecf1cb4",
   "metadata": {},
   "outputs": [],
   "source": []
  },
  {
   "cell_type": "code",
   "execution_count": null,
   "id": "e4a1fa2e-b49a-4431-8280-3fb124c7dbbc",
   "metadata": {},
   "outputs": [],
   "source": []
  }
 ],
 "metadata": {
  "kernelspec": {
   "display_name": "base",
   "language": "python",
   "name": "python3"
  },
  "language_info": {
   "codemirror_mode": {
    "name": "ipython",
    "version": 3
   },
   "file_extension": ".py",
   "mimetype": "text/x-python",
   "name": "python",
   "nbconvert_exporter": "python",
   "pygments_lexer": "ipython3",
   "version": "3.12.9"
  }
 },
 "nbformat": 4,
 "nbformat_minor": 5
}
